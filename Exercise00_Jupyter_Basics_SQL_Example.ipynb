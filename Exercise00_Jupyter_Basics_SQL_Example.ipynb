{
  "cells": [
    {
      "cell_type": "markdown",
      "metadata": {
        "colab_type": "text",
        "id": "qsDsV0anbN0H"
      },
      "source": [
        "# <center>Big Data &ndash; Exercises</center>\n",
        "## <center>Fall 2020 &ndash; Week 0 &ndash; ETH Zurich</center>"
      ]
    },
    {
      "cell_type": "markdown",
      "metadata": {
        "colab_type": "text",
        "id": "pK5CohuLbN0O"
      },
      "source": [
        "## 1. Jupyter Basics\n",
        "\n",
        "Welcome to this Jupyter notebook. Jupyter is a web-based open-source tool based on Python that allows you to run Python (and other types of) code, visualize and discuss results, and organize everything into notebooks like this one. We use Google Colab, but you can also [install your own server}](https://jupyter.readthedocs.io/en/latest/install/notebook-classic.html).\n",
        "\n",
        "A notebook is organized in cells. Cells of this notebook contain Python code (but other cell types exists). To run a cell, select it, then press ctrl+enter. Try it out!"
      ]
    },
    {
      "cell_type": "code",
      "execution_count": null,
      "metadata": {
        "colab": {},
        "colab_type": "code",
        "id": "wcohBwLUbN0b"
      },
      "outputs": [],
      "source": [
        "print(\"Hello World\")"
      ]
    },
    {
      "cell_type": "markdown",
      "metadata": {
        "colab_type": "text",
        "id": "4BDrcpj-bN06"
      },
      "source": [
        "By default, the last expression is printed. Like this:"
      ]
    },
    {
      "cell_type": "code",
      "execution_count": null,
      "metadata": {
        "colab": {},
        "colab_type": "code",
        "id": "TLYAvOpFbN0-"
      },
      "outputs": [],
      "source": [
        "maxX = 10\n",
        "[x * x for x in range(maxX)]"
      ]
    },
    {
      "cell_type": "markdown",
      "metadata": {
        "colab_type": "text",
        "id": "eZcKCiuCbN1P"
      },
      "source": [
        "You can also edit the text. Just double-click on a cell. It's made with markdown code. After you are done editing, press ctrl+enter\n",
        "\n",
        "We will do about half of the exercises with Jupyter. You will learn most things as we go. The notebook you are seing is your copy stored on your account (including the output of the cells). Write your answers inline and save regularly. (Also save a copy somewhere else from time to time &ndash; this service is still beta.)\n",
        "\n",
        "### Read more:\n",
        "* [Jupyter](http://jupyter.org/)\n",
        "* [Learn Python](http://www.learnpython.org)\n",
        "* [Python documentation](https://docs.python.org/3/)"
      ]
    },
    {
      "cell_type": "markdown",
      "metadata": {
        "colab_type": "text",
        "id": "8RNgAp4_bN1R"
      },
      "source": [
        "## 2. Bash Scripts\n",
        "\n",
        "Code blocks by default are executed using a python interpreter (for a python notebook, such as this one).\n",
        "\n",
        "Other languages can be used with annotations.\n",
        "For instance, a code block can be converted into a bash code block using ```%%bash``` at the beginning:"
      ]
    },
    {
      "cell_type": "code",
      "execution_count": null,
      "metadata": {
        "colab": {},
        "colab_type": "code",
        "id": "cY2YeVQNbN1W"
      },
      "outputs": [],
      "source": [
        "%%bash\n",
        "echo \"Test File\" > test_file\n",
        "cat test_file"
      ]
    },
    {
      "cell_type": "markdown",
      "metadata": {
        "colab_type": "text",
        "id": "rGSL-u5hbN1n"
      },
      "source": [
        "Note: do not expect files you write into this file system to be durable. The sandboxed environment may be reset and data lost when notebook is closed. The notebook files themselves are durable though."
      ]
    },
    {
      "cell_type": "markdown",
      "metadata": {
        "colab_type": "text",
        "id": "tOwd4QOGbN1s"
      },
      "source": [
        "Bash commands can be also inlined using exclamation mark (```!```) infront of the bash line"
      ]
    },
    {
      "cell_type": "code",
      "execution_count": null,
      "metadata": {
        "colab": {},
        "colab_type": "code",
        "id": "3nwSdHJybN1v"
      },
      "outputs": [],
      "source": [
        "print(\"First I modify the file.\")\n",
        "\n",
        "!echo \"Hello World\" > test_file\n",
        "\n",
        "print(\"Then I check its content:\")\n",
        "print()\n",
        "\n",
        "!cat test_file"
      ]
    },
    {
      "cell_type": "markdown",
      "metadata": {
        "colab_type": "text",
        "id": "WVqCHLRnbN19"
      },
      "source": [
        "## 3. Extensions\n",
        "\n",
        "As part of this course you will use Jupyter to interact with various systems and interfaces (e.g. SQL, Map Reduce, Spark). To use these, you will need to install certain Python and Jupyter extensions. Note, that as like the file system the extensions will not be durable and need to be rerun when the notebook server is restarted.\n",
        "\n",
        "#### 3.1. Setting up a SQL connection\n",
        "\n",
        "As part of preparation for the next week's exercise, let's setup a connection to a sample relational database (hosted from this course's Azure account).\n",
        "\n",
        "First set the access variables (make sure you execute the next code block by running ctrl+enter)."
      ]
    },
    {
      "cell_type": "code",
      "execution_count": null,
      "metadata": {
        "colab": {},
        "colab_type": "code",
        "id": "m6tWOUYhbN1_"
      },
      "outputs": [],
      "source": [
        "server='ethbigdata2020.postgres.database.azure.com'\n",
        "user='student@ethbigdata2020'\n",
        "password='BigData2020'\n",
        "database='poker.stackexchange.com'\n",
        "connection_string=f'postgresql://{user}:{password}@{server}:5432/{database}?sslmode=require'"
      ]
    },
    {
      "cell_type": "markdown",
      "metadata": {
        "colab_type": "text",
        "id": "c1mtVyk8bN2T"
      },
      "source": [
        "#### 3.2. Running a SQL Query\n",
        "Then we run a first query against our server (following [this tutorial](https://docs.microsoft.com/en-us/azure/postgresql/quickstart-create-server-database-portal) from the Azure website). This should print the version information of the SQL server."
      ]
    },
    {
      "cell_type": "code",
      "execution_count": null,
      "metadata": {
        "colab": {},
        "colab_type": "code",
        "id": "I9LFmqFobN2V"
      },
      "outputs": [],
      "source": [
        "import sqlalchemy\n",
        "\n",
        "engine = sqlalchemy.create_engine(connection_string)\n",
        "print(engine.execute('SELECT version()').fetchall())"
      ]
    },
    {
      "cell_type": "markdown",
      "metadata": {
        "colab_type": "text",
        "id": "fUHlO6U-bN2e"
      },
      "source": [
        "#### 3.3. Inlining SQL \n",
        "It is also possible to inline SQL code (using [SQL \"magic\"](https://github.com/catherinedevlin/ipython-sql))."
      ]
    },
    {
      "cell_type": "markdown",
      "metadata": {
        "colab_type": "text",
        "id": "LYGtQY-mbN2m"
      },
      "source": [
        "We can now load the extension and establish a connection to our database from above. Run the following cell and make sure the output says *\"Connected: &lt;connection string&gt;\"*."
      ]
    },
    {
      "cell_type": "code",
      "execution_count": null,
      "metadata": {
        "colab": {},
        "colab_type": "code",
        "id": "Kib8v6g0bN2n"
      },
      "outputs": [],
      "source": [
        "%reload_ext sql\n",
        "%sql $connection_string"
      ]
    },
    {
      "cell_type": "markdown",
      "metadata": {
        "colab_type": "text",
        "id": "Py3znAN0bN2u"
      },
      "source": [
        "Now we can use the ```%sql``` and ```%%sql``` magic words to run SQL directly. ```%%sql``` makes a cell a SQL cell. A SQL cell can run an arbitrary number of SQL statements and displays the result of the last one of them.\n",
        "\n",
        "Let's see the version number again:"
      ]
    },
    {
      "cell_type": "code",
      "execution_count": null,
      "metadata": {
        "colab": {},
        "colab_type": "code",
        "id": "UYQzRe-bbN2w"
      },
      "outputs": [],
      "source": [
        "%%sql \n",
        "SELECT version();"
      ]
    },
    {
      "cell_type": "markdown",
      "metadata": {
        "colab_type": "text",
        "id": "I19FHNH6bN24"
      },
      "source": [
        "The ```%sql``` magic words lets us run SQL statements in a regular cell. Again, the result of the last statement is displayed."
      ]
    },
    {
      "cell_type": "code",
      "execution_count": null,
      "metadata": {
        "colab": {},
        "colab_type": "code",
        "id": "IC8xExyvbN27"
      },
      "outputs": [],
      "source": [
        "print(\"Run a query!\")\n",
        "%sql SELECT Id, DisplayName FROM Users ORDER BY Id LIMIT 10;"
      ]
    },
    {
      "cell_type": "markdown",
      "metadata": {
        "colab_type": "text",
        "id": "-z4i0X-0bN3C"
      },
      "source": [
        "#### 3.4. Plotting results\n",
        "Matplotlib can also be used to plot results. Next is a plot of a sample query that finds the number of created users per year."
      ]
    },
    {
      "cell_type": "code",
      "execution_count": null,
      "metadata": {
        "colab": {},
        "colab_type": "code",
        "id": "QLmejax9bN3D",
        "scrolled": true
      },
      "outputs": [],
      "source": [
        "%matplotlib inline\n",
        "import matplotlib.pyplot as plt\n",
        "\n",
        "result = %sql SELECT DATE_PART('year', CreationDate) as CreationYear, COUNT(*) as Count \\\n",
        "                FROM Users \\\n",
        "                GROUP BY DATE_PART('year', CreationDate) \\\n",
        "                ORDER BY DATE_PART('year', CreationDate) ASC;\n",
        "            \n",
        "# Print the result in tabular form\n",
        "print(result)\n",
        "            \n",
        "# Convert the result to a Pandas data frame\n",
        "df = result.DataFrame()\n",
        "\n",
        "# Extract x and y values for a plot\n",
        "x = df['creationyear'].tolist()\n",
        "y = df['count'].tolist()\n",
        "\n",
        "# Plot the distribution of registrations per year\n",
        "fig, ax = plt.subplots()\n",
        "ax.bar(range(len(df.index)), y, tick_label=[int(i) for i in x], align='center')\n",
        "ax.set_xlabel('Creation Year')\n",
        "ax.set_ylabel('Number of Users')"
      ]
    }
  ],
  "metadata": {
    "colab": {
      "name": "Exercise00_Jupyter_Basics_SQL_Example.ipynb",
      "provenance": []
    },
    "kernelspec": {
      "display_name": "Python 3",
      "language": "python",
      "name": "python3"
    },
    "language_info": {
      "codemirror_mode": {
        "name": "ipython",
        "version": 3
      },
      "file_extension": ".py",
      "mimetype": "text/x-python",
      "name": "python",
      "nbconvert_exporter": "python",
      "pygments_lexer": "ipython3",
      "version": "3.5.4"
    }
  },
  "nbformat": 4,
  "nbformat_minor": 0
}