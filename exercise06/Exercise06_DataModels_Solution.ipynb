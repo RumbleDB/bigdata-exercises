{
  "cells": [
    {
      "cell_type": "markdown",
      "metadata": {
        "id": "9JaFMLlCYzqp"
      },
      "source": [
        "# <center>Big Data &ndash; Exercises &ndash; Solution</center>\n",
        "## <center>Fall 2024 &ndash; Week 6 &ndash; ETH Zurich</center>\n",
        "## <center>Data Models</center>"
      ]
    },
    {
      "cell_type": "markdown",
      "metadata": {
        "id": "OF-UJSX_Yzqq"
      },
      "source": [
        "## Reading:\n",
        "* (Mandatory) Chapter 7: Data models and validation of course-book\n",
        "* (Recommended) M. Droettboom, Understanding JSON Schema [[online](https://json-schema.org/understanding-json-schema/)]\n",
        "* (Recommended) Harold, E. R., & Means, W. S. (2004). XML in a Nutshell. [Available in the ETH library] [[online](https://learning.oreilly.com/library/view/xml-in-a/0596007647/?ar)] (Chapter 17 on XML Schema, except 17.3 on namespaces)\n",
        "\n",
        "\n",
        "This exercise will consist of six main parts: \n",
        "* XML Data Models\n",
        "* XML Schemas\n",
        "* JSON Data Models\n",
        "* JSON Schemas\n",
        "* JSound\n",
        "* DataFrames"
      ]
    },
    {
      "cell_type": "markdown",
      "metadata": {
        "id": "HTwUS1kFYzqr"
      },
      "source": [
        "## 1. XML Data Models &ndash; Information Sets\n",
        "\n",
        "XML \"Information Set\" provides an abstract representation of an XML document—it can be thought of as a set of rules on how one would draw an XML document on a whiteboard.\n",
        "\n",
        "An XML document has an information set if it is well-formed and satisfies the namespace constraints. There is no requirement for an XML document to be valid in order to have an information set. An information set can contain up to eleven different types of information items, e.g., the document information item (always present), element information items, attribute information item, etc."
      ]
    },
    {
      "cell_type": "markdown",
      "metadata": {
        "id": "bt0eBxcHYzqs"
      },
      "source": [
        "### Task 1.1\n",
        "\n",
        "Draw the Information Set trees for the following XML documents. You can confine your trees to only have the following types of information items: *document information item, elements, character information items, and attributes.*\n",
        "\n",
        "#### Document 1\n",
        "\n",
        "```xml\n",
        "<Burger>\n",
        "    <Bun>\n",
        "        <Pickles/>\n",
        "        <Cheese origin=\"Switzerland\" />\n",
        "        <Patty/>\n",
        "    </Bun>\n",
        "</Burger>\n",
        "```"
      ]
    },
    {
      "cell_type": "markdown",
      "metadata": {
        "id": "0ZGSy6QOYzqs"
      },
      "source": [
        "#### Solution\n",
        "\n",
        "![](https://polybox.ethz.ch/index.php/s/LfUUcrCwLFgwX45/download)"
      ]
    },
    {
      "cell_type": "markdown",
      "metadata": {
        "id": "K1T3HdVaYzqs"
      },
      "source": [
        "#### Document 2\n",
        "```xml\n",
        "<catalog>\n",
        "   <!-- A list of books -->\n",
        "   <book id='bk101'>\n",
        "      <author>Gambardella, Matthew</author>\n",
        "      <title>XML Developer's Guide</title>\n",
        "      <genre>Computer</genre>\n",
        "      <price>44.95</price>\n",
        "      <publish_date version='hard' version2='soft'>2000-10-01</publish_date>\n",
        "   </book>\n",
        "</catalog>\n",
        "```"
      ]
    },
    {
      "cell_type": "markdown",
      "metadata": {
        "id": "ffJzJLOnYzqs"
      },
      "source": [
        "#### Solution\n",
        "\n",
        "![](https://polybox.ethz.ch/index.php/s/2s54Gyy25QHXyg0/download)"
      ]
    },
    {
      "cell_type": "markdown",
      "metadata": {
        "id": "bPLsqbLUYzqt"
      },
      "source": [
        "#### Document 3\n",
        "\n",
        "```xml\n",
        "<eth date=\"11.11.2006\">\n",
        "   <date>16.11.2017</date>\n",
        "   <president since=\"2020\">Prof. Dr. Joël Mesot</president>\n",
        "   <rector>Prof. Dr. Sarah M. Springman</rector>\n",
        "</eth>\n",
        "```\n"
      ]
    },
    {
      "cell_type": "markdown",
      "metadata": {
        "id": "015HcCbKYzqu"
      },
      "source": [
        "#### Solution\n",
        "\n",
        "![](https://polybox.ethz.ch/index.php/s/fjPJi0DgvnPEJZw/download)"
      ]
    },
    {
      "cell_type": "markdown",
      "metadata": {
        "id": "iik-DhGXYzqu"
      },
      "source": [
        "## 2. XML Schemas\n",
        " \n",
        "In this task we will explore XML Schemas in detail. An XML Schema describes the structure of an XML document.\n",
        "\n",
        "The purpose of an XML Schema is to define the legal building blocks of an XML document:\n",
        "* the elements and attributes that can appear in a document\n",
        "* the number of (and order of) child elements\n",
        "* data types for elements and attributes\n",
        "* default and fixed values for elements and attributes"
      ]
    },
    {
      "cell_type": "markdown",
      "metadata": {
        "id": "hFA5S7NPYzqu"
      },
      "source": [
        "When you open an XML Schema in oXygen, you can switch to its graphical representation, by choosing the \"Design\" mode at the bottom of the document pane; \"Text\" mode shows the XML Schema as an XML document."
      ]
    },
    {
      "cell_type": "markdown",
      "metadata": {
        "id": "D-y9UF4eYzqu"
      },
      "source": [
        "### Task 2.1\n",
        "Match the following XML documents to XML Schemas that will validate them. Match them manually then validate with oXygen.\n",
        "\n",
        "#### Document 1\n",
        "```xml\n",
        "<happiness xmlns:xsi=\"http://www.w3.org/2001/XMLSchema-instance\"\n",
        "     xsi:noNamespaceSchemaLocation=\"Schema.xsd\"/>\n",
        "```\n",
        "\n",
        "#### Document 2\n",
        "```xml\n",
        "<happiness xmlns:xsi=\"http://www.w3.org/2001/XMLSchema-instance\"\n",
        "     xsi:noNamespaceSchemaLocation=\"Schema.xsd\">\n",
        "    <health/>\n",
        "    <friends/>\n",
        "    <family/>\n",
        "</happiness>\n",
        "```\n",
        "\n",
        "#### Document 3\n",
        "```xml\n",
        "<happiness xmlns:xsi=\"http://www.w3.org/2001/XMLSchema-instance\"\n",
        "     xsi:noNamespaceSchemaLocation=\"Schema.xsd\">\n",
        "    3.141562\n",
        "</happiness>\n",
        "```\n",
        "\n",
        "#### Document 4\n",
        "```xml\n",
        "<happiness xmlns:xsi=\"http://www.w3.org/2001/XMLSchema-instance\"\n",
        "     xsi:noNamespaceSchemaLocation=\"Schema.xsd\">\n",
        "    <health value=\"100\"/>\n",
        "    <friends/>\n",
        "    <family/>\n",
        "</happiness>\n",
        "```\n",
        "\n",
        "#### Document 5\n",
        "```xml\n",
        "<happiness xmlns:xsi=\"http://www.w3.org/2001/XMLSchema-instance\"\n",
        "     xsi:noNamespaceSchemaLocation=\"Schema.xsd\">\n",
        "    <health/>\n",
        "    <friends/>\n",
        "    <family/>\n",
        "    But perhaps everybody defines it differently...\n",
        "</happiness>\n",
        "```\n",
        "\n",
        "______\n",
        "\n",
        "\n",
        "#### Schema 1\n",
        "```xml\n",
        "<xs:schema xmlns:xs=\"http://www.w3.org/2001/XMLSchema\">\n",
        "    <xs:element name=\"happiness\">\n",
        "        <xs:complexType>\n",
        "            <xs:sequence>\n",
        "                <xs:element name=\"health\"/>\n",
        "                <xs:element name=\"friends\"/>\n",
        "                <xs:element name=\"family\"/>\n",
        "            </xs:sequence>\n",
        "        </xs:complexType>\n",
        "    </xs:element>\n",
        "</xs:schema>\n",
        "```\n",
        "\n",
        "#### Schema 2\n",
        "```xml\n",
        "<xs:schema xmlns:xs=\"http://www.w3.org/2001/XMLSchema\">\n",
        "    <xs:element name=\"happiness\">\n",
        "        <xs:complexType mixed=\"true\">\n",
        "            <xs:sequence>\n",
        "                <xs:element name=\"health\"/>\n",
        "                <xs:element name=\"friends\"/>\n",
        "                <xs:element name=\"family\"/>\n",
        "            </xs:sequence>\n",
        "        </xs:complexType>\n",
        "    </xs:element>\n",
        "</xs:schema>\n",
        "```\n",
        "\n",
        "#### Schema 3\n",
        "```xml\n",
        "<xs:schema xmlns:xs=\"http://www.w3.org/2001/XMLSchema\">\n",
        "    <xs:element name=\"happiness\" type=\"xs:decimal\"/>\n",
        "</xs:schema>\n",
        "```\n",
        "\n",
        "#### Schema 4\n",
        "```xml\n",
        "<xs:schema xmlns:xs=\"http://www.w3.org/2001/XMLSchema\">\n",
        "    <xs:element name=\"happiness\">\n",
        "        <xs:complexType>\n",
        "            <xs:sequence/>\n",
        "        </xs:complexType>\n",
        "    </xs:element>\n",
        "</xs:schema>\n",
        "```\n",
        "\n",
        "#### Schema 5\n",
        "```xml\n",
        "<xs:schema xmlns:xs=\"http://www.w3.org/2001/XMLSchema\">\n",
        "    <xs:element name=\"happiness\">\n",
        "        <xs:complexType>\n",
        "            <xs:sequence>\n",
        "                <xs:element name=\"health\">\n",
        "                    <xs:complexType>\n",
        "                        <xs:attribute name=\"value\" type=\"xs:integer\" use=\"required\"/>\n",
        "                    </xs:complexType>\n",
        "                </xs:element>\n",
        "                <xs:element name=\"friends\"/>\n",
        "                <xs:element name=\"family\"/>\n",
        "            </xs:sequence>\n",
        "        </xs:complexType>\n",
        "    </xs:element>\n",
        "</xs:schema>\n",
        "```"
      ]
    },
    {
      "cell_type": "markdown",
      "metadata": {
        "vscode": {
          "languageId": "plaintext"
        }
      },
      "source": [
        "#### Solution\n",
        "*  Document 1 – Schema 4\n",
        "*  Document 2 – Schema 1 and Schema 2\n",
        "*  Document 3 – Schema 3\n",
        "*  Document 4 – Schema 1, Schema 2, and Schema 5\n",
        "*  Document 5 – Schema 2"
      ]
    },
    {
      "cell_type": "markdown",
      "metadata": {
        "id": "unDR4u_EYzqv"
      },
      "source": [
        "### Task 2.2\n",
        "\n",
        "The [Great Language Game](http://greatlanguagegame.com/) is a game in which you are given a voice clip to listen, and you are asked to identify the language in which the person was speaking. It is a multiple-choice question&ndash;you make your choice out of several alternatives.\n",
        "\n",
        "The following XML document presents a user's attempt at answering a single question in the game: it contains the identifier of the voice clip, the choices presented to the player, and the player's response.\n",
        "Provide an XML Schema which will validate this document:"
      ]
    },
    {
      "cell_type": "markdown",
      "metadata": {
        "id": "2J4_W7rdYzqv"
      },
      "source": [
        "```xml\n",
        "<?xml version=\"1.0\" encoding=\"UTF-8\"?>\n",
        "<attempt country=\"AU\" date=\"2013-08-19\">\n",
        "    <voiceClip>48f9c924e0d98c959d8a6f1862b3ce9a</voiceClip>\n",
        "    <choices>\n",
        "        <choice>Maori</choice>\n",
        "        <choice>Mandarin</choice>\n",
        "        <choice>Norwegian</choice>\n",
        "        <choice>Tongan</choice>\n",
        "    </choices>\n",
        "    <target>Norwegian</target>\n",
        "    <guess>Norwegian</guess>\n",
        "</attempt>\n",
        "\n",
        "```"
      ]
    },
    {
      "cell_type": "markdown",
      "metadata": {
        "id": "gTDOf20MYzqv"
      },
      "source": [
        "#### Solution\n",
        "Here is one possible XML Schema that will validate the original document:\n",
        "```xml\n",
        "<?xml version=\"1.0\" encoding=\"UTF-8\"?>\n",
        "<xs:schema xmlns:xs=\"http://www.w3.org/2001/XMLSchema\">\n",
        "    <xs:element name=\"attempt\">\n",
        "        <xs:complexType>\n",
        "            <xs:sequence maxOccurs=\"1\" minOccurs=\"1\">\n",
        "                <xs:element name=\"voiceClip\" type=\"xs:string\"/>\n",
        "                <xs:element name=\"choices\">\n",
        "                    <xs:complexType>\n",
        "                        <xs:sequence>\n",
        "                            <xs:element name=\"choice\" type=\"xs:string\" minOccurs=\"4\" maxOccurs=\"4\"/>\n",
        "                        </xs:sequence>\n",
        "                    </xs:complexType>\n",
        "                </xs:element>\n",
        "                <xs:element name=\"target\" type=\"xs:string\"/>\n",
        "                <xs:element name=\"guess\" type=\"xs:string\"/>\n",
        "            </xs:sequence>\n",
        "            <xs:attribute name=\"country\" type=\"xs:string\"/>\n",
        "            <xs:attribute name=\"date\" type=\"xs:date\"/>\n",
        "        </xs:complexType>\n",
        "    </xs:element>\n",
        "</xs:schema>\n",
        "```\n",
        "\n",
        "Also, the root element of the document should be changed as follows to point to the schema:\n",
        "```xml\n",
        "<attempt \n",
        "  xmlns:xsi=\"http://www.w3.org/2001/XMLSchema-instance\" \n",
        "  xsi:noNamespaceSchemaLocation=\"SingleGreatLanguageGame.xsd\" country=\"AU\" date=\"2013-08-19\">\n",
        "```"
      ]
    },
    {
      "cell_type": "markdown",
      "metadata": {
        "id": "ySX84cJpYzqw"
      },
      "source": [
        "### Task 2.3\n",
        "Continuing the topic of the Great Language Game, provide an XML Schema which will validate the following document:"
      ]
    },
    {
      "cell_type": "markdown",
      "metadata": {
        "id": "6pz6yPCoYzqw"
      },
      "source": [
        "\n",
        "```xml\n",
        "<?xml version=\"1.0\" encoding=\"UTF-8\"?>\n",
        "<attempts>\n",
        "    <attempt country=\"AU\" date=\"2013-08-19\">\n",
        "        <voiceClip>48f9c924e0d98c959d8a6f1862b3ce9a</voiceClip>\n",
        "        <choices>\n",
        "            <choice>Maori</choice>\n",
        "            <choice>Mandarin</choice>\n",
        "            <choice>Norwegian</choice>\n",
        "            <choice>Tongan</choice>\n",
        "        </choices>\n",
        "        <target>Norwegian</target>\n",
        "        <guess>Norwegian</guess>\n",
        "    </attempt>\n",
        "    <attempt country=\"US\" date=\"2014-03-01\">\n",
        "        <voiceClip>5000be64c8cc8f61dda50fca8d77d307</voiceClip>\n",
        "        <choices>\n",
        "            <choice>Finnish</choice>\n",
        "            <choice>Mandarin</choice>\n",
        "            <choice>Scottish Gaelic</choice>\n",
        "            <choice>Slovak</choice>\n",
        "            <choice>Swedish</choice>\n",
        "            <choice>Thai</choice>\n",
        "        </choices>\n",
        "        <target>Slovak</target>\n",
        "        <guess>Slovak</guess>\n",
        "    </attempt>\n",
        "    <attempt country=\"US\" date=\"2014-03-01\">\n",
        "        <voiceClip>923c0d6c9e593966e1b6354cc0d794de</voiceClip>\n",
        "        <choices>\n",
        "            <choice>Hungarian</choice>\n",
        "            <choice>Sinhalese</choice>\n",
        "            <choice>Swahili</choice>\n",
        "        </choices>\n",
        "        <target>Hungarian</target>\n",
        "        <guess>Sinhalese</guess>\n",
        "    </attempt>\n",
        "</attempts>\n",
        "```"
      ]
    },
    {
      "cell_type": "markdown",
      "metadata": {
        "id": "nPHdCRUAYzqw"
      },
      "source": [
        "#### Solution\n",
        "\n",
        "Here is one possible solution for a schema that validates the above document. \n",
        "\n",
        "```xml\n",
        "<?xml version=\"1.0\" encoding=\"UTF-8\"?>\n",
        "<xs:schema xmlns:xs=\"http://www.w3.org/2001/XMLSchema\">\n",
        "    <xs:element name=\"attempts\">\n",
        "        <xs:complexType>\n",
        "            <xs:sequence>\n",
        "                <xs:element name=\"attempt\" minOccurs=\"1\" maxOccurs=\"unbounded\">\n",
        "                    <xs:complexType>\n",
        "                        <xs:sequence maxOccurs=\"1\" minOccurs=\"1\">\n",
        "                            <xs:element name=\"voiceClip\" type=\"xs:string\"/>\n",
        "                            <xs:element name=\"choices\">\n",
        "                                <xs:complexType>\n",
        "                                    <xs:sequence>\n",
        "                                        <xs:element name=\"choice\" type=\"xs:string\" minOccurs=\"3\"\n",
        "                                            maxOccurs=\"6\"/>\n",
        "                                    </xs:sequence>\n",
        "                                </xs:complexType>\n",
        "                            </xs:element>\n",
        "                            <xs:element name=\"target\" type=\"xs:string\"/>\n",
        "                            <xs:element name=\"guess\" type=\"xs:string\"/>\n",
        "                        </xs:sequence>\n",
        "                        <xs:attribute name=\"country\" type=\"xs:string\"/>\n",
        "                        <xs:attribute name=\"date\" type=\"xs:date\"/>\n",
        "                    </xs:complexType>\n",
        "                </xs:element>\n",
        "            </xs:sequence>\n",
        "        </xs:complexType>\n",
        "    </xs:element>\n",
        "</xs:schema>\n",
        "\n",
        "```\n",
        "\n",
        "As in the previous task, the root element of the original document has to be augmented with:\n",
        "```xml\n",
        "<attempts \n",
        "    xmlns:xsi=\"http://www.w3.org/2001/XMLSchema-instance\" \n",
        "    xsi:noNamespaceSchemaLocation=\"MultipleGreatLanguageGames.xsd\">\n",
        "```\n",
        "\n",
        "In an XML you can also declare named custom types and use them in your element declarations. For example the following schema would also validate the document from episode 2. But beware that the types lies also in the target namespace. Hence in order to be able to reference them in other elements you have to add a prefix declaration for your target namespace.\n",
        "\n",
        "```xml\n",
        "<?xml version=\"1.0\" encoding=\"UTF-8\"?>\n",
        "<xs:schema xmlns:xs=\"http://www.w3.org/2001/XMLSchema\"> \n",
        "    \n",
        "    <!-- lets declare first some custom types -->\n",
        "    <xs:complexType name=\"choicesType\">\n",
        "        <xs:sequence>\n",
        "            <xs:element name=\"choice\" minOccurs=\"1\" maxOccurs=\"unbounded\" type=\"xs:string\"/>\n",
        "        </xs:sequence>\n",
        "    </xs:complexType>\n",
        "    \n",
        "    <xs:complexType name=\"attemptType\">\n",
        "        <xs:sequence>\n",
        "            <xs:element name=\"voiceClip\" type=\"xs:string\"/>\n",
        "            <xs:element name=\"choices\" type=\"choicesType\"/>\n",
        "            <xs:element name=\"target\" type=\"xs:string\"/>\n",
        "            <xs:element name=\"guess\" type=\"xs:string\"/>\n",
        "        </xs:sequence>\n",
        "        <xs:attribute name=\"country\" type=\"xs:string\"/>\n",
        "        <xs:attribute name=\"date\" type=\"xs:date\"/>  \n",
        "    </xs:complexType>\n",
        "    \n",
        "    <!-- lets declare the elements appearing in the document -->\n",
        "    <xs:element name = \"attempts\">\n",
        "        <xs:complexType>\n",
        "            <xs:sequence>\n",
        "                <xs:element name=\"attempt\" type=\"attemptType\" maxOccurs=\"unbounded\"/>\n",
        "            </xs:sequence>\n",
        "        </xs:complexType>\n",
        "    </xs:element>    \n",
        "    \n",
        "</xs:schema>\n",
        "```"
      ]
    },
    {
      "cell_type": "markdown",
      "metadata": {
        "id": "bM7bvH4VYzqy"
      },
      "source": [
        "### Task 2.4\n",
        "\n",
        "Let us now solve the reverse problem. Given the following XML Schema, provide a valid instance document:"
      ]
    },
    {
      "cell_type": "markdown",
      "metadata": {
        "id": "SJIrPHYCYzqy"
      },
      "source": [
        "```xml\n",
        "<?xml version=\"1.0\" encoding=\"UTF-8\"?>\n",
        "<xs:schema xmlns:xs=\"http://www.w3.org/2001/XMLSchema\">\n",
        "    <xs:element name=\"movies\">\n",
        "        <xs:complexType>\n",
        "            <xs:sequence maxOccurs=\"unbounded\" minOccurs=\"0\">\n",
        "                <xs:element name=\"Movie\">\n",
        "                    <xs:complexType>\n",
        "                        <xs:sequence>\n",
        "                            <xs:element name=\"title\" type=\"xs:string\"/>\n",
        "                            <xs:element name=\"year\" type=\"xs:gYear\"/>\n",
        "                            <xs:element name=\"_director\">\n",
        "                                <xs:complexType>\n",
        "                                    <xs:sequence/>\n",
        "                                    <xs:attribute name=\"name\" type=\"xs:string\"/>\n",
        "                                </xs:complexType>\n",
        "                            </xs:element>\n",
        "                            <xs:choice minOccurs=\"1\" maxOccurs=\"unbounded\">\n",
        "                                <xs:element name=\"comment\">\n",
        "                                    <xs:complexType>\n",
        "                                        <xs:simpleContent>\n",
        "                                            <xs:extension base=\"xs:string\">\n",
        "                                                <xs:attribute name=\"lang\" type=\"xs:string\"/>\n",
        "                                            </xs:extension>\n",
        "                                        </xs:simpleContent>\n",
        "                                    </xs:complexType>\n",
        "                                </xs:element>\n",
        "                                <xs:element name=\"newcomment\" type=\"xs:string\"/>\n",
        "                            </xs:choice>\n",
        "                        </xs:sequence>\n",
        "                        <xs:attribute name=\"id\" type=\"xs:ID\"/>\n",
        "                    </xs:complexType>\n",
        "                </xs:element>\n",
        "            </xs:sequence>\n",
        "        </xs:complexType>\n",
        "    </xs:element>\n",
        "</xs:schema>\n",
        "```"
      ]
    },
    {
      "cell_type": "markdown",
      "metadata": {
        "id": "rL0casUbYzqy"
      },
      "source": [
        "#### Solution\n",
        "One of the very many valid instance documents is:\n",
        "```xml\n",
        "<?xml version=\"1.0\" encoding=\"UTF-8\"?> \n",
        "<movies xmlns:xsi=\"http://www.w3.org/2001/XMLSchema-instance\"\n",
        "    xsi:noNamespaceSchemaLocation=\"Movies.xsd\">\n",
        "    <Movie id=\"imdb0173840\">\n",
        "        <title>Final Fantasy: The Spirits Within</title>\n",
        "        <year>2001</year>\n",
        "        <_director name=\"Hironobu Sakaguchi\"/>\n",
        "        <comment lang=\"\"/>\n",
        "        <newcomment>A great movie!</newcomment>\n",
        "        <comment lang=\"de\"/>\n",
        "    </Movie>\n",
        "    <Movie id=\"imdb0405094\">\n",
        "        <title>Das Leben der Anderen</title>\n",
        "        <year>2006</year>\n",
        "        <_director name=\"Florian Henckel von Donnersmarck\"/>\n",
        "        <comment lang=\"de\">Das ist ein guter Film</comment>\n",
        "        <!-- I need to watch more movies -->\n",
        "    </Movie>\n",
        "</movies>\n",
        "```"
      ]
    },
    {
      "cell_type": "markdown",
      "metadata": {},
      "source": [
        "## 3. JSON Data Models\n",
        "The appropriate abstraction for any JSON document is a tree, the nodes of which are JSON logical values\n",
        "\n",
        "It is possible to visualize JSON documents as logical trees.\n",
        "\n",
        "###  Task 3.1 \n",
        "Draw the logical trees for the following JSON documents."
      ]
    },
    {
      "cell_type": "markdown",
      "metadata": {},
      "source": [
        "#### Document 1\n",
        "\n",
        "```json\n",
        "{\n",
        "  \"name\": \"Einstein\",\n",
        "  \"papers\": [\n",
        "    {\n",
        "      \"title\": \"Special Relativity\",\n",
        "      \"year\": 1905\n",
        "    },\n",
        "    {\n",
        "      \"title\": \"General Relativity\",\n",
        "      \"year\": 1915\n",
        "    }\n",
        "  ],\n",
        "  \"awards\": [\"Nobel Prize\"]\n",
        "}\n",
        "```"
      ]
    },
    {
      "cell_type": "markdown",
      "metadata": {},
      "source": [
        "#### Solution\n",
        "\n",
        "![](https://polybox.ethz.ch/index.php/s/9lmWKP4JvAZodhS/download)"
      ]
    },
    {
      "cell_type": "markdown",
      "metadata": {},
      "source": [
        "#### Document 2\n",
        "\n",
        "```json\n",
        "{\n",
        "  \"university\": {\n",
        "    \"name\": \"ETH Zurich\",\n",
        "    \"founded\": 1855,\n",
        "    \"departments\": [\n",
        "      {\n",
        "        \"name\": \"Computer Science\",\n",
        "        \"programs\": [\"BSc\", \"MSc\", \"PhD\"],\n",
        "        \"stats\": {\n",
        "          \"students\": 2000,\n",
        "          \"faculty\": 50,\n",
        "          \"international\": true\n",
        "        }\n",
        "      },\n",
        "      {\n",
        "        \"name\": \"Mathematics\",\n",
        "        \"programs\": [\"BSc\", \"MSc\"],\n",
        "        \"stats\": null\n",
        "      }\n",
        "    ],\n",
        "    \"locations\": [\"Hönggerberg\", \"Zentrum\"]\n",
        "  }\n",
        "}\n",
        "```"
      ]
    },
    {
      "cell_type": "markdown",
      "metadata": {},
      "source": [
        "#### Solution\n",
        "\n",
        "![](https://polybox.ethz.ch/index.php/s/l6zEWNCykXdABda/download)"
      ]
    },
    {
      "cell_type": "markdown",
      "metadata": {
        "id": "WcCiM8-cNEty"
      },
      "source": [
        "## 4. JSON Schemas\n",
        "\n",
        "JSON Schema is a vocabulary that allows you to annotate and validate JSON documents. It is used to:\n",
        "* Describe your existing data format(s).\n",
        "* Provide clear human- and machine- readable documentation.\n",
        "* Validate data, i.e., automated testing, ensuring quality of client submitted data.\n",
        "\n",
        "###  Task 4.1 \n",
        "Provide an JSON Schema which will validate the following document."
      ]
    },
    {
      "cell_type": "markdown",
      "metadata": {
        "id": "N36fGbD5NEty"
      },
      "source": [
        "```json\n",
        "{\n",
        "  \"firstName\": \"John\",\n",
        "  \"lastName\": \"Doe\",\n",
        "  \"age\": 21\n",
        "}\n",
        "```"
      ]
    },
    {
      "cell_type": "markdown",
      "metadata": {
        "id": "dwUs9araNEty"
      },
      "source": [
        "#### Solution\n",
        "The following json schema is a possible solution to the above question.\n",
        "\n",
        "```json\n",
        "{\n",
        "  \"$id\": \"https://example.com/person.schema.json\",\n",
        "  \"$schema\": \"http://json-schema.org/draft-07/schema#\",\n",
        "  \"title\": \"Person\",\n",
        "  \"type\": \"object\",\n",
        "  \"properties\": {\n",
        "    \"firstName\": {\n",
        "      \"type\": \"string\",\n",
        "      \"description\": \"The person's first name.\"\n",
        "    },\n",
        "    \"lastName\": {\n",
        "      \"type\": \"string\",\n",
        "      \"description\": \"The person's last name.\"\n",
        "    },\n",
        "    \"age\": {\n",
        "      \"description\": \"Age in years which must be equal to or greater than zero.\",\n",
        "      \"type\": \"integer\",\n",
        "      \"minimum\": 0\n",
        "    }\n",
        "  }\n",
        "}\n",
        "```"
      ]
    },
    {
      "cell_type": "markdown",
      "metadata": {
        "id": "9msnvBePNkAQ"
      },
      "source": [
        "### Task 4.2"
      ]
    },
    {
      "cell_type": "markdown",
      "metadata": {
        "id": "qKL8zgTTNm4c"
      },
      "source": [
        "Provide an JSON Schema which will validate the following document.\n",
        "The JSON Schema has to check for the following properties:\n",
        "\n",
        "\n",
        "*   The price of a product has to be strictly positive.\n",
        "*   Tags are describing the product and necessary for a proper product description. We need at least one tag per product and each tag should be unique.\n",
        "*   The \"productId\", \"productName\" and the \"price\" should always be contained in a valid JSON document.\n",
        "\n",
        "\n",
        "\n",
        "```json\n",
        "  {\n",
        "    \"productId\": 1,\n",
        "    \"productName\": \"An ice sculpture\",\n",
        "    \"price\": 12.50,\n",
        "    \"tags\": [ \"cold\", \"ice\" ],\n",
        "    \"dimensions\": {\n",
        "      \"length\": 7.0,\n",
        "      \"width\": 12.0,\n",
        "      \"height\": 9.5\n",
        "    }\n",
        "  }\n",
        "```"
      ]
    },
    {
      "cell_type": "markdown",
      "metadata": {
        "id": "kMQbscjbORRI"
      },
      "source": [
        "#### Solution\n",
        "\n",
        "A possibe schema for the original document.\n",
        "\n",
        "```json\n",
        "{\n",
        "  \"$schema\":\"http://json-schema.org/draft-07/schema#\",\n",
        "  \"$id\": \"https://example.com/product.schema.json\",\n",
        "  \"title\": \"Product\",\n",
        "  \"description\": \"A product from Acme's catalog\",\n",
        "  \"type\": \"object\",\n",
        "  \"properties\": {\n",
        "    \"productId\": {\n",
        "      \"description\": \"The unique identifier for a product\",\n",
        "      \"type\": \"integer\"\n",
        "    },\n",
        "    \"productName\": {\n",
        "      \"description\": \"Name of the product\",\n",
        "      \"type\": \"string\"\n",
        "    },\n",
        "    \"price\": {\n",
        "      \"description\": \"The price of the product\",\n",
        "      \"type\": \"number\",\n",
        "      \"exclusiveMinimum\": 0\n",
        "    },\n",
        "    \"tags\": {\n",
        "      \"description\": \"Tags for the product\",\n",
        "      \"type\": \"array\",\n",
        "      \"items\": {\n",
        "        \"type\": \"string\"\n",
        "      },\n",
        "      \"minItems\": 1,\n",
        "      \"uniqueItems\": true\n",
        "    },\n",
        "    \"dimensions\": {\n",
        "      \"type\": \"object\",\n",
        "      \"properties\": {\n",
        "        \"length\": {\n",
        "          \"type\": \"number\"\n",
        "        },\n",
        "        \"width\": {\n",
        "          \"type\": \"number\"\n",
        "        },\n",
        "        \"height\": {\n",
        "          \"type\": \"number\"\n",
        "        }\n",
        "      },\n",
        "      \"required\": [ \"length\", \"width\", \"height\" ]\n",
        "    }\n",
        "  },\n",
        "  \"required\": [ \"productId\", \"productName\", \"price\" ]\n",
        "}\n",
        "```"
      ]
    },
    {
      "cell_type": "markdown",
      "metadata": {
        "id": "6tbzmHj1NEty"
      },
      "source": [
        "### Task 4.3 \n",
        "Based on the given Json schema, can you give an instance of it?\n",
        "HINT: We defined array of things."
      ]
    },
    {
      "cell_type": "markdown",
      "metadata": {
        "id": "X0EVZU5DNEtz"
      },
      "source": [
        "```json\n",
        "{\n",
        "  \"$id\": \"https://example.com/arrays.schema.json\",\n",
        "  \"$schema\": \"http://json-schema.org/draft-07/schema#\",\n",
        "  \"description\": \"A representation of a person, company, organization, or place\",\n",
        "  \"type\": \"object\",\n",
        "  \"properties\": {\n",
        "    \"fruits\": {\n",
        "      \"type\": \"array\",\n",
        "      \"items\": {\n",
        "        \"type\": \"string\"\n",
        "      }\n",
        "    },\n",
        "    \"vegetables\": {\n",
        "      \"type\": \"array\",\n",
        "      \"items\": { \"$ref\": \"#/definitions/veggie\" }\n",
        "    }\n",
        "  },\n",
        "  \"definitions\": {\n",
        "    \"veggie\": {\n",
        "      \"type\": \"object\",\n",
        "      \"required\": [ \"veggieName\", \"veggieLike\" ],\n",
        "      \"properties\": {\n",
        "        \"veggieName\": {\n",
        "          \"type\": \"string\",\n",
        "          \"description\": \"The name of the vegetable.\"\n",
        "        },\n",
        "        \"veggieLike\": {\n",
        "          \"type\": \"boolean\",\n",
        "          \"description\": \"Do I like this vegetable?\"\n",
        "        }\n",
        "      }\n",
        "    }\n",
        "  }\n",
        "}\n",
        "```"
      ]
    },
    {
      "cell_type": "markdown",
      "metadata": {
        "id": "6ywagkerNEtz"
      },
      "source": [
        "#### Solution\n",
        "Arrays are fundamental structures in JSON\n",
        "\n",
        "```json\n",
        "{\n",
        "  \"fruits\": [ \"apple\", \"orange\", \"pear\" ],\n",
        "  \"vegetables\": [\n",
        "    {\n",
        "      \"veggieName\": \"potato\",\n",
        "      \"veggieLike\": true\n",
        "    },\n",
        "    {\n",
        "      \"veggieName\": \"broccoli\",\n",
        "      \"veggieLike\": false\n",
        "    }\n",
        "  ]\n",
        "}\n",
        "```"
      ]
    },
    {
      "cell_type": "markdown",
      "metadata": {
        "id": "hLC42UZ3Yzqy"
      },
      "source": [
        "## 5. JSound\n",
        "\n",
        "JSound is a vocabulary that allows you to validate JSON documents. It employs a very simple and intuitive JSON-like synthax.\n",
        "\n",
        "### Task 5.1 \n",
        "Repeat the exercise in 4.1 but now produce a a JSound schema which will validate the following document."
      ]
    },
    {
      "cell_type": "markdown",
      "metadata": {
        "id": "DZBfYQ5rYzqy"
      },
      "source": [
        "```json\n",
        "{\n",
        "  \"firstName\": \"John\",\n",
        "  \"lastName\": \"Doe\",\n",
        "  \"age\": 21\n",
        "}\n",
        "```"
      ]
    },
    {
      "cell_type": "markdown",
      "metadata": {
        "id": "L7_EHKj6Yzqy"
      },
      "source": [
        "#### Solution\n",
        "The following JSound schema is a possible solution to the above question.\n",
        "\n",
        "```json\n",
        "{\n",
        "  \"firstName\": \"string\",\n",
        "  \"lastName\": \"string\",\n",
        "  \"age\": \"integer\"\n",
        "}\n",
        "```"
      ]
    },
    {
      "cell_type": "markdown",
      "metadata": {
        "id": "Dram7v2VYzqz"
      },
      "source": [
        "### Task 5.2 \n",
        "\n",
        "Build a valid JSON document based on the following JSound schema. "
      ]
    },
    {
      "cell_type": "markdown",
      "metadata": {
        "id": "C_FFDtngYzqz"
      },
      "source": [
        "```json\n",
        "{\n",
        "    \"id\": \"integer\",\n",
        "    \"who\": [{\n",
        "        \"name\": \"string\",\n",
        "        \"type\": \"string\",\n",
        "        \"preferred\": \"boolean\"\n",
        "    }],\n",
        "    \"year_of_birth\": \"integer\",\n",
        "    \"living\": \"boolean\"\n",
        "}\n",
        "```"
      ]
    },
    {
      "cell_type": "markdown",
      "metadata": {
        "id": "cVMPT9_2Yzqz"
      },
      "source": [
        "#### Solution\n",
        "\n",
        "```json\n",
        "{\n",
        "    \"id\": \"100\",\n",
        "    \"who\": [{\n",
        "        \"name\": \"Albert\",\n",
        "        \"type\": \"first\",\n",
        "        \"preferred\": true\n",
        "    },\n",
        "    {\n",
        "        \"name\": \"Einstein\",\n",
        "        \"type\": \"last\",\n",
        "        \"preferred\": false\n",
        "    }],\n",
        "    \"year_of_birth\": 1879,\n",
        "    \"alive\": false\n",
        "}\n",
        "```"
      ]
    },
    {
      "cell_type": "markdown",
      "metadata": {
        "id": "0SzFFKIGYzqz"
      },
      "source": [
        "## 6. Data Frames\n",
        "\n",
        "Data frames are collections of JSON objects that are valid against a common schema, where the schema requires closed object types and specific types for values while allowing for structured nestedness. \n",
        "\n"
      ]
    },
    {
      "cell_type": "markdown",
      "metadata": {},
      "source": [
        "#### Task 6.1\n",
        "\n",
        "Given the following JSound schema, draw the data frame visual representation, and fill with following entries:\n",
        "\n",
        "ID=0, {\"Marie\", \"Curie\"}, [{\"Chemistry\": 6.0}]\n",
        "\n",
        "ID=1, {\"Albert\", \"Einstein\"}, [{\"Math\": 6.0}, {\"Physics\": 6.0}]\n",
        "\n",
        "```json\n",
        "{\n",
        "  \"student\": {\n",
        "    \"id\": \"integer\",\n",
        "    \"name\": {\n",
        "      \"first\": \"string\",\n",
        "      \"last\": \"string\"\n",
        "    },\n",
        "    \"grades\": [{\n",
        "      \"course\": \"string\",\n",
        "      \"grade\": \"decimal\"\n",
        "    }]\n",
        "  }\n",
        "}\n",
        "```\n",
        "\n"
      ]
    },
    {
      "cell_type": "markdown",
      "metadata": {},
      "source": [
        "#### Solution\n",
        "\n",
        "![](https://polybox.ethz.ch/index.php/s/Fb3GigBk5BFg5SV/download)"
      ]
    },
    {
      "cell_type": "markdown",
      "metadata": {},
      "source": [
        "#### Task 6.2\n",
        "\n",
        "Convert the following heterogeneous JSON collection into a data frame by writing an appropriate JSound schema that enforces homogeneity while preserving as much information as possible:\n",
        "\n",
        "```json\n",
        "[\n",
        "  {\n",
        "    \"name\": \"Alice\",\n",
        "    \"scores\": [95, 87, 91],\n",
        "    \"active\": true\n",
        "  },\n",
        "  {\n",
        "    \"name\": \"Bob\",\n",
        "    \"scores\": [88],\n",
        "    \"graduated\": \"2023\"\n",
        "  },\n",
        "  {\n",
        "    \"name\": \"Charlie\",\n",
        "    \"active\": false\n",
        "  }\n",
        "]\n",
        "```"
      ]
    },
    {
      "cell_type": "markdown",
      "metadata": {},
      "source": [
        "#### Solution\n",
        "```json\n",
        "{\n",
        "  \"!name\": \"string\",\n",
        "  \"scores\": [\"integer\"],\n",
        "  \"active?\": \"boolean\",\n",
        "  \"graduated?\": \"string\"\n",
        "}\n",
        "```"
      ]
    },
    {
      "cell_type": "markdown",
      "metadata": {},
      "source": [
        "#### Task 6.3\n",
        "Consider the following data frame schema representing a movie database:\n",
        "Write two valid JSON documents that conforms to this schema.\n",
        "\n",
        "```json\n",
        "{\n",
        "  \"movie\": {\n",
        "    \"!id\": \"string\",\n",
        "    \"!title\": \"string\",\n",
        "    \"year\": \"integer\",\n",
        "    \"genres\": [\"string\"],\n",
        "    \"cast\": [{\n",
        "      \"!actor\": \"string\",\n",
        "      \"role\": \"string\",\n",
        "      \"award?\": \"string\"\n",
        "    }],\n",
        "    \"ratings\": {\n",
        "      \"imdb?\": \"decimal\",\n",
        "      \"rottenTomatoes?\": \"integer\"\n",
        "    }\n",
        "  }\n",
        "}\n",
        "```"
      ]
    },
    {
      "cell_type": "markdown",
      "metadata": {},
      "source": [
        "#### Solution\n",
        "```json\n",
        "{\n",
        "  \"id\": \"mv001\",\n",
        "  \"title\": \"The Matrix\",\n",
        "  \"year\": 1999,\n",
        "  \"genres\": [\"Sci-Fi\", \"Action\"],\n",
        "  \"cast\": [\n",
        "    {\n",
        "      \"actor\": \"Keanu Reeves\",\n",
        "      \"role\": \"Neo\"\n",
        "    }\n",
        "  ],\n",
        "  \"ratings\": {\n",
        "    \"imdb\": 8.7\n",
        "  }\n",
        "}\n",
        "```\n",
        "\n",
        "```json\n",
        "{\n",
        "  \"id\": \"mv002\",\n",
        "  \"title\": \"The Lord of the Rings: The Return of the King\",\n",
        "  \"year\": 2003,\n",
        "  \"genres\": [\"Fantasy\", \"Adventure\", \"Action\", \"Drama\"],\n",
        "  \"cast\": [\n",
        "    {\n",
        "      \"actor\": \"Ian McKellen\",\n",
        "      \"role\": \"Gandalf\",\n",
        "      \"award\": \"Academy Award Nomination\"\n",
        "    },\n",
        "    {\n",
        "      \"actor\": \"Viggo Mortensen\",\n",
        "      \"role\": \"Aragorn\"\n",
        "    },\n",
        "    {\n",
        "      \"actor\": \"Andy Serkis\",\n",
        "      \"role\": \"Gollum\",\n",
        "      \"award\": \"Special Achievement Award\"\n",
        "    },\n",
        "    {\n",
        "      \"actor\": \"Elijah Wood\",\n",
        "      \"role\": null\n",
        "    }\n",
        "  ],\n",
        "  \"ratings\": {\n",
        "    \"imdb\": 9.0,\n",
        "    \"rottenTomatoes\": 93\n",
        "  }\n",
        "}\n",
        "```\n"
      ]
    }
  ],
  "metadata": {
    "colab": {
      "collapsed_sections": [],
      "name": "Exercise06_DataModels_Solution.ipynb",
      "provenance": []
    },
    "kernelspec": {
      "display_name": "Python 3",
      "language": "python",
      "name": "python3"
    },
    "language_info": {
      "codemirror_mode": {
        "name": "ipython",
        "version": 3
      },
      "file_extension": ".py",
      "mimetype": "text/x-python",
      "name": "python",
      "nbconvert_exporter": "python",
      "pygments_lexer": "ipython3",
      "version": "3.12.4"
    }
  },
  "nbformat": 4,
  "nbformat_minor": 0
}
