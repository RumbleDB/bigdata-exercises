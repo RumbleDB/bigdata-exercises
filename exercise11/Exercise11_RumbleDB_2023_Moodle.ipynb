{
 "cells": [
  {
   "cell_type": "markdown",
   "metadata": {},
   "source": [
    "# Big Data – Exercises - Solutions\n",
    "\n",
    "# Fall 2023 -  Week 11 - RumbleDB\n",
    "\n"
   ]
  },
  {
   "cell_type": "markdown",
   "metadata": {},
   "source": [
    "## RumbleDB, Moodle Quiz"
   ]
  },
  {
   "cell_type": "markdown",
   "metadata": {},
   "source": [
    "# Moodle quiz (11.2): querying a bigger git-archive dataset\n",
    "\n",
    "You will have to submit the results of this exercise to Moodle to obtain the weekly bonus. You will need these things:\n",
    "- The query you wrote (ungraded)\n",
    "- Something related to its output (which you will be graded on)\n",
    "- The time it took you to run it (ungraded)\n",
    "\n",
    "The execution time of the queries will be reported by Rumble."
   ]
  },
  {
   "cell_type": "markdown",
   "metadata": {},
   "source": [
    "To get started, you first need to execute the cell below to activate the RumbleDB magic (you do not need to understand what it does, this is just initialization Python code - we will install RumbleDB integration for Python at the very first execution of this cell)."
   ]
  },
  {
   "cell_type": "markdown",
   "metadata": {},
   "source": [
    "### If you are running RumbleDB and Jupyter on your local system, run this box below."
   ]
  },
  {
   "cell_type": "code",
   "execution_count": null,
   "metadata": {},
   "outputs": [],
   "source": [
    "!pip install rumbledb\n",
    "%load_ext rumbledb\n",
    "%env RUMBLEDB_SERVER=http://localhost:9090/jsoniq"
   ]
  },
  {
   "cell_type": "markdown",
   "metadata": {},
   "source": [
    "### If you are running RumbleDB and Jupyter through Docker, run this box below."
   ]
  },
  {
   "cell_type": "code",
   "execution_count": null,
   "metadata": {},
   "outputs": [],
   "source": [
    "!pip install rumbledb\n",
    "%load_ext rumbledb\n",
    "%env RUMBLEDB_SERVER=http://rumble:9090/jsoniq"
   ]
  },
  {
   "cell_type": "markdown",
   "metadata": {},
   "source": [
    "### Check the data\n",
    "We provide you with a bigger git-archive dataset [git-archive-big.json](https://www.rumbledb.org/samples/git-archive-big.json), you can already check that you get the correct number of records. The dataset should contain 206978 records. You can either use `wget` to download and read the dataset locally or simply read with `json-file` from the URI."
   ]
  },
  {
   "cell_type": "code",
   "execution_count": null,
   "metadata": {},
   "outputs": [],
   "source": [
    "%%jsoniq\n",
    "count(for $i in json-file(\"git-archive-big.json\")\n",
    "return $i)"
   ]
  },
  {
   "cell_type": "code",
   "execution_count": null,
   "metadata": {},
   "outputs": [],
   "source": [
    "%%jsoniq\n",
    "count(for $i in json-file(\"https://www.rumbledb.org/samples/git-archive-big.json\")\n",
    "return $i)"
   ]
  },
  {
   "cell_type": "markdown",
   "metadata": {},
   "source": [
    "### Question 1: Which actor committed the most events of the type \"PullRequestReviewCommentEvent\", and how many did they commit? \n",
    "\n",
    "Answer with the actor id, and the frequency of its push events. \n",
    "\n",
    "Hint: Please use this formatting to answer: actor id,number of events with only one comma in between and no extra spaces, e.g., 001,100"
   ]
  },
  {
   "cell_type": "code",
   "execution_count": null,
   "metadata": {},
   "outputs": [],
   "source": []
  },
  {
   "cell_type": "markdown",
   "metadata": {},
   "source": [
    "### Question 2: How many actors created a pull request comment (event \"PullRequestReviewCommentEvent\") at a pull request they have opened themselves (event \"PullRequest\")?\n",
    "\n",
    "Answer with the number of actors.\n",
    "\n",
    "Hint: verify you select events with proper event type and action."
   ]
  },
  {
   "cell_type": "code",
   "execution_count": null,
   "metadata": {},
   "outputs": [],
   "source": []
  },
  {
   "cell_type": "markdown",
   "metadata": {},
   "source": [
    "### Question 3: Which authors created the largest number of commits with the word \"bug\" in the message? Find the three authors who created the largest number of such commits.\n",
    "\n",
    "When searching commits, use only the PushEvent event. Use the email address to distinguish authors. Provide the email addresses of the first three users with the highest number of such commits, in descending order, separated by a comma, with no whitespace between.\n",
    "\n",
    "Example of output specification with email addresses not from the dataset: rector@ethz.ch,president@ethz.ch,board@ethz.ch\n"
   ]
  },
  {
   "cell_type": "code",
   "execution_count": null,
   "metadata": {},
   "outputs": [],
   "source": []
  },
  {
   "cell_type": "code",
   "execution_count": null,
   "metadata": {},
   "outputs": [],
   "source": []
  },
  {
   "cell_type": "code",
   "execution_count": null,
   "metadata": {},
   "outputs": [],
   "source": []
  },
  {
   "cell_type": "code",
   "execution_count": null,
   "metadata": {},
   "outputs": [],
   "source": []
  }
 ],
 "metadata": {
  "anaconda-cloud": {},
  "kernelspec": {
   "display_name": "Python 3 (ipykernel)",
   "language": "python",
   "name": "python3"
  },
  "language_info": {
   "codemirror_mode": {
    "name": "ipython",
    "version": 3
   },
   "file_extension": ".py",
   "mimetype": "text/x-python",
   "name": "python",
   "nbconvert_exporter": "python",
   "pygments_lexer": "ipython3",
   "version": "3.10.12"
  }
 },
 "nbformat": 4,
 "nbformat_minor": 4
}
