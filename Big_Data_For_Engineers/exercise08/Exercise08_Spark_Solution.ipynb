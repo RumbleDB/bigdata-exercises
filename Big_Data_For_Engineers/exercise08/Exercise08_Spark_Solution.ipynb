{
 "cells": [
  {
   "cell_type": "markdown",
   "metadata": {},
   "source": [
    "# <center>Big Data for Engineers – Exercises</center>\n",
    "## <center>Spring 2022 – Week 8 – ETH Zurich</center>\n",
    "## <center>Spark - Solutions </center>"
   ]
  },
  {
   "cell_type": "markdown",
   "metadata": {},
   "source": [
    "## 1. Start docker\n",
    "\n",
    "In your exercise 08 directory, start docker\n",
    "\n",
    "```\n",
    "docker compose up\n",
    "```\n",
    "\n",
    "After docker finishes downloading the images, you should be able to start the jupyter notebook by copying the following URL to your browser\n",
    "\n",
    "```\n",
    "http://127.0.0.1:8888/\n",
    "```"
   ]
  },
  {
   "cell_type": "markdown",
   "metadata": {},
   "source": [
    "## 2. Apache Spark Architecuture\n",
    "\n",
    "Spark is a cluster computing platform designed to be fast and general purpose. Spark extends the MapReduce model to efficiently cover a wide range of workloads that previously required separate distributed systems, including interactive queries and stream processing. Spark offers the ability to run computations in memory.\n",
    "\n",
    "At a high level, every Spark application consists of a **driver program** that launches various parallel operations on a cluster. The driver program contains your application's main function and defines distributed datasets on the cluster, then applies operations to them.\n",
    "\n",
    "Driver programs access Spark through a **SparkContext** object, which represents a connection to a computing cluster. There is no need to create a SparkContext; it is created for you automatically when you run the first code cell in the Jupyter\n",
    "\n",
    "The driver communicates with a potentially large number of distributed workers called **executors**. The driver runs in its own process and each executor is a separate process. A driver and its executors are together termed a Spark application.\n",
    "\n",
    "![Image of Account](http://spark.apache.org/docs/latest/img/cluster-overview.png)"
   ]
  },
  {
   "cell_type": "markdown",
   "metadata": {},
   "source": [
    "### 2.1 Understand resilient distributed datasets (RDD)\n",
    "\n",
    "An RDD in Spark is simply an immutable distributed collection of objects. Each RDD is split into multiple partitions, which may be computed on different nodes of the cluster. \n",
    "\n",
    "##### What are RDD operations?\n",
    "RDDs offer two types of operations: **transformations** and **actions**.\n",
    "\n",
    "* **Transformations** create a new dataset from an existing one. Transformations are lazy, meaning that no transformation is executed until you execute an action.\n",
    "* **Actions** compute a result based on an RDD, and either return it to the driver program or save it to an external storage system (e.g., HDFS)\n",
    "\n",
    "\n"
   ]
  },
  {
   "cell_type": "markdown",
   "metadata": {},
   "source": [
    "Transformations and actions are different because of the way Spark computes RDDs. Although you can define new RDDs any time, Spark computes them only in a **lazy** fashion, that is, the first time they are used in an action."
   ]
  },
  {
   "cell_type": "markdown",
   "metadata": {},
   "source": [
    "##### How do I make an RDD?\n",
    "\n",
    "RDDs can be created from stable storage or by transforming other RDDs. In this exercise, we will run the cells below to create RDDs from local files. Generally it is possible to read data from other resources using the following tokens:\n",
    "\n",
    "* `file`: Read from the local file system.\n",
    "* `hdfs`: Read from a Hadoop Distributed File System.\n",
    "* `s3`  : Read from AWS S3 Storage.\n",
    "* `wasb`: Read from Azure Blob Storage."
   ]
  },
  {
   "cell_type": "code",
   "execution_count": null,
   "metadata": {},
   "outputs": [],
   "source": [
    "from pyspark.context import SparkContext\n",
    "# sc is the Spark Context object \n",
    "sc = SparkContext('local', 'test')"
   ]
  },
  {
   "cell_type": "code",
   "execution_count": null,
   "metadata": {
    "ExecuteTime": {
     "end_time": "2021-04-30T17:48:55.280470Z",
     "start_time": "2021-04-30T17:48:54.387363Z"
    },
    "cell_status": {
     "execute_time": {
      "duration": 2284.843017578125,
      "end_time": 1619992986444.119
     }
    }
   },
   "outputs": [],
   "source": [
    "fruits = sc.textFile('./fruits.txt')\n",
    "yellowThings = sc.textFile('./yellowthings.txt')"
   ]
  },
  {
   "cell_type": "markdown",
   "metadata": {},
   "source": [
    "##### RDD transformations\n",
    "Following are examples of some of the common transformations available. For a detailed list, see [RDD Transformations](https://spark.apache.org/docs/2.0.0/programming-guide.html#transformations)\n",
    "\n",
    "Run some transformations below to understand this better.\n",
    "\n",
    "**Note:** If some of the queries are taking too long to complete, try restarting the kernel, and rerunning the cell *above*."
   ]
  },
  {
   "cell_type": "code",
   "execution_count": null,
   "metadata": {
    "ExecuteTime": {
     "end_time": "2021-04-30T16:36:47.273406Z",
     "start_time": "2021-04-30T16:36:46.938589Z"
    },
    "cell_status": {
     "execute_time": {
      "duration": 13372.175048828125,
      "end_time": 1619992999827.243
     }
    }
   },
   "outputs": [],
   "source": [
    "# map\n",
    "fruitsReversed = fruits.map(lambda fruit: fruit[::-1])\n",
    "# Note: the `collect` command is NOT a Transformation, it is an Action used here for the purposes of showing the results! \n",
    "fruitsReversed.collect()"
   ]
  },
  {
   "cell_type": "code",
   "execution_count": null,
   "metadata": {
    "ExecuteTime": {
     "end_time": "2021-04-30T16:35:24.992136Z",
     "start_time": "2021-04-30T16:35:24.925647Z"
    },
    "cell_status": {
     "execute_time": {
      "duration": 5291.009033203125,
      "end_time": 1619993009753.202
     }
    }
   },
   "outputs": [],
   "source": [
    "# filter\n",
    "shortFruits = fruits.filter(lambda fruit: len(fruit) <= 5)\n",
    "# Note: the `collect` command is NOT a Transformation, it is an Action used here for the purposes of showing the results! \n",
    "shortFruits.collect()"
   ]
  },
  {
   "cell_type": "code",
   "execution_count": null,
   "metadata": {
    "cell_status": {
     "execute_time": {
      "duration": 755.614013671875,
      "end_time": 1619993010926.142
     }
    }
   },
   "outputs": [],
   "source": [
    "# flatMap\n",
    "characters = fruits.flatMap(lambda fruit: list(fruit))\n",
    "# Note: the `collect` command is NOT a Transformation, it is an Action used here for the purposes of showing the results! \n",
    "characters.collect()"
   ]
  },
  {
   "cell_type": "code",
   "execution_count": null,
   "metadata": {
    "cell_status": {
     "execute_time": {
      "duration": 762.670166015625,
      "end_time": 1619993014486.587
     }
    }
   },
   "outputs": [],
   "source": [
    "# union\n",
    "fruitsAndYellowThings = fruits.union(yellowThings)\n",
    "# Note: the `collect` command is NOT a Transformation, it is an Action used here for the purposes of showing the results! \n",
    "fruitsAndYellowThings.collect()"
   ]
  },
  {
   "cell_type": "code",
   "execution_count": null,
   "metadata": {
    "cell_status": {
     "execute_time": {
      "duration": 803.803955078125,
      "end_time": 1619993016289.369
     }
    }
   },
   "outputs": [],
   "source": [
    "# intersection\n",
    "yellowFruits = fruits.intersection(yellowThings)\n",
    "# Note: the `collect` command is NOT a Transformation, it is an Action used here for the purposes of showing the results! \n",
    "yellowFruits.collect()"
   ]
  },
  {
   "cell_type": "code",
   "execution_count": null,
   "metadata": {
    "cell_status": {
     "execute_time": {
      "duration": 758.760986328125,
      "end_time": 1619993023087.109
     }
    }
   },
   "outputs": [],
   "source": [
    "# distinct\n",
    "distinctFruitsAndYellowThings = fruitsAndYellowThings.distinct()\n",
    "# Note: the `collect` command is NOT a Transformation, it is an Action used here for the purposes of showing the results! \n",
    "distinctFruitsAndYellowThings.collect()"
   ]
  },
  {
   "cell_type": "code",
   "execution_count": null,
   "metadata": {
    "cell_status": {
     "execute_time": {
      "duration": 760.218017578125,
      "end_time": 1619993044556.984
     }
    }
   },
   "outputs": [],
   "source": [
    "# groupByKey\n",
    "yellowThingsByFirstLetter = yellowThings.map(lambda thing: (thing[0], thing)).groupByKey()\n",
    "# Note: the `collect` command is NOT a Transformation, it is an Action used here for the purposes of showing the results! \n",
    "for letter, lst in yellowThingsByFirstLetter.collect():\n",
    "        print(\"For letter\", letter)\n",
    "        for obj in lst:\n",
    "            print(\" > \", obj)"
   ]
  },
  {
   "cell_type": "code",
   "execution_count": null,
   "metadata": {
    "cell_status": {
     "execute_time": {
      "duration": 757.301025390625,
      "end_time": 1619993047373.34
     }
    }
   },
   "outputs": [],
   "source": [
    "# reduceByKey\n",
    "numFruitsByLength = fruits.map(lambda fruit: (len(fruit), 1)).reduceByKey(lambda x, y: x + y)\n",
    "# Note: the `collect` command is NOT a Transformation, it is an Action used here for the purposes of showing the results! \n",
    "numFruitsByLength.collect()"
   ]
  },
  {
   "cell_type": "markdown",
   "metadata": {},
   "source": [
    "##### RDD actions\n",
    "Following are examples of some of the common actions available. For a detailed list, see [RDD Actions](https://spark.apache.org/docs/2.3.0/programming-guide.html#actions).\n",
    "\n",
    "Run some transformations below to understand this better. "
   ]
  },
  {
   "cell_type": "code",
   "execution_count": null,
   "metadata": {
    "cell_status": {
     "execute_time": {
      "duration": 250.887939453125,
      "end_time": 1619993067760.489
     }
    }
   },
   "outputs": [],
   "source": [
    "# collect\n",
    "fruitsArray = fruits.collect()\n",
    "yellowThingsArray = yellowThings.collect()\n",
    "print(fruitsArray)\n",
    "print(yellowThingsArray)"
   ]
  },
  {
   "cell_type": "code",
   "execution_count": null,
   "metadata": {
    "cell_status": {
     "execute_time": {
      "duration": 246.635986328125,
      "end_time": 1619993079227.007
     }
    }
   },
   "outputs": [],
   "source": [
    "# count\n",
    "numFruits = fruits.count()\n",
    "numFruits"
   ]
  },
  {
   "cell_type": "code",
   "execution_count": null,
   "metadata": {
    "cell_status": {
     "execute_time": {
      "duration": 248.071044921875,
      "end_time": 1619993081636.856
     }
    }
   },
   "outputs": [],
   "source": [
    "# take\n",
    "first3Fruits = fruits.take(3)\n",
    "first3Fruits"
   ]
  },
  {
   "cell_type": "code",
   "execution_count": null,
   "metadata": {
    "cell_status": {
     "execute_time": {
      "duration": 248.026123046875,
      "end_time": 1619993082497.212
     }
    }
   },
   "outputs": [],
   "source": [
    "# reduce\n",
    "letterSet = fruits.map(lambda fruit: set(fruit)).reduce(lambda x, y: x.union(y))\n",
    "letterSet"
   ]
  },
  {
   "cell_type": "markdown",
   "metadata": {},
   "source": [
    "##### Lazy evaluation\n",
    "Lazy evaluation means that when we call a transformation on an RDD (for instance, calling `map()`), the operation is not immediately performed. Instead, Spark internally records metadata to indicate that this operation has been requested. Rather than thinking of an RDD as containing specific data, it is best to think of each RDD as\n",
    "consisting of instructions on how to compute the data that we build up through transformations. Loading data into an RDD is lazily evaluated in the same way transformations are. So, when we call `sc.textFile()`, the data is not loaded until it is necessary. As with transformations, the operation (in this case, reading the data) can\n",
    "occur multiple times.\n",
    "\n",
    "\n",
    "Finally, as you derive new RDDs from each other using transformations, Spark keeps track of the set of dependencies between different RDDs, called the lineage graph. For instance, the code bellow corresponds to the following graph:\n",
    "\n",
    "<img src=\"./resources/stages.png\" style=\"width: 300px;\">"
   ]
  },
  {
   "cell_type": "code",
   "execution_count": null,
   "metadata": {
    "cell_status": {
     "execute_time": {
      "duration": 242.416015625,
      "end_time": 1619993087737.5
     }
    }
   },
   "outputs": [],
   "source": [
    "apples = fruits.filter(lambda x: \"apple\" in x)\n",
    "lemons = yellowThings.filter(lambda x: \"lemon\" in x)\n",
    "applesAndLemons = apples.union(lemons)\n",
    "print(applesAndLemons.collect())\n",
    "print(applesAndLemons.toDebugString())"
   ]
  },
  {
   "cell_type": "markdown",
   "metadata": {},
   "source": [
    "##### Persistence (Caching)\n",
    "\n",
    "Spark's RDDs are by default recomputed each time you run an action on\n",
    "them. If you would like to reuse an RDD in multiple actions, you can ask Spark to persist it using `RDD.persist()`. After computing it the first time, Spark will store the RDD contents in memory (partitioned across the machines in your cluster), and reuse them in future actions. Persisting RDDs on disk instead of memory is also possible.\n",
    "\n",
    "If you attempt to cache too much data to fit in memory, Spark will automatically evict old partitions using a Least Recently Used (LRU) cache policy. For the memory-only storage levels, it will recompute these partitions the next time they are accessed,\n",
    "while for the memory-and-disk ones, it will write them out to disk. In either case, this means that you don't have to worry about your job breaking if you ask Spark to cache too much data. However, caching unnecessary data can lead to eviction of useful data\n",
    "and more recomputation time. Finally, RDDs come with a method called `unpersist()` that lets you manually remove them from the cache.\n"
   ]
  },
  {
   "cell_type": "markdown",
   "metadata": {},
   "source": [
    "##### Working with Key/Value Pairs\n",
    "\n",
    "\n",
    "Spark provides special operations on RDDs containing key/value pairs. These RDDs\n",
    "are called *pair RDDs*. Pair RDDs are a useful building block in many programs, as\n",
    "they expose operations that allow you to act on each key in parallel or regroup data\n",
    "across the network. For example, pair RDDs have a `reduceByKey()` method that can\n",
    "aggregate data separately for each key, and a `join()` method that can merge two\n",
    "RDDs together by grouping elements with the same key. Pair RDDs are also still RDDs. \n",
    "\n"
   ]
  },
  {
   "cell_type": "code",
   "execution_count": null,
   "metadata": {
    "cell_status": {
     "execute_time": {
      "duration": 759.595947265625,
      "end_time": 1619993113263.276
     }
    }
   },
   "outputs": [],
   "source": [
    "#Example\n",
    "rdd = sc.parallelize([(\"key1\", 0) ,(\"key2\", 3),(\"key1\", 8) ,(\"key3\", 3),(\"key3\", 9)])\n",
    "rdd2 = rdd.mapValues(lambda x: (x, 1)).reduceByKey(lambda x, y: (x[0] + y[0], x[1] + y[1]))\n",
    "print(rdd2.collect())\n",
    "print(rdd2.toDebugString())"
   ]
  },
  {
   "cell_type": "markdown",
   "metadata": {},
   "source": [
    "#### Converting a user program into tasks\n",
    "\n",
    "A Spark driver is responsible for converting a user program into units of physical execution called tasks. At a high level, all Spark programs follow the same structure: they create RDDs from some input, derive new RDDs from those using transformations, and perform actions to collect or save data. A Spark program implicitly creates a logical **directed acyclic graph (DAG)** of operations.\n",
    "When the driver runs, it converts this logical graph into a physical execution plan.\n",
    "\n",
    "Spark performs several optimizations, such as \"pipelining\" map transformations together to merge them, and converts the execution graph into a set of **stages**.\n",
    "Each stage, in turn, consists of multiple tasks. The tasks are bundled up and prepared to be sent to the cluster. Tasks are the smallest unit of work in Spark; a typical user program can launch hundreds or thousands of individual tasks.\n",
    "\n",
    "Each RDD maintains a pointer to one or more parents along with metadata about what\n",
    "type of relationship they have. For instance, when you call `val b = a.map()` on an\n",
    "RDD, the RDD `b` keeps a reference to its parent `a`. These pointers allow an RDD to be\n",
    "traced to all of its ancestors.\n",
    "\n",
    "The following phases occur during Spark execution:\n",
    "* User code defines a DAG (directed acyclic graph) of RDDs. Operations on RDDs create new RDDs that refer back to their parents, thereby creating a graph.\n",
    "* Actions force translation of the DAG to an execution plan. When you call an action on an RDD, it must be computed. This requires computing its parent RDDs as well. \n",
    "* Spark's scheduler submits a job to compute all needed RDDs. That job will have one or more stages, which are parallel waves of computation composed of tasks. Each stage will correspond to one or more RDDs in the DAG. A single stage can correspond to multiple RDDs due to pipelining.\n",
    "* Tasks are scheduled and executed on a cluster\n",
    "* Stages are processed in order, with individual tasks launching to compute segments of the RDD. Once the final stage is finished in a job, the action is complete."
   ]
  },
  {
   "cell_type": "markdown",
   "metadata": {
    "cell_status": {
     "execute_time": {
      "duration": 44.55712890625,
      "end_time": 1557044256642.663
     }
    }
   },
   "source": [
    "### 3. The Great Language Game\n",
    "\n",
    "Now, you will get to write some queries yourself on a larger dataset. You will be using the [language confusion dataset](https://quietlyamused.org/blog/2014/03/12/language-confusion/).\n",
    "\n",
    "This exercise is a little bit different, in that it is part of a small project you will be doing over the following 3 weeks to compare Spark, Spark with DataFrames/SQL, and Sparksoniq. You will hear more about it in the coming weeks.\n",
    "\n",
    "Apart from that, you will have to submit the results of this exercise to Moodle to obtain the weekly bonus. You will need four things:\n",
    "- The query you wrote\n",
    "- Something related to its output (which you will be graded on)\n",
    "- The time it took you to write it\n",
    "- The time it took you to run it\n",
    "\n",
    "On your own laptop, download and decompress the dataset into the ex08 folder using the commands below. You can also copy the URL to your browser to download it, then decompress it using the default decompression tools Windows/Mac. Alternatively, you can also run the commands in jupyter notebook, but it takes several minutes to decompress it in the docker container.\n",
    "\n",
    "```\n",
    "wget https://cloud.inf.ethz.ch/s/a8FoHew6dHKGYKK/download/confusion20140302.tbz2\n",
    "tar -jxvf confusion20140302.tbz2\n",
    "```"
   ]
  },
  {
   "cell_type": "code",
   "execution_count": null,
   "metadata": {
    "ExecuteTime": {
     "end_time": "2021-05-03T17:07:34.367427Z",
     "start_time": "2021-05-03T17:07:33.474055Z"
    },
    "cell_status": {
     "execute_time": {
      "duration": 747.39990234375,
      "end_time": 1619999839916.484
     }
    }
   },
   "outputs": [],
   "source": [
    "data = sc.textFile('./confusion-2014-03-02/confusion-2014-03-02.json')"
   ]
  },
  {
   "cell_type": "markdown",
   "metadata": {},
   "source": [
    "Since the entries are JSON records, you will need to parse them and use their respective object representations. You can use this mapping for all queries. Since some of the queries take a long time to execute on the dataset, you may want to answer these queries on the first `100000` entries. \n",
    "\n",
    "**For the quiz, fill in the results by running the queries on the 100000-entry subset (test_entries as defined in the following cell) instead of the entire dataset.**"
   ]
  },
  {
   "cell_type": "code",
   "execution_count": null,
   "metadata": {
    "ExecuteTime": {
     "end_time": "2021-05-03T17:11:24.581153Z",
     "start_time": "2021-05-03T17:11:23.900172Z"
    },
    "cell_status": {
     "execute_time": {
      "duration": 5296.226806640625,
      "end_time": 1619999845222.09
     }
    }
   },
   "outputs": [],
   "source": [
    "import json\n",
    "\n",
    "testset = sc.parallelize(data.take(100000))\n",
    "test_entries = testset.map(json.loads)\n",
    "\n",
    "# entries = data.map(json.loads)\n",
    "print(testset) \n",
    "print(test_entries)\n",
    "# print(entries)"
   ]
  },
  {
   "cell_type": "markdown",
   "metadata": {},
   "source": [
    "And test it. Is it working? You probably have noticed that we are just declaring RDDs without evaluating them. Now let's evaluate it using the 'take' action and look at the json objects."
   ]
  },
  {
   "cell_type": "code",
   "execution_count": null,
   "metadata": {
    "ExecuteTime": {
     "end_time": "2021-05-03T15:31:32.131861Z",
     "start_time": "2021-05-03T15:31:31.959140Z"
    },
    "cell_status": {
     "execute_time": {
      "duration": 234.972900390625,
      "end_time": 1619999845467.318
     }
    },
    "scrolled": true
   },
   "outputs": [],
   "source": [
    "target_german = test_entries.filter(lambda e: e[\"target\"] == \"German\").take(1)\n",
    "print(json.dumps(target_german, indent = 4))"
   ]
  },
  {
   "cell_type": "markdown",
   "metadata": {},
   "source": [
    "Good! Let's get to work. A few last things:\n",
    "- Take into account that some of the queries might have very large outputs, which Jupyter (or sometimes even Spark) won't be able to handle. It is normal for the queries to take some time, but if the notebook crashes or stops responding, try restarting the kernel. Avoid printing large outputs. You can print the first few entries to confirm the query has worked, as shown in query 1\n",
    "- Refer to the [documentation](http://spark.apache.org/docs/2.3.0/api/python/pyspark.html#pyspark.RDD), as well as the programming guides on actions and transformations linked to above.\n",
    "\n",
    "And now to the actual queries: *Please make sure that in your queries you *only* use PySpark, and avoid any dataframes (they will covered in next week's exercises)*\n",
    "\n",
    "1\\. Find all games such that the guessed language is correct (=target), and such that this language is Russian. What is the length of the resulting sequence?"
   ]
  },
  {
   "cell_type": "code",
   "execution_count": null,
   "metadata": {
    "ExecuteTime": {
     "end_time": "2021-05-03T17:27:01.351942Z",
     "start_time": "2021-05-03T17:27:01.343150Z"
    },
    "cell_status": {
     "execute_time": {
      "duration": 32.283935546875,
      "end_time": 1619999851034.322
     }
    }
   },
   "outputs": [],
   "source": [
    "import time"
   ]
  },
  {
   "cell_type": "code",
   "execution_count": null,
   "metadata": {
    "ExecuteTime": {
     "end_time": "2021-05-03T17:27:02.311642Z",
     "start_time": "2021-05-03T17:27:01.823873Z"
    },
    "cell_status": {
     "execute_time": {
      "duration": 2256.77880859375,
      "end_time": 1619999854080.019
     }
    },
    "scrolled": true
   },
   "outputs": [],
   "source": [
    "# Query:\n",
    "start = time.time()\n",
    "matching = test_entries.filter(lambda e: e[\"target\"] == \"Russian\").filter(lambda e: e[\"target\"] == e[\"guess\"]).collect()\n",
    "end = time.time()\n",
    "# Only print the first few entries\n",
    "print(json.dumps(matching[:3], indent=4))\n",
    "# print number of matching \n",
    "print('Number of matching games ', len(matching))\n",
    "print('Time consumption {} sec'.format(end - start))"
   ]
  },
  {
   "cell_type": "markdown",
   "metadata": {},
   "source": [
    "2\\. Find the number of all distinct values of the *target* languages (i.e. the *target* field). What is the length of the resulting sequence?"
   ]
  },
  {
   "cell_type": "code",
   "execution_count": null,
   "metadata": {
    "ExecuteTime": {
     "end_time": "2021-05-03T17:27:07.605712Z",
     "start_time": "2021-05-03T17:27:06.820796Z"
    },
    "cell_status": {
     "execute_time": {
      "duration": 1249.218017578125,
      "end_time": 1619999878828.007
     }
    }
   },
   "outputs": [],
   "source": [
    "start = time.time()\n",
    "# Query:\n",
    "count = test_entries.map(lambda e: e[\"target\"]).distinct().count()\n",
    "end = time.time()\n",
    "print('Time consumption {} sec'.format(end - start))\n",
    "print('Number of distinct targets ', count)"
   ]
  },
  {
   "cell_type": "markdown",
   "metadata": {},
   "source": [
    "3\\. Return the top three games where the guessed language is correct (=target) ordered by language (ascending), then country (ascending), then date (ascending). What is the date of the 3rd item in the list? Enter it without quotes, for example 2013-10-02 "
   ]
  },
  {
   "cell_type": "code",
   "execution_count": null,
   "metadata": {
    "ExecuteTime": {
     "end_time": "2021-05-03T17:27:09.846845Z",
     "start_time": "2021-05-03T17:27:07.633234Z"
    },
    "cell_status": {
     "execute_time": {
      "duration": 2255.52197265625,
      "end_time": 1619999884156.929
     }
    }
   },
   "outputs": [],
   "source": [
    "start = time.time()\n",
    "# Query:\n",
    "first_three = correct.sortBy(lambda e: (e['target'], e['country'], e['date'])).take(3)\n",
    "end = time.time()\n",
    "print('Time consumption {} sec'.format(end - start))\n",
    "print(json.dumps(first_three, indent=4))\n",
    "print('date of the third item', first_three[-1][\"date\"])"
   ]
  },
  {
   "cell_type": "markdown",
   "metadata": {},
   "source": [
    "4. Aggregate all games by country and target language, counting the number of guessing games that were done for each pair (country, target). How many guesses have been made for Maltese from the Netherlands (NL, Maltese)?"
   ]
  },
  {
   "cell_type": "code",
   "execution_count": null,
   "metadata": {
    "ExecuteTime": {
     "end_time": "2021-05-03T17:27:10.497108Z",
     "start_time": "2021-05-03T17:27:09.870340Z"
    },
    "cell_status": {
     "execute_time": {
      "duration": 744.037109375,
      "end_time": 1619999964374.737
     }
    }
   },
   "outputs": [],
   "source": [
    "start = time.time()\n",
    "# Query:\n",
    "counts = test_entries.map(lambda e: (e[\"country\"], e[\"target\"])).countByValue()\n",
    "end = time.time()\n",
    "print('Time consumption {} sec'.format(end - start))\n",
    "# Print the first few items \n",
    "for k in list(counts)[:3]:\n",
    "    print((k, counts[k]))\n",
    "    \n",
    "print('number of games matching (NL, Maltese) ', counts[('NL', 'Maltese')])"
   ]
  },
  {
   "cell_type": "markdown",
   "metadata": {},
   "source": [
    "5\\. Among all the games where the guess was correct (=target), what is the percentage of cases where the first choice (among the array of possible answers) was the target?"
   ]
  },
  {
   "cell_type": "code",
   "execution_count": null,
   "metadata": {
    "ExecuteTime": {
     "end_time": "2021-05-03T17:27:11.480616Z",
     "start_time": "2021-05-03T17:27:10.518592Z"
    },
    "cell_status": {
     "execute_time": {
      "duration": 1265.596923828125,
      "end_time": 1620000286240.596
     }
    }
   },
   "outputs": [],
   "source": [
    "start = time.time()\n",
    "# Query:\n",
    "correct = test_entries.filter(lambda e: e[\"target\"] == e[\"guess\"])\n",
    "end = time.time()\n",
    "print('Time consumption {} sec'.format(end - start))\n",
    "\n",
    "start = time.time()\n",
    "# Query:\n",
    "percent = float(correct.filter(lambda e: e[\"target\"] == e[\"choices\"][0]).count()) / correct.count()\n",
    "end = time.time()\n",
    "print('Time consumption {} sec'.format(end - start))\n",
    "print('percentage ', percent)"
   ]
  },
  {
   "cell_type": "markdown",
   "metadata": {},
   "source": [
    "6\\. For each target language, compute the percentage of successful guess games (i.e. *guess* == *target*) relative to all games for that target language, and display the pairs `(target_language, percentage)` in ascending order of the percentage. What is the second language in this list? "
   ]
  },
  {
   "cell_type": "code",
   "execution_count": null,
   "metadata": {
    "ExecuteTime": {
     "end_time": "2021-05-03T17:27:12.261070Z",
     "start_time": "2021-05-03T17:27:11.514774Z"
    },
    "cell_status": {
     "execute_time": {
      "duration": 1261.2919921875,
      "end_time": 1620000145674.288
     }
    },
    "scrolled": true
   },
   "outputs": [],
   "source": [
    "start = time.time()\n",
    "# Query:\n",
    "correct = test_entries.map(lambda e: (e[\"target\"], e[\"target\"] == e[\"guess\"])).groupByKey()\n",
    "end = time.time()\n",
    "print('Time consumption {} sec'.format(end - start))\n",
    "\n",
    "start = time.time()\n",
    "# Query:\n",
    "outcomes = correct.mapValues(lambda e: float(list(e).count(True))/len(e)).sortBy(lambda e: e[1]).collect()\n",
    "end = time.time()\n",
    "print('Time consumption {} sec'.format(end - start))\n",
    "# Print the first few values\n",
    "print(outcomes[:10])\n",
    "\n",
    "print('The second language on the list ', outcomes[1][0])"
   ]
  },
  {
   "cell_type": "markdown",
   "metadata": {},
   "source": [
    "7\\. How many games were played on the last day? "
   ]
  },
  {
   "cell_type": "code",
   "execution_count": null,
   "metadata": {
    "ExecuteTime": {
     "end_time": "2021-05-03T17:27:23.096800Z",
     "start_time": "2021-05-03T17:27:21.270432Z"
    }
   },
   "outputs": [],
   "source": [
    "start = time.time()\n",
    "# Query \n",
    "latest = test_entries.map(lambda e: e[\"date\"]).sortBy(lambda e: e, ascending=False).first()\n",
    "end = time.time()\n",
    "print('Time consumption {} sec'.format(end - start))\n",
    "\n",
    "start = time.time()\n",
    "# Query \n",
    "count = test_entries.filter(lambda e: e[\"date\"]==latest).count()\n",
    "end = time.time()\n",
    "print('Time consumption {} sec'.format(end - start))\n",
    "print('latest date ', latest)\n",
    "print('games played on last date ', count)"
   ]
  },
  {
   "cell_type": "markdown",
   "metadata": {},
   "source": [
    "Some optional questions (**not appeared in quiz, reserved for practice only**)"
   ]
  },
  {
   "cell_type": "markdown",
   "metadata": {},
   "source": [
    "(Optional) 1\\. For those cases where the *guess* matched the *target*, list what the *guessed* language was. How many times has *Hindi* been correctly guessed?"
   ]
  },
  {
   "cell_type": "code",
   "execution_count": null,
   "metadata": {
    "ExecuteTime": {
     "end_time": "2021-05-03T17:27:06.805995Z",
     "start_time": "2021-05-03T17:27:05.486763Z"
    },
    "cell_status": {
     "execute_time": {
      "duration": 1255.987060546875,
      "end_time": 1619999873086.992
     }
    }
   },
   "outputs": [],
   "source": [
    "start = time.time()\n",
    "# Query 1:\n",
    "answers = test_entries.filter(lambda e: e[\"target\"] == e[\"guess\"]).map(lambda e: e[\"guess\"]).collect()\n",
    "end = time.time()\n",
    "print(answers[:3])\n",
    "print('Time consumption {} sec'.format(end - start))\n",
    "\n",
    "start = time.time()\n",
    "# Query 2:\n",
    "matching = test_entries.filter(lambda e: e[\"target\"] == \"Hindi\").filter(lambda e: e[\"target\"] == e[\"guess\"]).collect()\n",
    "end = time.time()\n",
    "print('Time consumption {} sec'.format(end - start))\n",
    "print('Number of games matching Hindi ',len(matching))"
   ]
  },
  {
   "cell_type": "markdown",
   "metadata": {},
   "source": [
    "(Optional) 2\\. Group the games by the index of the correct answer in the choices array and output all counts. How many games the last choice is the correct choice (target)? "
   ]
  },
  {
   "cell_type": "code",
   "execution_count": null,
   "metadata": {
    "ExecuteTime": {
     "end_time": "2021-05-03T17:27:13.346367Z",
     "start_time": "2021-05-03T17:27:12.305173Z"
    },
    "cell_status": {
     "execute_time": {
      "duration": 229.343994140625,
      "end_time": 1620004678036.786
     }
    }
   },
   "outputs": [],
   "source": [
    "start = time.time()\n",
    "# Query:\n",
    "print(test_entries.map(lambda e: e[\"choices\"].index(e[\"target\"])).countByValue())\n",
    "end = time.time()\n",
    "print('Time consumption {} sec'.format(end - start))\n",
    "\n",
    "start = time.time()\n",
    "count = test_entries.filter(lambda e: e[\"target\"]==e[\"choices\"][-1]).count()\n",
    "end = time.time()\n",
    "print('Time consumption {} sec'.format(end - start))\n",
    "print('Last was chosen count', count)"
   ]
  },
  {
   "cell_type": "markdown",
   "metadata": {},
   "source": [
    "(Optional) 3\\. For the cases where both *guess* and *target* were `'French'`, what is the count of each possible number of choices (namely if you have two games with 5 choices report `(5,2)`). what is the most frequent choice length among these list? "
   ]
  },
  {
   "cell_type": "code",
   "execution_count": null,
   "metadata": {
    "ExecuteTime": {
     "end_time": "2021-05-03T17:27:16.463405Z",
     "start_time": "2021-05-03T17:27:15.686593Z"
    },
    "cell_status": {
     "execute_time": {
      "duration": 33358.02587890625,
      "end_time": 1620004730847.938
     }
    }
   },
   "outputs": [],
   "source": [
    "start = time.time()\n",
    "# Query:\n",
    "correct_french_games = test_entries.filter(lambda e: e[\"target\"] == \"French\").filter(lambda e: e[\"target\"] == e[\"guess\"])\n",
    "end = time.time()\n",
    "print('Time consumption {} sec'.format(end - start))\n",
    "\n",
    "start = time.time()\n",
    "# Query:\n",
    "choice_lengths = correct_french_games.map(lambda e: (len(e[\"choices\"]), 1)).reduceByKey(lambda a, b: a + b)\n",
    "end = time.time()\n",
    "print('Time consumption {} sec'.format(end - start))\n",
    "\n",
    "start = time.time()\n",
    "# Query:\n",
    "choice_lengths = choice_lengths.sortBy(lambda e: e[1], ascending=False)\n",
    "end = time.time()\n",
    "print('Time consumption {} sec'.format(end - start))\n",
    "\n",
    "# print choice lengths ordered from most to least frequent \n",
    "print(choice_lengths.collect())\n",
    "print('Most frequent choice length ',choice_lengths.first()[0])"
   ]
  },
  {
   "cell_type": "markdown",
   "metadata": {},
   "source": [
    "### 4. Exercise\n",
    "\n",
    "1. Why is Spark faster than Hadoop MapReduce?\n",
    "2. Which of the graphs below are DAGs?\n",
    "<img src=\"./resources/dags.png\" style=\"width: 700px;\">"
   ]
  },
  {
   "cell_type": "markdown",
   "metadata": {},
   "source": [
    "### Solution\n",
    "1. There are many reasons for that. Firstly, Spark processes data in-memory while Hadoop MapReduce persists back to the disk after a map or reduce action. Secondly, Spark pipelines transformations to merge them into stages. \n",
    "2. DAGs: 2,3,4,5,7"
   ]
  },
  {
   "cell_type": "markdown",
   "metadata": {},
   "source": [
    "### 5. True or False\n",
    "Say if the following statements are *true* or *false*, and explain why.\n",
    "\n",
    "1. Each RDD is split into multiple partitions, which may be computed on different nodes of the cluster.\n",
    "1. Transformations construct a new RDD from a previous one and immediately calculate the result\n",
    "1. Spark's RDDs are by default recomputed each time you run an action on them\n",
    "1. After computing an RDD, Spark will store its contents in memory and reuse them in future actions.\n",
    "1. When you derive new RDDs using transformations, Spark keeps track of the set of dependencies between different RDDs."
   ]
  },
  {
   "cell_type": "markdown",
   "metadata": {},
   "source": [
    "### Solution\n",
    "1. True\n",
    "1. False. Spark will not begin to execute until it sees an action.\n",
    "1. True\n",
    "1. False. Users have to use persist() or cache() for that.\n",
    "1. True"
   ]
  }
 ],
 "metadata": {
  "anaconda-cloud": {},
  "kernelspec": {
   "display_name": "Python 3 (ipykernel)",
   "language": "python",
   "name": "python3"
  },
  "language_info": {
   "codemirror_mode": {
    "name": "ipython",
    "version": 3
   },
   "file_extension": ".py",
   "mimetype": "text/x-python",
   "name": "python",
   "nbconvert_exporter": "python",
   "pygments_lexer": "ipython3",
   "version": "3.9.10"
  }
 },
 "nbformat": 4,
 "nbformat_minor": 4
}
