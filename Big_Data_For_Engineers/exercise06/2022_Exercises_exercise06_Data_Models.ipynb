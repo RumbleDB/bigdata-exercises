{
 "cells": [
  {
   "cell_type": "markdown",
   "metadata": {
    "id": "-3Hiw9Ye_st0"
   },
   "source": [
    "# <center>Big Data for Engineers</center>\n",
    "## <center>Spring 2021 &ndash; Week 6 &ndash; ETH Zurich</center>\n",
    "## <center>Data Models</center>\n"
   ]
  },
  {
   "cell_type": "markdown",
   "metadata": {
    "id": "-aEMaRO3AD_2"
   },
   "source": [
    "## 1. XML Data Models &ndash; Information Sets"
   ]
  },
  {
   "cell_type": "markdown",
   "metadata": {
    "id": "JzOzy8DIAQD7"
   },
   "source": [
    "XML \"Information Set\" provides an abstract representation of an XML document—it can be thought of as a set of rules on how one would draw an XML document on a whiteboard.\n",
    "\n",
    "An XML document has an information set if it is well-formed and satisfies the namespace constraints. There is no requirement for an XML document to be valid in order to have an information set. An information set can contain up to eleven different types of information items, e.g., the document information item (always present), element information items, attribute information item, etc.\n",
    "\n",
    "Draw the Information Set trees for the following XML documents. You can confine your trees to only have the following types of information items: *document information item, elements, character information items, and attributes.*"
   ]
  },
  {
   "cell_type": "markdown",
   "metadata": {
    "id": "mnY987HhBro1"
   },
   "source": [
    "#### Document 1\n",
    "\n",
    "```xml\n",
    "<Burger>\n",
    "    <Bun>\n",
    "        <Pickles/>\n",
    "        <Cheese origin=\"Switzerland\" />\n",
    "        <Patty/>\n",
    "    </Bun>\n",
    "</Burger>\n",
    "```"
   ]
  },
  {
   "cell_type": "markdown",
   "metadata": {
    "id": "oYWueJEfBu8g"
   },
   "source": [
    "#### Document 2\n",
    "```xml\n",
    "<catalog>\n",
    "   <!-- A list of books -->\n",
    "   <book id='bk101'>\n",
    "      <author>Gambardella, Matthew</author>\n",
    "      <title>XML Developer's Guide</title>\n",
    "      <genre>Computer</genre>\n",
    "      <price>44.95</price>\n",
    "      <publish_date version='hard' version2='soft'>2000-10-01</publish_date>\n",
    "   </book>\n",
    "</catalog>\n",
    "```"
   ]
  },
  {
   "cell_type": "markdown",
   "metadata": {
    "id": "E9ZSNlOeByeH"
   },
   "source": [
    "#### Document 3\n",
    "\n",
    "```xml\n",
    "<eth date=\"11.11.2006\">\n",
    "   <date>16.11.2017</date>\n",
    "   <president since=\"2020\">Prof. Dr. Joël Mesot</president>\n",
    "   <rector>Prof. Dr. Sarah M. Springman</rector>\n",
    "</eth>\n",
    "```\n"
   ]
  },
  {
   "cell_type": "markdown",
   "metadata": {
    "id": "4kmEkgE2DMu4"
   },
   "source": [
    "## 2. XML Schemas"
   ]
  },
  {
   "cell_type": "markdown",
   "metadata": {
    "id": "G2rjOLWVDqTI"
   },
   "source": [
    "In this task we will explore XML Schemas in detail. An XML Schema describes the structure of an XML document.\n",
    "\n",
    "The purpose of an XML Schema is to define the legal building blocks of an XML document:\n",
    "* the elements and attributes that can appear in a document\n",
    "* the number of (and order of) child elements\n",
    "* data types for elements and attributes\n",
    "* default and fixed values for elements and attributes"
   ]
  },
  {
   "cell_type": "markdown",
   "metadata": {
    "id": "qmTl-DYfDx8K"
   },
   "source": [
    "When you open an XML Schema in oXygen, you can switch to its graphical representation, by choosing the \"Design\" mode at the bottom of the document pane; \"Text\" mode shows the XML Schema as an XML document.\n",
    "\n",
    "\n",
    "To test XML validation, you can either use oXygen (recommended) or an online validator [like this one](https://www.freeformatter.com/xml-validator-xsd.html)."
   ]
  },
  {
   "cell_type": "markdown",
   "metadata": {
    "id": "FRi5p54hD_JH"
   },
   "source": [
    "### 2.1\n",
    "Match the following XML documents to XML Schemas that will validate them. **First match them manually, then validate with oXygen**.\n",
    "\n",
    "\n",
    "#### Document 1\n",
    "```xml\n",
    "<happiness xmlns:xsi=\"http://www.w3.org/2001/XMLSchema-instance\"\n",
    "     xsi:noNamespaceSchemaLocation=\"Schema.xsd\"/>\n",
    "```\n",
    "\n",
    "#### Document 2\n",
    "```xml\n",
    "<happiness xmlns:xsi=\"http://www.w3.org/2001/XMLSchema-instance\"\n",
    "     xsi:noNamespaceSchemaLocation=\"Schema.xsd\">\n",
    "    <health/>\n",
    "    <friends/>\n",
    "    <family/>\n",
    "</happiness>\n",
    "```\n",
    "\n",
    "#### Document 3\n",
    "```xml\n",
    "<happiness xmlns:xsi=\"http://www.w3.org/2001/XMLSchema-instance\"\n",
    "     xsi:noNamespaceSchemaLocation=\"Schema.xsd\">\n",
    "    3.141562\n",
    "</happiness>\n",
    "```\n",
    "\n",
    "#### Document 4\n",
    "```xml\n",
    "<happiness xmlns:xsi=\"http://www.w3.org/2001/XMLSchema-instance\"\n",
    "     xsi:noNamespaceSchemaLocation=\"Schema.xsd\">\n",
    "    <health value=\"100\"/>\n",
    "    <friends/>\n",
    "    <family/>\n",
    "</happiness>\n",
    "```\n",
    "\n",
    "#### Document 5\n",
    "```xml\n",
    "<happiness xmlns:xsi=\"http://www.w3.org/2001/XMLSchema-instance\"\n",
    "     xsi:noNamespaceSchemaLocation=\"Schema.xsd\">\n",
    "    <health/>\n",
    "    <friends/>\n",
    "    <family/>\n",
    "    But perhaps everybody defines it differently...\n",
    "</happiness>\n",
    "```\n",
    "\n",
    "______\n",
    "\n",
    "\n",
    "#### Schema 1\n",
    "```xml\n",
    "<xs:schema xmlns:xs=\"http://www.w3.org/2001/XMLSchema\">\n",
    "    <xs:element name=\"happiness\">\n",
    "        <xs:complexType>\n",
    "            <xs:sequence>\n",
    "                <xs:element name=\"health\"/>\n",
    "                <xs:element name=\"friends\"/>\n",
    "                <xs:element name=\"family\"/>\n",
    "            </xs:sequence>\n",
    "        </xs:complexType>\n",
    "    </xs:element>\n",
    "</xs:schema>\n",
    "```\n",
    "\n",
    "#### Schema 2\n",
    "```xml\n",
    "<xs:schema xmlns:xs=\"http://www.w3.org/2001/XMLSchema\">\n",
    "    <xs:element name=\"happiness\">\n",
    "        <xs:complexType mixed=\"true\">\n",
    "            <xs:sequence>\n",
    "                <xs:element name=\"health\"/>\n",
    "                <xs:element name=\"friends\"/>\n",
    "                <xs:element name=\"family\"/>\n",
    "            </xs:sequence>\n",
    "        </xs:complexType>\n",
    "    </xs:element>\n",
    "</xs:schema>\n",
    "```\n",
    "\n",
    "#### Schema 3\n",
    "```xml\n",
    "<xs:schema xmlns:xs=\"http://www.w3.org/2001/XMLSchema\">\n",
    "    <xs:element name=\"happiness\" type=\"xs:decimal\"/>\n",
    "</xs:schema>\n",
    "```\n",
    "\n",
    "#### Schema 4\n",
    "```xml\n",
    "<xs:schema xmlns:xs=\"http://www.w3.org/2001/XMLSchema\">\n",
    "    <xs:element name=\"happiness\">\n",
    "        <xs:complexType>\n",
    "            <xs:sequence/>\n",
    "        </xs:complexType>\n",
    "    </xs:element>\n",
    "</xs:schema>\n",
    "```\n",
    "\n",
    "#### Schema 5\n",
    "```xml\n",
    "<xs:schema xmlns:xs=\"http://www.w3.org/2001/XMLSchema\">\n",
    "    <xs:element name=\"happiness\">\n",
    "        <xs:complexType>\n",
    "            <xs:sequence>\n",
    "                <xs:element name=\"health\">\n",
    "                    <xs:complexType>\n",
    "                        <xs:attribute name=\"value\" type=\"xs:integer\" use=\"required\"/>\n",
    "                    </xs:complexType>\n",
    "                </xs:element>\n",
    "                <xs:element name=\"friends\"/>\n",
    "                <xs:element name=\"family\"/>\n",
    "            </xs:sequence>\n",
    "        </xs:complexType>\n",
    "    </xs:element>\n",
    "</xs:schema>\n",
    "```"
   ]
  },
  {
   "cell_type": "markdown",
   "metadata": {},
   "source": [
    "### 2.2 "
   ]
  },
  {
   "cell_type": "markdown",
   "metadata": {},
   "source": [
    "The following XML document is a hypothetical XML representation of a message thread in a slack-like message group. _Disclaimer: The events depicted in this document are fictitious. Any similarity to actual events or persons, living or dead, is purely coincidental._\n",
    "\n",
    "Provide an XML Schema which will validate this document:\n",
    "\n",
    "```xml\n",
    "<?xml version=\"1.0\" encoding=\"UTF-8\"?>\n",
    "\n",
    "<thread channel=\"IT Help\">\n",
    "    <message>\n",
    "        <author>@jdean</author>\n",
    "        <timestamp>2022-03-12T02:56:23.2</timestamp>\n",
    "        <body>\n",
    "            Hi, I tried running docker-compose up on this weeks exercise but \n",
    "            then somebody immediately stole my laptop.\n",
    "        </body>\n",
    "    </message>\n",
    "    <replies>\n",
    "        <message>\n",
    "            <author>@sghemawat</author>\n",
    "            <timestamp>2022-03-25T08:32:10.8</timestamp>\n",
    "            <body>Could you please post your docker logs?</body>\n",
    "        </message>\n",
    "        <message>\n",
    "            <author>@jdean</author>\n",
    "            <timestamp>2022-03-25T08:36:16.8</timestamp>\n",
    "            <body>Hi, I fixed it by restarting my docker container.</body>\n",
    "        </message>\n",
    "    </replies>\n",
    "</thread>\n",
    "```"
   ]
  },
  {
   "cell_type": "markdown",
   "metadata": {
    "id": "HKF49jDCxMR4"
   },
   "source": [
    "## 3. JSON Schemas"
   ]
  },
  {
   "cell_type": "markdown",
   "metadata": {
    "id": "LJB4O19ZMFmW"
   },
   "source": [
    "JSON Schema is a vocabulary that allows you to annotate and validate JSON documents. It is used to:\n",
    "* Describe your existing data format(s).\n",
    "* Provide clear human- and machine- readable documentation.\n",
    "* Validate data, i.e., automated testing, ensuring quality of client submitted data."
   ]
  },
  {
   "cell_type": "markdown",
   "metadata": {},
   "source": [
    "### 3.1 \n",
    "Provide an JSON Schema which will validate the following document.\n",
    "\n",
    "```json\n",
    "{\n",
    "  \"firstName\": \"John\",\n",
    "  \"lastName\": \"Doe\",\n",
    "  \"age\": 21\n",
    "}\n",
    "```"
   ]
  },
  {
   "cell_type": "markdown",
   "metadata": {},
   "source": [
    "### 3.2\n",
    "Provide an JSON Schema which will validate the following document.\n",
    "The JSON Schema has to check for the following properties:\n",
    "\n",
    "\n",
    "*   The price of a product has to be strictly positive.\n",
    "*   Tags are describing the product and necessary for a proper product description. We need at least one tag per product and each tag should be unique.\n",
    "*   The \"productId\", \"productName\" and the \"price\" should always be contained in a valid JSON document.\n",
    "\n",
    "\n",
    "\n",
    "```json\n",
    "  {\n",
    "    \"productId\": 1,\n",
    "    \"productName\": \"An ice sculpture\",\n",
    "    \"price\": 12.50,\n",
    "    \"tags\": [ \"cold\", \"ice\" ],\n",
    "    \"dimensions\": {\n",
    "      \"length\": 7.0,\n",
    "      \"width\": 12.0,\n",
    "      \"height\": 9.5\n",
    "    }\n",
    "  }\n",
    "```"
   ]
  },
  {
   "cell_type": "markdown",
   "metadata": {},
   "source": [
    "## 4. JSound"
   ]
  },
  {
   "cell_type": "markdown",
   "metadata": {},
   "source": [
    "[JSound](http://www.jsound-spec.org/) is a vocabulary that allows you to validate JSON documents. It employs a very simple and intuitive JSON-like syntax."
   ]
  },
  {
   "cell_type": "markdown",
   "metadata": {},
   "source": [
    "### 4.1 \n",
    "Repeat the exercise in 3.1, but now instead produce a JSound schema that will validate the following document:\n",
    "\n",
    "```json\n",
    "{\n",
    "  \"firstName\": \"John\",\n",
    "  \"lastName\": \"Doe\",\n",
    "  \"age\": 21\n",
    "}\n",
    "```"
   ]
  },
  {
   "cell_type": "markdown",
   "metadata": {},
   "source": [
    "### 4.2 \n",
    "Build a valid JSON document based on the following JSound schema. \n",
    "\n",
    "```json\n",
    "{\n",
    "  \"id\": \"integer\",\n",
    "  \"who\": [{\n",
    "    \"name\": \"string\",\n",
    "    \"type\": \"string\",\n",
    "    \"preferred\": \"boolean\"\n",
    "  }],\n",
    "  \"year_of_birth\": \"integer\",\n",
    "  \"living\": \"boolean\"\n",
    "}\n",
    "```"
   ]
  },
  {
   "cell_type": "markdown",
   "metadata": {},
   "source": [
    "## 5. Creating Parquet documents using RumbleDB and JSound\n",
    "In this exercise, we will be writing a JSONiq query which validates a document using a JSound schema to create a user defined type, which we can then query! Then, we will output it in the [Parquet](https://parquet.apache.org/) file format. \n",
    "\n",
    "The Docker container for this week already has RumbleDB pre-installed, which we will treat as a black box to serve our needs. If you want, you could alternatively install it with [Homebrew](https://github.com/RumbleDB/homebrew-rumble) or any of the methods mentioned in the [documentation](https://rumble.readthedocs.io/en/latest/Getting%20started/).\n",
    "\n",
    "We can run RumbleDB directly through the shell:"
   ]
  },
  {
   "cell_type": "code",
   "execution_count": null,
   "metadata": {},
   "outputs": [],
   "source": [
    "!rumbledb run -q '1+1'"
   ]
  },
  {
   "cell_type": "markdown",
   "metadata": {},
   "source": [
    "Alternatively, we can also define some cell magic to allow us to more easily run multi-line JSONiq queries through the shell:"
   ]
  },
  {
   "cell_type": "code",
   "execution_count": null,
   "metadata": {},
   "outputs": [],
   "source": [
    "import json\n",
    "import time\n",
    "import os\n",
    "from IPython.core.magic import register_line_cell_magic\n",
    "\n",
    "@register_line_cell_magic\n",
    "def rumble(line, cell=None):\n",
    "    if cell is None:\n",
    "        data = line\n",
    "    else:\n",
    "        data = cell\n",
    "        \n",
    "    start = time.time()                                                         \n",
    "    resp = os.system(f'rumbledb run -q \\'{data.strip()}\\'')            \n",
    "    end = time.time()                                                              \n",
    "    print(\"Took: %s ms\" % (end - start))"
   ]
  },
  {
   "cell_type": "code",
   "execution_count": null,
   "metadata": {},
   "outputs": [],
   "source": [
    "%%rumble\n",
    "1+1"
   ]
  },
  {
   "cell_type": "markdown",
   "metadata": {
    "tags": []
   },
   "source": [
    "### 5.1 The Great Language Game\n",
    "The [Great Language Game](http://greatlanguagegame.com/) is a game in which you are given a voice clip to listen, and you are asked to identify the language in which the person was speaking. It is a multiple-choice question–you make your choice out of several alternatives.\n",
    "\n",
    "The following JSON document presents a user's attempt at answering a single question in the game: it contains the identifier of the voice clip, the choices presented to the player, and the player's response. Provide a JSound Schema which will validate this document.\n",
    "\n",
    "```json\n",
    "{\n",
    "  \"guess\": \"Norwegian\",\n",
    "  \"target\": \"Norwegian\", \n",
    "  \"country\": \"AU\",\n",
    "  \"choices\": [ \"Maori\", \"Mandarin\", \"Norwegian\", \"Tongan\" ], \n",
    "  \"sample\": \"48f9c924e0d98c959d8a6f1862b3ce9a\",\n",
    "  \"date\": \"2013-08-19\"\n",
    "}\n",
    "```\n",
    "\n",
    "You can refer to the documentation for [a list of types in JSound]((http://www.jsound-spec.org/publish/en-US/JSound/2.0/html-single/JSound/index.html#idm126).\n"
   ]
  },
  {
   "cell_type": "markdown",
   "metadata": {},
   "source": [
    "### 5.2 Validating our first documents\n",
    "Now let's validate the above document with the schema we just wrote:"
   ]
  },
  {
   "cell_type": "code",
   "execution_count": null,
   "metadata": {
    "tags": []
   },
   "outputs": [],
   "source": [
    "%%rumble\n",
    "declare type local:attempt as {\n",
    "    // Replace this object with your JSound schema!\n",
    "    // Remember to keep the semi-colon :)\n",
    "};\n",
    "\n",
    "validate type local:attempt* {\n",
    "  {\n",
    "    \"guess\": \"Norwegian\",\n",
    "    \"target\": \"Norwegian\", \n",
    "    \"country\": \"AU\",\n",
    "    \"choices\": [ \"Maori\", \"Mandarin\", \"Norwegian\", \"Tongan\" ], \n",
    "    \"sample\": \"48f9c924e0d98c959d8a6f1862b3ce9a\",\n",
    "    \"date\": \"2013-08-19\"\n",
    "  }\n",
    "}"
   ]
  },
  {
   "cell_type": "markdown",
   "metadata": {},
   "source": [
    "Let's work with a larger version of the Great Language Game (Confusion) dataset, stored in the JSON format. The file should already be in the local directory as `confusion-100000.json`.\n",
    "\n",
    "We can query this file directly on the local disk using Rumble:"
   ]
  },
  {
   "cell_type": "code",
   "execution_count": null,
   "metadata": {},
   "outputs": [],
   "source": [
    "%%rumble\n",
    "count(json-file(\"confusion-100000.json\"))"
   ]
  },
  {
   "cell_type": "markdown",
   "metadata": {},
   "source": [
    "Now, let's use our schema to validate the first 10 attempts from the dataset:"
   ]
  },
  {
   "cell_type": "code",
   "execution_count": null,
   "metadata": {},
   "outputs": [],
   "source": [
    "%%rumble\n",
    "declare type local:attempt as {\n",
    "    // Replace this object with your JSound schema!\n",
    "    // Remember to keep the semi-colon :)\n",
    "};\n",
    "\n",
    "validate type local:attempt* {\n",
    "    json-file(\"confusion-100000.json\")[position() <= 10]\n",
    "}"
   ]
  },
  {
   "cell_type": "markdown",
   "metadata": {},
   "source": [
    "Although it seems like nothing is happening, our query is returning _typed_ objects instead of JSON strings. This means that we can interact with values like dates in more meaningful ways:"
   ]
  },
  {
   "cell_type": "code",
   "execution_count": null,
   "metadata": {},
   "outputs": [],
   "source": [
    "%%rumble\n",
    "declare type local:attempt as {\n",
    "    // Replace this object with your JSound schema!\n",
    "    // Remember to keep the semi-colon :)\n",
    "};\n",
    "\n",
    "for $i in validate type local:attempt* {\n",
    "    json-file(\"confusion-100000.json\")[position() <= 10]\n",
    "}\n",
    "let $date := $i.date\n",
    "return month-from-date($date)"
   ]
  },
  {
   "cell_type": "markdown",
   "metadata": {},
   "source": [
    "### 5.3 From JSON to Parquet\n",
    "Now, let's try validate our entire dataset and output it as a Parquet file! We'll need the shell for this, so let's first create a JSONiq file containing our query. Modify and then copy the following query into a new file called `query.jq`.\n",
    "\n",
    "**Hint:** Date types in JSound can have timezones, but Parquet does not support dates with timezones at the moment. We should instead validate dates as strings for this exercise.\n",
    "\n",
    "```json\n",
    "declare type local:attempt as {\n",
    "    // Replace this object with your JSound schema!\n",
    "    // Remember to keep the semi-colon :)\n",
    "};\n",
    "\n",
    "validate type local:attempt* {\n",
    "    json-file(\"confusion-100000.json\", 10)\n",
    "}\n",
    "```"
   ]
  },
  {
   "cell_type": "markdown",
   "metadata": {},
   "source": [
    "Then, we can run the query through the shell, specifying the output format as Parquet:"
   ]
  },
  {
   "cell_type": "code",
   "execution_count": null,
   "metadata": {},
   "outputs": [],
   "source": [
    "!rumbledb run query.jq -o result.out -f parquet -P 1"
   ]
  },
  {
   "cell_type": "markdown",
   "metadata": {},
   "source": [
    "Then let's change the file name to be more representative of its contents:"
   ]
  },
  {
   "cell_type": "code",
   "execution_count": null,
   "metadata": {},
   "outputs": [],
   "source": [
    "!cp `find result.out/part-00000*` greatlanguagegame.parquet"
   ]
  },
  {
   "cell_type": "markdown",
   "metadata": {},
   "source": [
    "Where, if we compare the sizes of the JSONL and Parquet files..."
   ]
  },
  {
   "cell_type": "code",
   "execution_count": null,
   "metadata": {},
   "outputs": [],
   "source": [
    "!ls -lh"
   ]
  },
  {
   "cell_type": "markdown",
   "metadata": {},
   "source": [
    "...we can see how much smaller the Parquet file is! Parquet is a column-oriented binary storage format with efficient data compression schemes.\n",
    "\n",
    "Intuitively, reducing the size of a file while maintaining fixed throughput means that we can also scan the file much faster! Keep this in mind next time you need to work with a huge JSON dataset!"
   ]
  },
  {
   "cell_type": "code",
   "execution_count": null,
   "metadata": {},
   "outputs": [],
   "source": [
    "%%rumble\n",
    "count(parquet-file(\"greatlanguagegame.parquet\"))"
   ]
  },
  {
   "cell_type": "markdown",
   "metadata": {},
   "source": [
    "### 5.4 Bigger data for a bigger benefit (optional)\n",
    "\n",
    "The dataset we used was just a subset of the full great language game dataset. When using a larger dataset, we will observe a much more noticeable decrease in time to scan the dataset in Parquet over JSON!\n",
    "\n",
    "We can download this dataset here:"
   ]
  },
  {
   "cell_type": "code",
   "execution_count": null,
   "metadata": {},
   "outputs": [],
   "source": [
    "!wget -O- http://data.greatlanguagegame.com.s3.amazonaws.com/confusion-2014-03-02.tbz2 | tar -jxv"
   ]
  },
  {
   "cell_type": "markdown",
   "metadata": {},
   "source": [
    "Then, let's try repeat several steps from above with the new dataset:"
   ]
  },
  {
   "cell_type": "code",
   "execution_count": null,
   "metadata": {},
   "outputs": [],
   "source": [
    "%%rumble\n",
    "count(json-file(\"confusion-2014-03-02/confusion-2014-03-02.json\"))"
   ]
  },
  {
   "cell_type": "markdown",
   "metadata": {},
   "source": [
    "Including creating a new query file to point to the larger dataset:\n",
    "\n",
    "```json\n",
    "declare type local:my-type as {\n",
    "    // Replace this object with your JSound schema!\n",
    "    // Remember to keep the semi-colon :)\n",
    "};\n",
    "\n",
    "validate type local:my-type* {\n",
    "    json-file(\"confusion-2014-03-02/confusion-2014-03-02.json\", 10)\n",
    "}\n",
    "```\n",
    "\n",
    "which should be named `query-large.jq`."
   ]
  },
  {
   "cell_type": "code",
   "execution_count": null,
   "metadata": {},
   "outputs": [],
   "source": [
    "!rumbledb run query-large.jq -o result-large.out -f parquet -P 1"
   ]
  },
  {
   "cell_type": "code",
   "execution_count": null,
   "metadata": {},
   "outputs": [],
   "source": [
    "!cp `find result-large.out/part-00000*` greatlanguagegame-large.parquet"
   ]
  },
  {
   "cell_type": "code",
   "execution_count": null,
   "metadata": {},
   "outputs": [],
   "source": [
    "%%rumble\n",
    "count(parquet-file(\"greatlanguagegame-large.parquet\"))"
   ]
  }
 ],
 "metadata": {
  "colab": {
   "name": "2021_Exercises_exercise06_Data_Models_Solutions.ipynb",
   "provenance": []
  },
  "kernelspec": {
   "display_name": "Python 3 (ipykernel)",
   "language": "python",
   "name": "python3"
  },
  "language_info": {
   "codemirror_mode": {
    "name": "ipython",
    "version": 3
   },
   "file_extension": ".py",
   "mimetype": "text/x-python",
   "name": "python",
   "nbconvert_exporter": "python",
   "pygments_lexer": "ipython3",
   "version": "3.7.8"
  }
 },
 "nbformat": 4,
 "nbformat_minor": 4
}
