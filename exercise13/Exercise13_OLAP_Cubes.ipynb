{
 "cells": [
  {
   "cell_type": "markdown",
   "metadata": {},
   "source": [
    "# <center>Big Data &ndash; Exercises</center>\n",
    "## <center>Fall 2022 &ndash; Week 13 &ndash; ETH Zurich</center>\n",
    "## <center>Cubes</center>"
   ]
  },
  {
   "cell_type": "markdown",
   "metadata": {},
   "source": [
    "## Introduction\n",
    "\n",
    "In the first part of this exercise, we will use a spreadsheet application to analyze the sales data of a fictious wholesale supplier (taken from the database system benchmark [TPC-H](http://www.tpc.org/tpch/)). Then, we will use SQL to query the data shape cube. \n",
    "A cube is a collection of numeric data organized by arrays of discrete identifiers (Janus and Fouché, 2009)."
   ]
  },
  {
   "cell_type": "markdown",
   "metadata": {},
   "source": [
    "## 1. The TPC-H Dataset as OLAP Cube\n",
    "\n",
    "Let us get familiar with the dataset.\n",
    "It consists of **orders**, each of which is made by a **customer**, and consists of **lineitems**.\n",
    "Think of an order as a shopping cart with several items in it.\n",
    "The items of an order are **parts** that may be provided by different **suppliers**.\n",
    "Suppliers and customers come from different **nations**, which are grouped into **regions** of the world.\n",
    "The following figure illustrates the schema of the TPC-H dataset.\n",
    "<br>\n",
    "\n",
    "![Schema of the TPC-H dataset](./tpch.png)\n",
    "\n",
    "\n",
    "### Task 1\n",
    "\n",
    "1. Which table(s) of the TPC-H schema is/are the fact table(s)?\n",
    "1. What is/are the measure(s)?\n",
    "1. What are the dimensions?\n",
    "1. What do you call this flavor of OLAP?"
   ]
  },
  {
   "cell_type": "markdown",
   "metadata": {},
   "source": [
    "### Solutions\n",
    "\n",
    "..."
   ]
  },
  {
   "cell_type": "markdown",
   "metadata": {},
   "source": [
    "## 2. Analyzing TPC-H with a Pivot Table\n",
    "\n",
    "Open local [Exercise13_OLAP_Cubes](./Exercise13_OLAP_Cubes.xls) with your favorite spreadsheet application.\n",
    "The file contains a universal table (a fully denormalized table) of a small TPC-H dataset.\n",
    "The schema has been modified slightly to make analysis in a spreadsheet application easier:\n",
    "The two precomputed measures revenue and cost\n",
    "as well as the hierarchy of time dimensions in the attribute *orderdate* have been added in the materialized form\n",
    "and some other attributes have been removed.\n",
    "\n",
    "You may need to look up how to use pivot tables in your spreadsheet application.\n",
    "\n",
    "1. Microsoft Excel: [PivotTable](https://support.office.com/en-us/article/Create-a-PivotTable-to-analyze-worksheet-data-a9a84538-bfe9-40a9-a8e9-f99134456576)\n",
    "1. Google Sheets  : [pivot tables](https://support.google.com/docs/answer/1272900?co=GENIE.Platform%3DDesktop&hl=en)\n",
    "1. Open Office    : [DataPilot](https://openoffice.blogs.com/openoffice/2006/11/data_pilots_in_.html)\n",
    "\n",
    "### Task 1: Discussion\n",
    "\n",
    "Discuss the terms \"slice and dice\", \"drill down\", \"roll up\", and \"pivoting\".\n",
    "\n",
    "### Solution: Discussion\n",
    "\n",
    "...\n",
    "\n",
    "### Task 2: Create the following pivot tables:\n",
    "\n",
    "1. Show how much revenue suppliers from different regions (as columns) produced in every year (as rows).\n",
    "1. Show how much revenue suppliers from nations of Africa (as columns) produced in every year (as rows).\n",
    "1. Show how much revenue suppliers from nations of Africa produced in every quarter of every year.\n",
    "1. Show how much revenue suppliers from nations of Africa produced in every week of every month of Q1 in 1996.\n",
    "1. Show how much revenue suppliers from nations of Africa produced in every year with \"urgent\" orders.\n",
    "1. Show the average order quantity for parts from suppliers from nations of Africa per year.\n",
    "1. Show how much revenue suppliers from nations of Africa (as rows) produced in every quarter of every year (as columns).\n",
    "\n",
    "### Solution:\n",
    "..."
   ]
  },
  {
   "cell_type": "markdown",
   "metadata": {},
   "source": [
    "## 3. OLAP Cubes and SQL\n",
    "\n",
    "Write SQL queries for the PivotTables from Question 2.\n",
    "\n",
    "#### Notes\n",
    "\n",
    "* Assume that the revenue is calculated as `olquantity * partretailprice * (1-oldiscount)`. You will already find it as a column.\n",
    "* To get the year or quarter from a date in PostgreSQL, you can use [`DATE_PART ('field', date )  `](https://www.postgresqltutorial.com/postgresql-date_part/). Note that the field is case-insensitive. You can write `DATE_PART('YEAR', date)` or `DATE_PART('year', date)`, which are equivalent. \n",
    "\n",
    "#### Database Set-up\n",
    "\n",
    "Just like any other week, you need to `docker compose up` and please wait for the message `PostgreSQL init process complete; ready for start up` before proceeding!\n",
    "As before, we set up our connection to the database and enable use of `%sql` and `%%sql`."
   ]
  },
  {
   "cell_type": "code",
   "execution_count": null,
   "metadata": {},
   "outputs": [],
   "source": [
    "server  ='postgres'\n",
    "user    ='postgres'\n",
    "password='bigdataclass'\n",
    "database='tpch-db'\n",
    "\n",
    "connection_string = f'postgresql://{user}:{password}@{server}:5432/{database}'"
   ]
  },
  {
   "cell_type": "code",
   "execution_count": null,
   "metadata": {},
   "outputs": [],
   "source": [
    "%reload_ext sql\n",
    "%sql $connection_string"
   ]
  },
  {
   "cell_type": "markdown",
   "metadata": {},
   "source": [
    "Check the tables in TPC-H. They are empty for the moment."
   ]
  },
  {
   "cell_type": "code",
   "execution_count": null,
   "metadata": {},
   "outputs": [],
   "source": [
    "%%sql \n",
    "SELECT table_name\n",
    "FROM information_schema.tables\n",
    "WHERE table_schema = 'public';"
   ]
  },
  {
   "cell_type": "markdown",
   "metadata": {
    "tags": []
   },
   "source": [
    "Populate the tables in TPC-H with data from .tbl files"
   ]
  },
  {
   "cell_type": "code",
   "execution_count": null,
   "metadata": {},
   "outputs": [],
   "source": [
    "import numpy as np\n",
    "import os\n",
    "import pandas\n",
    "import sqlalchemy\n",
    "import sys\n",
    "\n",
    "tables = [ # Order is important because of FKs\n",
    "        'region',\n",
    "        'nation',\n",
    "        'supplier',\n",
    "        'part',\n",
    "        'supplypart',\n",
    "        'customer',\n",
    "        'orders',\n",
    "        'orderline'\n",
    "        ]\n",
    "\n",
    "engine = sqlalchemy.create_engine(connection_string)\n",
    "\n",
    "for table in tables:\n",
    "    # Find column names\n",
    "    columns = engine.execute('SELECT * FROM {0}'.format(table)).keys()\n",
    "\n",
    "    # Load content\n",
    "    data = pandas.read_csv('docker/postgres/tpch/data/{0}.tbl'.format(table), sep='|', header=None, names=columns)\n",
    "    msg = 'Loading table \"{0}\": {1}% done\\r'\n",
    "    for idx, chunk in enumerate(np.array_split(data, 100)):\n",
    "        sys.stdout.write(msg.format(table, idx))\n",
    "        chunk.to_sql(name=table, if_exists='append', con=engine, index=False, method='multi')\n",
    "    print(msg.format(table, str(100)))"
   ]
  },
  {
   "cell_type": "markdown",
   "metadata": {},
   "source": [
    "First however, we define the fact table using a WITH statement (copy this at the beginning of all other queries)"
   ]
  },
  {
   "cell_type": "code",
   "execution_count": null,
   "metadata": {},
   "outputs": [],
   "source": [
    "%%sql\n",
    "WITH cube AS (\n",
    "    SELECT olquantity, partretailprice, oldiscount,\n",
    "           orderdate, nationname, regionname, orderpriority,\n",
    "           olquantity * partretailprice * (1-oldiscount) AS revenue,\n",
    "           DATE_PART('year', orderdate) AS orderyear,\n",
    "           DATE_PART('quarter', orderdate) AS orderquarter,\n",
    "           DATE_PART('month', orderdate) AS ordermonth,\n",
    "           DATE_PART('week', orderdate) AS orderweek\n",
    "    FROM orderline ol\n",
    "    JOIN orders o      ON ol.orderid = o.orderid\n",
    "    JOIN supplypart sp ON ol.partId = sp.partId AND ol.supplierId = sp.supplierId\n",
    "    JOIN part p        ON sp.partId = p.partId\n",
    "    JOIN supplier s    ON sp.supplierId = s.supplierId\n",
    "    JOIN nation sn     ON s.nationId = sn.nationId\n",
    "    JOIN region sr     ON sn.regionId = sr.regionId\n",
    ")\n",
    "SELECT * FROM cube LIMIT 10"
   ]
  },
  {
   "cell_type": "markdown",
   "metadata": {},
   "source": [
    "Note that, for the purpose of this exercise, we dropped some dimensions of the cube because none of the queries uses them. Also, we materialize some hierarchy levels of the `orderdate` dimension in order to make the subsequent queries more readable. This makes them *look* like they were new dimensions -- conceptually, they are not! (They are, well, levels of a hierarchy of the `orderdate` dimension.)"
   ]
  },
  {
   "cell_type": "markdown",
   "metadata": {},
   "source": [
    "OK, you are good to go. Use the SQL cell below and add more cells as you need.\n",
    "\n",
    "Note that the numbers you obtain with the SQL queries should not be identical to those in the pivot tables in Task2, because the data we have in the DB have more rows in its fact table."
   ]
  },
  {
   "cell_type": "markdown",
   "metadata": {},
   "source": [
    "#### Your Answers"
   ]
  },
  {
   "cell_type": "markdown",
   "metadata": {},
   "source": [
    "#### 1. Show how much revenue suppliers from different regions (as columns) produced in every year (as rows)."
   ]
  },
  {
   "cell_type": "code",
   "execution_count": null,
   "metadata": {
    "scrolled": true
   },
   "outputs": [],
   "source": [
    "%%sql\n",
    "WITH cube AS (\n",
    "    SELECT olquantity, partretailprice, oldiscount,\n",
    "           orderdate, nationname, regionname, orderpriority,\n",
    "           olquantity * partretailprice * (1-oldiscount) AS revenue,\n",
    "           DATE_PART('year', orderdate) AS orderyear,\n",
    "           DATE_PART('quarter', orderdate) AS orderquarter,\n",
    "           DATE_PART('month', orderdate) AS ordermonth,\n",
    "           DATE_PART('week', orderdate) AS orderweek\n",
    "    FROM orderline ol\n",
    "    JOIN orders o      ON ol.orderid = o.orderid\n",
    "    JOIN supplypart sp ON ol.partId = sp.partId AND ol.supplierId = sp.supplierId\n",
    "    JOIN part p        ON sp.partId = p.partId\n",
    "    JOIN supplier s    ON sp.supplierId = s.supplierId\n",
    "    JOIN nation sn     ON s.nationId = sn.nationId\n",
    "    JOIN region sr     ON sn.regionId = sr.regionId\n",
    ")\n",
    "..."
   ]
  },
  {
   "cell_type": "markdown",
   "metadata": {},
   "source": [
    "#### 2. Show how much revenue suppliers from nations of Africa produced in every year."
   ]
  },
  {
   "cell_type": "code",
   "execution_count": null,
   "metadata": {},
   "outputs": [],
   "source": [
    "%%sql\n",
    "WITH cube AS (\n",
    "    SELECT olquantity, partretailprice, oldiscount,\n",
    "           orderdate, nationname, regionname, orderpriority,\n",
    "           olquantity * partretailprice * (1-oldiscount) AS revenue,\n",
    "           DATE_PART('year', orderdate) AS orderyear,\n",
    "           DATE_PART('quarter', orderdate) AS orderquarter,\n",
    "           DATE_PART('month', orderdate) AS ordermonth,\n",
    "           DATE_PART('week', orderdate) AS orderweek\n",
    "    FROM orderline ol\n",
    "    JOIN orders o      ON ol.orderid = o.orderid\n",
    "    JOIN supplypart sp ON ol.partId = sp.partId AND ol.supplierId = sp.supplierId\n",
    "    JOIN part p        ON sp.partId = p.partId\n",
    "    JOIN supplier s    ON sp.supplierId = s.supplierId\n",
    "    JOIN nation sn     ON s.nationId = sn.nationId\n",
    "    JOIN region sr     ON sn.regionId = sr.regionId\n",
    ")\n",
    "..."
   ]
  },
  {
   "cell_type": "markdown",
   "metadata": {},
   "source": [
    "#### 3. Show how much revenue suppliers from nations of Africa produced in every quarter of every year."
   ]
  },
  {
   "cell_type": "code",
   "execution_count": null,
   "metadata": {},
   "outputs": [],
   "source": [
    "%%sql\n",
    "WITH cube AS (\n",
    "    SELECT olquantity, partretailprice, oldiscount,\n",
    "           orderdate, nationname, regionname, orderpriority,\n",
    "           olquantity * partretailprice * (1-oldiscount) AS revenue,\n",
    "           DATE_PART('YEAR', orderdate) AS orderyear,\n",
    "           DATE_PART('QUARTER', orderdate) AS orderquarter,\n",
    "           DATE_PART('MONTH', orderdate) AS ordermonth,\n",
    "           DATE_PART('WEEK', orderdate) AS orderweek\n",
    "    FROM orderline ol\n",
    "    JOIN orders o      ON ol.orderid = o.orderid\n",
    "    JOIN supplypart sp ON ol.partId = sp.partId AND ol.supplierId = sp.supplierId\n",
    "    JOIN part p        ON sp.partId = p.partId\n",
    "    JOIN supplier s    ON sp.supplierId = s.supplierId\n",
    "    JOIN nation sn     ON s.nationId = sn.nationId\n",
    "    JOIN region sr     ON sn.regionId = sr.regionId\n",
    ")\n",
    "..."
   ]
  },
  {
   "cell_type": "markdown",
   "metadata": {},
   "source": [
    "#### 4. Show how much revenue suppliers from nations of Africa produced in every week of every month of Q1 in 1996.\n",
    "\n",
    "Note that `orderweek` is from a different hierarchy of the `orderdate` dimension than `orderquarter` and `ordermonth` because a week does not generally belong to only one quarter or month. (However, a month always belongs to exactly one quarter.) This does not change anything in the SQL query below, but is an important conceptual subtlety of cubes."
   ]
  },
  {
   "cell_type": "code",
   "execution_count": null,
   "metadata": {},
   "outputs": [],
   "source": [
    "%%sql\n",
    "WITH cube AS (\n",
    "    SELECT olquantity, partretailprice, oldiscount,\n",
    "           orderdate, nationname, regionname, orderpriority,\n",
    "           olquantity * partretailprice * (1-oldiscount) AS revenue,\n",
    "           DATE_PART('year', orderdate) AS orderyear,\n",
    "           DATE_PART('quarter', orderdate) AS orderquarter,\n",
    "           DATE_PART('month', orderdate) AS ordermonth,\n",
    "           DATE_PART('week', orderdate) AS orderweek\n",
    "    FROM orderline ol\n",
    "    JOIN orders o      ON ol.orderid = o.orderid\n",
    "    JOIN supplypart sp ON ol.partId = sp.partId AND ol.supplierId = sp.supplierId\n",
    "    JOIN part p        ON sp.partId = p.partId\n",
    "    JOIN supplier s    ON sp.supplierId = s.supplierId\n",
    "    JOIN nation sn     ON s.nationId = sn.nationId\n",
    "    JOIN region sr     ON sn.regionId = sr.regionId\n",
    ")\n",
    "..."
   ]
  },
  {
   "cell_type": "markdown",
   "metadata": {},
   "source": [
    "#### 5. Show how much revenue suppliers from nations of Africa produced in every year with \"urgent\" orders."
   ]
  },
  {
   "cell_type": "code",
   "execution_count": null,
   "metadata": {},
   "outputs": [],
   "source": [
    "%%sql\n",
    "WITH cube AS (\n",
    "    SELECT olquantity, partretailprice, oldiscount,\n",
    "           orderdate, nationname, regionname, orderpriority,\n",
    "           olquantity * partretailprice * (1-oldiscount) AS revenue,\n",
    "           DATE_PART('YEAR', orderdate) AS orderyear,\n",
    "           DATE_PART('QUARTER', orderdate) AS orderquarter,\n",
    "           DATE_PART('MONTH', orderdate) AS ordermonth,\n",
    "           DATE_PART('WEEK', orderdate) AS orderweek\n",
    "    FROM orderline ol\n",
    "    JOIN orders o      ON ol.orderid = o.orderid\n",
    "    JOIN supplypart sp ON ol.partId = sp.partId AND ol.supplierId = sp.supplierId\n",
    "    JOIN part p        ON sp.partId = p.partId\n",
    "    JOIN supplier s    ON sp.supplierId = s.supplierId\n",
    "    JOIN nation sn     ON s.nationId = sn.nationId\n",
    "    JOIN region sr     ON sn.regionId = sr.regionId\n",
    ")\n",
    "..."
   ]
  },
  {
   "cell_type": "markdown",
   "metadata": {},
   "source": [
    "#### 6. Show the average order quantity for parts from suppliers from nations in Africa per year."
   ]
  },
  {
   "cell_type": "code",
   "execution_count": null,
   "metadata": {},
   "outputs": [],
   "source": [
    "%%sql\n",
    "WITH cube AS (\n",
    "    SELECT olquantity, partretailprice, oldiscount,\n",
    "           orderdate, nationname, regionname, orderpriority,\n",
    "           olquantity * partretailprice * (1-oldiscount) AS revenue,\n",
    "           DATE_PART('YEAR', orderdate) AS orderyear,\n",
    "           DATE_PART('QUARTER', orderdate) AS orderquarter,\n",
    "           DATE_PART('MONTH', orderdate) AS ordermonth,\n",
    "           DATE_PART('WEEK', orderdate) AS orderweek\n",
    "    FROM orderline ol\n",
    "    JOIN orders o      ON ol.orderid = o.orderid\n",
    "    JOIN supplypart sp ON ol.partId = sp.partId AND ol.supplierId = sp.supplierId\n",
    "    JOIN part p        ON sp.partId = p.partId\n",
    "    JOIN supplier s    ON sp.supplierId = s.supplierId\n",
    "    JOIN nation sn     ON s.nationId = sn.nationId\n",
    "    JOIN region sr     ON sn.regionId = sr.regionId\n",
    ")\n",
    "..."
   ]
  },
  {
   "cell_type": "markdown",
   "metadata": {},
   "source": [
    "#### 7. Show how much revenue suppliers from nations of Africa (as rows) produced in every quarter of every year (as columns).\n",
    "\n",
    "Columns and row of a cube are both represented as columns when mapped to relations and SQL. A tool similar to Excel's PivotTable that automatically generates SQL queries would probably just flip the order of the columns."
   ]
  },
  {
   "cell_type": "code",
   "execution_count": null,
   "metadata": {},
   "outputs": [],
   "source": [
    "%%sql\n",
    "WITH cube AS (\n",
    "    SELECT olquantity, partretailprice, oldiscount,\n",
    "           orderdate, nationname, regionname, orderpriority,\n",
    "           olquantity * partretailprice * (1-oldiscount) AS revenue,\n",
    "           DATE_PART('YEAR', orderdate) AS orderyear,\n",
    "           DATE_PART('QUARTER', orderdate) AS orderquarter,\n",
    "           DATE_PART('MONTH', orderdate) AS ordermonth,\n",
    "           DATE_PART('WEEK', orderdate) AS orderweek\n",
    "    FROM orderline ol\n",
    "    JOIN orders o      ON ol.orderid = o.orderid\n",
    "    JOIN supplypart sp ON ol.partId = sp.partId AND ol.supplierId = sp.supplierId\n",
    "    JOIN part p        ON sp.partId = p.partId\n",
    "    JOIN supplier s    ON sp.supplierId = s.supplierId\n",
    "    JOIN nation sn     ON s.nationId = sn.nationId\n",
    "    JOIN region sr     ON sn.regionId = sr.regionId\n",
    ")\n",
    "..."
   ]
  },
  {
   "cell_type": "code",
   "execution_count": null,
   "metadata": {},
   "outputs": [],
   "source": []
  },
  {
   "cell_type": "markdown",
   "metadata": {},
   "source": [
    "\n",
    "\n"
   ]
  }
 ],
 "metadata": {
  "anaconda-cloud": {},
  "kernelspec": {
   "display_name": "Python 3 (ipykernel)",
   "language": "python",
   "name": "python3"
  },
  "language_info": {
   "codemirror_mode": {
    "name": "ipython",
    "version": 3
   },
   "file_extension": ".py",
   "mimetype": "text/x-python",
   "name": "python",
   "nbconvert_exporter": "python",
   "pygments_lexer": "ipython3",
   "version": "3.9.6"
  },
  "vscode": {
   "interpreter": {
    "hash": "916dbcbb3f70747c44a77c7bcd40155683ae19c65e1c03b4aa3499c5328201f1"
   }
  }
 },
 "nbformat": 4,
 "nbformat_minor": 4
}
