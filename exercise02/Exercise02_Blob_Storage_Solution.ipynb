{
 "cells": [
  {
   "cell_type": "markdown",
   "metadata": {
    "id": "buDUMbpKYTcD"
   },
   "source": [
    "# <center>Big Data &ndash; Exercises &ndash; Solution</center>\n",
    "## <center>Fall 2023 &ndash; Week 2 &ndash; ETH Zurich</center>"
   ]
  },
  {
   "cell_type": "markdown",
   "metadata": {
    "id": "PO44IswhYTcE"
   },
   "source": [
    "## Exercise 1: Storage devices (Optional)\n",
    "\n",
    "In this exercise, we want to understand the differences between [SSD](https://en.wikipedia.org/wiki/Solid-state_drive), [HDD](https://en.wikipedia.org/wiki/Hard_disk_drive), and [SDRAM](https://en.wikipedia.org/wiki/Synchronous_dynamic_random-access_memory) in terms of __capacity__, __speed__ and __price__. \n",
    "\n",
    "### Task 1\n",
    "Fill in the table below by visiting your local online hardware store and choosing the storage device with largest capacity available but optimizing for read/write speed.\n",
    "For instance, you can visit Digitec.ch to explore the prices on [SSDs](https://www.digitec.ch/en/s1/producttype/ssd-545?tagIds=76), [HDDs](https://www.digitec.ch/en/s1/producttype/hard-drives-36?tagIds=76), and \n",
    "[SDRAMs](https://www.digitec.ch/en/s1/producttype/memory-2?tagIds=76). \n",
    "You are free to use any other website for filling the table. \n",
    "\n",
    "\n",
    "| Storage Device | Maximum capacity, GB | Price, CHF/GB  | Read speed, GB/s | Write speed, GB/s | Link |\n",
    "| --------------:| --------------------:| --------------:|-----------------:|------------------:|------|\n",
    "| HDD            |                      |                |                  |                   |&nbsp;|\n",
    "| SSD            |                      |                |                  |                   |&nbsp;|\n",
    "| DRAM           |                      |                |                  |                   |&nbsp;|\n",
    "\n",
    "\n",
    "### Task 2\n",
    "Answer the following questions:\n",
    "1. What type of storage devices above is the cheapest one?\n",
    "2. What type of storage devices above is the fastest in terms of read speed?"
   ]
  },
  {
   "cell_type": "markdown",
   "metadata": {
    "id": "zLSwwJspYTcE"
   },
   "source": [
    "### Solution:\n",
    "\n",
    "Looking at Digitec, we fill the table as follows:\n",
    "\n",
    "| Storage Device | Maximum capacity, GB | Price, CHF/GB  | Read speed, GB/s | Write speed, GB/s | Link |\n",
    "| --------------:| --------------------:| --------------:|-----------------:|------------------:|------|\n",
    "| HDD            |    18 TB;            |   0.032 CHF/GB |      0.25 GB/s   | 0.25 GB/s          | [link1](https://www.digitec.ch/en/s1/product/seagate-ironwolf-pro-16tb-35-cmr-hard-drives-11205736?tagIds=76-535) [link2](https://www.seagate.com/de/de/internal-hard-drives/hdd/ironwolf/) |\n",
    "| SSD            |    4 TB;             |   0.25  CHF/GB |      7.3  GB/s   |      6.9 GB/s    | [link](https://www.digitec.ch/en/s1/product/seagate-firecuda-530-4000-gb-m2-2280-ssd-16172210) |\n",
    "| DRAM           |    128 GB per module; |  12.5   CHF/GB |     60   GB/s    |       48 GB/s     | [link1](https://www.digitec.ch/en/s1/product/samsung-m386a8k40bm1-crc-1x-64gb-ddr4-2133-dimm-288-memory-8989701) [link2](https://www.techspot.com/news/62129-ddr3-vs-ddr4-raw-bandwidth-numbers.html)|\n",
    "\n",
    "\n",
    "1. HDDs are the cheapest storage device among mentioned devices \n",
    "2. DRAMs are the fastest storage device among mentioned devices "
   ]
  },
  {
   "cell_type": "markdown",
   "metadata": {
    "id": "NJNn-SViYTcy"
   },
   "source": [
    "# Exercise 2. KeyValue Vector Clocks\n",
    "\n",
    "As pointed out in the lecture, the concepts are clearly explained in the Dynamo paper by the DeCandia, G., et. al. (2007). \"Dynamo: Amazon’s Highly Available Key-value Store\". In SOSP ’07 (Vol. 41, p. 205). [DOI](https://dl.acm.org/citation.cfm?doid=1294261.1294281)"
   ]
  },
  {
   "cell_type": "markdown",
   "metadata": {
    "id": "YcHVf7fIYTcy"
   },
   "source": [
    "## Task 1\n",
    "Multiple distributed hash tables use vector clocks for capturing causality among different versions of the same object. In Amazon's Dynamo, a vector clock is associated with every version of every object.\n",
    "\n",
    "Let $VC$ be an $N$-element array which contains non-negative integers, initialized to 0, representing $N$ logical clocks of the $N$ processes (nodes) of the system. $VC$ gets its $j$ element incremented by one everytime node $j$ performs a write operation on it. <br>\n",
    "Moreover, $VC(x)$ denotes the vector clock of a write event, and $VC(x)_z$ denotes the element of that clock for the node $z$.\n",
    "\n",
    "Try to __formally define__ the partial ordering that we get from using vector clocks."
   ]
  },
  {
   "cell_type": "markdown",
   "metadata": {
    "id": "y5ihYlHhYTcy"
   },
   "source": [
    "__Solution__:\n",
    "\n",
    "$VC(x) \\leq VC(y) \\iff \\forall z[VC(x)_z \\leq VC(y)_z]$"
   ]
  },
  {
   "cell_type": "markdown",
   "metadata": {
    "id": "z4lpxnbaYTcz"
   },
   "source": [
    "## Task 2\n",
    "\n",
    "Vector clock antisymmetry property is defined as follows:\n",
    "\n",
    "If $ VC(x) \\lt VC(y)$, then $ ¬ \\ (VC(y) \\lt VC(x)) $\n",
    "\n",
    "Prove this property."
   ]
  },
  {
   "cell_type": "markdown",
   "metadata": {
    "id": "nhhkSKQ3YTcz"
   },
   "source": [
    "__Solution:__\n",
    "\n",
    "We will prove the above statement using proof by contradiction.\n",
    "\n",
    "Based on the fundamental definitions of vector clocks, we can expand $VC(x) \\lt VC(y)$ into:\n",
    "\n",
    "$VC(x) \\lt VC(y) \\iff \\forall z[VC(x)_z \\leq VC(y)_z] \\wedge \\exists z'[VC(x)_{z'} \\lt VC(y)_{z'}]$\n",
    "\n",
    "We begin our proof by assuming $VC(x) \\lt VC(y)$ is true. This means that there is a $z'$ element for which $VC(x)_{z'} \\lt VC(y)_{z'}$ holds.\n",
    "\n",
    "We now assume that $VC(y) \\lt VC(x)$ is also true. This implies that $\\forall z[VC(y)_z \\leq VC(x)_z] \\wedge \\exists k'[VC(y)_{k'} \\lt VC(x)_{k'}]$. However this is a contradiction, since the there exists a $z'$ for which $VC(x)_{z'} \\lt VC(y)_{z'}$. This disproves the conjunction, which concludes our proof."
   ]
  },
  {
   "cell_type": "markdown",
   "metadata": {
    "id": "W6aDCNvtYTc0"
   },
   "source": [
    "## Task 3\n",
    "\n",
    "Consider $j$ servers in a cluster where $S_j$ denotes the $j$th node.  \n",
    "In this exercise, we adopt a slightly modified notation from the Dynamo paper:  \n",
    "- The Dynamo paper indicates the writing server on the edge, we however write it before the colon.  \n",
    "- For brevity, we index server by position and omit server name in the vector clock.\n",
    "\n",
    "For example **aa ([$S_0$,0],[$S_1$,4])** with $S_1$ as writing server become **$S_1$ : aa ([0,4])**\n",
    "So, given the following version evolution DAG for a particular object, complete the vector clocks computed at the corresponding version.\n",
    "\n",
    "<img src=\"https://polybox.ethz.ch/index.php/s/iRONxqhpQkRdLeY/download\" width=400/>\n",
    "\n",
    "<img src=\"https://polybox.ethz.ch/index.php/s/WzJlMxIrA2RGcKh/download\" width=400/>\n",
    "\n",
    "<img src=\"https://polybox.ethz.ch/index.php/s/nZ83Jb7mrr0uhi8/download\" width=400/>"
   ]
  },
  {
   "cell_type": "markdown",
   "metadata": {
    "id": "8rdvxg65YTc0"
   },
   "source": [
    "__Solution:__\n",
    "\n",
    "Note that for the missing written values, any value is valid. For instance, in *Obj. 2*, for the last write done by $S_2$, `mq` or `1234` would've been just as valid as `pp`.\n",
    "\n",
    "<img src=\"https://polybox.ethz.ch/index.php/s/YFMitA0UCJM5Fer/download\" width=900/>"
   ]
  },
  {
   "cell_type": "markdown",
   "metadata": {
    "id": "ggoaIglcYTc1"
   },
   "source": [
    "## Task 4\n",
    "\n",
    "When a get request comes in to Amazon Dynamo with some key, then:\n",
    "  - The coordinator node (selected from the preference list as the top node for this key) is taking care of this request\n",
    "  - The coordinator node requests from other nodes (itself + the next N-1 healthy ones on the preference list), and receives, a set of versions for the value associated with the key, that are modelled as __value (vector clock)__ pairs such as a ([1, 3, 2])"
   ]
  },
  {
   "cell_type": "markdown",
   "metadata": {
    "id": "cA4DaMfGYTc1"
   },
   "source": [
    "### Task 4.1\n",
    "Given the following list of versions, draw the version DAG that the coordinator node will build for returning available versions.\n",
    "\n",
    "1 ([0,0,1])  \n",
    "1 ([0,1,1])  \n",
    "2 ([1,1,1])  \n",
    "3 ([0,2,1])  \n",
    "10 ([1,3,1])"
   ]
  },
  {
   "cell_type": "markdown",
   "metadata": {
    "id": "08D9-zKHYTc2"
   },
   "source": [
    "__Solution:__\n",
    "We could use the following rules as guidance for creating correct version DAGs. \n",
    "\n",
    "- If no partial ordering exists between nodes, then those nodes should be on the same level, i.e., they are both valid versions.\n",
    "- If there is an edge between two nodes, then the parent node should be smaller than the child.\n",
    "- You cannot have skip connections, i.e., there cannot be an edge from an ancestor node (excluding the parent node) directly to a child node.\n",
    "- Transitive edges shouldn't be present in the version DAG.\n",
    "- Each edge represents the update of exactly one entry of the vector clock.\n",
    "\n",
    "<img src=\"https://polybox.ethz.ch/index.php/s/MfhAFv3eIM2TPmJ/download\" width=400/>"
   ]
  },
  {
   "cell_type": "markdown",
   "metadata": {
    "id": "n1qfPU1BYTc3"
   },
   "source": [
    "### Task 4.2\n",
    "Given the following list of versions, draw the version DAG that the coordinator node will build for returning the correct version.\n",
    "\n",
    "\n",
    " a ([1,0,0])  \n",
    " b ([0,1,0])  \n",
    " c ([2,1,0])   \n",
    " d ([2,1,1])   \n",
    " e ([3,1,1])  \n",
    " f ([2,2,1])   \n",
    " g ([3,1,2])   \n",
    " h ([3,2,3])  \n",
    " i ([4,2,2])   \n",
    " j ([5,2,2])  \n",
    " k ([4,3,3])  \n",
    " l ([5,2,3])  \n",
    " m ([5,4,3])  \n",
    " n ([6,3,3])  \n",
    " o ([6,4,4])  "
   ]
  },
  {
   "cell_type": "markdown",
   "metadata": {
    "id": "ucKC8J3mYTc3"
   },
   "source": [
    "__Solution:__\n",
    "\n",
    "<img src=\"https://polybox.ethz.ch/index.php/s/JM008TpUs4it7dq/download\" width=300/>"
   ]
  },
  {
   "cell_type": "markdown",
   "metadata": {
    "id": "6CglmCvJYTc4"
   },
   "source": [
    "### Task 4.3\n",
    "Given the following list of versions, draw the version DAG that the coordinator node will build for returning the correct version.\n",
    "\n",
    "a ([1,0,0,0])  \n",
    "b ([0,0,0,1])  \n",
    "aa ([0,0,1,0])  \n",
    "bb ([0,1,0,0])  \n",
    "c ([1,2,0,1])  \n",
    "cc ([0,1,1,2])  \n",
    "d ([1,3,0,1])  \n",
    "f ([1,2,1,3])  \n",
    "e ([2,1,1,2])  \n",
    "g ([2,2,2,3])  "
   ]
  },
  {
   "cell_type": "markdown",
   "metadata": {
    "id": "yek61oybYTc4"
   },
   "source": [
    "__Solution:__\n",
    "\n",
    "<img src=\"https://polybox.ethz.ch/index.php/s/1VdCzInpVG9xZtb/download\" width=700/>"
   ]
  },
  {
   "cell_type": "markdown",
   "metadata": {
    "id": "ox_oCR30YTc5"
   },
   "source": [
    "## Task 5 (Optional)\n",
    "\n",
    "Consider $j$ servers in a cluster where $S_j$ denotes the $j$th node. The following table denotes the execution of a series of get/put operations. Also each line of the table represents the events that happen at the time time. For example, at time 0 (`t0`) servers $S_1$ and $S_3$ perform operations. Moreover, when reading and writing an object, we are provided with / must provide a context respecitvely. The context itself is the vector clock, and helps the routines understand what version of the object they are dealing with, and what the new, updated version of the context will be.\n",
    "\n",
    "For the `get` and `put` routines, we have the following signatures:\n",
    "\n",
    "* `get(key)` $\\rightarrow$ `[val_1, val_2, ...]`, $C_{key}$ `(` $VC$ `(key))` \n",
    "  * Example: `get(\"foo\")` $\\rightarrow$ `[bar_1, bar_2]`, $C_{2}$ `([1, 0, 1, 0]) # We assume the existence of 4 nodes` \n",
    "\n",
    "* `put(key, context, val)` $\\rightarrow$ `None`\n",
    "  * Example: `put(\"foo\",` $C_2$`, \"bar\")`  \n",
    "\n",
    "Note that the $C_{key}$ elements are just notation, and are meant to highlight that the context gets passed around between the `get` and `put` routines in a real API. \n",
    "\n",
    "Complete missing `[list_values],` $C_{key}$ `([vector_clock])` tuples for the calls below.\n",
    "\n",
    "<table>\n",
    "  <tr><th></th><th>S0</th><th>S1</th><th>S2</th><th>S3</th><th>S4</th></tr>\n",
    "  <tr>\n",
    "    <td>t0</td>\n",
    "    <td></td>\n",
    "    <td>Get(1)$\\rightarrow$ _______________, $C_{1}$(_______________)<br>Put(1, _____, ”a”)</td>\n",
    "    <td></td>\n",
    "    <td>Get(1)$\\rightarrow$ _______________, $C_{2}$(_______________)<br>Put(1, _____, ”bb”)</td>\n",
    "    <td></td>\n",
    "  </tr>\n",
    "  <tr>\n",
    "    <td>t2</td>\n",
    "    <td>Get(1)$\\rightarrow$ _______________, $C_4$(_______________)<br>Put (1, _____, “rr”)</td>\n",
    "    <td>Get(1)$\\rightarrow$ _______________, $C_5$(_______________)<br>Put (1, _____, ”dd”)\n",
    "    <td></td>\n",
    "    <td></td>\n",
    "    <td></td>\n",
    "    <td></td>\n",
    "  </tr>\n",
    "  <tr>\n",
    "    <td>t4</td>\n",
    "    <td></td>\n",
    "    <td></td>\n",
    "    <td>Get(1)$\\rightarrow$ _______________, $C_9$(_______________) <br>Put(1, _____, ”ccc”)</td>\n",
    "    <td>Get(1)$\\rightarrow$ _______________, $C_{10}$(_______________) <br> Put(1, _____, ”dd”)</td>\n",
    "    <td></td>\n",
    "  </tr>\n",
    "  <tr>\n",
    "    <td>t5</td>\n",
    "    <td></td>\n",
    "    <td></td>\n",
    "    <td></td>\n",
    "    <td></td>\n",
    "    <td>Get(1)$\\rightarrow$ _______________, $C_{11}$(_______________) <br>Put(1, _____, “fff”)</td>\n",
    "  </tr>\n",
    "</table>\n",
    "\n",
    "The DAG below shows the interaction among nodes when retrieving values. You can use it for determining the expected values.\n",
    "\n",
    "<img src=\"https://polybox.ethz.ch/index.php/s/YoWi7QK2DcMHJFe/download\" width=400/>"
   ]
  },
  {
   "cell_type": "markdown",
   "metadata": {
    "id": "ssSIZECNYTc5"
   },
   "source": [
    "__Solution:__\n",
    "<table>\n",
    "  <tr><th></th><th>S0</th><th>S1</th><th>S2</th><th>S3</th><th>S4</th></tr>\n",
    "  <tr>\n",
    "    <td>t0</td>\n",
    "    <td></td>\n",
    "    <td>Get(1)$\\rightarrow [], C_1$()<br>Put(1, $C_1$, ”a”)</td>\n",
    "    <td></td>\n",
    "    <td>Get(1)$\\rightarrow [], C_2$()<br>Put(1, $C_2$, ”bb”)</td>\n",
    "    <td></td>\n",
    "  </tr>\n",
    "  <tr>\n",
    "    <td>t2</td>\n",
    "    <td>Get(1)$\\rightarrow [a, bb], C_4$([0,1,0,1,0])<br>Put (1, $C_4$, “rr”)</td>\n",
    "    <td>Get(1)$\\rightarrow [a, bb], C_5$([0,1,0,1,0])<br>Put (1, $C_5$, ”dd”)</td>\n",
    "    <td></td>\n",
    "    <td></td>\n",
    "    <td></td>\n",
    "  </tr>\n",
    "  <tr>\n",
    "    <td>t4</td>\n",
    "    <td></td>\n",
    "    <td></td>\n",
    "    <td>Get(1)$\\rightarrow [rr], C_9$([1,1,0,1,0]) <br>Put(1, $C_9$, ”ccc”)</td>\n",
    "    <td>Get(1)$\\rightarrow [dd], C_{10}$([0,2,0,1,0]) <br> Put(1, $C_{10}$, ”dd”)</td>\n",
    "    <td></td>\n",
    "  </tr>\n",
    "  <tr>\n",
    "    <td>t5</td>\n",
    "    <td></td>\n",
    "    <td></td>\n",
    "    <td></td>\n",
    "    <td></td>\n",
    "    <td>Get(1)$\\rightarrow [ccc, dd], $<br>$C_{11}$([1,2,1,2,0]) <br> Put(1, $C_{11}$, “fff”)</td>\n",
    "  </tr>\n",
    "</table>"
   ]
  },
  {
   "cell_type": "markdown",
   "metadata": {
    "id": "fXhEc_lZYTc5"
   },
   "source": [
    "# Exercise 3. Merkle Trees\n",
    "A hash tree or Merkle tree is a binary tree in which every leaf node gets as its label a data block and every non-leaf node is labelled with the cryptographic hash of the labels of its child nodes. \n",
    "\n",
    "Some KeyValue stores use Merkle trees for efficiently detecting inconsistencies in data between replicas. \n",
    "\n",
    "This works by exchaging first the root hash, comparing it with their own. If the hashes match, the replicas are synchronised. If they do not match, then the children of the node (in the Merkle tree) will be retrieved, and their hashes will be compared. This process continues until the inconsistent leave(s) are identified. \n",
    "\n",
    "## Task 1\n",
    "The two pictures below depict two Merkle trees each one belonging to two different replicas. Both should represent the same object.\n",
    "\n",
    "For the two pairs of trees below. Specify if it is a possible configuration as well as which nodes have to be exchanged in order to sync the trees, if applicable.  \n",
    "\n",
    "<img src=\"https://polybox.ethz.ch/index.php/s/vqj7AOAozZKEO3N/download\" width=800/>"
   ]
  },
  {
   "cell_type": "markdown",
   "metadata": {
    "id": "bt7NyfLzF73t"
   },
   "source": []
  },
  {
   "cell_type": "markdown",
   "metadata": {
    "id": "B7-gSY9IYTc6"
   },
   "source": [
    "__Solution Pair I:__\n",
    "- Node A (root hash) is exchanged. Node A is not the same.\n",
    "- Fetch Node A children. \n",
    "- Nodes B and C are exchanged. Node B is the same so its children are not exchanged, but node C is not.\n",
    "- Fetch Node C children.\n",
    "- Nodes F and G are exchanged. Node F is the same so its children are not exchanged, but node G is not.\n",
    "- Fetch Node G children.\n",
    "- Nodes N and O are exchanged. They both differ, so data blocks represented by the leaf's hashes are expected to be different (which is indeed the case)."
   ]
  },
  {
   "cell_type": "markdown",
   "metadata": {
    "id": "HoLvKmfEdsz3"
   },
   "source": [
    "## Task 2\n",
    "Repeat the exercise for the following pair of Merkle Trees.\n",
    "\n",
    "<img src=\"https://polybox.ethz.ch/index.php/s/TwFd3KDxTrqq2B1/download\" width=800/>"
   ]
  },
  {
   "cell_type": "markdown",
   "metadata": {
    "id": "rD3wBjxeYTc6"
   },
   "source": [
    "__Solution Pair II:__\n",
    "\n",
    "This configuration is theoretically impossible with a sound hash function, since node `A` has different values in the trees while having exactly the same children. This would imply that our hash function can give two different results from the exact same input values.\n",
    "\n",
    "Another problem of the trees can be seen in nodes `C`, which have matching hashes, while the nodes `G` have different hashes across the two replicas. This is theoretically possible since hash functions generally have non-zero collision probability (i.e. the same hash value can be obtained from two different input datums). While this is an anomaly, and generally does not happen in practice with a strong enough hash, it can happen in theory, yielding undesirable results."
   ]
  },
  {
   "cell_type": "markdown",
   "metadata": {
    "id": "aZSykiQzYTc6"
   },
   "source": [
    "# Exercise 4. Virtual nodes\n",
    "\n",
    "Virtual nodes were introduced to avoid assigning data in an unbalanced manner and coping with hardware heterogeneity by taking into consideration the physical capacity of each server\n",
    "\n",
    "Let assume we have ten servers ($i_1$ to $i_{10}$) each with the following amount of main memory: `8GiB, 16GiB, 32GiB, 8GiB, 16GiB, 0.5TiB, 1TiB, 0.25TiB, 10GiB, 20GiB`. Calculate the number of virtual nodes/tokens each server should get according to its main memory capacity if we want to have a total of `256` virtual nodes/tokens.\n",
    "\n",
    "Just for the purpose of the exercises if you get a fractional number of virtual nodes, always round up, even if the total sum of nodes in the end exceeds `256`."
   ]
  },
  {
   "cell_type": "markdown",
   "metadata": {
    "id": "JvmrZ9hFYTc7"
   },
   "source": [
    "__Solution:__\n",
    "\n",
    "The total amount of main memory available is: `1902 GiBs = 8 + 16 + 32 + 8 + 16 + 512 + 1024 + 256 + 10 + 20`.\n",
    "\n",
    "So if we want to have 256 virtual nodes/tokens, each such virtual node should get approximately `7.42 GiBs`. Thus, each physical server $i_1$ to $i_{10}$ should get around: `2, 3, 5, 2, 3, 69, 138, 35, 2, 3` number of virtual nodes/tokens. Note that due to the rounding up process, the total number of allocated virtual nodes would be `262`.\n",
    "\n",
    "In general, rounding up to the next integer number or rounding down to the previous integer number is not determinant as virtual nodes are logically positioned in random parts of the ring anyway. \n",
    "\n",
    "However, one thing to be taken into consideration in practice is that the server with the smallest capacity should have more than a single virtual node. This is because it might be \"unlucky\" and have to handle a large domain of responsability."
   ]
  }
 ],
 "metadata": {
  "anaconda-cloud": {},
  "colab": {
   "collapsed_sections": [],
   "name": "Exercise02_Blob_Storage_Solution.ipynb",
   "provenance": []
  },
  "kernelspec": {
   "display_name": "Python 3",
   "language": "python",
   "name": "python3"
  },
  "language_info": {
   "codemirror_mode": {
    "name": "ipython",
    "version": 3
   },
   "file_extension": ".py",
   "mimetype": "text/x-python",
   "name": "python",
   "nbconvert_exporter": "python",
   "pygments_lexer": "ipython3",
   "version": "3.7.4"
  }
 },
 "nbformat": 4,
 "nbformat_minor": 1
}
