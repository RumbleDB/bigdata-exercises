{
 "cells": [
  {
   "cell_type": "markdown",
   "metadata": {},
   "source": [
    "# <center>Big Data &ndash; Exercise 1</center>\n",
    "## <center>Fall 2024 &ndash; Week 1 &ndash; ETH Zurich</center>"
   ]
  },
  {
   "cell_type": "markdown",
   "metadata": {},
   "source": [
    "### Aims\n",
    "- **After this exercise:** \n",
    "    - Understand the SQL language and its common query patterns.\n",
    "    - Understand the 'table' data shape, normalization, and when they can (and should) be used.\n",
    "    - be able to query data in tables with the SQL language.\n",
    "- **Later in the semester:** \n",
    "    - Relate these language features and query patterns relative to other data shapes, technologies, and the languages designed to query them.\n",
    "    - Understand when tables are not the appropriate shape for your data and when you can (and should) throw normalization away!"
   ]
  },
  {
   "cell_type": "markdown",
   "metadata": {},
   "source": [
    "### Prerequisites\n",
    "In this exercise, you will brush-up the fundamental concepts of relational databases and SQL. If you haven't taken an introductory databases course (or want to refresh your knowledge) we recommend you to read the following:\n",
    "\n",
    "Garcia-Molina, Ullman, Widom: Database Systems: The Complete Book. Pearson, 2. Edition, 2008. (Chapters 1, 2, 3, and 6) [Available in the ETH Library] [[Online]](https://ebookcentral.proquest.com/lib/ethz/detail.action?pq-origsite=primo&docID=5832965) [[Selected solutions]](http://infolab.stanford.edu/~ullman/dscbsols/sols.html).\n",
    "\n",
    "Or have a look at the recordings from Information Systems for Engineers - ETH Zurich, available on [[YouTube]](https://www.youtube.com/c/GhislainFournysLectures)."
   ]
  },
  {
   "cell_type": "markdown",
   "metadata": {},
   "source": [
    "### Database Set-up\n",
    "We will be once again working in the ExamMagicBox (you can find it in the following [[link]](https://polybox.ethz.ch/index.php/s/wa57XqDKkxRMb0q) if you have not downloaded it yet): please drag this Notebook in the folder. Just like last week, activate the docker container for the exercise sheet with `docker compose up`; please wait for the message `PostgreSQL init process complete; ready for start up` in the docker logs before proceeding! Alternatively you can start the Docker with `docker compose up -d` and wait for the command to execute: please note that you are creating the containers in the background this way. You can then type `docker compose down` when you are done.\n",
    "\n",
    "As before, we set up our connection to the database and enable use of `%sql` and `%%sql`."
   ]
  },
  {
   "cell_type": "code",
   "execution_count": 1,
   "metadata": {},
   "outputs": [],
   "source": [
    "server='db'\n",
    "user='postgres'\n",
    "password='example'\n",
    "database='postgres'\n",
    "connection_string=f'postgresql://{user}:{password}@{server}:5432/{database}'"
   ]
  },
  {
   "cell_type": "code",
   "execution_count": 2,
   "metadata": {},
   "outputs": [],
   "source": [
    "%reload_ext sql\n",
    "%sql $connection_string"
   ]
  },
  {
   "cell_type": "code",
   "execution_count": 3,
   "metadata": {},
   "outputs": [
    {
     "name": "stdout",
     "output_type": "stream",
     "text": [
      " * postgresql://postgres:***@db:5432/postgres\n",
      "1 rows affected.\n"
     ]
    },
    {
     "data": {
      "text/html": [
       "<table>\n",
       "    <thead>\n",
       "        <tr>\n",
       "            <th>version</th>\n",
       "        </tr>\n",
       "    </thead>\n",
       "    <tbody>\n",
       "        <tr>\n",
       "            <td>PostgreSQL 16.2 (Debian 16.2-1.pgdg120+2) on aarch64-unknown-linux-gnu, compiled by gcc (Debian 12.2.0-14) 12.2.0, 64-bit</td>\n",
       "        </tr>\n",
       "    </tbody>\n",
       "</table>"
      ],
      "text/plain": [
       "[('PostgreSQL 16.2 (Debian 16.2-1.pgdg120+2) on aarch64-unknown-linux-gnu, compiled by gcc (Debian 12.2.0-14) 12.2.0, 64-bit',)]"
      ]
     },
     "execution_count": 3,
     "metadata": {},
     "output_type": "execute_result"
    }
   ],
   "source": [
    "%%sql\n",
    "SELECT version();"
   ]
  },
  {
   "cell_type": "markdown",
   "metadata": {},
   "source": [
    "### Origin of the data\n",
    "You can find more information on the dataset in the following links\n",
    "- [Discogs](https://www.discogs.com/)\n",
    "- [Discogs XML data dumps](http://data.discogs.com/)\n",
    "\n",
    "If you do not want to use Docker or it does not work you can download the dataset from this [link](https://cloud.inf.ethz.ch/s/DtjCHTLRHT39BRN/download/discogs.dump.xz), see `postgres-init.sh` to see how to import it)"
   ]
  },
  {
   "cell_type": "markdown",
   "metadata": {},
   "source": [
    "## Exercise 1: Explore the dataset\n",
    "We want to first understand the dataset a bit better. You will find some queries below to help you explore the schema."
   ]
  },
  {
   "cell_type": "markdown",
   "metadata": {},
   "source": [
    "### List tables\n",
    "The following query retrieves a list of tables in the database from a system table describing the current database."
   ]
  },
  {
   "cell_type": "code",
   "execution_count": 4,
   "metadata": {},
   "outputs": [
    {
     "name": "stdout",
     "output_type": "stream",
     "text": [
      " * postgresql://postgres:***@db:5432/postgres\n",
      "22 rows affected.\n"
     ]
    },
    {
     "data": {
      "text/html": [
       "<table>\n",
       "    <thead>\n",
       "        <tr>\n",
       "            <th>table_name</th>\n",
       "        </tr>\n",
       "    </thead>\n",
       "    <tbody>\n",
       "        <tr>\n",
       "            <td>companies</td>\n",
       "        </tr>\n",
       "        <tr>\n",
       "            <td>jobs</td>\n",
       "        </tr>\n",
       "        <tr>\n",
       "            <td>employees02</td>\n",
       "        </tr>\n",
       "        <tr>\n",
       "            <td>badges</td>\n",
       "        </tr>\n",
       "        <tr>\n",
       "            <td>comments</td>\n",
       "        </tr>\n",
       "        <tr>\n",
       "            <td>inventory</td>\n",
       "        </tr>\n",
       "        <tr>\n",
       "            <td>posthistory</td>\n",
       "        </tr>\n",
       "        <tr>\n",
       "            <td>postlinks</td>\n",
       "        </tr>\n",
       "        <tr>\n",
       "            <td>posts</td>\n",
       "        </tr>\n",
       "        <tr>\n",
       "            <td>tags</td>\n",
       "        </tr>\n",
       "        <tr>\n",
       "            <td>users</td>\n",
       "        </tr>\n",
       "        <tr>\n",
       "            <td>votes</td>\n",
       "        </tr>\n",
       "        <tr>\n",
       "            <td>artists</td>\n",
       "        </tr>\n",
       "        <tr>\n",
       "            <td>released_by</td>\n",
       "        </tr>\n",
       "        <tr>\n",
       "            <td>releases</td>\n",
       "        </tr>\n",
       "        <tr>\n",
       "            <td>tracks</td>\n",
       "        </tr>\n",
       "        <tr>\n",
       "            <td>employees</td>\n",
       "        </tr>\n",
       "        <tr>\n",
       "            <td>dept_manager</td>\n",
       "        </tr>\n",
       "        <tr>\n",
       "            <td>departments</td>\n",
       "        </tr>\n",
       "        <tr>\n",
       "            <td>dept_emp</td>\n",
       "        </tr>\n",
       "        <tr>\n",
       "            <td>titles</td>\n",
       "        </tr>\n",
       "        <tr>\n",
       "            <td>salaries</td>\n",
       "        </tr>\n",
       "    </tbody>\n",
       "</table>"
      ],
      "text/plain": [
       "[('companies',),\n",
       " ('jobs',),\n",
       " ('employees02',),\n",
       " ('badges',),\n",
       " ('comments',),\n",
       " ('inventory',),\n",
       " ('posthistory',),\n",
       " ('postlinks',),\n",
       " ('posts',),\n",
       " ('tags',),\n",
       " ('users',),\n",
       " ('votes',),\n",
       " ('artists',),\n",
       " ('released_by',),\n",
       " ('releases',),\n",
       " ('tracks',),\n",
       " ('employees',),\n",
       " ('dept_manager',),\n",
       " ('departments',),\n",
       " ('dept_emp',),\n",
       " ('titles',),\n",
       " ('salaries',)]"
      ]
     },
     "execution_count": 4,
     "metadata": {},
     "output_type": "execute_result"
    }
   ],
   "source": [
    "%%sql \n",
    "SELECT table_name\n",
    "FROM information_schema.tables\n",
    "WHERE table_schema = 'public';"
   ]
  },
  {
   "cell_type": "markdown",
   "metadata": {},
   "source": [
    "### List attributes/columns\n",
    "The following query retrieves a list of columns from the tables in the database."
   ]
  },
  {
   "cell_type": "code",
   "execution_count": 5,
   "metadata": {},
   "outputs": [
    {
     "name": "stdout",
     "output_type": "stream",
     "text": [
      " * postgresql://postgres:***@db:5432/postgres\n",
      "17 rows affected.\n"
     ]
    },
    {
     "data": {
      "text/html": [
       "<table>\n",
       "    <thead>\n",
       "        <tr>\n",
       "            <th>table_name</th>\n",
       "            <th>column_name</th>\n",
       "            <th>data_type</th>\n",
       "            <th>is_nullable</th>\n",
       "            <th>ordinal_position</th>\n",
       "        </tr>\n",
       "    </thead>\n",
       "    <tbody>\n",
       "        <tr>\n",
       "            <td>artists</td>\n",
       "            <td>artist_id</td>\n",
       "            <td>integer</td>\n",
       "            <td>NO</td>\n",
       "            <td>1</td>\n",
       "        </tr>\n",
       "        <tr>\n",
       "            <td>artists</td>\n",
       "            <td>name</td>\n",
       "            <td>character varying</td>\n",
       "            <td>YES</td>\n",
       "            <td>2</td>\n",
       "        </tr>\n",
       "        <tr>\n",
       "            <td>artists</td>\n",
       "            <td>realname</td>\n",
       "            <td>text</td>\n",
       "            <td>YES</td>\n",
       "            <td>3</td>\n",
       "        </tr>\n",
       "        <tr>\n",
       "            <td>artists</td>\n",
       "            <td>profile</td>\n",
       "            <td>text</td>\n",
       "            <td>YES</td>\n",
       "            <td>4</td>\n",
       "        </tr>\n",
       "        <tr>\n",
       "            <td>artists</td>\n",
       "            <td>url</td>\n",
       "            <td>text</td>\n",
       "            <td>YES</td>\n",
       "            <td>5</td>\n",
       "        </tr>\n",
       "        <tr>\n",
       "            <td>released_by</td>\n",
       "            <td>release_id</td>\n",
       "            <td>integer</td>\n",
       "            <td>NO</td>\n",
       "            <td>1</td>\n",
       "        </tr>\n",
       "        <tr>\n",
       "            <td>released_by</td>\n",
       "            <td>artist_id</td>\n",
       "            <td>integer</td>\n",
       "            <td>NO</td>\n",
       "            <td>2</td>\n",
       "        </tr>\n",
       "        <tr>\n",
       "            <td>releases</td>\n",
       "            <td>release_id</td>\n",
       "            <td>integer</td>\n",
       "            <td>NO</td>\n",
       "            <td>1</td>\n",
       "        </tr>\n",
       "        <tr>\n",
       "            <td>releases</td>\n",
       "            <td>released</td>\n",
       "            <td>date</td>\n",
       "            <td>NO</td>\n",
       "            <td>2</td>\n",
       "        </tr>\n",
       "        <tr>\n",
       "            <td>releases</td>\n",
       "            <td>title</td>\n",
       "            <td>text</td>\n",
       "            <td>NO</td>\n",
       "            <td>3</td>\n",
       "        </tr>\n",
       "        <tr>\n",
       "            <td>releases</td>\n",
       "            <td>country</td>\n",
       "            <td>character varying</td>\n",
       "            <td>YES</td>\n",
       "            <td>4</td>\n",
       "        </tr>\n",
       "        <tr>\n",
       "            <td>releases</td>\n",
       "            <td>genre</td>\n",
       "            <td>character varying</td>\n",
       "            <td>NO</td>\n",
       "            <td>5</td>\n",
       "        </tr>\n",
       "        <tr>\n",
       "            <td>tracks</td>\n",
       "            <td>release_id</td>\n",
       "            <td>integer</td>\n",
       "            <td>NO</td>\n",
       "            <td>1</td>\n",
       "        </tr>\n",
       "        <tr>\n",
       "            <td>tracks</td>\n",
       "            <td>position</td>\n",
       "            <td>character varying</td>\n",
       "            <td>YES</td>\n",
       "            <td>2</td>\n",
       "        </tr>\n",
       "        <tr>\n",
       "            <td>tracks</td>\n",
       "            <td>title</td>\n",
       "            <td>text</td>\n",
       "            <td>YES</td>\n",
       "            <td>3</td>\n",
       "        </tr>\n",
       "        <tr>\n",
       "            <td>tracks</td>\n",
       "            <td>duration</td>\n",
       "            <td>integer</td>\n",
       "            <td>YES</td>\n",
       "            <td>4</td>\n",
       "        </tr>\n",
       "        <tr>\n",
       "            <td>tracks</td>\n",
       "            <td>track_id</td>\n",
       "            <td>integer</td>\n",
       "            <td>NO</td>\n",
       "            <td>5</td>\n",
       "        </tr>\n",
       "    </tbody>\n",
       "</table>"
      ],
      "text/plain": [
       "[('artists', 'artist_id', 'integer', 'NO', 1),\n",
       " ('artists', 'name', 'character varying', 'YES', 2),\n",
       " ('artists', 'realname', 'text', 'YES', 3),\n",
       " ('artists', 'profile', 'text', 'YES', 4),\n",
       " ('artists', 'url', 'text', 'YES', 5),\n",
       " ('released_by', 'release_id', 'integer', 'NO', 1),\n",
       " ('released_by', 'artist_id', 'integer', 'NO', 2),\n",
       " ('releases', 'release_id', 'integer', 'NO', 1),\n",
       " ('releases', 'released', 'date', 'NO', 2),\n",
       " ('releases', 'title', 'text', 'NO', 3),\n",
       " ('releases', 'country', 'character varying', 'YES', 4),\n",
       " ('releases', 'genre', 'character varying', 'NO', 5),\n",
       " ('tracks', 'release_id', 'integer', 'NO', 1),\n",
       " ('tracks', 'position', 'character varying', 'YES', 2),\n",
       " ('tracks', 'title', 'text', 'YES', 3),\n",
       " ('tracks', 'duration', 'integer', 'YES', 4),\n",
       " ('tracks', 'track_id', 'integer', 'NO', 5)]"
      ]
     },
     "execution_count": 5,
     "metadata": {},
     "output_type": "execute_result"
    }
   ],
   "source": [
    "%%sql \n",
    "SELECT table_name, column_name, data_type, is_nullable, ordinal_position\n",
    "FROM information_schema.columns\n",
    "WHERE table_schema = 'public' AND table_name IN ('artists', 'released_by', 'releases', 'tracks')\n",
    "AND table_name NOT LIKE 'pg_%'\n",
    "ORDER BY table_name, ordinal_position;"
   ]
  },
  {
   "cell_type": "markdown",
   "metadata": {},
   "source": [
    "### Have a look at the datasets\n",
    "The following simple query gives the first 5 rows of the `artists` dataset"
   ]
  },
  {
   "cell_type": "code",
   "execution_count": 6,
   "metadata": {},
   "outputs": [
    {
     "name": "stdout",
     "output_type": "stream",
     "text": [
      " * postgresql://postgres:***@db:5432/postgres\n",
      "5 rows affected.\n"
     ]
    },
    {
     "data": {
      "text/html": [
       "<table>\n",
       "    <thead>\n",
       "        <tr>\n",
       "            <th>artist_id</th>\n",
       "            <th>name</th>\n",
       "            <th>realname</th>\n",
       "            <th>profile</th>\n",
       "            <th>url</th>\n",
       "        </tr>\n",
       "    </thead>\n",
       "    <tbody>\n",
       "        <tr>\n",
       "            <td>1</td>\n",
       "            <td>The Persuader</td>\n",
       "            <td>Jesper Dahlbäck</td>\n",
       "            <td>None</td>\n",
       "            <td>None</td>\n",
       "        </tr>\n",
       "        <tr>\n",
       "            <td>2</td>\n",
       "            <td>Mr. James Barth &amp; A.D.</td>\n",
       "            <td>Cari Lekebusch &amp; Alexi Delano</td>\n",
       "            <td>None</td>\n",
       "            <td>None</td>\n",
       "        </tr>\n",
       "        <tr>\n",
       "            <td>3</td>\n",
       "            <td>Josh Wink</td>\n",
       "            <td>Joshua Winkelman</td>\n",
       "            <td>After forming [l=Ovum Recordings] as an independent label in October 1994 with former partner [a=King Britt], Josh recorded the cult classic &#x27;Liquid Summer&#x27;. He went on to release singles for a wide variety of revered European labels ranging from Belgium&#x27;s [l=R &amp; S Records] to England&#x27;s [l=XL Recordings]. In 1995, Wink became one of the first DJ-producers to translate his hard work into mainstream success when he unleashed a string of classics including &#x27;Don&#x27;t Laugh&#x27;¸ &#x27;I&#x27;m Ready&#x27; and &#x27;Higher State of Consciousness&#x27; that topped charts worldwide. More recently he has had massive club hits such as &#x27;How&#x27;s Your Evening So Far&#x27; and &#x27;Superfreak&#x27; but he has also gained a lot of attention trough his remixes for [a=FC Kahuna], [a=Paul Oakenfold], [a=Ladytron], [a=Clint Mansell], [a=Sting] and [a=Depeche Mode], among others.</td>\n",
       "            <td>http://www.joshwink.com/</td>\n",
       "        </tr>\n",
       "        <tr>\n",
       "            <td>4</td>\n",
       "            <td>Johannes Heil</td>\n",
       "            <td>Johannes Heil</td>\n",
       "            <td>Electronic music producer, musician and live performer, born 3 February 1978 near the town of Bad Nauheim, Germany. Founder of [l=JH] and [l=Metatron Recordings].</td>\n",
       "            <td>http://johannes-heil.com/</td>\n",
       "        </tr>\n",
       "        <tr>\n",
       "            <td>5</td>\n",
       "            <td>Heiko Laux</td>\n",
       "            <td>Heiko Laux</td>\n",
       "            <td>German DJ and producer based in Berlin. He is the founder of [l=Kanzleramt].</td>\n",
       "            <td>http://www.heiko-laux.com</td>\n",
       "        </tr>\n",
       "    </tbody>\n",
       "</table>"
      ],
      "text/plain": [
       "[(1, 'The Persuader', 'Jesper Dahlbäck', None, None),\n",
       " (2, 'Mr. James Barth & A.D.', 'Cari Lekebusch & Alexi Delano', None, None),\n",
       " (3, 'Josh Wink', 'Joshua Winkelman', \"After forming [l=Ovum Recordings] as an independent label in October 1994 with former partner [a=King Britt], Josh recorded the cult classic 'Liquid  ... (527 characters truncated) ... of attention trough his remixes for [a=FC Kahuna], [a=Paul Oakenfold], [a=Ladytron], [a=Clint Mansell], [a=Sting] and [a=Depeche Mode], among others.\", 'http://www.joshwink.com/'),\n",
       " (4, 'Johannes Heil', 'Johannes Heil', 'Electronic music producer, musician and live performer, born 3 February 1978 near the town of Bad Nauheim, Germany. Founder of [l=JH] and [l=Metatron Recordings].', 'http://johannes-heil.com/'),\n",
       " (5, 'Heiko Laux', 'Heiko Laux', 'German DJ and producer based in Berlin. He is the founder of [l=Kanzleramt].', 'http://www.heiko-laux.com')]"
      ]
     },
     "execution_count": 6,
     "metadata": {},
     "output_type": "execute_result"
    }
   ],
   "source": [
    "%%sql\n",
    "SELECT * FROM artists LIMIT 5;"
   ]
  },
  {
   "cell_type": "markdown",
   "metadata": {},
   "source": [
    "Naturally we could write similar queries to better understand each of the other tables."
   ]
  },
  {
   "cell_type": "markdown",
   "metadata": {},
   "source": [
    "#### With what you now know about the datasets, try to answer the following questions\n",
    "\n",
    "1. Which concepts are modelled in the dataset and how do they relate to each other? <b>Hint</b>: how do the tables connect logically?\n",
    "2. Why do you think this shape (table) was chosen for the data and why not the other shapes?\n",
    "3. In which normal forms are the corresponding relations?\n",
    "4. How can we denormalise the data to make some queries more efficient? <b>Hint</b>: have a look at the queries in the next session of the exercises to see if adding some columns to some tables could reduce the need to `JOIN`.\n",
    "5. What potential problems could result from adding redundancy?"
   ]
  },
  {
   "cell_type": "code",
   "execution_count": null,
   "metadata": {},
   "outputs": [],
   "source": [
    "# 1. attributes; links?\n",
    "# 2. \n",
    "# 3. \n",
    "# 4. \n",
    "# 5. "
   ]
  },
  {
   "cell_type": "markdown",
   "metadata": {},
   "source": [
    "## Exercise 2: SQL warm-up\n",
    "Now that we familiarised ourself with the tables and relationship, we will begin with several SQL queries to ease us back into the language.\n",
    "\n",
    "<b>Practical tips:</b>\n",
    "- You might want to begin by retrieving a few rows from each of the database tables to get a sense of what is stored. \n",
    "- When testing your queries, it is good practice to add a \"LIMIT\" clause to avoid inadvertedly retrieving hundreds of rows."
   ]
  },
  {
   "cell_type": "markdown",
   "metadata": {},
   "source": [
    "The following is an example query that contains some common SQL expressions. A complete list can be found at: https://www.postgresql.org/docs/current/sql-select.html"
   ]
  },
  {
   "cell_type": "code",
   "execution_count": 7,
   "metadata": {},
   "outputs": [
    {
     "name": "stdout",
     "output_type": "stream",
     "text": [
      " * postgresql://postgres:***@db:5432/postgres\n",
      "5 rows affected.\n"
     ]
    },
    {
     "data": {
      "text/html": [
       "<table>\n",
       "    <thead>\n",
       "        <tr>\n",
       "            <th>column1</th>\n",
       "            <th>column2</th>\n",
       "            <th>column3</th>\n",
       "        </tr>\n",
       "    </thead>\n",
       "    <tbody>\n",
       "        <tr>\n",
       "            <td>Various Artists</td>\n",
       "            <td>2814</td>\n",
       "            <td>349.5806680881307747</td>\n",
       "        </tr>\n",
       "        <tr>\n",
       "            <td>DJ Snowman</td>\n",
       "            <td>548</td>\n",
       "            <td>287.5620437956204380</td>\n",
       "        </tr>\n",
       "        <tr>\n",
       "            <td>DJ Noise</td>\n",
       "            <td>504</td>\n",
       "            <td>401.8650793650793651</td>\n",
       "        </tr>\n",
       "        <tr>\n",
       "            <td>Dave 202</td>\n",
       "            <td>425</td>\n",
       "            <td>326.8800000000000000</td>\n",
       "        </tr>\n",
       "        <tr>\n",
       "            <td>DJ Nonsdrome</td>\n",
       "            <td>242</td>\n",
       "            <td>306.3842975206611570</td>\n",
       "        </tr>\n",
       "    </tbody>\n",
       "</table>"
      ],
      "text/plain": [
       "[('Various Artists', 2814, Decimal('349.5806680881307747')),\n",
       " ('DJ Snowman', 548, Decimal('287.5620437956204380')),\n",
       " ('DJ Noise', 504, Decimal('401.8650793650793651')),\n",
       " ('Dave 202', 425, Decimal('326.8800000000000000')),\n",
       " ('DJ Nonsdrome', 242, Decimal('306.3842975206611570'))]"
      ]
     },
     "execution_count": 7,
     "metadata": {},
     "output_type": "execute_result"
    }
   ],
   "source": [
    "%%sql\n",
    "SELECT DISTINCT\n",
    "    a.name AS column1,\n",
    "    COUNT(t.track_id) AS column2,\n",
    "    AVG(t.duration) AS column3\n",
    "FROM\n",
    "    artists a\n",
    "    JOIN released_by rb USING(artist_id)\n",
    "    JOIN releases r USING(release_id)\n",
    "    JOIN tracks t USING(release_id)\n",
    "WHERE\n",
    "    t.duration > 123\n",
    "    AND t.title != 'My Query'\n",
    "    AND r.country = 'Switzerland'\n",
    "GROUP BY\n",
    "    a.artist_id, a.name\n",
    "HAVING\n",
    "    COUNT(t.track_id) > 0\n",
    "ORDER BY\n",
    "    column2 DESC,\n",
    "    column3 DESC\n",
    "LIMIT 5;"
   ]
  },
  {
   "cell_type": "markdown",
   "metadata": {},
   "source": [
    "The following is a visual representation of the database schema for quick reference.\n",
    "\n",
    "<img src=\"https://polybox.ethz.ch/index.php/s/8CqNffQrR0EDbuC/download\" width=800/>"
   ]
  },
  {
   "cell_type": "markdown",
   "metadata": {},
   "source": [
    "#### 1. Retrieve all releases that were released after January 1, 2017."
   ]
  },
  {
   "cell_type": "code",
   "execution_count": 13,
   "metadata": {},
   "outputs": [
    {
     "name": "stdout",
     "output_type": "stream",
     "text": [
      " * postgresql://postgres:***@db:5432/postgres\n",
      "18 rows affected.\n"
     ]
    },
    {
     "data": {
      "text/html": [
       "<table>\n",
       "    <thead>\n",
       "        <tr>\n",
       "            <th>release_id</th>\n",
       "            <th>released</th>\n",
       "            <th>title</th>\n",
       "            <th>country</th>\n",
       "            <th>genre</th>\n",
       "        </tr>\n",
       "    </thead>\n",
       "    <tbody>\n",
       "        <tr>\n",
       "            <td>264023</td>\n",
       "            <td>2018-01-01</td>\n",
       "            <td>The Bad Behaviour E.P</td>\n",
       "            <td>UK</td>\n",
       "            <td>Electronic</td>\n",
       "        </tr>\n",
       "        <tr>\n",
       "            <td>332457</td>\n",
       "            <td>2018-01-01</td>\n",
       "            <td>Sudd. Autumn Collection 03</td>\n",
       "            <td>Sweden</td>\n",
       "            <td>Electronic</td>\n",
       "        </tr>\n",
       "        <tr>\n",
       "            <td>396986</td>\n",
       "            <td>2018-01-01</td>\n",
       "            <td>You Wanna Do What / In One Hand</td>\n",
       "            <td>UK</td>\n",
       "            <td>Electronic</td>\n",
       "        </tr>\n",
       "        <tr>\n",
       "            <td>396989</td>\n",
       "            <td>2018-01-01</td>\n",
       "            <td>Happy To Be Sad / I Was Just Leaving</td>\n",
       "            <td>UK</td>\n",
       "            <td>Electronic</td>\n",
       "        </tr>\n",
       "        <tr>\n",
       "            <td>400057</td>\n",
       "            <td>2018-01-01</td>\n",
       "            <td>No-Harm</td>\n",
       "            <td>UK</td>\n",
       "            <td>Electronic</td>\n",
       "        </tr>\n",
       "        <tr>\n",
       "            <td>406547</td>\n",
       "            <td>2018-01-01</td>\n",
       "            <td>Melburn / Into The Storm</td>\n",
       "            <td>UK</td>\n",
       "            <td>Electronic</td>\n",
       "        </tr>\n",
       "        <tr>\n",
       "            <td>501126</td>\n",
       "            <td>2018-01-01</td>\n",
       "            <td>Lectronic</td>\n",
       "            <td>Sweden</td>\n",
       "            <td>Electronic</td>\n",
       "        </tr>\n",
       "        <tr>\n",
       "            <td>514740</td>\n",
       "            <td>2018-01-01</td>\n",
       "            <td>Invisible Agent 002</td>\n",
       "            <td>Ireland</td>\n",
       "            <td>Electronic</td>\n",
       "        </tr>\n",
       "        <tr>\n",
       "            <td>618428</td>\n",
       "            <td>2018-01-01</td>\n",
       "            <td>Tribal Natty (Aphrodite Remix)</td>\n",
       "            <td>UK</td>\n",
       "            <td>Electronic</td>\n",
       "        </tr>\n",
       "        <tr>\n",
       "            <td>100000</td>\n",
       "            <td>2018-12-14</td>\n",
       "            <td>Kizomba Mix, Vol. 2 [2018] 2 CDs</td>\n",
       "            <td>Portugal</td>\n",
       "            <td>Electronic</td>\n",
       "        </tr>\n",
       "        <tr>\n",
       "            <td>130357</td>\n",
       "            <td>2018-01-01</td>\n",
       "            <td>Shed01</td>\n",
       "            <td>UK</td>\n",
       "            <td>Electronic</td>\n",
       "        </tr>\n",
       "        <tr>\n",
       "            <td>138522</td>\n",
       "            <td>2018-01-01</td>\n",
       "            <td>Jetlag Disco</td>\n",
       "            <td>Germany</td>\n",
       "            <td>Electronic</td>\n",
       "        </tr>\n",
       "        <tr>\n",
       "            <td>266607</td>\n",
       "            <td>2018-01-01</td>\n",
       "            <td>Volume 1</td>\n",
       "            <td>UK</td>\n",
       "            <td>Electronic</td>\n",
       "        </tr>\n",
       "        <tr>\n",
       "            <td>376880</td>\n",
       "            <td>2018-01-01</td>\n",
       "            <td>Technikal Support</td>\n",
       "            <td>UK</td>\n",
       "            <td>Electronic</td>\n",
       "        </tr>\n",
       "        <tr>\n",
       "            <td>482188</td>\n",
       "            <td>2018-01-01</td>\n",
       "            <td>Troika</td>\n",
       "            <td>Sweden</td>\n",
       "            <td>Electronic</td>\n",
       "        </tr>\n",
       "        <tr>\n",
       "            <td>648035</td>\n",
       "            <td>2018-01-01</td>\n",
       "            <td>Flowers From The Unknown</td>\n",
       "            <td>Denmark</td>\n",
       "            <td>Electronic</td>\n",
       "        </tr>\n",
       "        <tr>\n",
       "            <td>648051</td>\n",
       "            <td>2018-01-01</td>\n",
       "            <td>Outlines</td>\n",
       "            <td>Denmark</td>\n",
       "            <td>Electronic</td>\n",
       "        </tr>\n",
       "        <tr>\n",
       "            <td>648073</td>\n",
       "            <td>2018-01-01</td>\n",
       "            <td>III</td>\n",
       "            <td>Denmark</td>\n",
       "            <td>Electronic</td>\n",
       "        </tr>\n",
       "    </tbody>\n",
       "</table>"
      ],
      "text/plain": [
       "[(264023, datetime.date(2018, 1, 1), 'The Bad Behaviour E.P', 'UK', 'Electronic'),\n",
       " (332457, datetime.date(2018, 1, 1), 'Sudd. Autumn Collection 03', 'Sweden', 'Electronic'),\n",
       " (396986, datetime.date(2018, 1, 1), 'You Wanna Do What / In One Hand', 'UK', 'Electronic'),\n",
       " (396989, datetime.date(2018, 1, 1), 'Happy To Be Sad / I Was Just Leaving', 'UK', 'Electronic'),\n",
       " (400057, datetime.date(2018, 1, 1), 'No-Harm', 'UK', 'Electronic'),\n",
       " (406547, datetime.date(2018, 1, 1), 'Melburn / Into The Storm', 'UK', 'Electronic'),\n",
       " (501126, datetime.date(2018, 1, 1), 'Lectronic', 'Sweden', 'Electronic'),\n",
       " (514740, datetime.date(2018, 1, 1), 'Invisible Agent 002', 'Ireland', 'Electronic'),\n",
       " (618428, datetime.date(2018, 1, 1), 'Tribal Natty (Aphrodite Remix)', 'UK', 'Electronic'),\n",
       " (100000, datetime.date(2018, 12, 14), 'Kizomba Mix, Vol. 2 [2018] 2 CDs', 'Portugal', 'Electronic'),\n",
       " (130357, datetime.date(2018, 1, 1), 'Shed01', 'UK', 'Electronic'),\n",
       " (138522, datetime.date(2018, 1, 1), 'Jetlag Disco', 'Germany', 'Electronic'),\n",
       " (266607, datetime.date(2018, 1, 1), 'Volume 1', 'UK', 'Electronic'),\n",
       " (376880, datetime.date(2018, 1, 1), 'Technikal Support', 'UK', 'Electronic'),\n",
       " (482188, datetime.date(2018, 1, 1), 'Troika', 'Sweden', 'Electronic'),\n",
       " (648035, datetime.date(2018, 1, 1), 'Flowers From The Unknown', 'Denmark', 'Electronic'),\n",
       " (648051, datetime.date(2018, 1, 1), 'Outlines', 'Denmark', 'Electronic'),\n",
       " (648073, datetime.date(2018, 1, 1), 'III', 'Denmark', 'Electronic')]"
      ]
     },
     "execution_count": 13,
     "metadata": {},
     "output_type": "execute_result"
    }
   ],
   "source": [
    "%%sql\n",
    "SELECT * \n",
    "FROM releases \n",
    "WHERE releases.released > '2017-1-1'\n",
    ";"
   ]
  },
  {
   "cell_type": "markdown",
   "metadata": {},
   "source": [
    "#### 2. Find all tracks with a duration longer than 7 hours. Assume the 'duration' column in the 'tracks' table is in seconds."
   ]
  },
  {
   "cell_type": "code",
   "execution_count": 14,
   "metadata": {},
   "outputs": [
    {
     "name": "stdout",
     "output_type": "stream",
     "text": [
      " * postgresql://postgres:***@db:5432/postgres\n",
      "3 rows affected.\n"
     ]
    },
    {
     "data": {
      "text/html": [
       "<table>\n",
       "    <thead>\n",
       "        <tr>\n",
       "            <th>release_id</th>\n",
       "            <th>position</th>\n",
       "            <th>title</th>\n",
       "            <th>duration</th>\n",
       "            <th>track_id</th>\n",
       "        </tr>\n",
       "    </thead>\n",
       "    <tbody>\n",
       "        <tr>\n",
       "            <td>478281</td>\n",
       "            <td>4</td>\n",
       "            <td>Live 1996.12.30.</td>\n",
       "            <td>31934</td>\n",
       "            <td>2526159</td>\n",
       "        </tr>\n",
       "        <tr>\n",
       "            <td>47796</td>\n",
       "            <td>9</td>\n",
       "            <td>Rapper&#x27;s Relight</td>\n",
       "            <td>25579</td>\n",
       "            <td>256970</td>\n",
       "        </tr>\n",
       "        <tr>\n",
       "            <td>47796</td>\n",
       "            <td>11</td>\n",
       "            <td>Dialectical Transformation III Peace In Rwanda Mix</td>\n",
       "            <td>27196</td>\n",
       "            <td>256972</td>\n",
       "        </tr>\n",
       "    </tbody>\n",
       "</table>"
      ],
      "text/plain": [
       "[(478281, '4', 'Live 1996.12.30.', 31934, 2526159),\n",
       " (47796, '9', \"Rapper's Relight\", 25579, 256970),\n",
       " (47796, '11', 'Dialectical Transformation III Peace In Rwanda Mix', 27196, 256972)]"
      ]
     },
     "execution_count": 14,
     "metadata": {},
     "output_type": "execute_result"
    }
   ],
   "source": [
    "%%sql\n",
    "SELECT *\n",
    "FROM tracks\n",
    "WHERE tracks.duration > 7*60*60\n",
    ";"
   ]
  },
  {
   "cell_type": "markdown",
   "metadata": {},
   "source": [
    "#### 3. Retrieve the titles of 5 releases along with the names of the artists who released them."
   ]
  },
  {
   "cell_type": "code",
   "execution_count": 34,
   "metadata": {},
   "outputs": [
    {
     "name": "stdout",
     "output_type": "stream",
     "text": [
      " * postgresql://postgres:***@db:5432/postgres\n",
      "5 rows affected.\n"
     ]
    },
    {
     "data": {
      "text/html": [
       "<table>\n",
       "    <thead>\n",
       "        <tr>\n",
       "            <th>title</th>\n",
       "            <th>name</th>\n",
       "        </tr>\n",
       "    </thead>\n",
       "    <tbody>\n",
       "        <tr>\n",
       "            <td>Stockholm</td>\n",
       "            <td>The Persuader</td>\n",
       "        </tr>\n",
       "        <tr>\n",
       "            <td>Knockin&#x27; Boots Vol 2 Of 2</td>\n",
       "            <td>Mr. James Barth &amp; A.D.</td>\n",
       "        </tr>\n",
       "        <tr>\n",
       "            <td>Profound Sounds Vol. 1</td>\n",
       "            <td>Josh Wink</td>\n",
       "        </tr>\n",
       "        <tr>\n",
       "            <td>Flowerhead</td>\n",
       "            <td>DATacide</td>\n",
       "        </tr>\n",
       "        <tr>\n",
       "            <td>Knockin&#x27; Boots (Vol 1 Of 2)</td>\n",
       "            <td>Mr. James Barth &amp; A.D.</td>\n",
       "        </tr>\n",
       "    </tbody>\n",
       "</table>"
      ],
      "text/plain": [
       "[('Stockholm', 'The Persuader'),\n",
       " (\"Knockin' Boots Vol 2 Of 2\", 'Mr. James Barth & A.D.'),\n",
       " ('Profound Sounds Vol. 1', 'Josh Wink'),\n",
       " ('Flowerhead', 'DATacide'),\n",
       " (\"Knockin' Boots (Vol 1 Of 2)\", 'Mr. James Barth & A.D.')]"
      ]
     },
     "execution_count": 34,
     "metadata": {},
     "output_type": "execute_result"
    }
   ],
   "source": [
    "%%sql\n",
    "SELECT \n",
    "    releases.title,\n",
    "    artists.name\n",
    "FROM\n",
    "    artists\n",
    "    JOIN released_by USING(artist_id)\n",
    "    JOIN releases USING(release_id)\n",
    "LIMIT 5;"
   ]
  },
  {
   "cell_type": "markdown",
   "metadata": {},
   "source": [
    "#### 4. List each genre and the number of releases in that genre."
   ]
  },
  {
   "cell_type": "code",
   "execution_count": 24,
   "metadata": {},
   "outputs": [
    {
     "name": "stdout",
     "output_type": "stream",
     "text": [
      " * postgresql://postgres:***@db:5432/postgres\n",
      "15 rows affected.\n"
     ]
    },
    {
     "data": {
      "text/html": [
       "<table>\n",
       "    <thead>\n",
       "        <tr>\n",
       "            <th>genre</th>\n",
       "            <th>count</th>\n",
       "        </tr>\n",
       "    </thead>\n",
       "    <tbody>\n",
       "        <tr>\n",
       "            <td>Blues</td>\n",
       "            <td>48</td>\n",
       "        </tr>\n",
       "        <tr>\n",
       "            <td>Brass &amp; Military</td>\n",
       "            <td>4</td>\n",
       "        </tr>\n",
       "        <tr>\n",
       "            <td>Children&#x27;s</td>\n",
       "            <td>6</td>\n",
       "        </tr>\n",
       "        <tr>\n",
       "            <td>Classical</td>\n",
       "            <td>257</td>\n",
       "        </tr>\n",
       "        <tr>\n",
       "            <td>Electronic</td>\n",
       "            <td>183766</td>\n",
       "        </tr>\n",
       "        <tr>\n",
       "            <td>Folk, World, &amp; Country</td>\n",
       "            <td>101</td>\n",
       "        </tr>\n",
       "        <tr>\n",
       "            <td>Funk / Soul</td>\n",
       "            <td>3674</td>\n",
       "        </tr>\n",
       "        <tr>\n",
       "            <td>Hip Hop</td>\n",
       "            <td>10598</td>\n",
       "        </tr>\n",
       "        <tr>\n",
       "            <td>Jazz</td>\n",
       "            <td>3325</td>\n",
       "        </tr>\n",
       "        <tr>\n",
       "            <td>Latin</td>\n",
       "            <td>153</td>\n",
       "        </tr>\n",
       "        <tr>\n",
       "            <td>Non-Music</td>\n",
       "            <td>353</td>\n",
       "        </tr>\n",
       "        <tr>\n",
       "            <td>Pop</td>\n",
       "            <td>691</td>\n",
       "        </tr>\n",
       "        <tr>\n",
       "            <td>Reggae</td>\n",
       "            <td>1382</td>\n",
       "        </tr>\n",
       "        <tr>\n",
       "            <td>Rock</td>\n",
       "            <td>17541</td>\n",
       "        </tr>\n",
       "        <tr>\n",
       "            <td>Stage &amp; Screen</td>\n",
       "            <td>39</td>\n",
       "        </tr>\n",
       "    </tbody>\n",
       "</table>"
      ],
      "text/plain": [
       "[('Blues', 48),\n",
       " ('Brass & Military', 4),\n",
       " (\"Children's\", 6),\n",
       " ('Classical', 257),\n",
       " ('Electronic', 183766),\n",
       " ('Folk, World, & Country', 101),\n",
       " ('Funk / Soul', 3674),\n",
       " ('Hip Hop', 10598),\n",
       " ('Jazz', 3325),\n",
       " ('Latin', 153),\n",
       " ('Non-Music', 353),\n",
       " ('Pop', 691),\n",
       " ('Reggae', 1382),\n",
       " ('Rock', 17541),\n",
       " ('Stage & Screen', 39)]"
      ]
     },
     "execution_count": 24,
     "metadata": {},
     "output_type": "execute_result"
    }
   ],
   "source": [
    "%%sql\n",
    "SELECT\n",
    "    releases.genre,\n",
    "    COUNT(*)\n",
    "FROM\n",
    "    releases\n",
    "GROUP BY\n",
    "    releases.genre\n",
    ";"
   ]
  },
  {
   "cell_type": "markdown",
   "metadata": {},
   "source": [
    "#### 5. Identify the top 5 artists who have the most releases."
   ]
  },
  {
   "cell_type": "code",
   "execution_count": 32,
   "metadata": {},
   "outputs": [
    {
     "name": "stdout",
     "output_type": "stream",
     "text": [
      " * postgresql://postgres:***@db:5432/postgres\n",
      "5 rows affected.\n"
     ]
    },
    {
     "data": {
      "text/html": [
       "<table>\n",
       "    <thead>\n",
       "        <tr>\n",
       "            <th>name</th>\n",
       "            <th>cnt</th>\n",
       "        </tr>\n",
       "    </thead>\n",
       "    <tbody>\n",
       "        <tr>\n",
       "            <td>Various Artists</td>\n",
       "            <td>46123</td>\n",
       "        </tr>\n",
       "        <tr>\n",
       "            <td>Madonna</td>\n",
       "            <td>617</td>\n",
       "        </tr>\n",
       "        <tr>\n",
       "            <td>Pet Shop Boys</td>\n",
       "            <td>600</td>\n",
       "        </tr>\n",
       "        <tr>\n",
       "            <td>Faithless</td>\n",
       "            <td>336</td>\n",
       "        </tr>\n",
       "        <tr>\n",
       "            <td>Michael Jackson</td>\n",
       "            <td>332</td>\n",
       "        </tr>\n",
       "    </tbody>\n",
       "</table>"
      ],
      "text/plain": [
       "[('Various Artists', 46123),\n",
       " ('Madonna', 617),\n",
       " ('Pet Shop Boys', 600),\n",
       " ('Faithless', 336),\n",
       " ('Michael Jackson', 332)]"
      ]
     },
     "execution_count": 32,
     "metadata": {},
     "output_type": "execute_result"
    }
   ],
   "source": [
    "%%sql\n",
    "SELECT\n",
    "    artists.name,\n",
    "    COUNT(*) as cnt\n",
    "FROM\n",
    "    artists\n",
    "    JOIN released_by USING(artist_id)\n",
    "    JOIN releases USING(release_id)\n",
    "GROUP BY\n",
    "    artists.name\n",
    "ORDER BY\n",
    "    cnt\n",
    "DESC\n",
    "LIMIT 5;"
   ]
  },
  {
   "cell_type": "markdown",
   "metadata": {},
   "source": [
    "#### 6. Find the artist who has the longest total duration of tracks across all their releases."
   ]
  },
  {
   "cell_type": "code",
   "execution_count": 111,
   "metadata": {},
   "outputs": [
    {
     "name": "stdout",
     "output_type": "stream",
     "text": [
      " * postgresql://postgres:***@db:5432/postgres\n",
      "1 rows affected.\n"
     ]
    },
    {
     "data": {
      "text/html": [
       "<table>\n",
       "    <thead>\n",
       "        <tr>\n",
       "            <th>name</th>\n",
       "            <th>du</th>\n",
       "        </tr>\n",
       "    </thead>\n",
       "    <tbody>\n",
       "        <tr>\n",
       "            <td>Various Artists</td>\n",
       "            <td>227180023</td>\n",
       "        </tr>\n",
       "    </tbody>\n",
       "</table>"
      ],
      "text/plain": [
       "[('Various Artists', 227180023)]"
      ]
     },
     "execution_count": 111,
     "metadata": {},
     "output_type": "execute_result"
    }
   ],
   "source": [
    "%%sql\n",
    "SELECT\n",
    "    artists.name,\n",
    "    SUM(tracks.duration) as du\n",
    "FROM\n",
    "    artists\n",
    "    JOIN released_by USING(artist_id)\n",
    "    JOIN releases USING(release_id)\n",
    "    JOIN tracks USING(release_id)\n",
    "GROUP BY\n",
    "    artists.name\n",
    "ORDER BY\n",
    "    du\n",
    "DESC\n",
    "LIMIT 1;"
   ]
  },
  {
   "cell_type": "markdown",
   "metadata": {},
   "source": [
    "#### 7. Find how many releases that have tracks with duplicate titles."
   ]
  },
  {
   "cell_type": "code",
   "execution_count": 112,
   "metadata": {},
   "outputs": [
    {
     "name": "stdout",
     "output_type": "stream",
     "text": [
      " * postgresql://postgres:***@db:5432/postgres\n",
      "1 rows affected.\n"
     ]
    },
    {
     "data": {
      "text/html": [
       "<table>\n",
       "    <thead>\n",
       "        <tr>\n",
       "            <th>count</th>\n",
       "        </tr>\n",
       "    </thead>\n",
       "    <tbody>\n",
       "        <tr>\n",
       "            <td>9046</td>\n",
       "        </tr>\n",
       "    </tbody>\n",
       "</table>"
      ],
      "text/plain": [
       "[(9046,)]"
      ]
     },
     "execution_count": 112,
     "metadata": {},
     "output_type": "execute_result"
    }
   ],
   "source": [
    "%%sql\n",
    "SELECT\n",
    "    COUNT(*)\n",
    "FROM (\n",
    "    SELECT DISTINCT\n",
    "        releases.release_id\n",
    "    FROM\n",
    "        releases\n",
    "        JOIN tracks USING(release_id)\n",
    "    GROUP BY\n",
    "        releases.release_id, tracks.title\n",
    "    HAVING\n",
    "        COUNT(*) > 1\n",
    "             );"
   ]
  },
  {
   "cell_type": "markdown",
   "metadata": {},
   "source": [
    "#### 8. Retrieve the artists with the name of 'Coldplay'."
   ]
  },
  {
   "cell_type": "code",
   "execution_count": 44,
   "metadata": {},
   "outputs": [
    {
     "name": "stdout",
     "output_type": "stream",
     "text": [
      " * postgresql://postgres:***@db:5432/postgres\n",
      "1 rows affected.\n"
     ]
    },
    {
     "data": {
      "text/html": [
       "<table>\n",
       "    <thead>\n",
       "        <tr>\n",
       "            <th>artist_id</th>\n",
       "            <th>name</th>\n",
       "            <th>realname</th>\n",
       "            <th>profile</th>\n",
       "            <th>url</th>\n",
       "        </tr>\n",
       "    </thead>\n",
       "    <tbody>\n",
       "        <tr>\n",
       "            <td>29735</td>\n",
       "            <td>Coldplay</td>\n",
       "            <td>None</td>\n",
       "            <td>Coldplay is an English rock band from London, England. They&#x27;ve been a band since January 16, 1998 when they lost a demotape competition on XFM in London. Philip Christopher Harvey is the band&#x27;s manager.\r\n",
       " \r\n",
       " [b][u]Line-up:[/u][/b]\r\n",
       " Jonny Buckland (Jonathan Mark Buckland) - Guitar\r\n",
       " Will Champion (William Champion) - Drums\r\n",
       " Guy Berryman (Guy Rupert Berryman) - Bass\r\n",
       " Chris Martin (Christopher Anthony John Martin) - Vocals</td>\n",
       "            <td>http://coldplay.com/</td>\n",
       "        </tr>\n",
       "    </tbody>\n",
       "</table>"
      ],
      "text/plain": [
       "[(29735, 'Coldplay', None, \"Coldplay is an English rock band from London, England. They've been a band since January 16, 1998 when they lost a demotape competition on XFM in Lon ... (128 characters truncated) ... itar\\r Will Champion (William Champion) - Drums\\r Guy Berryman (Guy Rupert Berryman) - Bass\\r Chris Martin (Christopher Anthony John Martin) - Vocals\", 'http://coldplay.com/')]"
      ]
     },
     "execution_count": 44,
     "metadata": {},
     "output_type": "execute_result"
    }
   ],
   "source": [
    "%%sql\n",
    "SELECT *\n",
    "FROM\n",
    "    artists\n",
    "WHERE\n",
    "    artists.name LIKE '%Coldplay%'\n",
    ";"
   ]
  },
  {
   "cell_type": "markdown",
   "metadata": {},
   "source": [
    "#### 9. List the titles of all releases by that artist in alphabetical order.\n",
    "<b>Hint</b>: Ignore the fact that different relases can have the same title."
   ]
  },
  {
   "cell_type": "code",
   "execution_count": 51,
   "metadata": {},
   "outputs": [
    {
     "name": "stdout",
     "output_type": "stream",
     "text": [
      " * postgresql://postgres:***@db:5432/postgres\n",
      "40 rows affected.\n"
     ]
    },
    {
     "data": {
      "text/html": [
       "<table>\n",
       "    <thead>\n",
       "        <tr>\n",
       "            <th>title</th>\n",
       "        </tr>\n",
       "    </thead>\n",
       "    <tbody>\n",
       "        <tr>\n",
       "            <td>Acoustic</td>\n",
       "        </tr>\n",
       "        <tr>\n",
       "            <td>A Rush Of Blood To The Head</td>\n",
       "        </tr>\n",
       "        <tr>\n",
       "            <td>Boot Of Sound</td>\n",
       "        </tr>\n",
       "        <tr>\n",
       "            <td>Brothers &amp; Sisters</td>\n",
       "        </tr>\n",
       "        <tr>\n",
       "            <td>Clocks</td>\n",
       "        </tr>\n",
       "        <tr>\n",
       "            <td>Clocks...</td>\n",
       "        </tr>\n",
       "        <tr>\n",
       "            <td>Clocks / Chime Trance Remixes</td>\n",
       "        </tr>\n",
       "        <tr>\n",
       "            <td>Clocks (Cosmos Rmx)</td>\n",
       "        </tr>\n",
       "        <tr>\n",
       "            <td>Clocks (Dean Coleman Remix)</td>\n",
       "        </tr>\n",
       "        <tr>\n",
       "            <td>Clocks (Planet Rockers Remixes)</td>\n",
       "        </tr>\n",
       "        <tr>\n",
       "            <td>Clocks (Remix)</td>\n",
       "        </tr>\n",
       "        <tr>\n",
       "            <td>Fix You</td>\n",
       "        </tr>\n",
       "        <tr>\n",
       "            <td>Flesh / Don&#x27;t Need No Trouble</td>\n",
       "        </tr>\n",
       "        <tr>\n",
       "            <td>God</td>\n",
       "        </tr>\n",
       "        <tr>\n",
       "            <td>God Put A Smile Upon Your Face (Remixes)</td>\n",
       "        </tr>\n",
       "        <tr>\n",
       "            <td>In My Place</td>\n",
       "        </tr>\n",
       "        <tr>\n",
       "            <td>Murder Was The Bass / Clocks</td>\n",
       "        </tr>\n",
       "        <tr>\n",
       "            <td>One I Love</td>\n",
       "        </tr>\n",
       "        <tr>\n",
       "            <td>Parachutes</td>\n",
       "        </tr>\n",
       "        <tr>\n",
       "            <td>Remixes</td>\n",
       "        </tr>\n",
       "        <tr>\n",
       "            <td>Safety E.P.</td>\n",
       "        </tr>\n",
       "        <tr>\n",
       "            <td>Speed Of Sound</td>\n",
       "        </tr>\n",
       "        <tr>\n",
       "            <td>Speed Of Sound (2005 House Remixes)</td>\n",
       "        </tr>\n",
       "        <tr>\n",
       "            <td>Speed Of Sound (Karl G Remix)</td>\n",
       "        </tr>\n",
       "        <tr>\n",
       "            <td>Talk</td>\n",
       "        </tr>\n",
       "        <tr>\n",
       "            <td>Talk (Remixes)</td>\n",
       "        </tr>\n",
       "        <tr>\n",
       "            <td>Talk (Spencer Collective Mixes)</td>\n",
       "        </tr>\n",
       "        <tr>\n",
       "            <td>Talk - The Remixes</td>\n",
       "        </tr>\n",
       "        <tr>\n",
       "            <td>Talk (Thin White Duke Remix)</td>\n",
       "        </tr>\n",
       "        <tr>\n",
       "            <td>The Blue Room E.P.</td>\n",
       "        </tr>\n",
       "        <tr>\n",
       "            <td>The Metric System EP</td>\n",
       "        </tr>\n",
       "        <tr>\n",
       "            <td>The Scientist</td>\n",
       "        </tr>\n",
       "        <tr>\n",
       "            <td>Time</td>\n",
       "        </tr>\n",
       "        <tr>\n",
       "            <td>Trouble</td>\n",
       "        </tr>\n",
       "        <tr>\n",
       "            <td>Trouble / Clocks</td>\n",
       "        </tr>\n",
       "        <tr>\n",
       "            <td>Trouble In Paradise</td>\n",
       "        </tr>\n",
       "        <tr>\n",
       "            <td>Trouble - Norwegian Live EP</td>\n",
       "        </tr>\n",
       "        <tr>\n",
       "            <td>X&amp;Y</td>\n",
       "        </tr>\n",
       "        <tr>\n",
       "            <td>X&amp;Y (Special Dutch Edition)</td>\n",
       "        </tr>\n",
       "        <tr>\n",
       "            <td>Yellow</td>\n",
       "        </tr>\n",
       "    </tbody>\n",
       "</table>"
      ],
      "text/plain": [
       "[('Acoustic',),\n",
       " ('A Rush Of Blood To The Head',),\n",
       " ('Boot Of Sound',),\n",
       " ('Brothers & Sisters',),\n",
       " ('Clocks',),\n",
       " ('Clocks...',),\n",
       " ('Clocks / Chime Trance Remixes',),\n",
       " ('Clocks (Cosmos Rmx)',),\n",
       " ('Clocks (Dean Coleman Remix)',),\n",
       " ('Clocks (Planet Rockers Remixes)',),\n",
       " ('Clocks (Remix)',),\n",
       " ('Fix You',),\n",
       " (\"Flesh / Don't Need No Trouble\",),\n",
       " ('God',),\n",
       " ('God Put A Smile Upon Your Face (Remixes)',),\n",
       " ('In My Place',),\n",
       " ('Murder Was The Bass / Clocks',),\n",
       " ('One I Love',),\n",
       " ('Parachutes',),\n",
       " ('Remixes',),\n",
       " ('Safety E.P.',),\n",
       " ('Speed Of Sound',),\n",
       " ('Speed Of Sound (2005 House Remixes)',),\n",
       " ('Speed Of Sound (Karl G Remix)',),\n",
       " ('Talk',),\n",
       " ('Talk (Remixes)',),\n",
       " ('Talk (Spencer Collective Mixes)',),\n",
       " ('Talk - The Remixes',),\n",
       " ('Talk (Thin White Duke Remix)',),\n",
       " ('The Blue Room E.P.',),\n",
       " ('The Metric System EP',),\n",
       " ('The Scientist',),\n",
       " ('Time',),\n",
       " ('Trouble',),\n",
       " ('Trouble / Clocks',),\n",
       " ('Trouble In Paradise',),\n",
       " ('Trouble - Norwegian Live EP',),\n",
       " ('X&Y',),\n",
       " ('X&Y (Special Dutch Edition)',),\n",
       " ('Yellow',)]"
      ]
     },
     "execution_count": 51,
     "metadata": {},
     "output_type": "execute_result"
    }
   ],
   "source": [
    "%%sql\n",
    "SELECT DISTINCT\n",
    "    releases.title\n",
    "FROM\n",
    "    artists\n",
    "    JOIN released_by USING(artist_id)\n",
    "    JOIN releases USING(release_id)\n",
    "WHERE\n",
    "    artists.name = 'Coldplay'\n",
    "ORDER BY\n",
    "    releases.title\n",
    ";"
   ]
  },
  {
   "cell_type": "markdown",
   "metadata": {},
   "source": [
    "#### 10. How many tracks from 'Coldplay' have position '1'?"
   ]
  },
  {
   "cell_type": "code",
   "execution_count": 55,
   "metadata": {},
   "outputs": [
    {
     "name": "stdout",
     "output_type": "stream",
     "text": [
      " * postgresql://postgres:***@db:5432/postgres\n",
      "1 rows affected.\n"
     ]
    },
    {
     "data": {
      "text/html": [
       "<table>\n",
       "    <thead>\n",
       "        <tr>\n",
       "            <th>count</th>\n",
       "        </tr>\n",
       "    </thead>\n",
       "    <tbody>\n",
       "        <tr>\n",
       "            <td>32</td>\n",
       "        </tr>\n",
       "    </tbody>\n",
       "</table>"
      ],
      "text/plain": [
       "[(32,)]"
      ]
     },
     "execution_count": 55,
     "metadata": {},
     "output_type": "execute_result"
    }
   ],
   "source": [
    "%%sql\n",
    "SELECT\n",
    "    COUNT(*)\n",
    "FROM\n",
    "    artists\n",
    "    JOIN released_by USING(artist_id)\n",
    "    JOIN releases USING(release_id)\n",
    "    JOIN tracks USING(release_id)\n",
    "WHERE\n",
    "    artists.name = 'Coldplay' \n",
    "    AND tracks.position = '1'\n",
    ";"
   ]
  },
  {
   "cell_type": "markdown",
   "metadata": {},
   "source": [
    "#### 11. List the titles of all releases by Coldplay that contain less than 2 tracks."
   ]
  },
  {
   "cell_type": "code",
   "execution_count": 117,
   "metadata": {},
   "outputs": [
    {
     "name": "stdout",
     "output_type": "stream",
     "text": [
      " * postgresql://postgres:***@db:5432/postgres\n",
      "14 rows affected.\n"
     ]
    },
    {
     "data": {
      "text/html": [
       "<table>\n",
       "    <thead>\n",
       "        <tr>\n",
       "            <th>title</th>\n",
       "        </tr>\n",
       "    </thead>\n",
       "    <tbody>\n",
       "        <tr>\n",
       "            <td>Boot Of Sound</td>\n",
       "        </tr>\n",
       "        <tr>\n",
       "            <td>Clocks</td>\n",
       "        </tr>\n",
       "        <tr>\n",
       "            <td>Clocks (Cosmos Rmx)</td>\n",
       "        </tr>\n",
       "        <tr>\n",
       "            <td>Clocks (Dean Coleman Remix)</td>\n",
       "        </tr>\n",
       "        <tr>\n",
       "            <td>Clocks (Remix)</td>\n",
       "        </tr>\n",
       "        <tr>\n",
       "            <td>God</td>\n",
       "        </tr>\n",
       "        <tr>\n",
       "            <td>In My Place</td>\n",
       "        </tr>\n",
       "        <tr>\n",
       "            <td>One I Love</td>\n",
       "        </tr>\n",
       "        <tr>\n",
       "            <td>Speed Of Sound (Karl G Remix)</td>\n",
       "        </tr>\n",
       "        <tr>\n",
       "            <td>Talk</td>\n",
       "        </tr>\n",
       "        <tr>\n",
       "            <td>Talk (Thin White Duke Remix)</td>\n",
       "        </tr>\n",
       "        <tr>\n",
       "            <td>Time</td>\n",
       "        </tr>\n",
       "        <tr>\n",
       "            <td>Trouble</td>\n",
       "        </tr>\n",
       "        <tr>\n",
       "            <td>Trouble In Paradise</td>\n",
       "        </tr>\n",
       "    </tbody>\n",
       "</table>"
      ],
      "text/plain": [
       "[('Boot Of Sound',),\n",
       " ('Clocks',),\n",
       " ('Clocks (Cosmos Rmx)',),\n",
       " ('Clocks (Dean Coleman Remix)',),\n",
       " ('Clocks (Remix)',),\n",
       " ('God',),\n",
       " ('In My Place',),\n",
       " ('One I Love',),\n",
       " ('Speed Of Sound (Karl G Remix)',),\n",
       " ('Talk',),\n",
       " ('Talk (Thin White Duke Remix)',),\n",
       " ('Time',),\n",
       " ('Trouble',),\n",
       " ('Trouble In Paradise',)]"
      ]
     },
     "execution_count": 117,
     "metadata": {},
     "output_type": "execute_result"
    }
   ],
   "source": [
    "%%sql\n",
    "SELECT DISTINCT\n",
    "    releases.title\n",
    "FROM\n",
    "    artists\n",
    "    JOIN released_by USING(artist_id)\n",
    "    JOIN releases USING(release_id)\n",
    "    JOIN tracks USING(release_id)\n",
    "WHERE\n",
    "    artists.name = 'Coldplay' \n",
    "GROUP BY\n",
    "    releases.title, releases.release_id\n",
    "HAVING\n",
    "    COUNT(*) < 2\n",
    ";"
   ]
  },
  {
   "cell_type": "markdown",
   "metadata": {},
   "source": [
    "#### 12. What is the average track duration?"
   ]
  },
  {
   "cell_type": "code",
   "execution_count": 120,
   "metadata": {},
   "outputs": [
    {
     "name": "stdout",
     "output_type": "stream",
     "text": [
      " * postgresql://postgres:***@db:5432/postgres\n",
      "1 rows affected.\n"
     ]
    },
    {
     "data": {
      "text/html": [
       "<table>\n",
       "    <thead>\n",
       "        <tr>\n",
       "            <th>avg</th>\n",
       "        </tr>\n",
       "    </thead>\n",
       "    <tbody>\n",
       "        <tr>\n",
       "            <td>325.0749298696787647</td>\n",
       "        </tr>\n",
       "    </tbody>\n",
       "</table>"
      ],
      "text/plain": [
       "[(Decimal('325.0749298696787647'),)]"
      ]
     },
     "execution_count": 120,
     "metadata": {},
     "output_type": "execute_result"
    }
   ],
   "source": [
    "%%sql\n",
    "SELECT\n",
    "    AVG(tracks.duration)\n",
    "FROM\n",
    "    tracks\n",
    ";"
   ]
  },
  {
   "cell_type": "markdown",
   "metadata": {},
   "source": [
    "#### 13. How many artists have released tracks longer than twice the average?"
   ]
  },
  {
   "cell_type": "code",
   "execution_count": 119,
   "metadata": {},
   "outputs": [
    {
     "name": "stdout",
     "output_type": "stream",
     "text": [
      " * postgresql://postgres:***@db:5432/postgres\n",
      "1 rows affected.\n"
     ]
    },
    {
     "data": {
      "text/html": [
       "<table>\n",
       "    <thead>\n",
       "        <tr>\n",
       "            <th>count</th>\n",
       "        </tr>\n",
       "    </thead>\n",
       "    <tbody>\n",
       "        <tr>\n",
       "            <td>6386</td>\n",
       "        </tr>\n",
       "    </tbody>\n",
       "</table>"
      ],
      "text/plain": [
       "[(6386,)]"
      ]
     },
     "execution_count": 119,
     "metadata": {},
     "output_type": "execute_result"
    }
   ],
   "source": [
    "%%sql\n",
    "SELECT \n",
    "    COUNT(DISTINCT artists.artist_id)\n",
    "FROM artists\n",
    "        JOIN released_by USING(artist_id)\n",
    "        JOIN releases USING(release_id)\n",
    "        JOIN tracks USING(release_id)\n",
    "WHERE\n",
    "    tracks.duration > 2 * (\n",
    "    SELECT\n",
    "        AVG(tracks.duration)\n",
    "    FROM\n",
    "        tracks\n",
    ")\n",
    ";"
   ]
  },
  {
   "cell_type": "markdown",
   "metadata": {},
   "source": [
    "## Exercise 3: more SQL\n",
    "We will now see more complex SQL queries.\n",
    "\n",
    "<b>Practical tips:</b>\n",
    "\n",
    "When writing complex queries, you might want to split them into smaller parts by using <b>Common Table Expressions</b> (CTEs). A CTE is a named temporary result set that you can reference within statements (SELECT, INSERT, UPDATE, ... ). You can find more about CTEs at: https://www.postgresql.org/docs/current/queries-with.html\n",
    "\n",
    "The following is an example of a query using two CTEs:"
   ]
  },
  {
   "cell_type": "code",
   "execution_count": null,
   "metadata": {},
   "outputs": [],
   "source": [
    "%%sql\n",
    "WITH countries AS (\n",
    "    SELECT DISTINCT country FROM releases\n",
    "),\n",
    "genres AS (\n",
    "    SELECT DISTINCT genre FROM releases\n",
    ")\n",
    "SELECT c.country as column1, g.genre as column2\n",
    "FROM countries c, genres g\n",
    "LIMIT 5;"
   ]
  },
  {
   "cell_type": "markdown",
   "metadata": {},
   "source": [
    "In some exercises, you might also want to use <b>subqueries</b>. A subquery is a nested query, usually with the purpose of retrieving data that will be used in in the outer query. For instance, subqueries can appear in WHERE, FROM and SELECT clauses.\n",
    "\n",
    "The following is an example of a query than includes a subquery:"
   ]
  },
  {
   "cell_type": "code",
   "execution_count": null,
   "metadata": {},
   "outputs": [],
   "source": [
    "%%sql\n",
    "SELECT release_id as column1 FROM (\n",
    "    SELECT release_id, title, COUNT(*) FROM tracks\n",
    "    GROUP BY release_id, title\n",
    "    HAVING COUNT(*) > 1\n",
    ") sub\n",
    "LIMIT 5;"
   ]
  },
  {
   "cell_type": "markdown",
   "metadata": {},
   "source": [
    "#### 1. What is the title of the album from 'Coldplay' with the most amount of tracks?"
   ]
  },
  {
   "cell_type": "code",
   "execution_count": 121,
   "metadata": {},
   "outputs": [
    {
     "name": "stdout",
     "output_type": "stream",
     "text": [
      " * postgresql://postgres:***@db:5432/postgres\n",
      "1 rows affected.\n"
     ]
    },
    {
     "data": {
      "text/html": [
       "<table>\n",
       "    <thead>\n",
       "        <tr>\n",
       "            <th>title</th>\n",
       "            <th>count</th>\n",
       "        </tr>\n",
       "    </thead>\n",
       "    <tbody>\n",
       "        <tr>\n",
       "            <td>X&amp;Y (Special Dutch Edition)</td>\n",
       "            <td>19</td>\n",
       "        </tr>\n",
       "    </tbody>\n",
       "</table>"
      ],
      "text/plain": [
       "[('X&Y (Special Dutch Edition)', 19)]"
      ]
     },
     "execution_count": 121,
     "metadata": {},
     "output_type": "execute_result"
    }
   ],
   "source": [
    "%%sql\n",
    "SELECT\n",
    "    releases.title, COUNT(*)\n",
    "FROM\n",
    "    artists\n",
    "    JOIN released_by USING(artist_id)\n",
    "    JOIN releases USING(release_id)\n",
    "    JOIN tracks USING(release_id)\n",
    "WHERE\n",
    "    artists.name = 'Coldplay' \n",
    "GROUP BY \n",
    "    releases.title, releases.release_id\n",
    "ORDER BY\n",
    "    COUNT(*)\n",
    "DESC\n",
    "LIMIT 1;"
   ]
  },
  {
   "cell_type": "markdown",
   "metadata": {},
   "source": [
    "#### 2. What is the name of the first artist in alphabetical order with releases in the most genres. Please make sure to exclude \"Various Artists\"."
   ]
  },
  {
   "cell_type": "code",
   "execution_count": 86,
   "metadata": {},
   "outputs": [
    {
     "name": "stdout",
     "output_type": "stream",
     "text": [
      " * postgresql://postgres:***@db:5432/postgres\n",
      "1 rows affected.\n"
     ]
    },
    {
     "data": {
      "text/html": [
       "<table>\n",
       "    <thead>\n",
       "        <tr>\n",
       "            <th>name</th>\n",
       "            <th>cnt</th>\n",
       "        </tr>\n",
       "    </thead>\n",
       "    <tbody>\n",
       "        <tr>\n",
       "            <td>Diana Ross</td>\n",
       "            <td>7</td>\n",
       "        </tr>\n",
       "    </tbody>\n",
       "</table>"
      ],
      "text/plain": [
       "[('Diana Ross', 7)]"
      ]
     },
     "execution_count": 86,
     "metadata": {},
     "output_type": "execute_result"
    }
   ],
   "source": [
    "%%sql\n",
    "SELECT\n",
    "    name, cnt\n",
    "FROM\n",
    "(\n",
    "    SELECT \n",
    "        name, RANK() OVER (ORDER BY cnt DESC) as rk, cnt\n",
    "    FROM\n",
    "    (\n",
    "        SELECT\n",
    "            name, COUNT(*) as cnt\n",
    "        FROM\n",
    "        (\n",
    "            SELECT DISTINCT\n",
    "                artists.name as name, releases.genre\n",
    "            FROM\n",
    "                artists\n",
    "                JOIN released_by USING(artist_id)\n",
    "                JOIN releases USING(release_id)\n",
    "                JOIN tracks USING(release_id)\n",
    "            WHERE\n",
    "                artists.name != 'Various Artists'\n",
    "            GROUP BY\n",
    "                artists.name, releases.genre\n",
    "        )\n",
    "        GROUP BY\n",
    "            name\n",
    "    )\n",
    ")\n",
    "WHERE\n",
    "    rk = 1\n",
    "ORDER BY\n",
    "    name\n",
    "LIMIT 1\n",
    ";"
   ]
  },
  {
   "cell_type": "markdown",
   "metadata": {},
   "source": [
    "#### 3. In what year did they (the artist from the previous question) release their first album?"
   ]
  },
  {
   "cell_type": "code",
   "execution_count": 88,
   "metadata": {},
   "outputs": [
    {
     "name": "stdout",
     "output_type": "stream",
     "text": [
      " * postgresql://postgres:***@db:5432/postgres\n",
      "1 rows affected.\n"
     ]
    },
    {
     "data": {
      "text/html": [
       "<table>\n",
       "    <thead>\n",
       "        <tr>\n",
       "            <th>released</th>\n",
       "        </tr>\n",
       "    </thead>\n",
       "    <tbody>\n",
       "        <tr>\n",
       "            <td>1967-01-01</td>\n",
       "        </tr>\n",
       "    </tbody>\n",
       "</table>"
      ],
      "text/plain": [
       "[(datetime.date(1967, 1, 1),)]"
      ]
     },
     "execution_count": 88,
     "metadata": {},
     "output_type": "execute_result"
    }
   ],
   "source": [
    "%%sql\n",
    "SELECT\n",
    "    releases.released\n",
    "FROM\n",
    "    artists\n",
    "    JOIN released_by USING(artist_id)\n",
    "    JOIN releases USING(release_id)\n",
    "WHERE\n",
    "    artists.name = 'Diana Ross'\n",
    "ORDER BY\n",
    "    releases.released\n",
    "LIMIT 1\n",
    ";"
   ]
  },
  {
   "cell_type": "markdown",
   "metadata": {},
   "source": [
    "#### 4. How many artists have released an album with total track duration above twice the average total track duration?\n",
    "\n",
    "<b>Hint</b>: this is not the same as exercise 2.13 since we are lookong at the <b>total</b> track duration of the album."
   ]
  },
  {
   "cell_type": "code",
   "execution_count": 125,
   "metadata": {},
   "outputs": [
    {
     "name": "stdout",
     "output_type": "stream",
     "text": [
      " * postgresql://postgres:***@db:5432/postgres\n",
      "1 rows affected.\n"
     ]
    },
    {
     "data": {
      "text/html": [
       "<table>\n",
       "    <thead>\n",
       "        <tr>\n",
       "            <th>count</th>\n",
       "        </tr>\n",
       "    </thead>\n",
       "    <tbody>\n",
       "        <tr>\n",
       "            <td>6524</td>\n",
       "        </tr>\n",
       "    </tbody>\n",
       "</table>"
      ],
      "text/plain": [
       "[(6524,)]"
      ]
     },
     "execution_count": 125,
     "metadata": {},
     "output_type": "execute_result"
    }
   ],
   "source": [
    "%%sql\n",
    "WITH info AS\n",
    "(\n",
    "    SELECT\n",
    "        artists.name as name, releases.released as released, SUM(tracks.duration) as duration\n",
    "    FROM\n",
    "        artists\n",
    "        JOIN released_by USING(artist_id)\n",
    "        JOIN releases USING(release_id)\n",
    "        JOIN tracks USING(release_id)\n",
    "    GROUP BY\n",
    "        artists.name, releases.released\n",
    ")\n",
    "SELECT\n",
    "    count(DISTINCT info.name)\n",
    "FROM info\n",
    "WHERE\n",
    "    info.duration > 2 * (SELECT AVG(duration) FROM (SELECT SUM(duration) as duration FROM releases JOIN tracks USING(release_id) GROUP BY releases.release_id))\n",
    ";"
   ]
  },
  {
   "cell_type": "markdown",
   "metadata": {},
   "source": [
    "#### 5. How many artists have both a release with a track longer than twice the average and one with total duration longer than twice the average?\n",
    "\n",
    "<b>Hint</b>: you can use `INTERSECT` or `EXISTS` to write your query."
   ]
  },
  {
   "cell_type": "code",
   "execution_count": 103,
   "metadata": {},
   "outputs": [
    {
     "name": "stdout",
     "output_type": "stream",
     "text": [
      " * postgresql://postgres:***@db:5432/postgres\n",
      "1 rows affected.\n"
     ]
    },
    {
     "data": {
      "text/html": [
       "<table>\n",
       "    <thead>\n",
       "        <tr>\n",
       "            <th>count</th>\n",
       "        </tr>\n",
       "    </thead>\n",
       "    <tbody>\n",
       "        <tr>\n",
       "            <td>1570</td>\n",
       "        </tr>\n",
       "    </tbody>\n",
       "</table>"
      ],
      "text/plain": [
       "[(1570,)]"
      ]
     },
     "execution_count": 103,
     "metadata": {},
     "output_type": "execute_result"
    }
   ],
   "source": [
    "%%sql\n",
    "SELECT COUNT(*) FROM (\n",
    "WITH release_info AS\n",
    "(\n",
    "    SELECT\n",
    "        artists.name as name, releases.released as released, SUM(tracks.duration) as duration\n",
    "    FROM\n",
    "        artists\n",
    "        JOIN released_by USING(artist_id)\n",
    "        JOIN releases USING(release_id)\n",
    "        JOIN tracks USING(release_id)\n",
    "    GROUP BY\n",
    "        artists.name, releases.released\n",
    ")\n",
    ",\n",
    " album_info AS(\n",
    "    SELECT\n",
    "        artists.name as name, tracks.duration as duration\n",
    "    FROM\n",
    "        artists\n",
    "        JOIN released_by USING(artist_id)\n",
    "        JOIN releases USING(release_id)\n",
    "        JOIN tracks USING(release_id)\n",
    ")\n",
    "SELECT \n",
    "    DISTINCT release_info.name\n",
    "FROM release_info\n",
    "WHERE\n",
    "    release_info.duration > 2 * (SELECT AVG(duration) from release_info)\n",
    "\n",
    "INTERSECT\n",
    "\n",
    "SELECT\n",
    "    DISTINCT album_info.name\n",
    "FROM album_info\n",
    "WHERE\n",
    "    album_info.duration > 2 * (SELECT AVG(duration) from album_info)\n",
    ");\n"
   ]
  },
  {
   "cell_type": "markdown",
   "metadata": {},
   "source": [
    "#### 6. Show the artists have more than 200 releases in total but have no releases with the genre 'Pop' in reversed alphabetical order."
   ]
  },
  {
   "cell_type": "code",
   "execution_count": 109,
   "metadata": {},
   "outputs": [
    {
     "name": "stdout",
     "output_type": "stream",
     "text": [
      " * postgresql://postgres:***@db:5432/postgres\n",
      "11 rows affected.\n"
     ]
    },
    {
     "data": {
      "text/html": [
       "<table>\n",
       "    <thead>\n",
       "        <tr>\n",
       "            <th>name</th>\n",
       "        </tr>\n",
       "    </thead>\n",
       "    <tbody>\n",
       "        <tr>\n",
       "            <td>Underworld</td>\n",
       "        </tr>\n",
       "        <tr>\n",
       "            <td>The Shamen</td>\n",
       "        </tr>\n",
       "        <tr>\n",
       "            <td>The Art Of Noise</td>\n",
       "        </tr>\n",
       "        <tr>\n",
       "            <td>Technotronic</td>\n",
       "        </tr>\n",
       "        <tr>\n",
       "            <td>Tangerine Dream</td>\n",
       "        </tr>\n",
       "        <tr>\n",
       "            <td>Pet Shop Boys</td>\n",
       "        </tr>\n",
       "        <tr>\n",
       "            <td>Orbital</td>\n",
       "        </tr>\n",
       "        <tr>\n",
       "            <td>Kool &amp; The Gang</td>\n",
       "        </tr>\n",
       "        <tr>\n",
       "            <td>Faithless</td>\n",
       "        </tr>\n",
       "        <tr>\n",
       "            <td>Beastie Boys</td>\n",
       "        </tr>\n",
       "        <tr>\n",
       "            <td>ATB</td>\n",
       "        </tr>\n",
       "    </tbody>\n",
       "</table>"
      ],
      "text/plain": [
       "[('Underworld',),\n",
       " ('The Shamen',),\n",
       " ('The Art Of Noise',),\n",
       " ('Technotronic',),\n",
       " ('Tangerine Dream',),\n",
       " ('Pet Shop Boys',),\n",
       " ('Orbital',),\n",
       " ('Kool & The Gang',),\n",
       " ('Faithless',),\n",
       " ('Beastie Boys',),\n",
       " ('ATB',)]"
      ]
     },
     "execution_count": 109,
     "metadata": {},
     "output_type": "execute_result"
    }
   ],
   "source": [
    "%%sql\n",
    "SELECT *\n",
    "FROM\n",
    "(\n",
    "SELECT artists.name\n",
    "FROM\n",
    "    artists\n",
    "    JOIN released_by USING(artist_id)\n",
    "    JOIN releases USING(release_id)\n",
    "GROUP BY\n",
    "    artists.name\n",
    "HAVING\n",
    "    COUNT(*) > 200\n",
    "EXCEPT\n",
    "SELECT DISTINCT artists.name\n",
    "FROM\n",
    "    artists\n",
    "    JOIN released_by USING(artist_id)\n",
    "    JOIN releases USING(release_id)\n",
    "WHERE\n",
    "    releases.genre = 'Pop'\n",
    "GROUP BY\n",
    "    artists.name\n",
    ")\n",
    "ORDER BY\n",
    "    name\n",
    "DESC\n",
    ";"
   ]
  },
  {
   "cell_type": "markdown",
   "metadata": {},
   "source": [
    "## Exercise 4: Discuss query patterns and language features of SQL\n",
    "1. What patterns did you use in many of the queries above? \n",
    "\n",
    "2. What is the usual pattern of an SQL query? Which operations happen pre-grouping and which ones post-grouping?\n",
    "\n",
    "3. What makes SQL a declarative language and what advantages does that have?\n",
    "\n",
    "4. What makes SQL a functional language and what advantages does that have?\n",
    "\n",
    "5. How would the denormalization we talked about previously simplify the queries?"
   ]
  },
  {
   "cell_type": "code",
   "execution_count": null,
   "metadata": {},
   "outputs": [],
   "source": []
  },
  {
   "cell_type": "markdown",
   "metadata": {},
   "source": [
    "## Exercise 5: Limits of SQL (optional)\n",
    "Explain what the following query does.\n",
    "<b>Hints</b>: The query treats the data as if it was in graph shape."
   ]
  },
  {
   "cell_type": "code",
   "execution_count": 110,
   "metadata": {},
   "outputs": [
    {
     "name": "stdout",
     "output_type": "stream",
     "text": [
      " * postgresql://postgres:***@db:5432/postgres\n",
      "26 rows affected.\n"
     ]
    },
    {
     "data": {
      "text/html": [
       "<table>\n",
       "    <thead>\n",
       "        <tr>\n",
       "            <th>left_id</th>\n",
       "            <th>left_name</th>\n",
       "            <th>right_id</th>\n",
       "            <th>right_name</th>\n",
       "            <th>distance</th>\n",
       "        </tr>\n",
       "    </thead>\n",
       "    <tbody>\n",
       "        <tr>\n",
       "            <td>29735</td>\n",
       "            <td>Coldplay</td>\n",
       "            <td>1654</td>\n",
       "            <td>DK</td>\n",
       "            <td>1</td>\n",
       "        </tr>\n",
       "        <tr>\n",
       "            <td>29735</td>\n",
       "            <td>Coldplay</td>\n",
       "            <td>392179</td>\n",
       "            <td>G Synth</td>\n",
       "            <td>1</td>\n",
       "        </tr>\n",
       "        <tr>\n",
       "            <td>29735</td>\n",
       "            <td>Coldplay</td>\n",
       "            <td>10916</td>\n",
       "            <td>Jan Johnston</td>\n",
       "            <td>1</td>\n",
       "        </tr>\n",
       "        <tr>\n",
       "            <td>29735</td>\n",
       "            <td>Coldplay</td>\n",
       "            <td>1279</td>\n",
       "            <td>Orbital</td>\n",
       "            <td>1</td>\n",
       "        </tr>\n",
       "        <tr>\n",
       "            <td>29735</td>\n",
       "            <td>Coldplay</td>\n",
       "            <td>10785</td>\n",
       "            <td>Angelo Badalamenti</td>\n",
       "            <td>2</td>\n",
       "        </tr>\n",
       "        <tr>\n",
       "            <td>29735</td>\n",
       "            <td>Coldplay</td>\n",
       "            <td>29735</td>\n",
       "            <td>Coldplay</td>\n",
       "            <td>2</td>\n",
       "        </tr>\n",
       "        <tr>\n",
       "            <td>29735</td>\n",
       "            <td>Coldplay</td>\n",
       "            <td>11101</td>\n",
       "            <td>Cosmic Gate</td>\n",
       "            <td>2</td>\n",
       "        </tr>\n",
       "        <tr>\n",
       "            <td>29735</td>\n",
       "            <td>Coldplay</td>\n",
       "            <td>7090</td>\n",
       "            <td>Freefall</td>\n",
       "            <td>2</td>\n",
       "        </tr>\n",
       "        <tr>\n",
       "            <td>29735</td>\n",
       "            <td>Coldplay</td>\n",
       "            <td>2604010</td>\n",
       "            <td>Jada (7)</td>\n",
       "            <td>2</td>\n",
       "        </tr>\n",
       "        <tr>\n",
       "            <td>29735</td>\n",
       "            <td>Coldplay</td>\n",
       "            <td>18836</td>\n",
       "            <td>Kirk Hammett</td>\n",
       "            <td>2</td>\n",
       "        </tr>\n",
       "        <tr>\n",
       "            <td>29735</td>\n",
       "            <td>Coldplay</td>\n",
       "            <td>11749</td>\n",
       "            <td>Knuckleheadz</td>\n",
       "            <td>2</td>\n",
       "        </tr>\n",
       "        <tr>\n",
       "            <td>29735</td>\n",
       "            <td>Coldplay</td>\n",
       "            <td>166466</td>\n",
       "            <td>Skip Raiders</td>\n",
       "            <td>2</td>\n",
       "        </tr>\n",
       "        <tr>\n",
       "            <td>29735</td>\n",
       "            <td>Coldplay</td>\n",
       "            <td>11101</td>\n",
       "            <td>Cosmic Gate</td>\n",
       "            <td>3</td>\n",
       "        </tr>\n",
       "        <tr>\n",
       "            <td>29735</td>\n",
       "            <td>Coldplay</td>\n",
       "            <td>29121</td>\n",
       "            <td>DJ Work!</td>\n",
       "            <td>3</td>\n",
       "        </tr>\n",
       "        <tr>\n",
       "            <td>29735</td>\n",
       "            <td>Coldplay</td>\n",
       "            <td>1654</td>\n",
       "            <td>DK</td>\n",
       "            <td>3</td>\n",
       "        </tr>\n",
       "        <tr>\n",
       "            <td>29735</td>\n",
       "            <td>Coldplay</td>\n",
       "            <td>7090</td>\n",
       "            <td>Freefall</td>\n",
       "            <td>3</td>\n",
       "        </tr>\n",
       "        <tr>\n",
       "            <td>29735</td>\n",
       "            <td>Coldplay</td>\n",
       "            <td>392179</td>\n",
       "            <td>G Synth</td>\n",
       "            <td>3</td>\n",
       "        </tr>\n",
       "        <tr>\n",
       "            <td>29735</td>\n",
       "            <td>Coldplay</td>\n",
       "            <td>2604010</td>\n",
       "            <td>Jada (7)</td>\n",
       "            <td>3</td>\n",
       "        </tr>\n",
       "        <tr>\n",
       "            <td>29735</td>\n",
       "            <td>Coldplay</td>\n",
       "            <td>10916</td>\n",
       "            <td>Jan Johnston</td>\n",
       "            <td>3</td>\n",
       "        </tr>\n",
       "        <tr>\n",
       "            <td>29735</td>\n",
       "            <td>Coldplay</td>\n",
       "            <td>5525</td>\n",
       "            <td>KGB</td>\n",
       "            <td>3</td>\n",
       "        </tr>\n",
       "        <tr>\n",
       "            <td>29735</td>\n",
       "            <td>Coldplay</td>\n",
       "            <td>223468</td>\n",
       "            <td>Mark N-R-G</td>\n",
       "            <td>3</td>\n",
       "        </tr>\n",
       "        <tr>\n",
       "            <td>29735</td>\n",
       "            <td>Coldplay</td>\n",
       "            <td>114414</td>\n",
       "            <td>Nemesis</td>\n",
       "            <td>3</td>\n",
       "        </tr>\n",
       "        <tr>\n",
       "            <td>29735</td>\n",
       "            <td>Coldplay</td>\n",
       "            <td>1279</td>\n",
       "            <td>Orbital</td>\n",
       "            <td>3</td>\n",
       "        </tr>\n",
       "        <tr>\n",
       "            <td>29735</td>\n",
       "            <td>Coldplay</td>\n",
       "            <td>166466</td>\n",
       "            <td>Skip Raiders</td>\n",
       "            <td>3</td>\n",
       "        </tr>\n",
       "        <tr>\n",
       "            <td>29735</td>\n",
       "            <td>Coldplay</td>\n",
       "            <td>11887</td>\n",
       "            <td>Talla 2XLC</td>\n",
       "            <td>3</td>\n",
       "        </tr>\n",
       "        <tr>\n",
       "            <td>29735</td>\n",
       "            <td>Coldplay</td>\n",
       "            <td>25501</td>\n",
       "            <td>Tillmann Uhrmacher</td>\n",
       "            <td>3</td>\n",
       "        </tr>\n",
       "    </tbody>\n",
       "</table>"
      ],
      "text/plain": [
       "[(29735, 'Coldplay', 1654, 'DK', 1),\n",
       " (29735, 'Coldplay', 392179, 'G Synth', 1),\n",
       " (29735, 'Coldplay', 10916, 'Jan Johnston', 1),\n",
       " (29735, 'Coldplay', 1279, 'Orbital', 1),\n",
       " (29735, 'Coldplay', 10785, 'Angelo Badalamenti', 2),\n",
       " (29735, 'Coldplay', 29735, 'Coldplay', 2),\n",
       " (29735, 'Coldplay', 11101, 'Cosmic Gate', 2),\n",
       " (29735, 'Coldplay', 7090, 'Freefall', 2),\n",
       " (29735, 'Coldplay', 2604010, 'Jada (7)', 2),\n",
       " (29735, 'Coldplay', 18836, 'Kirk Hammett', 2),\n",
       " (29735, 'Coldplay', 11749, 'Knuckleheadz', 2),\n",
       " (29735, 'Coldplay', 166466, 'Skip Raiders', 2),\n",
       " (29735, 'Coldplay', 11101, 'Cosmic Gate', 3),\n",
       " (29735, 'Coldplay', 29121, 'DJ Work!', 3),\n",
       " (29735, 'Coldplay', 1654, 'DK', 3),\n",
       " (29735, 'Coldplay', 7090, 'Freefall', 3),\n",
       " (29735, 'Coldplay', 392179, 'G Synth', 3),\n",
       " (29735, 'Coldplay', 2604010, 'Jada (7)', 3),\n",
       " (29735, 'Coldplay', 10916, 'Jan Johnston', 3),\n",
       " (29735, 'Coldplay', 5525, 'KGB', 3),\n",
       " (29735, 'Coldplay', 223468, 'Mark N-R-G', 3),\n",
       " (29735, 'Coldplay', 114414, 'Nemesis', 3),\n",
       " (29735, 'Coldplay', 1279, 'Orbital', 3),\n",
       " (29735, 'Coldplay', 166466, 'Skip Raiders', 3),\n",
       " (29735, 'Coldplay', 11887, 'Talla 2XLC', 3),\n",
       " (29735, 'Coldplay', 25501, 'Tillmann Uhrmacher', 3)]"
      ]
     },
     "execution_count": 110,
     "metadata": {},
     "output_type": "execute_result"
    }
   ],
   "source": [
    "%%sql\n",
    "WITH RECURSIVE\n",
    "    X AS (SELECT 3 AS Value),\n",
    "    artist_releases AS (\n",
    "        SELECT artists.artist_id, artists.name, releases.release_id, releases.title\n",
    "        FROM artists, released_by, releases\n",
    "        WHERE artists.artist_id = released_by.artist_id\n",
    "        AND released_by.release_id = releases.release_id\n",
    "    ),\n",
    "    collaborations AS (\n",
    "        SELECT DISTINCT ar1.artist_id AS left_id, ar1.name AS left_name, \n",
    "                ar2.artist_id AS right_id, ar2.name AS right_name, 1 AS distance\n",
    "        FROM artist_releases AS ar1, artist_releases AS ar2\n",
    "        WHERE ar1.release_id = ar2.release_id\n",
    "        AND ar1.artist_id != ar2.artist_id\n",
    "    ),\n",
    "    X_hop_collaborations AS (\n",
    "        SELECT * FROM collaborations  -- base case\n",
    "        UNION\n",
    "        SELECT c1.left_id, c1.left_name, c2.right_id, c2.right_name, c1.distance + 1 AS distance\n",
    "        FROM X_hop_collaborations AS c1\n",
    "        JOIN collaborations c2 ON c1.right_id = c2.left_id\n",
    "        WHERE c1.distance < (SELECT * FROM X)\n",
    "    )\n",
    "SELECT * \n",
    "FROM X_hop_collaborations\n",
    "WHERE left_name = 'Coldplay'\n",
    "ORDER BY distance, right_name;"
   ]
  },
  {
   "cell_type": "code",
   "execution_count": 138,
   "metadata": {},
   "outputs": [
    {
     "name": "stdout",
     "output_type": "stream",
     "text": [
      " * postgresql://postgres:***@db:5432/postgres\n",
      "5 rows affected.\n"
     ]
    },
    {
     "data": {
      "text/html": [
       "<table>\n",
       "    <thead>\n",
       "        <tr>\n",
       "            <th>name</th>\n",
       "            <th>artist_id</th>\n",
       "            <th>cnt</th>\n",
       "        </tr>\n",
       "    </thead>\n",
       "    <tbody>\n",
       "        <tr>\n",
       "            <td>Technotronic</td>\n",
       "            <td>14457</td>\n",
       "            <td>24</td>\n",
       "        </tr>\n",
       "        <tr>\n",
       "            <td>ATB</td>\n",
       "            <td>5797</td>\n",
       "            <td>21</td>\n",
       "        </tr>\n",
       "        <tr>\n",
       "            <td>Madonna</td>\n",
       "            <td>8760</td>\n",
       "            <td>21</td>\n",
       "        </tr>\n",
       "        <tr>\n",
       "            <td>Pet Shop Boys</td>\n",
       "            <td>7552</td>\n",
       "            <td>21</td>\n",
       "        </tr>\n",
       "        <tr>\n",
       "            <td>Faithless</td>\n",
       "            <td>4118</td>\n",
       "            <td>20</td>\n",
       "        </tr>\n",
       "    </tbody>\n",
       "</table>"
      ],
      "text/plain": [
       "[('Technotronic', 14457, 24),\n",
       " ('ATB', 5797, 21),\n",
       " ('Madonna', 8760, 21),\n",
       " ('Pet Shop Boys', 7552, 21),\n",
       " ('Faithless', 4118, 20)]"
      ]
     },
     "execution_count": 138,
     "metadata": {},
     "output_type": "execute_result"
    }
   ],
   "source": [
    "%%sql\n",
    "SELECT\n",
    "    artists.name, artists.artist_id, COUNT(DISTINCT releases.country) as cnt\n",
    "FROM\n",
    "    artists\n",
    "    JOIN released_by USING(artist_id)\n",
    "    JOIN releases USING(release_id)\n",
    "WHERE\n",
    "    artists.name != 'Various Artists'\n",
    "GROUP BY\n",
    "    artists.name, artists.artist_id\n",
    "ORDER BY\n",
    "    cnt DESC,\n",
    "    name ASC\n",
    "LIMIT 5;"
   ]
  },
  {
   "cell_type": "code",
   "execution_count": 147,
   "metadata": {},
   "outputs": [
    {
     "name": "stdout",
     "output_type": "stream",
     "text": [
      " * postgresql://postgres:***@db:5432/postgres\n",
      "15 rows affected.\n"
     ]
    },
    {
     "data": {
      "text/html": [
       "<table>\n",
       "    <thead>\n",
       "        <tr>\n",
       "            <th>genre</th>\n",
       "            <th>av</th>\n",
       "        </tr>\n",
       "    </thead>\n",
       "    <tbody>\n",
       "        <tr>\n",
       "            <td>Blues</td>\n",
       "            <td>16.5833333333333333</td>\n",
       "        </tr>\n",
       "        <tr>\n",
       "            <td>Stage &amp; Screen</td>\n",
       "            <td>14.4102564102564103</td>\n",
       "        </tr>\n",
       "        <tr>\n",
       "            <td>Jazz</td>\n",
       "            <td>12.5554887218045113</td>\n",
       "        </tr>\n",
       "        <tr>\n",
       "            <td>Folk, World, &amp; Country</td>\n",
       "            <td>12.2079207920792079</td>\n",
       "        </tr>\n",
       "        <tr>\n",
       "            <td>Children&#x27;s</td>\n",
       "            <td>12.0000000000000000</td>\n",
       "        </tr>\n",
       "        <tr>\n",
       "            <td>Latin</td>\n",
       "            <td>11.7385620915032680</td>\n",
       "        </tr>\n",
       "        <tr>\n",
       "            <td>Non-Music</td>\n",
       "            <td>11.2124645892351275</td>\n",
       "        </tr>\n",
       "        <tr>\n",
       "            <td>Reggae</td>\n",
       "            <td>10.1671490593342981</td>\n",
       "        </tr>\n",
       "        <tr>\n",
       "            <td>Rock</td>\n",
       "            <td>10.0942363605267659</td>\n",
       "        </tr>\n",
       "        <tr>\n",
       "            <td>Brass &amp; Military</td>\n",
       "            <td>10.0000000000000000</td>\n",
       "        </tr>\n",
       "        <tr>\n",
       "            <td>Classical</td>\n",
       "            <td>9.5642023346303502</td>\n",
       "        </tr>\n",
       "        <tr>\n",
       "            <td>Hip Hop</td>\n",
       "            <td>8.9810341573881865</td>\n",
       "        </tr>\n",
       "        <tr>\n",
       "            <td>Pop</td>\n",
       "            <td>8.3270622286541245</td>\n",
       "        </tr>\n",
       "        <tr>\n",
       "            <td>Electronic</td>\n",
       "            <td>7.2625240795359316</td>\n",
       "        </tr>\n",
       "        <tr>\n",
       "            <td>Funk / Soul</td>\n",
       "            <td>6.8075666848121938</td>\n",
       "        </tr>\n",
       "    </tbody>\n",
       "</table>"
      ],
      "text/plain": [
       "[('Blues', Decimal('16.5833333333333333')),\n",
       " ('Stage & Screen', Decimal('14.4102564102564103')),\n",
       " ('Jazz', Decimal('12.5554887218045113')),\n",
       " ('Folk, World, & Country', Decimal('12.2079207920792079')),\n",
       " (\"Children's\", Decimal('12.0000000000000000')),\n",
       " ('Latin', Decimal('11.7385620915032680')),\n",
       " ('Non-Music', Decimal('11.2124645892351275')),\n",
       " ('Reggae', Decimal('10.1671490593342981')),\n",
       " ('Rock', Decimal('10.0942363605267659')),\n",
       " ('Brass & Military', Decimal('10.0000000000000000')),\n",
       " ('Classical', Decimal('9.5642023346303502')),\n",
       " ('Hip Hop', Decimal('8.9810341573881865')),\n",
       " ('Pop', Decimal('8.3270622286541245')),\n",
       " ('Electronic', Decimal('7.2625240795359316')),\n",
       " ('Funk / Soul', Decimal('6.8075666848121938'))]"
      ]
     },
     "execution_count": 147,
     "metadata": {},
     "output_type": "execute_result"
    }
   ],
   "source": [
    "%%sql\n",
    "SELECT\n",
    "    genre, AVG(cnt) as av\n",
    "FROM (\n",
    "    SELECT\n",
    "        releases.genre, releases.release_id, COUNT(*) as cnt\n",
    "    FROM\n",
    "        releases\n",
    "        JOIN tracks USING(release_id)\n",
    "    GROUP BY\n",
    "        releases.genre, releases.release_id\n",
    ")\n",
    "GROUP BY\n",
    "    genre\n",
    "ORDER BY\n",
    "    av\n",
    "DESC\n",
    ";"
   ]
  }
 ],
 "metadata": {
  "kernelspec": {
   "display_name": "Python 3 (ipykernel)",
   "language": "python",
   "name": "python3"
  },
  "language_info": {
   "codemirror_mode": {
    "name": "ipython",
    "version": 3
   },
   "file_extension": ".py",
   "mimetype": "text/x-python",
   "name": "python",
   "nbconvert_exporter": "python",
   "pygments_lexer": "ipython3",
   "version": "3.9.18"
  }
 },
 "nbformat": 4,
 "nbformat_minor": 4
}
