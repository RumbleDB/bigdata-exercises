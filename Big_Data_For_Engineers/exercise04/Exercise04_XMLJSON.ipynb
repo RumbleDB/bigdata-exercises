{
 "cells": [
  {
   "cell_type": "markdown",
   "metadata": {
    "id": "NuCg0Y2RzMWs"
   },
   "source": [
    "# <center>Big Data &ndash; Exercises</center>\n",
    "## <center>Fall 2021 &ndash; Week 4 &ndash; ETH Zurich</center>\n",
    "\n",
    "## Introduction\n",
    "This exercise will cover XML and JSON well-formedness.\n",
    "\n",
    "For the next four weeks you will be using [oXygen 23.1](https://www.oxygenxml.com/xml_editor/download_oxygenxml_editor.html), an XML/JSON development IDE. Before starting, make sure oXygen is installed and working on your computer. You can download the required licence from the [ETH IT shop](https://itshop.ethz.ch/EndUser/Items/Home):\n",
    "\n",
    "1. Login with your ETH credentials and go to **Software & Licenses** > **Order Software Product**.\n",
    "\n",
    "<img src=\"https://cloud.inf.ethz.ch/s/StyxcGRDfbzdQ5R/download\" width=800/>\n",
    "\n",
    "2. Look for \"oxygen\" and select the version that fits your local setup.\n",
    "\n",
    "<img src=\"https://cloud.inf.ethz.ch/s/4Q8rZ6tRaT9tXZT/download\" width=800/>\n",
    "\n",
    "3. Click **Next step** at the bottom, and accept the terms of services.\n",
    "\n",
    "4. Wait until you get the confirmation email (it should take a couple of minutes). Follow the instructions, and download the __license file__: \n",
    "\n",
    "<img src=\"https://cloud.inf.ethz.ch/s/qWQtSW5gz8Ea62M/download\" width=800/>\n"
   ]
  },
  {
   "cell_type": "markdown",
   "metadata": {
    "id": "4hrBGv0dzMWv",
    "tags": []
   },
   "source": [
    "## 1 XML\n",
    "### 1.1 Well-formedness\n",
    "Correct the following XML documents to be well-formed. Try first to \"parse\" it in mind, the use oXygen to check.\n",
    "\n",
    "\n",
    "1.\n",
    "\n",
    "```\n",
    "<?xml version=\"1.0\"?>\n",
    "<catalog>\n",
    "    <!-- Start book list --to be defined -->\n",
    "    <Book id=`bk101`>\n",
    "        <author>&cright; Gambardella, Matthew</author>\n",
    "        <title>XML Developer's Guide</title>\n",
    "        <genre>Computer</genre>\n",
    "        <price>44.95€</price>\n",
    "        <publish_date version='hard' version='soft'>2000-10-01</publish_date>\n",
    "        <_description lang=en>An `in-depth look` at creating applications \n",
    "        with XML <for dummies>.</_description>\n",
    "        <xml_parse>true</xml_parse>\n",
    "    </book>\n",
    "</>\n",
    "```"
   ]
  },
  {
   "cell_type": "markdown",
   "metadata": {
    "id": "ebH3Uv1IzMWx"
   },
   "source": [
    "2.\n",
    "\n",
    "```\n",
    "<?xml version=\"1.0\" encoding=\"utf-16\"?>\n",
    "<h:library xmlns:xdc=\"http://www.xml.com/books\" xmlns:h=\"http://xml.com/library\">\n",
    "    <head><h:title>Book Review</title></head>\n",
    "    <body/>\n",
    "        <_xdc:bookreview>\n",
    "            <xdc:title>XML: A Primer</xdc:title>\n",
    "            <_table _style='container'>\n",
    "                <h:tr align=\"#center\">\n",
    "                    <h:td>Author<h:span>St. Laurent & Tom Faron</h:td></h:span>\n",
    "                </h:tr>\n",
    "                <h:tr align=\"#left\">\n",
    "                    <h:td><xdc:author>Simon St. Laurent</xdc:author></h:td>\n",
    "                    <h:td><xdc:price>31.98</xdc:price></h:td>\n",
    "                    <h:td><xdc:#pages>352</xdc:#pages></h:td>\n",
    "                    <h:td><xdc:_date>1998/01</xdc:_date></h:td>\n",
    "                    <h:td><xdc:-comment>Love it</xdc:-comment></h:td>\n",
    "                </h:tr>\n",
    "            </_table>\n",
    "        </_xdc:bookreview>\n",
    "    </body>\n",
    "</h:library>\n",
    "```\n",
    "\n"
   ]
  },
  {
   "cell_type": "markdown",
   "metadata": {
    "id": "1UEdcl-mzMWz"
   },
   "source": [
    "### 1.2 Create your own XML\n",
    "1. Copy the text of the introduction above (including the title until 'your computer') and paste it into oXygen as plain text. Create a possible XML document, having the same context and including formatting (title, sections, style, links, etc.). Make sure your XML is well-formed and save it as `doc1.xml`.\n",
    "\n",
    "1. Copy the same text into Microsoft Word or OpenOffice and save it XML (both programs allow to export as `.xml` if you use *Save as...*).\n",
    "\n",
    "**Questions**\n",
    "1. Compare the two XML. What differences do you notice?\n",
    "1. Is this data structured, unstructured, or semi-structured?\n"
   ]
  },
  {
   "cell_type": "markdown",
   "metadata": {
    "id": "BIGkkC4qzMW0"
   },
   "source": [
    "### 1.3 XML Names\n",
    "Which of the following are well-formed XML tags (i.e. which tag contain a conform XML name)? \n",
    "1. `<_bar/>`\n",
    "1. `<123foo/>`\n",
    "1. `<Foo/>`\n",
    "1. `<foo 123>`\n",
    "1. `<foo_123/>`\n",
    "1. `<foo#123/>`\n",
    "1. `<foo-123/>`\n",
    "1. `<foo.123/>`\n"
   ]
  },
  {
   "cell_type": "markdown",
   "metadata": {
    "id": "N1LgkdQCzMW3"
   },
   "source": [
    "### 1.4 Predefined entities\n",
    "XML has only 5 predefined entities. Connect each escape code to the corresponding value.\n",
    "1. `&lt;` &nbsp;&nbsp;&nbsp;&nbsp;&nbsp;&nbsp;&nbsp;&nbsp;&nbsp;&nbsp;&nbsp;&nbsp;&nbsp;&nbsp;     >\n",
    "1. `&amp;`&nbsp;&nbsp;&nbsp;&nbsp;&nbsp;&nbsp;&nbsp;&nbsp;&nbsp;&nbsp;&nbsp;&nbsp;&nbsp;           \"\n",
    "1. `&gt;` &nbsp;&nbsp;&nbsp;&nbsp;&nbsp;&nbsp;&nbsp;&nbsp;&nbsp;&nbsp;&nbsp;&nbsp;&nbsp;&nbsp;     '\n",
    "1. `&quot;` &nbsp;&nbsp;&nbsp;&nbsp;&nbsp;&nbsp;&nbsp;&nbsp;&nbsp;&nbsp;                           &\n",
    "1. `&apos;` &nbsp;&nbsp;&nbsp;&nbsp;&nbsp;&nbsp;&nbsp;&nbsp;&nbsp;&nbsp;                           <\n"
   ]
  },
  {
   "cell_type": "markdown",
   "metadata": {
    "id": "auT4Gtw_zMW9"
   },
   "source": [
    "## 2. JSON"
   ]
  },
  {
   "cell_type": "markdown",
   "metadata": {
    "id": "pgmBi5gLzMW_"
   },
   "source": [
    "### 2.1 Well-formedness\n",
    "Correct the following JSON documents to be well-formed. Try first to \"parse\" them in mind, the use oXygen to check.\n",
    "\n",
    "1. \n",
    "\n",
    "\n",
    "```\n",
    "{\n",
    "  \"firstName\": \"John\",\n",
    "  \"lastName\": \"Smith\",\n",
    "  \"isAlive\": true,\n",
    "  age: 25,\n",
    "  \"isRetired\",\n",
    "  \"address\": {\n",
    "    \"streetAddress\": \"21 2nd Street\",\n",
    "    \"city\": \"New York\",\n",
    "    \"state\": \"NY\",\n",
    "    \"postalCode\": \"10021-3100\",\n",
    "    'is verified' : \"true\"\n",
    "  }\n",
    "  'phoneNumbers': [\n",
    "    {\n",
    "      \"type\": [[\"home\"]],\n",
    "      \"@number\": \"212 555-1234\"\n",
    "    },\n",
    "    {\n",
    "      \"type\": [[\"office\"]],\n",
    "      \"@number\": \"646 555-4567\"\n",
    "    },\n",
    "    {\n",
    "      \"type\": [[\"mobile\"[],\n",
    "      \"@number\": \"123 456-7890\"\n",
    "    }\n",
    "  ],\n",
    "  \"children\": [],\n",
    "  \"settings\": {},\n",
    "  \"spouse\": Null\n",
    "}\n",
    "```\n",
    "\n",
    "2.\n",
    "\n",
    "\n",
    "```\n",
    "[\n",
    "    1: {\n",
    "      \"name\": 'John'\n",
    "      \"lastname\": 'Smith',\n",
    "      \"account\": \"jsmith\"\n",
    "      \"phonenumbers\" [{\n",
    "           \"type\": \"home\",\n",
    "           \"1phone\": 212-3242,\n",
    "           \"2phone\": \"545-4568\"\n",
    "       }]\n",
    "    },\n",
    "    2: {\n",
    "      \"name\": \"Jane\"\n",
    "      \"lastname\": 'Doe',\n",
    "      \"account\": \"jdoe\"\n",
    "      \"phonenumbers\" [\n",
    "      {\n",
    "           \"type\": \"home\",\n",
    "           \"phone\": \"8989 7685\"\n",
    "      },\n",
    "      \"phone\": \"545-4568\"\n",
    "      ],\n",
    "      \"account\": \"janedoe\"\n",
    "    }\n",
    "]\n",
    "```\n",
    "\n"
   ]
  },
  {
   "cell_type": "markdown",
   "metadata": {
    "id": "huP99zZyzMXD"
   },
   "source": [
    "## 3 Conversions from a relational database\n",
    "\n",
    "Messages from conversations between users are stored in a SQL table. Translate this table into XML and JSON.\n",
    "\n",
    "|conversation_id | people | sender | content | timestamp | is_read | attachment_id|\n",
    "|----------------|--------|--------|---------|-----------|---------|--------------|\n",
    "|42|charlie,ari,jesse|charlie|hey, here's the doc ><|1510410193|TRUE|NULL|\n",
    "|42|charlie,ari,jesse|charlie|NULL|1510410244|TRUE|doc_6492|\n",
    "|42|charlie,ari,jesse|ari|thanks! \\o/|1510432987|FALSE|NULL|\n",
    "|17|rudy,sage|rudy|look at this cute \"bat-cat\"! 😻|1500897189|TRUE|img_91847|\n",
    "|17|rudy,sage|NULL|aww ♥|1506610190|TRUE|NULL|\n",
    "    \n",
    "    \n"
   ]
  },
  {
   "cell_type": "markdown",
   "metadata": {
    "id": "LAVl3bkNzMXF"
   },
   "source": [
    "## 4 More XML\n",
    "### 4.1 HTML vs XHTML\n",
    "As mentioned during the lectures, HTML has a similar structure to XML, but it's more lenient, meaning, that valid HTML documents are not necessarily valid XML documents. XHTML is an extension to HTML that conforms to the XML standard. Is the following correct HTML? Is it correct XML? Is it XHTML?\n",
    "\n",
    "```html\n",
    "<html>\n",
    "  <head>\n",
    "    <title>Untitled</title>\n",
    "  </head>\n",
    "  Dear jane <br>\n",
    "  <p>You are invited at the weekly meeting\n",
    "  <p>Yours sincerely, <br>\n",
    "  John\n",
    "</html>\n",
    "```\n",
    "\n"
   ]
  },
  {
   "cell_type": "markdown",
   "metadata": {
    "id": "Egf8ePvBzMXH"
   },
   "source": [
    "### 4.2 XML Namespaces\n",
    "\n",
    "1. Is the following XML file well-formed?\n",
    "1. What are the namespaces of each attribute and each element?\n",
    "1. What's wrong with this file? Fix it so it is well-formed, follows best practices, and each element uses the correct namespace.\n",
    "\n",
    "```xml\n",
    "<?xml version=\"1.0\" encoding=\"UTF-8\"?>\n",
    "<foo\n",
    "xmlns=\"http://xmlrepo.test/foo.xml\"\n",
    "xmlns:foo=\"http://xmlrepo.test/foo.xml\"\n",
    "xmlns:math=\"http://xmlrepo.test/math.xml\">\n",
    "    <bar:baz xmlns:bar=\"http://xmlrepo.test/bar.xml\" bar:attr=\"some attribute\" lalala=\"some other attribute\">\n",
    "        <svg xmlns=\"http://xmlrepo.test/svg.xml\">\n",
    "            <textbox>\n",
    "                <math:msup>42</math:msup>\n",
    "                <foo:plus/>\n",
    "                <math:msub>17</math:msub>\n",
    "            </textbox>\n",
    "            <foo_value id=\"748\">some value</foo_value>\n",
    "        </svg>\n",
    "        <svg xmlns:svg=\"http://xmlrepo.test/svg.xml\">\n",
    "            <svg:textbox>\n",
    "                <math:msup>42</math:msup>\n",
    "                <foo:plus/>\n",
    "                <msub>17</msub>\n",
    "            </svg:textbox>\n",
    "            <bar_value id=\"867\">some other value</bar_value>\n",
    "        </svg>\n",
    "        <math:othermath/>\n",
    "    </bar:baz>\n",
    "</foo>\n",
    "\n",
    "```\n",
    "\n"
   ]
  },
  {
   "cell_type": "markdown",
   "metadata": {
    "id": "EL3XvoaCzMXM"
   },
   "source": [
    "\n",
    "## 5. From XML to JSON - back to the REST API request result from previous exercise sessions.\n",
    "In this exercise you are asked to translate the following XML document into a JSON document. \n",
    "Remember the REST API call we used during the tutorial about Azure Blob Storage. The result was an XML file. Below you can find the result of the request (with some elements removed for simplicity and a second fake blob added to the response). Now that you can parse it, transform it as a JSON file. \n",
    "```xml \n",
    "<EnumerationResults ContainerName=\"https://melaniestorage.blob.core.windows.net/exercise02\">\n",
    "    <Blobs>\n",
    "        <Blob>\n",
    "            <Name>picture</Name>\n",
    "            <Url>https://melaniestorage.blob.core.windows.net/exercise02/picture</Url>\n",
    "            <Properties>\n",
    "                <Last-Modified>Wed, 03 Oct 2018 07:22:16 GMT</Last-Modified>\n",
    "                <Content-Length>136356</Content-Length>\n",
    "                <Content-Encoding />\n",
    "                <BlobType>BlockBlob</BlobType>\n",
    "            </Properties>\n",
    "        </Blob>\n",
    "        <Blob>\n",
    "            <Name>music</Name>\n",
    "            <Url>https://melaniestorage.blob.core.windows.net/exercise02/music</Url>\n",
    "            <Properties>\n",
    "                <Last-Modified>Wed, 03 Oct 2018 07:23:16 GMT</Last-Modified>\n",
    "                <Content-Length>222222</Content-Length>\n",
    "                <Content-Encoding />\n",
    "                <BlobType>BlockBlob</BlobType>\n",
    "            </Properties>\n",
    "        </Blob>\n",
    "    </Blobs>\n",
    "</EnumerationResults>\n",
    "```\n"
   ]
  },
  {
   "cell_type": "markdown",
   "metadata": {
    "id": "h4-pCXvAR0BP"
   },
   "source": [
    "##6. JSON to XML - exploring an open API\n",
    "In this exercise you can use any open API that answers with a JSON. One such API is: [the Star Wars API](https://swapi.dev/). Below you can find an (slightly modified) example of the response to the request: https://swapi.dev/api/people/1/. Parse it and transform it to XML.\n",
    "\n",
    "```json\n",
    "{\n",
    "  \"name\": \"Luke Skywalker\",\n",
    "  \"height\": \"172\",\n",
    "  \"mass\": \"77\",\n",
    "  \"homeworld\": \"http://swapi.dev/api/planets/1/\",\n",
    "  \"films\": [\n",
    "    \"http://swapi.dev/api/films/1/\",\n",
    "    \"http://swapi.dev/api/films/2/\",\n",
    "    \"http://swapi.dev/api/films/3/\",\n",
    "    \"http://swapi.dev/api/films/6/\"\n",
    "  ],\n",
    "  \"starships\": [],\n",
    "  \"vehicles\": [\n",
    "    \"http://swapi.dev/api/vehicles/14/\",\n",
    "    \"http://swapi.dev/api/vehicles/30/\"\n",
    "  ]\n",
    "}\n",
    "```"
   ]
  },
  {
   "cell_type": "markdown",
   "metadata": {
    "id": "ngx6ko7-zMXQ"
   },
   "source": [
    "## 7. XML vs CSV - the limits of tables for heterogeneous data\n",
    "If your document consists of a collection of heterogeneous objects with different attributes, XML/JSON turns out to be more suited than a comma-separated format to store the data. In this exercise we want to show that denormalization is a good idea in this setting. \n",
    "\n",
    "You are given the following XML document representing a collection of products available in an online shop selling all kinds of products. In this product catalog each product has different attributes. You are asked to turn this data into a CSV file.\n",
    "```xml\n",
    "<productscatalog>\n",
    "    <product>\n",
    "        <id> 1 </id>\n",
    "        <category> BBQ </category>\n",
    "        <type> Gas </type>\n",
    "        <height> 120cm </height>\n",
    "    </product>\n",
    "    <product>\n",
    "        <id> 2 </id>\n",
    "        <category> notebook </category>\n",
    "        <brand> Apple </brand>\n",
    "        <specs>\n",
    "            <RAM> 16Gb </RAM>\n",
    "            <storage> 128Gb </storage>\n",
    "        </specs>\n",
    "    </product>\n",
    "    <product>\n",
    "        <id> 3 </id>\n",
    "        <category> shoes </category>\n",
    "        <size> 39 </size>\n",
    "        <model> Heels </model>\n",
    "    </product>\n",
    "</productscatalog>\n",
    "```    \n",
    "\n",
    "Solution 1:\n",
    "```csv\n",
    "id, category, type, height, brand, specs:RAM, specs:storage, size, model\n",
    "1, BBQ, Gas, 120cm, , , , , ,\n",
    "2, notebook, , , Apple, 16gb, 128gb, ,\n",
    "3, shoes, , , , , , , 39, Heels\n",
    "```\n",
    "\n",
    "Solution 2:\n",
    "```\n",
    "id, AttributeName, AttributeValue\n",
    "2, brand,Apple\n",
    "1, category, BBQ\n",
    "2, height, 120cm\n",
    "1, type, Gas\n",
    "2, category, notebook\n",
    "2, specs:RAM, 16gb\n",
    "2, specs:storage, 128gb\n",
    "2, specs:9999, 42mb....\n",
    "2, specs2:RAM, 12gb\n",
    "```\n",
    "\n",
    "1. Write the documents in a CSV format (i.e. in a table).\n",
    "\n",
    "2. What are the disadvantages of the CSV format compared to the XML format in this case?\n",
    "\n",
    "3. Give an example of one use case where the CSV format would be more appropriate than the XML format."
   ]
  }
 ],
 "metadata": {
  "colab": {
   "collapsed_sections": [],
   "name": "Exercise04_XMLJSON.ipynb",
   "provenance": []
  },
  "kernelspec": {
   "display_name": "Python 3 (ipykernel)",
   "language": "python",
   "name": "python3"
  },
  "language_info": {
   "codemirror_mode": {
    "name": "ipython",
    "version": 3
   },
   "file_extension": ".py",
   "mimetype": "text/x-python",
   "name": "python",
   "nbconvert_exporter": "python",
   "pygments_lexer": "ipython3",
   "version": "3.7.8"
  },
  "toc": {
   "base_numbering": 1,
   "nav_menu": {},
   "number_sections": true,
   "sideBar": true,
   "skip_h1_title": false,
   "title_cell": "Table of Contents",
   "title_sidebar": "Contents",
   "toc_cell": false,
   "toc_position": {},
   "toc_section_display": true,
   "toc_window_display": false
  }
 },
 "nbformat": 4,
 "nbformat_minor": 4
}
