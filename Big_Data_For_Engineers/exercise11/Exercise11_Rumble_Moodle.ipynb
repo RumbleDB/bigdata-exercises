{
 "cells": [
  {
   "cell_type": "markdown",
   "metadata": {
    "id": "Zo6cemRekqqm"
   },
   "source": [
    "# Big Data for Engineers – Moodle\n",
    "\n",
    "# Fall 2022 -  Week 11 - Rumble\n",
    "\n"
   ]
  },
  {
   "cell_type": "markdown",
   "metadata": {
    "id": "AwccKb2YmMoC"
   },
   "source": [
    "# Moodle Graded Exercise 11.1"
   ]
  },
  {
   "cell_type": "markdown",
   "metadata": {
    "id": "7DmHBqKMmMoC"
   },
   "source": [
    "And now to the actual Moodle queries. Here we still use the language game dataset (please use the **small** dataset for these questions: confusion-100000.json).\n",
    "\n",
    "\n",
    "1\\. Find the number of games where the guessed language is wrong (meaning not equal to the target one) and that language is German."
   ]
  },
  {
   "cell_type": "code",
   "execution_count": null,
   "metadata": {
    "id": "73H8vujbmMoD"
   },
   "outputs": [],
   "source": []
  },
  {
   "cell_type": "markdown",
   "metadata": {
    "id": "7CA8ZYb9mMoD"
   },
   "source": [
    "2\\. Return the number of distinct \"target\" languages."
   ]
  },
  {
   "cell_type": "code",
   "execution_count": null,
   "metadata": {
    "id": "W2TkLWRTmMoD"
   },
   "outputs": [],
   "source": []
  },
  {
   "cell_type": "markdown",
   "metadata": {},
   "source": [
    "# Moodle Graded Exercise 11.2"
   ]
  },
  {
   "cell_type": "markdown",
   "metadata": {
    "id": "NG7FQ1n_mMoD"
   },
   "source": [
    "3\\. Return the sample IDs (i.e., the sample field) of the top two (2) games where the guessed language is wrong (equal to not the target one) ordered by language (ascending), then by country (ascending), then by date (ascending)."
   ]
  },
  {
   "cell_type": "code",
   "execution_count": null,
   "metadata": {
    "id": "BgWadItlmMoE"
   },
   "outputs": [],
   "source": []
  },
  {
   "cell_type": "markdown",
   "metadata": {
    "id": "dE8WL2BmmMoE"
   },
   "source": [
    "4\\. Aggregate all games by country and target language, counting the number of guesses for each group and return the frequencies of the three least frequent country/language combinations."
   ]
  },
  {
   "cell_type": "code",
   "execution_count": null,
   "metadata": {
    "id": "GkKL6Xi-mMoE"
   },
   "outputs": [],
   "source": []
  },
  {
   "cell_type": "markdown",
   "metadata": {},
   "source": [
    "# Moodle Graded Exercise 11.3"
   ]
  },
  {
   "cell_type": "markdown",
   "metadata": {
    "id": "Fwc-biM5mMoF"
   },
   "source": [
    "5\\. Find the percentage of games where (the answer was correct && the correct guess was the tenth choice amongst the array of possible answers)."
   ]
  },
  {
   "cell_type": "code",
   "execution_count": null,
   "metadata": {
    "id": "Ch5PkkgdmMoG"
   },
   "outputs": [],
   "source": []
  },
  {
   "cell_type": "markdown",
   "metadata": {},
   "source": [
    "# Moodle Graded Exercise 11.4"
   ]
  },
  {
   "cell_type": "markdown",
   "metadata": {
    "id": "Fwc-biM5mMoF"
   },
   "source": [
    "6\\. Sort the languages by decreasing overall percentage of wrong guesses and return the first three languages."
   ]
  },
  {
   "cell_type": "code",
   "execution_count": null,
   "metadata": {},
   "outputs": [],
   "source": []
  }
 ],
 "metadata": {
  "colab": {
   "collapsed_sections": [
    "Uy48JTprhrKW",
    "eELMD0pqhrKW",
    "3Pcf7FL7Aetl",
    "OG0xJS2KHEF3",
    "jQycXJuCHHJW",
    "3ivTnfw5HMZz",
    "sKmgYw_jHPZ3",
    "IAjnh_H2HUa1",
    "yVvQBpVxHWuz",
    "XW8fQM8WHYt7",
    "PE_9pQzhAOyo"
   ],
   "name": "Exercise12_Rumble_Solutions.ipynb",
   "provenance": [],
   "toc_visible": true
  },
  "kernelspec": {
   "display_name": "Python 3 (ipykernel)",
   "language": "python",
   "name": "python3"
  },
  "language_info": {
   "codemirror_mode": {
    "name": "ipython",
    "version": 3
   },
   "file_extension": ".py",
   "mimetype": "text/x-python",
   "name": "python",
   "nbconvert_exporter": "python",
   "pygments_lexer": "ipython3",
   "version": "3.9.12"
  },
  "toc": {
   "base_numbering": 1,
   "nav_menu": {},
   "number_sections": true,
   "sideBar": true,
   "skip_h1_title": false,
   "title_cell": "Table of Contents",
   "title_sidebar": "Contents",
   "toc_cell": false,
   "toc_position": {},
   "toc_section_display": true,
   "toc_window_display": false
  }
 },
 "nbformat": 4,
 "nbformat_minor": 1
}
