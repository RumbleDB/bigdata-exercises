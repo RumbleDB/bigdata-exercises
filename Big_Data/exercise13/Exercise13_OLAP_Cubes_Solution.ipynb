{
 "cells": [
  {
   "cell_type": "markdown",
   "metadata": {},
   "source": [
    "# <center>Big Data &ndash; Exercises &ndash; Solution</center>\n",
    "## <center>Fall 2022 &ndash; Week 13 &ndash; ETH Zurich</center>\n",
    "## <center>Cubes</center>"
   ]
  },
  {
   "cell_type": "markdown",
   "metadata": {},
   "source": [
    "## Introduction\n",
    "\n",
    "In this exercise, we analyze the sales data of a fictious wholesale supplier\n",
    "(taken from the database system benchmark [TPC-H](http://www.tpc.org/tpch/))\n",
    "in our favorite spreadsheet application. Then, we will use SQL to query the data shape cube. \n",
    "A cube is a collection of numeric data organized by arrays of discrete identifiers (Janus and Fouché, 2009). It is quite natural, as we see in the lectures, to map cubes to tables. "
   ]
  },
  {
   "cell_type": "markdown",
   "metadata": {},
   "source": [
    "## 1. The TPC-H Dataset as OLAP Cube\n",
    "\n",
    "Let us get familiar with the dataset.\n",
    "It consists of orders made, each of which is made by a customer, and consists of lineitems.\n",
    "Think of an order as a shopping cart with several items in it.\n",
    "The items of an order are parts that may be provided by different suppliers.\n",
    "Suppliers and customers come from different nations, which are grouped into regions of the world.\n",
    "The following figure illustrates the schema of the TPC-H dataset.\n",
    "<br>\n",
    "\n",
    "![Schema of the TPC-H dataset](./tpch.png)\n",
    "\n",
    "\n",
    "### Task 1\n",
    "\n",
    "1. Which table(s) of the TPC-H schema is/are the fact table(s)?\n",
    "1. What is/are the measure(s)?\n",
    "1. What are the dimensions?\n",
    "1. What do you call this flavor of OLAP?"
   ]
  },
  {
   "cell_type": "markdown",
   "metadata": {},
   "source": [
    "### Solutions\n",
    "\n",
    "1. **Which table(s) of the TPC-H schema is/are the fact table(s)?**  \n",
    "   It depends on what we want to analyze, i.e., it depends on which cube we define on the tables.\n",
    "   In general, the fact table is the table that contains the measure(s).\n",
    "   If we analyze orders, then the order is the fact table.\n",
    "   We could also analyze line items, in which case we probably want information of the order each item belongs to as well,\n",
    "   so we would take the join of lineitem and orders as fact table.\n",
    "\n",
    "\n",
    "\n",
    "2. **What is/are the measure(s)?**  \n",
    "   As we have seen in the lecture, there can be more than one measure in one fact table. \n",
    "   Fact tables often contain many different measures\n",
    "   and it makes sense to have a cube with several of them at the same time\n",
    "   (for example, revenue, profit, net price, and gross price).\n",
    "   For example, in the table *lineitems*, quantity, extendedprice, discount, and tax can be used as measures;\n",
    "   in *orders*, totalprice; in *partsupp*, availqty and supplycost;\n",
    "   in *part*, retailprice; and in *customer* and *supplier*, acctbal.\n",
    "   Intuitively, if it makes sense to calculate the sum or average of an attribute,\n",
    "   then we can probably use it as measure.\n",
    "\n",
    "\n",
    "\n",
    "3. **What are the dimensions?**  \n",
    "   All other attributes (except keys, which are only an artifact of normalization).\n",
    "   Some of them have explictly materialized hierarchies, such as the geographical hierarchy for nation and regions.\n",
    "   The time dimension is also hierarchical, but the tables do not materialize it explictly:\n",
    "   each date can be broken down into year, quarter, month, week, etc.\n",
    "   Dimensions are typically discrete values. \n",
    "   Another way to look at it is:\n",
    "   if it makes sense to have a foreign key to another table instead of an inline attribute,\n",
    "   then the attribute is a dimension.\n",
    "\n",
    "\n",
    "\n",
    "4. **What do you call this flavor of OLAP?**  \n",
    "   If the data is stored and presented as relations, we speak of \"Relational OLAP\" (ROLAP).\n",
    "   If, instead, cubes are primary citizens in a system optimized for multidimensional analysis,\n",
    "   we speak of \"Multidimensional OLAP\" (MOLAP).\n",
    "   Since Multidimensional Expressions (MDX) is designed for cubes and SQL is not, we need to note the following:\n",
    "   1. MDX better suited in terms of language; in SQL, a programmer needs to map cube concepts to relations him/herself.\n",
    "   1. The result of an MDX query is directly presented as cube,\n",
    "      whereas postprocessing is needed to get roll-ups out of a SQL query.\n",
    "   1. Execution of roll-up queries is potentially more efficient in an engine that is aware of grouping sets\n",
    "      (which is the case for many advance SQL-based systems).\n",
    "\n",
    "   So, while there is a certain competance mismatch between MDX and SQL, it is relatively small.\n",
    "   As we will see in the following exercises, the translation of cube concepts to SQL is *relatively* easy.\n",
    "   Also, in practice, MDX might not be available (we did not find a proper free tool for you to try MDX, unfortunately)."
   ]
  },
  {
   "cell_type": "markdown",
   "metadata": {},
   "source": [
    "## 2. Analyzing TPC-H with a Pivot Table\n",
    "\n",
    "Open local [Exercise13_OLAP_Cubes](./Exercise13_OLAP_Cubes.xls) with your favorite spreadsheet application.\n",
    "The file contains a universal table (a fully denormalized table) of a small TPC-H dataset.\n",
    "The schema has been modified slightly to make analysis in a spreadsheet application easier:\n",
    "The two precomputed measures revenue and cost\n",
    "as well as the hierarchy of time dimensions in the attribute *orderdate* have been added in the materialized form\n",
    "and some other attributes have been removed.\n",
    "\n",
    "You may need to look up how to use pivot tables in your spreadsheet application.\n",
    "\n",
    "1. Microsoft Excel: [PivotTable](https://support.office.com/en-us/article/Create-a-PivotTable-to-analyze-worksheet-data-a9a84538-bfe9-40a9-a8e9-f99134456576)\n",
    "1. Google Sheets  : [pivot tables](https://support.google.com/docs/answer/1272900?co=GENIE.Platform%3DDesktop&hl=en)\n",
    "1. Open Office    : [DataPilot](https://openoffice.blogs.com/openoffice/2006/11/data_pilots_in_.html)\n",
    "\n",
    "### Task 1: Discussion\n",
    "\n",
    "Discuss the terms \"slice and dice\", \"drill down\", \"roll up\", and \"pivoting\".\n",
    "\n",
    "### Solution: Discussion\n",
    "\n",
    "* **Slice and dice:**  \n",
    "  The terms might let you think of cooking. Indeed, they have their roots in cooking and describes the cutting skills in different granularities. To slice means to cut and to dice means to cut into very small uniform sections and the two actions are often performed sequentially. \n",
    "  \n",
    "  In cube operations, a slice is a term for a subset of the data, generated by picking a value for one dimension and only showing the data for that value (for instance only the data at one point in time). See pg. 45 in the lecture slides, (\"2016\", \"CH\", \"Server\") is the smallest slice one can have from that cube. \n",
    "  By filter some of the facts, we only look at a particular \"slice\" of the cube.\n",
    "  For example, in the next question, we will first analyze revenue from all regions and then only consider the \"slice\" for Africa.\n",
    "  \n",
    "  By selecting dimensions, we decide which surfaces of the cube to show, i.e., we \"dice\" it. Oftentimes, a dice operation involves an aggregation.\n",
    "  For example, we showed the regions as columns and the years as rows. \n",
    "  Let us refer to pg. 56 in the lecture slides. Here, we have the slicers of \"server\", \"world\" and \"USD\", then we dice the cube by aggregating the measure (e.g., revenue) along the dimensions of salespersons (\"Mary\" and \"Peter\") and years (2014, 2015, 2016). \n",
    "  \n",
    "  \n",
    "\n",
    "* **Drill-down:**  \n",
    "  Oftentimes, we want information on the various levels of granularity presented together. Typically, we do this in a hierarchical manner: we show results in a broader category first, and then narrower ones. \n",
    "  For instance, in the next task, we will look at revenue per region first, then we will \"zoom in\" in the subsequent steps to see the revenue per nation.\n",
    "\n",
    "\n",
    "\n",
    "* **Roll-up:**  \n",
    "  Roll-up is an inverse of drill-down. In roll-up, we may want to first have summaries in the most fine-grained view.\n",
    "  While we first look at the revenue on a week granularity, we may want to see the summary per month and quarter at the same time/in the same table.\n",
    "  The subtotals shown in the pivot table \"roll up\" that information.\n",
    "  \n",
    "  \n",
    "  \n",
    "* **Pivoting:** \n",
    "  Pivoting allows us to rotate the cube in space to see its various faces, by changing the positions of dimensions. \n",
    "  Then, we look at the cube from a different angle, i.e., we rotate (\"pivot\") it.\n",
    "\n",
    "\n",
    "### Task 2: Create the following pivot tables:\n",
    "\n",
    "1. Show how much revenue suppliers from different regions (as columns) produced in every year (as rows).\n",
    "1. Show how much revenue suppliers from nations of Africa (as columns) produced in every year (as rows).\n",
    "1. Show how much revenue suppliers from nations of Africa produced in every quarter of every year.\n",
    "1. Show how much revenue suppliers from nations of Africa produced in every week of every month of Q1 in 1996.\n",
    "1. Show how much revenue suppliers from nations of Africa produced in every year with \"urgent\" orders.\n",
    "1. Show the average order quantity for parts from suppliers from nations of Africa per year.\n",
    "1. Show how much revenue suppliers from nations of Africa (as rows) produced in every quarter of every year (as columns).\n",
    "\n",
    "### Solution:\n",
    "[Exercise13_Solution.xlsx](./Exercise13_Solution.xlsx)"
   ]
  },
  {
   "cell_type": "markdown",
   "metadata": {},
   "source": [
    "## 3. OLAP Cubes and SQL\n",
    "\n",
    "### Part 1: SQL\n",
    "\n",
    "Write SQL queries for the PivotTables from Question 2.\n",
    "\n",
    "#### Notes\n",
    "\n",
    "* Assume that the revenue is calculated as `olquantity * partretailprice * (1-oldiscount)`.\n",
    "* To get the year or quarter from a date in PostgreSQL, you can use [`DATE_PART ('field', date )  `](https://www.postgresqltutorial.com/postgresql-date_part/). Note that the field is case-insensitive. You can write `DATE_PART('YEAR', date)` or `DATE_PART('year', date)`, which are equivalent. \n",
    "\n",
    "#### Database Set-up\n",
    "\n",
    "Please wait for the message `PostgreSQL init process complete; ready for start up` before proceeding!\n",
    "As before, we set up our connection to the database and enable use of `%sql` and `%%sql`."
   ]
  },
  {
   "cell_type": "code",
   "execution_count": null,
   "metadata": {},
   "outputs": [],
   "source": [
    "server  ='postgres'\n",
    "user    ='postgres'\n",
    "password='bigdataclass'\n",
    "database='tpch-db'\n",
    "\n",
    "connection_string = f'postgresql://{user}:{password}@{server}:5432/{database}'"
   ]
  },
  {
   "cell_type": "code",
   "execution_count": null,
   "metadata": {},
   "outputs": [],
   "source": [
    "%reload_ext sql\n",
    "%sql $connection_string"
   ]
  },
  {
   "cell_type": "markdown",
   "metadata": {},
   "source": [
    "Check the tables in TPC-H. They are empty for the moment."
   ]
  },
  {
   "cell_type": "code",
   "execution_count": null,
   "metadata": {},
   "outputs": [],
   "source": [
    "%%sql \n",
    "SELECT table_name\n",
    "FROM information_schema.tables\n",
    "WHERE table_schema = 'public';"
   ]
  },
  {
   "cell_type": "markdown",
   "metadata": {
    "tags": []
   },
   "source": [
    "Populate the tables in TPC-H with data from .tbl files"
   ]
  },
  {
   "cell_type": "code",
   "execution_count": null,
   "metadata": {},
   "outputs": [],
   "source": [
    "import numpy as np\n",
    "import os\n",
    "import pandas\n",
    "import sqlalchemy\n",
    "import sys\n",
    "\n",
    "tables = [ # Order is important because of FKs\n",
    "        'region',\n",
    "        'nation',\n",
    "        'supplier',\n",
    "        'part',\n",
    "        'supplypart',\n",
    "        'customer',\n",
    "        'orders',\n",
    "        'orderline'\n",
    "        ]\n",
    "\n",
    "engine = sqlalchemy.create_engine(connection_string)\n",
    "\n",
    "for table in tables:\n",
    "    # Find column names\n",
    "    columns = engine.execute('SELECT * FROM {0}'.format(table)).keys()\n",
    "\n",
    "    # Load content\n",
    "    data = pandas.read_csv('docker/postgres/tpch/data/{0}.tbl'.format(table), sep='|', header=None, names=columns)\n",
    "    msg = 'Loading table \"{0}\": {1}% done\\r'\n",
    "    for idx, chunk in enumerate(np.array_split(data, 100)):\n",
    "        sys.stdout.write(msg.format(table, idx))\n",
    "        chunk.to_sql(name=table, if_exists='append', con=engine, index=False, method='multi')\n",
    "    print(msg.format(table, str(100)))"
   ]
  },
  {
   "cell_type": "markdown",
   "metadata": {},
   "source": [
    "First however, we define the fact table using a WITH statement (copy this at the beginning of all other queries)"
   ]
  },
  {
   "cell_type": "code",
   "execution_count": null,
   "metadata": {},
   "outputs": [],
   "source": [
    "%%sql\n",
    "WITH cube AS (\n",
    "    SELECT olquantity, partretailprice, oldiscount,\n",
    "           orderdate, nationname, regionname, orderpriority,\n",
    "           olquantity * partretailprice * (1-oldiscount) AS revenue,\n",
    "           DATE_PART('year', orderdate) AS orderyear,\n",
    "           DATE_PART('quarter', orderdate) AS orderquarter,\n",
    "           DATE_PART('month', orderdate) AS ordermonth,\n",
    "           DATE_PART('week', orderdate) AS orderweek\n",
    "    FROM orderline ol\n",
    "    JOIN orders o      ON ol.orderid = o.orderid\n",
    "    JOIN supplypart sp ON ol.partId = sp.partId AND ol.supplierId = sp.supplierId\n",
    "    JOIN part p        ON sp.partId = p.partId\n",
    "    JOIN supplier s    ON sp.supplierId = s.supplierId\n",
    "    JOIN nation sn     ON s.nationId = sn.nationId\n",
    "    JOIN region sr     ON sn.regionId = sr.regionId\n",
    ")\n",
    "SELECT * FROM cube LIMIT 10"
   ]
  },
  {
   "cell_type": "markdown",
   "metadata": {},
   "source": [
    "Note that, for the purpose of this exercise, we dropped some dimensions of the cube because none of the queries uses them. Also, we materialize some hierarchy levels of the `orderdate` dimension in order to make the subsequent queries more readable. This makes them *look* like they were new dimensions -- conceptually, they are not! (They are, well, levels of a hierarchy of the `orderdate` dimension.)"
   ]
  },
  {
   "cell_type": "markdown",
   "metadata": {},
   "source": [
    "OK, you are good to go. Use the SQL cell below and add more as you need.\n",
    "\n",
    "Note that the numbers you obtain with the SQL queries should not be identical to those in the pivot tables in Task2, because the data we have in the DB have more rows in its fact table."
   ]
  },
  {
   "cell_type": "markdown",
   "metadata": {},
   "source": [
    "### Solution"
   ]
  },
  {
   "cell_type": "markdown",
   "metadata": {},
   "source": [
    "#### 1. Show how much revenue suppliers from different regions (as columns) produced in every year (as rows).\n",
    "\n",
    "When we map the cube to SQL, there are no explicit columns and rows anymore -- the columns are expressed by values in a particular row (`oderyear` in this case). Similarly, the sub-totals are expressed as rows where some of the dimensions are `NULL` (which Python prints as `None` in this notebook). As discussed in the lecture, in order to visualize the result of the query as a cube (like Excel does), some postprocessing is needed.\n",
    "\n",
    "We start with a version that computes the sub-totals manually."
   ]
  },
  {
   "cell_type": "code",
   "execution_count": null,
   "metadata": {},
   "outputs": [],
   "source": [
    "%%sql\n",
    "WITH cube AS (\n",
    "    SELECT olquantity, partretailprice, oldiscount,\n",
    "           orderdate, nationname, regionname, orderpriority,\n",
    "           olquantity * partretailprice * (1-oldiscount) AS revenue,\n",
    "           DATE_PART('year', orderdate) AS orderyear,\n",
    "           DATE_PART('quarter', orderdate) AS orderquarter,\n",
    "           DATE_PART('month', orderdate) AS ordermonth,\n",
    "           DATE_PART('week', orderdate) AS orderweek\n",
    "    FROM orderline ol\n",
    "    JOIN orders o      ON ol.orderid = o.orderid\n",
    "    JOIN supplypart sp ON ol.partId = sp.partId AND ol.supplierId = sp.supplierId\n",
    "    JOIN part p        ON sp.partId = p.partId\n",
    "    JOIN supplier s    ON sp.supplierId = s.supplierId\n",
    "    JOIN nation sn     ON s.nationId = sn.nationId\n",
    "    JOIN region sr     ON sn.regionId = sr.regionId\n",
    ")\n",
    "(\n",
    "    SELECT regionname, orderyear, SUM(revenue)\n",
    "    FROM cube\n",
    "    GROUP BY regionname, orderyear\n",
    ") UNION ALL (\n",
    "    SELECT NULL, orderyear, SUM(revenue)\n",
    "    FROM cube\n",
    "    GROUP BY orderyear\n",
    ") UNION ALL (\n",
    "    SELECT regionname, NULL, SUM(revenue)\n",
    "    FROM cube\n",
    "    GROUP BY regionname\n",
    ") UNION ALL (\n",
    "    SELECT NULL, NULL, SUM(revenue)\n",
    "    FROM cube\n",
    ")\n",
    "ORDER BY regionname, orderyear"
   ]
  },
  {
   "cell_type": "markdown",
   "metadata": {},
   "source": [
    "Alternatively, we can use `GROUPING SETS`, which PostgrelSQL Server supports. This makes the query easier to read and potentially also faster to execute. If the database system is not clever, it might execute each subquery in the `UNION ALL` expressions independently of each other, doing the (expensive) `JOIN`s for each of them again."
   ]
  },
  {
   "cell_type": "code",
   "execution_count": null,
   "metadata": {},
   "outputs": [],
   "source": [
    "%%sql\n",
    "WITH cube AS (\n",
    "    SELECT olquantity, partretailprice, oldiscount,\n",
    "           orderdate, nationname, regionname, orderpriority,\n",
    "           olquantity * partretailprice * (1-oldiscount) AS revenue,\n",
    "           DATE_PART('year', orderdate) AS orderyear,\n",
    "           DATE_PART('quarter', orderdate) AS orderquarter,\n",
    "           DATE_PART('month', orderdate) AS ordermonth,\n",
    "           DATE_PART('week', orderdate) AS orderweek\n",
    "    FROM orderline ol\n",
    "    JOIN orders o      ON ol.orderid = o.orderid\n",
    "    JOIN supplypart sp ON ol.partId = sp.partId AND ol.supplierId = sp.supplierId\n",
    "    JOIN part p        ON sp.partId = p.partId\n",
    "    JOIN supplier s    ON sp.supplierId = s.supplierId\n",
    "    JOIN nation sn     ON s.nationId = sn.nationId\n",
    "    JOIN region sr     ON sn.regionId = sr.regionId\n",
    ")\n",
    "SELECT regionname, orderyear, SUM(revenue)\n",
    "FROM cube\n",
    "GROUP BY GROUPING SETS (\n",
    "    (regionname, orderyear),\n",
    "    (regionname),\n",
    "    (orderyear),\n",
    "    ()\n",
    ")\n",
    "ORDER BY regionname, orderyear"
   ]
  },
  {
   "cell_type": "markdown",
   "metadata": {},
   "source": [
    "PostgreSQL Server also supports the `CUBE` subclause of the `GROUP BY` clause, which is just syntactic sugar for the grouping sets above. The CUBE allows you to generate multiple grouping sets."
   ]
  },
  {
   "cell_type": "code",
   "execution_count": null,
   "metadata": {},
   "outputs": [],
   "source": [
    "%%sql\n",
    "WITH cube AS (\n",
    "    SELECT olquantity, partretailprice, oldiscount,\n",
    "           orderdate, nationname, regionname, orderpriority,\n",
    "           olquantity * partretailprice * (1-oldiscount) AS revenue,\n",
    "           DATE_PART('year', orderdate) AS orderyear,\n",
    "           DATE_PART('quarter', orderdate) AS orderquarter,\n",
    "           DATE_PART('month', orderdate) AS ordermonth,\n",
    "           DATE_PART('week', orderdate) AS orderweek\n",
    "    FROM orderline ol\n",
    "    JOIN orders o      ON ol.orderid = o.orderid\n",
    "    JOIN supplypart sp ON ol.partId = sp.partId AND ol.supplierId = sp.supplierId\n",
    "    JOIN part p        ON sp.partId = p.partId\n",
    "    JOIN supplier s    ON sp.supplierId = s.supplierId\n",
    "    JOIN nation sn     ON s.nationId = sn.nationId\n",
    "    JOIN region sr     ON sn.regionId = sr.regionId\n",
    ")\n",
    "SELECT regionname, orderyear, SUM(revenue)\n",
    "FROM cube\n",
    "GROUP BY CUBE (regionname, orderyear)\n",
    "ORDER BY regionname, orderyear"
   ]
  },
  {
   "cell_type": "markdown",
   "metadata": {},
   "source": [
    "#### 2. Show how much revenue suppliers from nations of Africa produced in every year.\n",
    "\n",
    "We will use the short syntax from now on. What changes now are how we dice and drill down (in the `SELECT` and `GROUP BY` clauses) and how we slice (in the `WHERE` clause)."
   ]
  },
  {
   "cell_type": "code",
   "execution_count": null,
   "metadata": {},
   "outputs": [],
   "source": [
    "%%sql\n",
    "WITH cube AS (\n",
    "    SELECT olquantity, partretailprice, oldiscount,\n",
    "           orderdate, nationname, regionname, orderpriority,\n",
    "           olquantity * partretailprice * (1-oldiscount) AS revenue,\n",
    "           DATE_PART('year', orderdate) AS orderyear,\n",
    "           DATE_PART('quarter', orderdate) AS orderquarter,\n",
    "           DATE_PART('month', orderdate) AS ordermonth,\n",
    "           DATE_PART('week', orderdate) AS orderweek\n",
    "    FROM orderline ol\n",
    "    JOIN orders o      ON ol.orderid = o.orderid\n",
    "    JOIN supplypart sp ON ol.partId = sp.partId AND ol.supplierId = sp.supplierId\n",
    "    JOIN part p        ON sp.partId = p.partId\n",
    "    JOIN supplier s    ON sp.supplierId = s.supplierId\n",
    "    JOIN nation sn     ON s.nationId = sn.nationId\n",
    "    JOIN region sr     ON sn.regionId = sr.regionId\n",
    ")\n",
    "SELECT nationname, orderyear, SUM(revenue)\n",
    "FROM cube\n",
    "WHERE regionname = 'AFRICA'\n",
    "GROUP BY CUBE (nationname, orderyear)\n",
    "ORDER BY nationname, orderyear"
   ]
  },
  {
   "cell_type": "markdown",
   "metadata": {},
   "source": [
    "Note that we should distinguish the quotation marks in PostgreSQL, see <a href=\"https://www.prisma.io/dataguide/postgresql/short-guides/quoting-rules#:~:text=In%20PostgreSQL%2C%20double%20quotes%20(like,name%20or%20a%20column%20name.\">this post</a> for more detail. \n",
    "\n",
    "\n",
    "\n",
    "In a nutshell, you should know:\n",
    "- Double quotation marks are used to indicate quoted identifiers. An identifier is the name of an object within PostgreSQL, such as a table name or a column name. Hence, quoted identifiers are case sensitive. This leads to PostgreSQL treating \"CUSTOMER\" and \"customer\" as entirely different objects. \n",
    "- Single quotes, on the other hand, are used to indicate that a token is a string.\n",
    "\n",
    "\n",
    "In the query above, if we write \"AFRICA\" instead of 'AFRICA', PostgreSQL will throw an error. "
   ]
  },
  {
   "cell_type": "markdown",
   "metadata": {},
   "source": [
    "#### 3. Show how much revenue suppliers from nations of Africa produced in every quarter of every year."
   ]
  },
  {
   "cell_type": "code",
   "execution_count": null,
   "metadata": {},
   "outputs": [],
   "source": [
    "%%sql\n",
    "WITH cube AS (\n",
    "    SELECT olquantity, partretailprice, oldiscount,\n",
    "           orderdate, nationname, regionname, orderpriority,\n",
    "           olquantity * partretailprice * (1-oldiscount) AS revenue,\n",
    "           DATE_PART('YEAR', orderdate) AS orderyear,\n",
    "           DATE_PART('QUARTER', orderdate) AS orderquarter,\n",
    "           DATE_PART('MONTH', orderdate) AS ordermonth,\n",
    "           DATE_PART('WEEK', orderdate) AS orderweek\n",
    "    FROM orderline ol\n",
    "    JOIN orders o      ON ol.orderid = o.orderid\n",
    "    JOIN supplypart sp ON ol.partId = sp.partId AND ol.supplierId = sp.supplierId\n",
    "    JOIN part p        ON sp.partId = p.partId\n",
    "    JOIN supplier s    ON sp.supplierId = s.supplierId\n",
    "    JOIN nation sn     ON s.nationId = sn.nationId\n",
    "    JOIN region sr     ON sn.regionId = sr.regionId\n",
    ")\n",
    "SELECT nationname, orderyear, orderquarter, SUM(revenue)\n",
    "FROM cube\n",
    "WHERE regionname = 'AFRICA'\n",
    "GROUP BY CUBE (nationname, orderyear, orderquarter)\n",
    "ORDER BY nationname, orderyear, orderquarter"
   ]
  },
  {
   "cell_type": "markdown",
   "metadata": {},
   "source": [
    "#### 4. Show how much revenue suppliers from nations of Africa produced in every week of every month of Q1 in 1996.\n",
    "\n",
    "Note that `orderweek` is from a different hierarchy of the `orderdate` dimension than `orderquarter` and `ordermonth` because a week does not generally belong to only one quarter or month. (However, a month always belongs to exactly one quarter.) This does not change anything in the SQL query below, but is an important conceptual subtlety of cubes."
   ]
  },
  {
   "cell_type": "code",
   "execution_count": null,
   "metadata": {},
   "outputs": [],
   "source": [
    "%%sql\n",
    "WITH cube AS (\n",
    "    SELECT olquantity, partretailprice, oldiscount,\n",
    "           orderdate, nationname, regionname, orderpriority,\n",
    "           olquantity * partretailprice * (1-oldiscount) AS revenue,\n",
    "           DATE_PART('year', orderdate) AS orderyear,\n",
    "           DATE_PART('quarter', orderdate) AS orderquarter,\n",
    "           DATE_PART('month', orderdate) AS ordermonth,\n",
    "           DATE_PART('week', orderdate) AS orderweek\n",
    "    FROM orderline ol\n",
    "    JOIN orders o      ON ol.orderid = o.orderid\n",
    "    JOIN supplypart sp ON ol.partId = sp.partId AND ol.supplierId = sp.supplierId\n",
    "    JOIN part p        ON sp.partId = p.partId\n",
    "    JOIN supplier s    ON sp.supplierId = s.supplierId\n",
    "    JOIN nation sn     ON s.nationId = sn.nationId\n",
    "    JOIN region sr     ON sn.regionId = sr.regionId\n",
    ")\n",
    "SELECT orderweek, ordermonth, SUM(revenue)\n",
    "FROM cube\n",
    "WHERE regionname = 'AFRICA' AND\n",
    "      orderyear = 1996 AND\n",
    "      orderquarter = 1\n",
    "GROUP BY CUBE (orderweek, ordermonth)\n",
    "ORDER BY orderweek, ordermonth"
   ]
  },
  {
   "cell_type": "markdown",
   "metadata": {},
   "source": [
    "#### 5. Show how much revenue suppliers from nations of Africa produced in every year with \"urgent\" orders."
   ]
  },
  {
   "cell_type": "code",
   "execution_count": null,
   "metadata": {},
   "outputs": [],
   "source": [
    "%%sql\n",
    "WITH cube AS (\n",
    "    SELECT olquantity, partretailprice, oldiscount,\n",
    "           orderdate, nationname, regionname, orderpriority,\n",
    "           olquantity * partretailprice * (1-oldiscount) AS revenue,\n",
    "           DATE_PART('YEAR', orderdate) AS orderyear,\n",
    "           DATE_PART('QUARTER', orderdate) AS orderquarter,\n",
    "           DATE_PART('MONTH', orderdate) AS ordermonth,\n",
    "           DATE_PART('WEEK', orderdate) AS orderweek\n",
    "    FROM orderline ol\n",
    "    JOIN orders o      ON ol.orderid = o.orderid\n",
    "    JOIN supplypart sp ON ol.partId = sp.partId AND ol.supplierId = sp.supplierId\n",
    "    JOIN part p        ON sp.partId = p.partId\n",
    "    JOIN supplier s    ON sp.supplierId = s.supplierId\n",
    "    JOIN nation sn     ON s.nationId = sn.nationId\n",
    "    JOIN region sr     ON sn.regionId = sr.regionId\n",
    ")\n",
    "SELECT nationname, orderyear, SUM(revenue)\n",
    "FROM cube\n",
    "WHERE regionname = 'AFRICA' AND\n",
    "      orderpriority = '1-URGENT'\n",
    "GROUP BY CUBE (nationname, orderyear)\n",
    "ORDER BY nationname, orderyear"
   ]
  },
  {
   "cell_type": "markdown",
   "metadata": {},
   "source": [
    "#### 6. Show the average order quantity for parts from suppliers from nations in Africa per year."
   ]
  },
  {
   "cell_type": "code",
   "execution_count": null,
   "metadata": {},
   "outputs": [],
   "source": [
    "%%sql\n",
    "WITH cube AS (\n",
    "    SELECT olquantity, partretailprice, oldiscount,\n",
    "           orderdate, nationname, regionname, orderpriority,\n",
    "           olquantity * partretailprice * (1-oldiscount) AS revenue,\n",
    "           DATE_PART('YEAR', orderdate) AS orderyear,\n",
    "           DATE_PART('QUARTER', orderdate) AS orderquarter,\n",
    "           DATE_PART('MONTH', orderdate) AS ordermonth,\n",
    "           DATE_PART('WEEK', orderdate) AS orderweek\n",
    "    FROM orderline ol\n",
    "    JOIN orders o      ON ol.orderid = o.orderid\n",
    "    JOIN supplypart sp ON ol.partId = sp.partId AND ol.supplierId = sp.supplierId\n",
    "    JOIN part p        ON sp.partId = p.partId\n",
    "    JOIN supplier s    ON sp.supplierId = s.supplierId\n",
    "    JOIN nation sn     ON s.nationId = sn.nationId\n",
    "    JOIN region sr     ON sn.regionId = sr.regionId\n",
    ")\n",
    "SELECT nationname, orderyear, AVG(olquantity)\n",
    "FROM cube\n",
    "WHERE regionname = 'AFRICA'\n",
    "GROUP BY CUBE(nationname, orderyear)\n",
    "ORDER BY nationname, orderyear"
   ]
  },
  {
   "cell_type": "markdown",
   "metadata": {},
   "source": [
    "#### 7. Show how much revenue suppliers from nations of Africa (as rows) produced in every quarter of every year (as columns).\n",
    "\n",
    "As discussed above, columns and row of a cube are both represented as columns when mapped to relations and SQL. A tool similar to Excel's PivotTable that automatically generates SQL queries would probably just flip the order of the columns."
   ]
  },
  {
   "cell_type": "code",
   "execution_count": null,
   "metadata": {},
   "outputs": [],
   "source": [
    "%%sql\n",
    "WITH cube AS (\n",
    "    SELECT olquantity, partretailprice, oldiscount,\n",
    "           orderdate, nationname, regionname, orderpriority,\n",
    "           olquantity * partretailprice * (1-oldiscount) AS revenue,\n",
    "           DATE_PART('YEAR', orderdate) AS orderyear,\n",
    "           DATE_PART('QUARTER', orderdate) AS orderquarter,\n",
    "           DATE_PART('MONTH', orderdate) AS ordermonth,\n",
    "           DATE_PART('WEEK', orderdate) AS orderweek\n",
    "    FROM orderline ol\n",
    "    JOIN orders o      ON ol.orderid = o.orderid\n",
    "    JOIN supplypart sp ON ol.partId = sp.partId AND ol.supplierId = sp.supplierId\n",
    "    JOIN part p        ON sp.partId = p.partId\n",
    "    JOIN supplier s    ON sp.supplierId = s.supplierId\n",
    "    JOIN nation sn     ON s.nationId = sn.nationId\n",
    "    JOIN region sr     ON sn.regionId = sr.regionId\n",
    ")\n",
    "SELECT orderyear, orderquarter, regionname, SUM(revenue)\n",
    "FROM cube\n",
    "GROUP BY CUBE (orderyear, orderquarter, regionname)\n",
    "ORDER BY orderyear, orderquarter, regionname"
   ]
  },
  {
   "cell_type": "markdown",
   "metadata": {},
   "source": [
    "### Part 2: MDX (Optional)\n",
    "\n",
    "Choose one of the queries you wrote in SQL and implement it in MDX."
   ]
  },
  {
   "cell_type": "markdown",
   "metadata": {},
   "source": [
    "### Solution\n",
    "\n",
    "We pick *\"3. Show how much revenue suppliers from nations of Africa (as columns) produced in every quarter of every year (as rows).\"*\n",
    "\n",
    "We assume that we have a cube:\n",
    "* called `[TPCH]`,\n",
    "* with `[Measures]` called `[olquantity]`, `[partretailprice]`, and `[oldiscount]`,\n",
    "* a `[SupplierLocation]` dimension with a hierarchy `[Geo].[Region].[Nation]`,\n",
    "* and an `[OrderDate]` dimension with a hierarchy `[Calendar].[Year].[Quarter]`.\n",
    "\n",
    "A possible solution is then the following:\n",
    "\n",
    "```sql\n",
    "WITH\n",
    "    MEMBER [Measures].[Revenue] AS\n",
    "        [Measures].[olquantity] * [Measures].[partretailprice] * (1 - [Measures].[oldiscount])\n",
    "SELECT\n",
    "    [SupplierLocation].[Geo].[Region].[AFRICA].Children ON COLUMNS,\n",
    "    [OrderDate].[Calendar].[Quarter].Members ON ROWS\n",
    "FROM\n",
    "    [TPCH]\n",
    "WHERE\n",
    "    [Measures].[Revenue]\n",
    "\n",
    "```\n",
    "\n",
    "We compute a new measure `[Revenue]` on the fly, but since we have not seen this clause in the lecture, you can just assume that that measure already exists.\n",
    "\n",
    "To dice the cube, we specify which dimensions we want in the `SELECT` clause. We say that we want all `Members` of the dimension `[OrderDate]` at hierarchy level `[Calendar].[Quarter]` as rows, and all `Children` of the member `[AFRICA]` of the dimension `[SupplierLocation]` at hierarchy level `[Geo].[Region]` as columns. Note that `SELECT` also slices the cube. To specify that we want to show the (computed) measure `[Revenue]`, we use the `WHERE` clause."
   ]
  }
 ],
 "metadata": {
  "anaconda-cloud": {},
  "kernelspec": {
   "display_name": "Python 3 (ipykernel)",
   "language": "python",
   "name": "python3"
  },
  "language_info": {
   "codemirror_mode": {
    "name": "ipython",
    "version": 3
   },
   "file_extension": ".py",
   "mimetype": "text/x-python",
   "name": "python",
   "nbconvert_exporter": "python",
   "pygments_lexer": "ipython3",
   "version": "3.8.10 (default, Jun 22 2022, 20:18:18) \n[GCC 9.4.0]"
  },
  "vscode": {
   "interpreter": {
    "hash": "916dbcbb3f70747c44a77c7bcd40155683ae19c65e1c03b4aa3499c5328201f1"
   }
  }
 },
 "nbformat": 4,
 "nbformat_minor": 4
}
