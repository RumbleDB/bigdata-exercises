{
 "cells": [
  {
   "cell_type": "markdown",
   "metadata": {},
   "source": [
    "# <center>Big Data &ndash; Exercises</center>\n",
    "## <center>Fall 2022 &ndash; Week 12 &ndash; ETH Zurich</center>\n",
    "## <center>Graph Databases</center>"
   ]
  },
  {
   "cell_type": "markdown",
   "metadata": {},
   "source": [
    "---\n",
    "### Introduction\n",
    "Data relationships are extremely important in today’s world; Data alone is not enough, as enterprise leaders and intelligent applications need real-time insights into data relationships. \n",
    "\n",
    "Labeled property graph databases use nodes, edges, properties, and labels to store and retrieve data. The graph structures directly **relate** data items in the store. As a representative of (labeled property) graph databases, **Neo4j** was chosen for the practical exercises. We will see how using **Cypher**, a graph query language for Neo4j, makes querying relationships easier than using SQL with traditional RDBMSs."
   ]
  },
  {
   "cell_type": "markdown",
   "metadata": {
    "tags": []
   },
   "source": [
    "### Database Set Up\n",
    "Like always, you can start the docker container with `docker-compose up -d`. The Neo4j image should work on all systems, but in the case that it fails you can either try starting the docker on an Azure VM, or installing the server locally:\n",
    "- Click on [this link](https://neo4j.com/download-center/#releases) to download the Community Server Edition for individuals. \n",
    "- Follow the installation steps provided in the Neo4j website to install it on your computer.\n",
    "\n",
    "Once the container has fully started you can access the Neo4j browser interface at http://localhost:7474/browser/, after which you will see an authentication box like so:\n",
    "\n",
    "<img src=\"./images/12-1-auth.png\"/>\n",
    "\n",
    "The default username and password are both `neo4j`, after which you will have access to the `neo4j` database! If you are using the local installation, you will have to change to password to whatever you wish."
   ]
  },
  {
   "cell_type": "markdown",
   "metadata": {},
   "source": [
    "---\n",
    "## Exercise 1: Movie graph\n",
    "Let's query a default movie graph using Cypher, one of the provided graph query languages for Neo4j. For any doubt about the queries or to explore more in-depth you can refer to [Cypher documentation](https://neo4j.com/docs/cypher-manual/current/).\n",
    "\n",
    "\n",
    "\n",
    "<img src=\"./images/12-1-start.png\"/>\n",
    "\n",
    "\n",
    "### Setting up the movie graph\n",
    "\n",
    "To begin, let's open the `movie-graph` guide by either clicking 'Open Guide' or running `:guide movie-graph` in the web interface, after which a guide panel will appear on the left.\n",
    "\n",
    "Follow steps 2, 3, and 4 to create the movie graph!\n",
    "\n",
    "<img src=\"./images/neo4j_movie.png\"/>"
   ]
  },
  {
   "cell_type": "markdown",
   "metadata": {},
   "source": [
    "### Querying the movie graph\n",
    "Now, let's write some Cypher queries to answer the following questions! Many of these queries will be similar to queries shown in the guide, and just need a little bit of our own work."
   ]
  },
  {
   "cell_type": "markdown",
   "metadata": {},
   "source": [
    "##### 1. Write a query that returns the title of all movies a \"Tom\" has acted in (the actor's name starts with \"Tom\")."
   ]
  },
  {
   "cell_type": "markdown",
   "metadata": {},
   "source": [
    "##### 2. What is the shortest path (using any kind of relation) between Keanu Reeves and Tom Cruise? How long is it?"
   ]
  },
  {
   "cell_type": "markdown",
   "metadata": {},
   "source": [
    "##### 3. How long are the shortest paths between anyone with first name \"Keanu\" and anyone with first name \"Tom\"?"
   ]
  },
  {
   "cell_type": "markdown",
   "metadata": {},
   "source": [
    "##### 4. What is the maximal distance of any person to Kevin Bacon in the graph?"
   ]
  },
  {
   "cell_type": "markdown",
   "metadata": {
    "tags": []
   },
   "source": [
    "---\n",
    "## Exercise 2: Choosing the right technology\n",
    "\n",
    "In the following cases choose which technology you would prefer between a *Document Store*, a *Graph Database* and a *Relational Database*.\n",
    "\n",
    "1. You want to run large-volume analytics queries that have a clear structure.\n",
    "2. You often query for aggregated information (e.g. average).\n",
    "3. You often query for relationships of more than one hops (e.g. who is the friend of friend of somebody).\n",
    "4. Your data have an arborescent structure and cannot fit on a single machine. \n",
    "5. You are building an application that stores semistructured product information."
   ]
  },
  {
   "cell_type": "markdown",
   "metadata": {},
   "source": [
    "---\n",
    "## Exercise 3: Graphs to tables\n",
    "\n",
    "1. Given the movie graph that we explored, try to come up with an equivalent tabular representation in 3rd normal form.\n",
    "2. Do you think that for this specific dataset can be captured well in tabular form?\n",
    "3. Which might be a general strategy to turn any labelled graph to a table form?\n",
    "4. Which queries do you expect easier to write in CYPHER compared to SQL?"
   ]
  },
  {
   "cell_type": "markdown",
   "metadata": {},
   "source": [
    "---\n",
    "## Exercise 4: Discogs graph\n",
    "For this exercise, we will work with a subset of the Discogs dataset from the SQL brush-up exercise. The dataset only contains artists who have released at least one album in the genre 'Rock', 'Pop', or 'Hip Hop'. The dataset also drops the `tracks` table, and projects a subset of columns. \n",
    "\n",
    "### Setting up the Discogs graph\n",
    "First, run the following commands to add nodes to our graph:"
   ]
  },
  {
   "cell_type": "code",
   "execution_count": null,
   "metadata": {},
   "outputs": [],
   "source": [
    "LOAD CSV WITH HEADERS FROM \"https://cloud.inf.ethz.ch/s/6WxZS6iNf6oEJBq/download/artists.tsv\" AS row\n",
    "FIELDTERMINATOR '\\u0009'\n",
    "CREATE (n:Artist)\n",
    "SET n = row"
   ]
  },
  {
   "cell_type": "code",
   "execution_count": null,
   "metadata": {},
   "outputs": [],
   "source": [
    "LOAD CSV WITH HEADERS FROM \"https://cloud.inf.ethz.ch/s/FpYTDSFaNgHiWDP/download/releases.tsv\" AS row\n",
    "FIELDTERMINATOR '\\u0009'\n",
    "CREATE (n:Release)\n",
    "SET n = row"
   ]
  },
  {
   "cell_type": "code",
   "execution_count": null,
   "metadata": {},
   "outputs": [],
   "source": [
    "LOAD CSV WITH HEADERS FROM \"https://cloud.inf.ethz.ch/s/KZKZgcZFNPa7zBt/download/released_by.tsv\" AS row\n",
    "FIELDTERMINATOR '\\u0009'\n",
    "CREATE (n:ReleasedBy)\n",
    "SET n = row"
   ]
  },
  {
   "cell_type": "markdown",
   "metadata": {},
   "source": [
    "Then, let's add some uniqueness constraints (which create implicit indexes) and an index on the artist `name`:"
   ]
  },
  {
   "cell_type": "code",
   "execution_count": null,
   "metadata": {},
   "outputs": [],
   "source": [
    "CREATE CONSTRAINT ON (a:Artist) ASSERT (a.artist_id) IS UNIQUE"
   ]
  },
  {
   "cell_type": "code",
   "execution_count": null,
   "metadata": {},
   "outputs": [],
   "source": [
    "CREATE CONSTRAINT ON (r:Release) ASSERT (r.release_id) IS UNIQUE"
   ]
  },
  {
   "cell_type": "code",
   "execution_count": null,
   "metadata": {},
   "outputs": [],
   "source": [
    "CREATE INDEX FOR (a:Artist) ON (a.name)"
   ]
  },
  {
   "cell_type": "markdown",
   "metadata": {},
   "source": [
    "Finally, let's create a `RELEASED_BY` relationship between artists and releases based on the `released_by` table:"
   ]
  },
  {
   "cell_type": "code",
   "execution_count": null,
   "metadata": {},
   "outputs": [],
   "source": [
    "MATCH (a:Artist), (r:Release), (rb:ReleasedBy)\n",
    "WHERE a.artist_id = rb.artist_id\n",
    "AND rb.release_id = r.release_id\n",
    "CREATE (r)-[:RELEASED_BY]->(a)"
   ]
  },
  {
   "cell_type": "markdown",
   "metadata": {},
   "source": [
    "### Querying the Discogs graph"
   ]
  },
  {
   "cell_type": "markdown",
   "metadata": {},
   "source": [
    "Remember some of the queries we did on the original database in SQL? Try writing them in Cypher instead:"
   ]
  },
  {
   "cell_type": "markdown",
   "metadata": {},
   "source": [
    "##### 1. Retrieve all artists with the name of 'Radiohead'."
   ]
  },
  {
   "cell_type": "code",
   "execution_count": null,
   "metadata": {},
   "outputs": [],
   "source": [
    "SELECT * FROM artists WHERE name = 'Radiohead';"
   ]
  },
  {
   "cell_type": "code",
   "execution_count": null,
   "metadata": {},
   "outputs": [],
   "source": []
  },
  {
   "cell_type": "markdown",
   "metadata": {},
   "source": [
    "##### 2. How many artists have both a release with the genre 'Pop' and a release with the genre 'Rock'?"
   ]
  },
  {
   "cell_type": "code",
   "execution_count": null,
   "metadata": {},
   "outputs": [],
   "source": [
    "SELECT COUNT(*)\n",
    "FROM artists a1\n",
    "WHERE EXISTS (\n",
    "    SELECT *\n",
    "    FROM artists a2\n",
    "    JOIN released_by USING(artist_id)\n",
    "    JOIN releases USING(release_id)\n",
    "    WHERE releases.genre = 'Pop'\n",
    "    AND a1.artist_id = a2.artist_id\n",
    ") AND EXISTS (\n",
    "    SELECT *\n",
    "    FROM artists a2\n",
    "    JOIN released_by USING(artist_id)\n",
    "    JOIN releases USING(release_id)\n",
    "    WHERE releases.genre = 'Rock'\n",
    "    AND a1.artist_id = a2.artist_id\n",
    ")"
   ]
  },
  {
   "cell_type": "code",
   "execution_count": null,
   "metadata": {},
   "outputs": [],
   "source": []
  },
  {
   "cell_type": "markdown",
   "metadata": {
    "tags": []
   },
   "source": [
    "### Artist collaborations\n",
    "Do you remember this query from the optional exercise?"
   ]
  },
  {
   "cell_type": "code",
   "execution_count": null,
   "metadata": {},
   "outputs": [],
   "source": [
    "WITH RECURSIVE\n",
    "    X AS (SELECT 3 AS Value),\n",
    "    artist_releases AS (\n",
    "        SELECT artists.artist_id, artists.name, releases.release_id, releases.title\n",
    "        FROM artists, released_by, releases\n",
    "        WHERE artists.artist_id = released_by.artist_id\n",
    "        AND released_by.release_id = releases.release_id\n",
    "    ),\n",
    "    collaborations AS (\n",
    "        SELECT DISTINCT ar1.artist_id AS left_id, ar1.name AS left_name, \n",
    "                ar2.artist_id AS right_id, ar2.name AS right_name, 1 AS distance\n",
    "        FROM artist_releases AS ar1, artist_releases AS ar2\n",
    "        WHERE ar1.release_id = ar2.release_id\n",
    "        AND ar1.artist_id != ar2.artist_id\n",
    "    ),\n",
    "    X_hop_collaborations AS (\n",
    "        SELECT * FROM collaborations  -- base case\n",
    "        UNION\n",
    "        SELECT c1.left_id, c1.left_name, c2.right_id, c2.right_name, c1.distance + 1 AS distance\n",
    "        FROM X_hop_collaborations AS c1\n",
    "        JOIN collaborations c2 ON c1.right_id = c2.left_id\n",
    "        WHERE c1.distance < (SELECT * FROM X)\n",
    "    )\n",
    "SELECT * \n",
    "FROM X_hop_collaborations\n",
    "WHERE left_name = 'Radiohead'\n",
    "ORDER BY distance, right_name;"
   ]
  },
  {
   "cell_type": "markdown",
   "metadata": {},
   "source": [
    "The query returns all of the artists which are at most `X` hops from a given artist in the graph. It does this by iteratively taking the union of a base 'collaborations' table with itself. With our discogs graph, we can do this very concisely:"
   ]
  },
  {
   "cell_type": "code",
   "execution_count": null,
   "metadata": {},
   "outputs": [],
   "source": [
    "MATCH (a:Artist)<-[:RELEASED_BY]-(:Release)-[:RELEASED_BY]->(collab:Artist),\n",
    "(collab)<-[:RELEASED_BY]-(:Release)-[:RELEASED_BY]->(collab2:Artist),\n",
    "(collab2)<-[:RELEASED_BY]-(:Release)-[:RELEASED_BY]->(collab3:Artist)\n",
    "WHERE a.name = \"The Beatles\"\n",
    "RETURN a, collab, collab2, collab3"
   ]
  },
  {
   "cell_type": "markdown",
   "metadata": {},
   "source": [
    "However, we would ideally like to be able to use the `shortestPath` function and `[*1..15]` 'hops' features of Cypher as well. For that, we need to modify the graph to put a direct relationship between artists that have collaborated together:"
   ]
  },
  {
   "cell_type": "code",
   "execution_count": null,
   "metadata": {},
   "outputs": [],
   "source": [
    "MATCH (a:Artist)<-[:RELEASED_BY]-(release)-[:RELEASED_BY]->(a2:Artist)\n",
    "MERGE (a)-[:COLLABORATED_WITH]->(a2)\n",
    "RETURN a, a2"
   ]
  },
  {
   "cell_type": "markdown",
   "metadata": {},
   "source": [
    "Now, let's try use this new `COLLABORATED_WITH` relationship instead!"
   ]
  },
  {
   "cell_type": "markdown",
   "metadata": {},
   "source": [
    "##### 3. Find all of the artists which are up to three hops away from \"The Beatles\"."
   ]
  },
  {
   "cell_type": "code",
   "execution_count": null,
   "metadata": {},
   "outputs": [],
   "source": []
  },
  {
   "cell_type": "markdown",
   "metadata": {},
   "source": [
    "##### 4. What is the shortest path between the artists \"Black Tiger\" and \"Kanye West\"?"
   ]
  },
  {
   "cell_type": "code",
   "execution_count": null,
   "metadata": {},
   "outputs": [],
   "source": []
  },
  {
   "cell_type": "markdown",
   "metadata": {},
   "source": [
    "---\n",
    "## Exercise 5: RDF Triples\n",
    "We know that triple graphs can be modeled by RDF triples in the form of `subject property object`.\n",
    "<img src=\"./images/12-5-triple.png\"/>\n",
    "\n",
    "In this exercise, we'll spend a little bit of time understanding how RDF triple syntaxes can model semantic relationships. More specifically, given the following **Turtle** document, draw the triple graph that it models. "
   ]
  },
  {
   "cell_type": "markdown",
   "metadata": {},
   "source": [
    "```\n",
    "@prefix rdfs: <http://www.w3.org/2000/01/rdf-schema#> .\n",
    "@prefix geo:     <http://www.example.com/geography#> .\n",
    "@prefix ch:      <https://www.example.com/Switzerland#> .\n",
    "@prefix uni:     <http://www.example.com/university#> .\n",
    "\n",
    "@prefix eth:     <http://www.ethz.ch/#> .\n",
    "@prefix course:  <http://www.ethz.ch/Course/> .\n",
    "@prefix faculty: <http://www.ethz.ch/Faculty/> .\n",
    "\n",
    "eth:self rdfs:label \"ETH Zürich\" ;\n",
    "         geo:isLocated ch:self ;\n",
    "         uni:numStudents 25000 .\n",
    "         \n",
    "eth:Zentrum rdfs:label \"ETHZ Zentrum Campus\" ;\n",
    "            uni:campusOf eth:self ;\n",
    "            geo:isLocated ch:Zürich ;\n",
    "            geo:hasPostcode 8092 .\n",
    "               \n",
    "eth:Hönggerberg rdfs:label \"ETHZ Hönggerberg Campus\" ;\n",
    "                uni:campusOf eth:self ;\n",
    "                geo:isLocated ch:Zürich ;\n",
    "                geo:hasPostcode 8093 .\n",
    "\n",
    "faculty:gfourny rdfs:label \"Ghislain Fourny\" ;\n",
    "                uni:facultyAt eth:self ;\n",
    "                uni:teaches course:263-3010-00L .\n",
    "                \n",
    "course:263-3010-00L rdfs:label \"Big Data\" ;\n",
    "                    rdfs:comment \"Decent course\" ;\n",
    "                    uni:numStudents 242 ;\n",
    "                    uni:offeredAt eth:self ;\n",
    "                    uni:offeredIn \"HS2021\" ,\n",
    "                                  \"HS2020\" ;\n",
    "                    # and more, but let's ignore those in this example\n",
    "                    uni:numCredits 10 .            \n",
    "```"
   ]
  },
  {
   "cell_type": "markdown",
   "metadata": {},
   "source": [
    "Note that this example is just to give you a basic understanding of how RDF triples _might_ be modeled: IRIs will not point to anything meaningful, and many objects that would be IRIs have been simplified to literals."
   ]
  },
  {
   "cell_type": "markdown",
   "metadata": {},
   "source": [
    "---\n",
    "## Exercise 6: Knowledge Graphs (Optional)"
   ]
  },
  {
   "cell_type": "markdown",
   "metadata": {},
   "source": [
    "Knowledge graphs are often chosen to represent large inter-connected entities, and are used by many well-known knowledge bases. Examples include the [Google Knowledge Graph](https://blog.google/products/search/introducing-knowledge-graph-things-not/) and [Wikidata](https://en.wikipedia.org/wiki/Wikidata), a knowledge graph used by many Wikimedia projects: notably Wikipedia.\n",
    "\n",
    "We will be using the [Wikidata Query Service](https://query.wikidata.org), which allows us to query the Wikidata knowledge graph using **SPARQL**, a declarative SQL-like query language for RDF data. Note:\n",
    "* Although Wikidata can be accessed via SPARQL with an RDF-like data model, their underlying data does not follow RDF exactly.\n",
    "* Here, we are only querying to knowledge graph to retrieve _explicit knowledge_. We cannot perform logical inference without an ontology (like [OWL](https://www.w3.org/OWL/)) and a reasoner!"
   ]
  },
  {
   "cell_type": "markdown",
   "metadata": {},
   "source": [
    "### Retrieving some basic facts with SPARQL"
   ]
  },
  {
   "cell_type": "markdown",
   "metadata": {},
   "source": [
    "You can use the 'Examples' section to see a wide variety of example SPARQL queries. Here are a few select ones to help you get the hang of querying Wikidata:\n",
    "\n",
    "##### Retrieve all 'house cat' entities"
   ]
  },
  {
   "cell_type": "code",
   "execution_count": null,
   "metadata": {},
   "outputs": [],
   "source": [
    "SELECT ?item ?itemLabel \n",
    "WHERE \n",
    "{\n",
    "  ?item wdt:P31 wd:Q146. # Must be of a cat\n",
    "  SERVICE wikibase:label { bd:serviceParam wikibase:language \"[AUTO_LANGUAGE],en\". }\n",
    "}"
   ]
  },
  {
   "cell_type": "markdown",
   "metadata": {},
   "source": [
    "[Link to this query](https://query.wikidata.org/#%23Cats%0ASELECT%20%3Fitem%20%3FitemLabel%20%0AWHERE%20%0A%7B%0A%20%20%3Fitem%20wdt%3AP31%20wd%3AQ146.%20%23%20Must%20be%20of%20a%20cat%0A%20%20SERVICE%20wikibase%3Alabel%20%7B%20bd%3AserviceParam%20wikibase%3Alanguage%20%22%5BAUTO_LANGUAGE%5D%2Cen%22.%20%7D%20%23%20Helps%20get%20the%20label%20in%20your%20language%2C%20if%20not%2C%20then%20en%20language%0A%7D)\n",
    "\n",
    "Here, we can see how we query for any entities that are an instance of (`wdt:P31`) the entity with the label 'house cat' `wd:Q146`, and store them in a variable `?item`. We choose to return the entity itself and also its label `?itemLabel`. Now, lets get some pictures of those cats!"
   ]
  },
  {
   "cell_type": "code",
   "execution_count": null,
   "metadata": {},
   "outputs": [],
   "source": [
    "#defaultView:ImageGrid\n",
    "SELECT ?item ?itemLabel ?pic\n",
    "WHERE\n",
    "{\n",
    "    ?item wdt:P31 wd:Q146 .\n",
    "    ?item wdt:P18 ?pic\n",
    "    SERVICE wikibase:label { bd:serviceParam wikibase:language \"[AUTO_LANGUAGE],en\" }\n",
    "}"
   ]
  },
  {
   "cell_type": "markdown",
   "metadata": {},
   "source": [
    "[Link to this query](https://query.wikidata.org/#%23Cats%2C%20with%20pictures%0A%23defaultView%3AImageGrid%0ASELECT%20%3Fitem%20%3FitemLabel%20%3Fpic%0AWHERE%0A%7B%0A%3Fitem%20wdt%3AP31%20wd%3AQ146%20.%0A%3Fitem%20wdt%3AP18%20%3Fpic%0ASERVICE%20wikibase%3Alabel%20%7B%20bd%3AserviceParam%20wikibase%3Alanguage%20%22%5BAUTO_LANGUAGE%5D%2Cen%22%20%7D%0A%7D)\n",
    "\n",
    "Here, we also retrieve any associated pictures of the cats with the image property `wdt:P18`. However, instances is pretty restricting, and sometimes we want to also retrieve any subclasses as well."
   ]
  },
  {
   "cell_type": "markdown",
   "metadata": {},
   "source": [
    "##### Retrieve all watercourses in Antarctica"
   ]
  },
  {
   "cell_type": "code",
   "execution_count": null,
   "metadata": {},
   "outputs": [],
   "source": [
    "SELECT ?river ?riverLabel ?location\n",
    "WHERE\n",
    "{\n",
    "    ?river wdt:P31/wdt:P279* wd:Q355304;\n",
    "           wdt:P30 wd:Q51.\n",
    "    OPTIONAL { ?river wdt:P625 ?location. }\n",
    "    SERVICE wikibase:label { bd:serviceParam wikibase:language \"en\". }\n",
    "}"
   ]
  },
  {
   "cell_type": "markdown",
   "metadata": {},
   "source": [
    "[Link to this query](https://query.wikidata.org/#%23Rivers%20in%20Antarctica%0ASELECT%20%3Friver%20%3FriverLabel%20%3Flocation%0AWHERE%0A%7B%0A%20%20%3Friver%20wdt%3AP31%2Fwdt%3AP279%2a%20wd%3AQ355304%3B%20%23%20watercourse%3B%20includes%20a%20few%20creeks%20%E2%80%93%20use%20wd%3AQ4022%20for%20rivers%20only%0A%20%20%20%20%20%20%20%20%20wdt%3AP30%20wd%3AQ51.%0A%20%20OPTIONAL%20%7B%20%3Friver%20wdt%3AP625%20%3Flocation.%20%7D%0A%20%20SERVICE%20wikibase%3Alabel%20%7B%20bd%3AserviceParam%20wikibase%3Alanguage%20%22en%22.%20%7D%0A%7D)\n",
    "\n",
    "Here, we specify that our `?river` entity can not only be an instance of a 'watercourse' `wd:Q355304`, but also any arbitrary depth subclass (`wdt:P279*`). We also specify that the continent `wdt:P30` of the entity must be Antarctica `wd:Q51`."
   ]
  },
  {
   "cell_type": "markdown",
   "metadata": {},
   "source": [
    "### Planning your winter break in Switzerland"
   ]
  },
  {
   "cell_type": "markdown",
   "metadata": {},
   "source": [
    "The date is February 11th, 2022: you're done with the Big Data exam and now it's finally time to emerge from your dwelling and go outside, but you have no idea where you can go!\n",
    "Using this query to retrieve all [Italian mountains higher than 4000 meters](https://query.wikidata.org/#%23Italian%20mountains%20higher%20than%204000%20meters%0A%23defaultView%3AImageGrid%0ASELECT%20%3Fitem%20%3FitemLabel%20%3Fcoord%20%3Felev%20%3Fpicture%0A%7B%0A%20%20%3Fitem%20p%3AP2044%2Fpsn%3AP2044%2Fwikibase%3AquantityAmount%20%3Felev%20%3B%20%20%23%20normalized%20height%0A%20%20%20%20%20%20%20%20wdt%3AP625%20%3Fcoord%20%3B%0A%20%20%20%20%20%20%20%20wdt%3AP17%20wd%3AQ38%20%3B%0A%20%20%20%20%20%20%20%20wdt%3AP18%20%3Fpicture%0A%20%20FILTER%28%3Felev%20%3E%204000%29%0A%0A%20%20SERVICE%20wikibase%3Alabel%20%7B%20bd%3AserviceParam%20wikibase%3Alanguage%20%22it%22%20%7D%0A%7D) as a reference, answer for yourself the following questions:"
   ]
  },
  {
   "cell_type": "markdown",
   "metadata": {},
   "source": [
    "##### 1. List all the lakes in Switzerland above 2000 meters elevation."
   ]
  },
  {
   "cell_type": "markdown",
   "metadata": {},
   "source": [
    "You might want to use the lake entity `wd:Q23397` and the Switzerland entity `wd:Q39`."
   ]
  },
  {
   "cell_type": "code",
   "execution_count": null,
   "metadata": {},
   "outputs": [],
   "source": []
  },
  {
   "cell_type": "markdown",
   "metadata": {},
   "source": [
    "##### 2. List all the mountains in Switzerland. You also want to know the canton each mountain is located in, so you know how to greet the locals."
   ]
  },
  {
   "cell_type": "markdown",
   "metadata": {},
   "source": [
    "You might want to use the following entities:\n",
    "* mountain `wd:Q8502`\n",
    "* located in the administrative territorial entity `wdt:P131`\n",
    "* canton of Switzerland `wd:Q23058`"
   ]
  },
  {
   "cell_type": "code",
   "execution_count": null,
   "metadata": {},
   "outputs": [],
   "source": []
  }
 ],
 "metadata": {
  "kernelspec": {
   "display_name": "Python 3 (ipykernel)",
   "language": "python",
   "name": "python3"
  },
  "language_info": {
   "codemirror_mode": {
    "name": "ipython",
    "version": 3
   },
   "file_extension": ".py",
   "mimetype": "text/x-python",
   "name": "python",
   "nbconvert_exporter": "python",
   "pygments_lexer": "ipython3",
   "version": "3.10.8"
  }
 },
 "nbformat": 4,
 "nbformat_minor": 4
}
