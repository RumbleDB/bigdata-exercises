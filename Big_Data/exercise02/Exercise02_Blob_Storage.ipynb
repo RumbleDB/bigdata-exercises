{
 "cells": [
  {
   "cell_type": "markdown",
   "metadata": {
    "id": "buDUMbpKYTcD"
   },
   "source": [
    "# <center>Big Data &ndash; Exercises</center>\n",
    "## <center>Fall 2025 &ndash; Week 2 &ndash; ETH Zurich</center>"
   ]
  },
  {
   "cell_type": "markdown",
   "metadata": {
    "id": "PO44IswhYTcE"
   },
   "source": [
    "## Exercise 1: URIs\n",
    "\n",
    "A URI is constituted of up to 5 components. Identify all components of the following URI:\n",
    "\n",
    "`https://en.wikipedia.org/wiki/ETH_Zurich?view=wide#history`\n",
    "\n",
    "- authority: `_`\n",
    "- fragment: `_`\n",
    "- path: `_`\n",
    "- scheme: `_`\n",
    "- query: `_`"
   ]
  },
  {
   "cell_type": "markdown",
   "metadata": {},
   "source": [
    "## Exercise 2: REST APIs"
   ]
  },
  {
   "cell_type": "markdown",
   "metadata": {},
   "source": [
    "Below is a sequence of HTTP (REST API) requests with their responses. \n",
    "\n",
    "Complete the missing fields (i.e. the \"_____\" and the _____ ) by selecting the most appropriate answer. \n",
    "\n",
    "Notes:\n",
    "\n",
    "- The \"method\" field is a string. The available options are:\n",
    "    `GET` &nbsp;&nbsp; `DELETE` &nbsp;&nbsp; `POST` &nbsp;&nbsp; `PUT` &nbsp;&nbsp; `FETCH` &nbsp;&nbsp; `SET` &nbsp;&nbsp; `UPDATE`\n",
    "\n",
    "- The \"status\" field is an integer. The available options are:\n",
    "    `404` &nbsp;&nbsp; `301` &nbsp;&nbsp; `204` &nbsp;&nbsp; `402` &nbsp;&nbsp; `500` &nbsp;&nbsp; `200` &nbsp;&nbsp; `201` &nbsp;&nbsp; `413`\n",
    "\n",
    "Hints:\n",
    "1. The JSON syntax we use here is a simplified version of the actual protocol. The fields are self-explanatory as they use the same terminology as in the course.\n",
    "2. No external effects (requests) are to be considered.\n",
    "3. The server respects the REST protocol.\n",
    "4. Requests and responses happen exactly in the order they are listed."
   ]
  },
  {
   "cell_type": "code",
   "execution_count": null,
   "metadata": {},
   "outputs": [],
   "source": [
    "{  \"traces\": \n",
    "  [\n",
    "    {\n",
    "      \"request\": {\n",
    "        \"method\": \"_____\",\n",
    "        \"url\": \"https://api.school.com/students\",\n",
    "        \"body\": None\n",
    "      },\n",
    "      \"response\": {\n",
    "        \"status\": _____,\n",
    "        \"body\": [\n",
    "          {\n",
    "            \"id\": 1,\n",
    "            \"name\": \"John Doe\",\n",
    "            \"age\": 20,\n",
    "            \"major\": \"Computer Science\"\n",
    "          },\n",
    "          {\n",
    "            \"id\": 2,\n",
    "            \"name\": \"Jane Smith\",\n",
    "            \"age\": 22,\n",
    "            \"major\": \"Mathematics\"\n",
    "          }\n",
    "        ]\n",
    "      }\n",
    "    },\n",
    "    {\n",
    "      \"request\": {\n",
    "        \"method\": \"_____\",\n",
    "        \"url\": \"https://api.school.com/students\",\n",
    "        \"body\": {\n",
    "          \"name\": \"Alice Johnson\",\n",
    "          \"age\": 19,\n",
    "          \"major\": \"Physics\"\n",
    "        }\n",
    "      },\n",
    "      \"response\": {\n",
    "        \"status\": _____,\n",
    "        \"body\": {\n",
    "          \"id\": 3,\n",
    "          \"name\": \"Alice Johnson\",\n",
    "          \"age\": 19,\n",
    "          \"major\": \"Physics\"\n",
    "        }\n",
    "      }\n",
    "    },\n",
    "    {\n",
    "      \"request\": {\n",
    "        \"method\": \"_____\",\n",
    "        \"url\": \"https://api.school.com/students/3\",\n",
    "        \"body\": {\n",
    "          \"id\": 3,\n",
    "          \"name\": \"Alice Johnson\",\n",
    "          \"age\": 19,\n",
    "          \"major\": \"Biology\"\n",
    "        }\n",
    "      },\n",
    "      \"response\": {\n",
    "        \"status\": _____,\n",
    "        \"body\": {\n",
    "          \"id\": 3,\n",
    "          \"name\": \"Alice Johnson\",\n",
    "          \"age\": 19,\n",
    "          \"major\": \"Biology\"\n",
    "        }\n",
    "      }\n",
    "    }, \n",
    "    {\n",
    "      \"request\": {\n",
    "        \"method\": \"_____\",\n",
    "        \"url\": \"https://api.school.com/students/3\",\n",
    "        \"body\": None\n",
    "      },\n",
    "      \"response\": {\n",
    "        \"status\": _____,\n",
    "        \"body\": None\n",
    "      }\n",
    "    },\n",
    "    {\n",
    "      \"request\": {\n",
    "        \"method\": \"_____\",\n",
    "        \"url\": \"http://api.school.com/students/3\",\n",
    "        \"body\": None\n",
    "      },\n",
    "      \"response\": {\n",
    "        \"status\": _____,\n",
    "        \"body\": {\n",
    "          \"error\": \"Student not found\"\n",
    "        }\n",
    "      }\n",
    "    }\n",
    "  ]\n",
    "}"
   ]
  },
  {
   "cell_type": "markdown",
   "metadata": {
    "id": "NJNn-SViYTcy"
   },
   "source": [
    "## Exercise 3: Key-Value Vector Clocks\n",
    "\n",
    "> Reference: \"Dynamo: Amazon’s Highly Available Key-value Store\". In SOSP ’07 (Vol. 41, p. 205). [DOI](https://dl.acm.org/citation.cfm?doid=1294261.1294281)\n",
    "\n",
    "Multiple distributed hash tables use vector clocks for capturing causality among different versions of the same object. In Amazon's Dynamo, a vector clock is associated with every version of every object.\n",
    "\n",
    "Let $VC$ be an $N$-element array which contains non-negative integers, initialized to 0, representing $N$ logical clocks of the $N$ processes (nodes) of the system. $VC$ gets its $j$ element incremented by one everytime node $j$ performs a write operation on it. <br>\n",
    "Moreover, $VC(x)$ denotes the vector clock of a write event, and $VC(x)_z$ denotes the element of that clock for the node $z$.\n",
    "\n",
    "The formal definition of partial ordering that we get from using vector clocks is the following:\n",
    "$$VC(x) \\leq VC(y) \\iff \\forall z[VC(x)_z \\leq VC(y)_z]$$\n"
   ]
  },
  {
   "cell_type": "markdown",
   "metadata": {},
   "source": [
    "### Task 1\n",
    "\n",
    "Consider $n$ servers in a cluster where $S_i$ denotes the node at position $i$.  \n",
    "\n",
    "In this exercise, we adopt a slightly modified notation from the Dynamo paper:  \n",
    "- The Dynamo paper indicates the writing server on the edge, we however write it before the colon.  \n",
    "- For brevity, we index server by position and omit server name in the vector clock.\n",
    "\n",
    "For example **aa ([$S_0$,0],[$S_1$,4])** with $S_1$ as writing server becomes **$S_1$ : aa ([0,4])**\n",
    "\n",
    "Given the following version-evolution DAG for a particular object, complete the vector clocks computed at the corresponding version.\n",
    "\n",
    "<img src=\"https://polybox.ethz.ch/index.php/s/byzKBjZg3BzSQlB/download\" width=1000/>"
   ]
  },
  {
   "cell_type": "markdown",
   "metadata": {
    "id": "ggoaIglcYTc1"
   },
   "source": [
    "### Task 2\n",
    "\n",
    "Consider the scenario where a `get()` request for some object is received by an Amazon Dynamo node.\n",
    "\n",
    "If the receiving node is not in the top $N$ nodes in the preference list for the given key, the request is forwarded to the first node in the list. Once the request reaches a node in the top $N$ nodes of the preference list, this node becomes the coordinator. The coordinator then requests all existing versions of data for the given key from the $N$ highest-ranked healthy nodes in the preference list.\n",
    "\n",
    "Your task is now to take on the role of the coordinator node. Before you can return the object to answer the `get()` request, you must build a DAG from all returned versions. Using this DAG, you can then identify all causally unrelated versions (those versions that are not comparable in the resulting partial ordering).\n",
    "\n",
    "In exercise, the returned versions are modelled as `value (vector clock)` pairs."
   ]
  },
  {
   "cell_type": "markdown",
   "metadata": {
    "id": "cA4DaMfGYTc1"
   },
   "source": [
    "#### Task 2a\n",
    "\n",
    "- ` 1 ([0,0,1])`\n",
    "- ` 1 ([0,1,1])`\n",
    "- ` 2 ([1,1,1])` \n",
    "- ` 3 ([0,2,1])`\n",
    "- `10 ([1,3,1])`"
   ]
  },
  {
   "cell_type": "markdown",
   "metadata": {
    "id": "n1qfPU1BYTc3"
   },
   "source": [
    "#### Task 2b\n",
    "\n",
    "- ` a ([1,0,0,0])`\n",
    "- ` b ([0,0,0,1])`\n",
    "- `aa ([0,0,1,0])`\n",
    "- `bb ([0,1,0,0])`\n",
    "- ` c ([1,2,0,1])`\n",
    "- `cc ([0,1,1,2])`\n",
    "- ` d ([1,3,0,1])`\n",
    "- ` f ([1,2,1,3])`\n",
    "- ` e ([2,1,1,2])`\n",
    "- ` g ([2,2,2,3])`"
   ]
  },
  {
   "cell_type": "markdown",
   "metadata": {
    "id": "fXhEc_lZYTc5"
   },
   "source": [
    "## Exercise 4: Merkle Trees\n",
    "\n",
    "A hash tree or Merkle tree is a binary tree in which every leaf node gets as its label a data block and every non-leaf node is labelled with the cryptographic hash of the labels of its child nodes. \n",
    "\n",
    "Some Key-Value stores use Merkle trees for efficiently detecting inconsistencies in data between replicas. \n",
    "\n",
    "This works by exchanging first the root hash and comparing it with their own. If the hashes match, the replicas are synchronized. If they do not match, then the children of the node (in the Merkle tree) will be retrieved, and their hashes will be compared. This process continues until the inconsistent leaf(s) are identified.\n",
    "\n",
    "Each of the following tasks shows a pair of Merkle trees for some object. For each pair, specify the process for identifying the data blocks that do not match or explain why the trees are not valid."
   ]
  },
  {
   "cell_type": "markdown",
   "metadata": {},
   "source": [
    "### Task 1\n",
    "\n",
    "<img src=\"https://polybox.ethz.ch/index.php/s/aex97NCb0JuPscJ/download\" width=800/>"
   ]
  },
  {
   "cell_type": "markdown",
   "metadata": {
    "id": "HoLvKmfEdsz3"
   },
   "source": [
    "### Task 2\n",
    "\n",
    "<img src=\"https://polybox.ethz.ch/index.php/s/L6IDGcGesoL1nR0/download\" width=800/>"
   ]
  },
  {
   "cell_type": "markdown",
   "metadata": {
    "id": "aZSykiQzYTc6"
   },
   "source": [
    "## Exercise 5: Virtual Nodes\n",
    "\n",
    "Virtual nodes were introduced to avoid assigning data in an unbalanced manner and coping with hardware heterogeneity by taking into consideration the physical capacity of each server\n",
    "\n",
    "Let assume we have ten physical nodes ($i_0$ to $i_{9}$) with the following main memory configurations:\n",
    "\n",
    "|          **Node** |     0 |      1 |      2 |     3 |      4 |       5 |     6 |      7 |      8 |        9 |\n",
    "| ----------------: | ----: | -----: | -----: | ----: | -----: | ------: | ----: | -----: | -----: | -------: |\n",
    "|        **Memory** | 8 GiB | 16 GiB | 32 GiB | 8 GiB | 16 GiB | 0.5 TiB | 1 TiB | 18 GiB | 30 GiB | 0.25 TiB |\n",
    "\n",
    "Calculate the number of virtual nodes/tokens each server should get according to its main memory capacity if we want to have a total of **256** virtual nodes/tokens.\n",
    "\n",
    "For the purpose of this exercise, always round up if you get a fractional number of virtual nodes, even if the total sum of nodes in the end exceeds 256."
   ]
  }
 ],
 "metadata": {
  "anaconda-cloud": {},
  "colab": {
   "collapsed_sections": [],
   "name": "Exercise02_Blob_Storage_Solution.ipynb",
   "provenance": []
  },
  "kernelspec": {
   "display_name": "Python 3 (ipykernel)",
   "language": "python",
   "name": "python3"
  }
 },
 "nbformat": 4,
 "nbformat_minor": 1
}
