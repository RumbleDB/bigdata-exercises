{
 "cells": [
  {
   "cell_type": "markdown",
   "metadata": {
    "id": "buDUMbpKYTcD"
   },
   "source": [
    "# <center>Big Data &ndash; Exercises &ndash; Solution</center>\n",
    "## <center>Fall 2024 &ndash; Week 2 &ndash; ETH Zurich</center>"
   ]
  },
  {
   "cell_type": "markdown",
   "metadata": {
    "id": "PO44IswhYTcE"
   },
   "source": [
    "## Exercise 1: Storage devices\n",
    "\n",
    "In this exercise, we want to understand the differences between [SSD](https://en.wikipedia.org/wiki/Solid-state_drive), [HDD](https://en.wikipedia.org/wiki/Hard_disk_drive), and [SDRAM](https://en.wikipedia.org/wiki/Synchronous_dynamic_random-access_memory) in terms of __capacity__, __speed__ and __price__. \n",
    "\n",
    "Order the following storage device types: `HDD`, &nbsp;`SSD`, &nbsp;`SDRAM` :\n",
    "\n",
    "- From cheapset to most expensive: &nbsp; _____ &nbsp; &nbsp; _____ &nbsp; &nbsp; _____\n",
    "\n",
    "- From slowest to fastest (in terms of read/write speed): &nbsp; _____ &nbsp; &nbsp; _____ &nbsp; &nbsp; _____\n",
    "\n",
    "- By their capacity in increasing order: &nbsp; _____ &nbsp; &nbsp; _____ &nbsp; &nbsp; _____"
   ]
  },
  {
   "cell_type": "markdown",
   "metadata": {
    "id": "zLSwwJspYTcE"
   },
   "source": [
    "### Solution:\n",
    "Order the following storage device types: `HDD`, &nbsp;`SSD`, &nbsp;`SDRAM` :\n",
    "\n",
    "- From cheapset to most expensive: &nbsp; `HDD` &nbsp; &nbsp; `SSD` &nbsp; &nbsp; `SDRAM`\n",
    "\n",
    "- From slowest to fastest (in terms of read/write speed): &nbsp; `HDD` &nbsp; &nbsp; `SSD` &nbsp; &nbsp; `SDRAM`\n",
    "\n",
    "- By their capacity in increasing order: &nbsp; `SDRAM` &nbsp; &nbsp; `SSD` &nbsp; &nbsp; `HDD`"
   ]
  },
  {
   "cell_type": "markdown",
   "metadata": {},
   "source": [
    "# Exercise 2: REST APIs"
   ]
  },
  {
   "cell_type": "markdown",
   "metadata": {},
   "source": [
    "Below is a sequence of HTTP (REST API) requests with their responses. \n",
    "\n",
    "Complete the missing fields (i.e. the \"_____\" and the _____ ) by selecting the most appropriate answer.\n",
    "\n",
    "Notes:\n",
    "\n",
    "- The \"method\" field is a string. The available options are:\n",
    "    `GET` &nbsp;&nbsp; `DELETE` &nbsp;&nbsp; `POST` &nbsp;&nbsp; `PUT` &nbsp;&nbsp; `FETCH` &nbsp;&nbsp; `SET` &nbsp;&nbsp; `UPDATE`\n",
    "\n",
    "- The \"status\" field is an integer. The available options are:\n",
    "    `404` &nbsp;&nbsp; `301` &nbsp;&nbsp; `204` &nbsp;&nbsp; `402` &nbsp;&nbsp; `500` &nbsp;&nbsp; `200` &nbsp;&nbsp; `201` &nbsp;&nbsp; `413`\n",
    "\n",
    "Hints:\n",
    "1. The JSON syntax we use here is a simplified version of the actual protocol. The fields are self-explanatory as they use the same terminology as in the course.\n",
    "2. No external effects (requests) are to be considered.\n",
    "3. The server respects the REST protocol.\n",
    "4. Requests and responses happen exactly in the order they are listed."
   ]
  },
  {
   "cell_type": "code",
   "execution_count": null,
   "metadata": {},
   "outputs": [],
   "source": [
    "{  \"traces\": \n",
    "  [\n",
    "    {\n",
    "      \"request\": {\n",
    "        \"method\": \"_____\",\n",
    "        \"url\": \"https://api.school.com/students\",\n",
    "        \"body\": None\n",
    "      },\n",
    "      \"response\": {\n",
    "        \"status\": _____,\n",
    "        \"body\": [\n",
    "          {\n",
    "            \"id\": 1,\n",
    "            \"name\": \"John Doe\",\n",
    "            \"age\": 20,\n",
    "            \"major\": \"Computer Science\"\n",
    "          },\n",
    "          {\n",
    "            \"id\": 2,\n",
    "            \"name\": \"Jane Smith\",\n",
    "            \"age\": 22,\n",
    "            \"major\": \"Mathematics\"\n",
    "          }\n",
    "        ]\n",
    "      }\n",
    "    },\n",
    "    {\n",
    "      \"request\": {\n",
    "        \"method\": \"_____\",\n",
    "        \"url\": \"https://api.school.com/students\",\n",
    "        \"body\": {\n",
    "          \"name\": \"Alice Johnson\",\n",
    "          \"age\": 19,\n",
    "          \"major\": \"Physics\"\n",
    "        }\n",
    "      },\n",
    "      \"response\": {\n",
    "        \"status\": _____,\n",
    "        \"body\": {\n",
    "          \"id\": 3,\n",
    "          \"name\": \"Alice Johnson\",\n",
    "          \"age\": 19,\n",
    "          \"major\": \"Physics\"\n",
    "        }\n",
    "      }\n",
    "    },\n",
    "    {\n",
    "      \"request\": {\n",
    "        \"method\": \"_____\",\n",
    "        \"url\": \"https://api.school.com/students/3\",\n",
    "        \"body\": {\n",
    "          \"id\": 3,\n",
    "          \"name\": \"Alice Johnson\",\n",
    "          \"age\": 19,\n",
    "          \"major\": \"Biology\"\n",
    "        }\n",
    "      },\n",
    "      \"response\": {\n",
    "        \"status\": _____,\n",
    "        \"body\": {\n",
    "          \"id\": 3,\n",
    "          \"name\": \"Alice Johnson\",\n",
    "          \"age\": 19,\n",
    "          \"major\": \"Biology\"\n",
    "        }\n",
    "      }\n",
    "    }, \n",
    "    {\n",
    "      \"request\": {\n",
    "        \"method\": \"_____\",\n",
    "        \"url\": \"https://api.school.com/students/3\",\n",
    "        \"body\": None\n",
    "      },\n",
    "      \"response\": {\n",
    "        \"status\": _____,\n",
    "        \"body\": None\n",
    "      }\n",
    "    },\n",
    "    {\n",
    "      \"request\": {\n",
    "        \"method\": \"_____\",\n",
    "        \"url\": \"http://api.school.com/students/3\",\n",
    "        \"body\": None\n",
    "      },\n",
    "      \"response\": {\n",
    "        \"status\": _____,\n",
    "        \"body\": {\n",
    "          \"error\": \"Student not found\"\n",
    "        }\n",
    "      }\n",
    "    }\n",
    "  ]\n",
    "}"
   ]
  },
  {
   "cell_type": "markdown",
   "metadata": {},
   "source": [
    "### Solution:"
   ]
  },
  {
   "cell_type": "markdown",
   "metadata": {},
   "source": [
    "- First, we use the `GET` method to retrieve all existing students. The server responds with a status code `200`, indicating a successful operation. In the response body, we can see two students: John Doe and Jane Smith, along with their details.\n",
    "\n",
    "- Next, a new student named Alice Johnson is created. In this case, we use the `POST` method, which is suitable when the server is responsible for generating the URI of the new resource. Notice that the URI specified in the `POST` request is `https://api.school.com/students`, without a specific ID. The server chooses the ID `3` for the newly created resource, as indicated in the response. The status code for this operation is `201 Created`, which confirms the successful creation of the resource. The full URI of the new resource will be `https://api.school.com/students/3`. If we had known the URI of the resource beforehand, we would have used the `PUT` method to create its representation, and the server would still return a `201 Created` status (see: [PUT](https://developer.mozilla.org/en-US/docs/Web/HTTP/Methods/PUT)).\n",
    "\n",
    "- Once the new resource is created, we proceed to update it. Here, the `PUT` method is used to change Alice's major from \"Physics\" to \"Biology\". Since the resource already exists, the response has a status code of `200 OK`, and the updated representation of the student is returned in the response body. A `200` status code is appropriate when the update operation includes a response body, while `204` could be used if no body is returned.\n",
    "\n",
    "- In the next step, the student with ID `3` (Alice Johnson) is deleted. The `DELETE` method is used, and the response has a status code of `204 No Content`, indicating the deletion was successful, with no further content returned.\n",
    "\n",
    "- Finally, we try to retrieve the student with ID `3` again using the `GET` method. Since the student was deleted, the server responds with a `404 Not Found` status, indicating that the resource no longer exists."
   ]
  },
  {
   "cell_type": "code",
   "execution_count": null,
   "metadata": {},
   "outputs": [],
   "source": [
    "{\n",
    "  \"traces\":\n",
    "  [\n",
    "    {\n",
    "      \"request\": {\n",
    "        \"method\": \"GET\",\n",
    "        \"url\": \"https://api.school.com/students\",\n",
    "        \"body\": None\n",
    "      },\n",
    "      \"response\": {\n",
    "        \"status\": 200,\n",
    "        \"body\": [\n",
    "          {\n",
    "            \"id\": 1,\n",
    "            \"name\": \"John Doe\",\n",
    "            \"age\": 20,\n",
    "            \"major\": \"Computer Science\"\n",
    "          },\n",
    "          {\n",
    "            \"id\": 2,\n",
    "            \"name\": \"Jane Smith\",\n",
    "            \"age\": 22,\n",
    "            \"major\": \"Mathematics\"\n",
    "          }\n",
    "        ]\n",
    "      }\n",
    "    },\n",
    "    {\n",
    "      \"request\": {\n",
    "        \"method\": \"POST\",\n",
    "        \"url\": \"https://api.school.com/students\",\n",
    "        \"body\": {\n",
    "          \"name\": \"Alice Johnson\",\n",
    "          \"age\": 19,\n",
    "          \"major\": \"Physics\"\n",
    "        }\n",
    "      },\n",
    "      \"response\": {\n",
    "        \"status\": 201,\n",
    "        \"body\": {\n",
    "          \"id\": 3,\n",
    "          \"name\": \"Alice Johnson\",\n",
    "          \"age\": 19,\n",
    "          \"major\": \"Physics\"\n",
    "        }\n",
    "      }\n",
    "    },\n",
    "    {\n",
    "      \"request\": {\n",
    "        \"method\": \"PUT\",\n",
    "        \"url\": \"https://api.school.com/students/3\",\n",
    "        \"body\": {\n",
    "          \"id\": 3,\n",
    "          \"name\": \"Alice Johnson\",\n",
    "          \"age\": 19,\n",
    "          \"major\": \"Biology\"\n",
    "        }\n",
    "      },\n",
    "      \"response\": {\n",
    "        \"status\": 200,\n",
    "        \"body\": {\n",
    "          \"id\": 3,\n",
    "          \"name\": \"Alice Johnson\",\n",
    "          \"age\": 19,\n",
    "          \"major\": \"Biology\"\n",
    "        }\n",
    "      }\n",
    "    }, \n",
    "    {\n",
    "      \"request\": {\n",
    "        \"method\": \"DELETE\",\n",
    "        \"url\": \"https://api.school.com/students/3\",\n",
    "        \"body\": None\n",
    "      },\n",
    "      \"response\": {\n",
    "        \"status\": 204,\n",
    "        \"body\": None\n",
    "      }\n",
    "    },\n",
    "    {\n",
    "      \"request\": {\n",
    "        \"method\": \"GET\",\n",
    "        \"url\": \"http://api.school.com/students/3\",\n",
    "        \"body\": None\n",
    "      },\n",
    "      \"response\": {\n",
    "        \"status\": 404,\n",
    "        \"body\": {\n",
    "          \"error\": \"Student not found\"\n",
    "        }\n",
    "      }\n",
    "    }\n",
    "  ]\n",
    "}"
   ]
  },
  {
   "cell_type": "markdown",
   "metadata": {
    "id": "NJNn-SViYTcy"
   },
   "source": [
    "# Exercise 3: KeyValue Vector Clocks\n",
    "Reference: \"Dynamo: Amazon’s Highly Available Key-value Store\". In SOSP ’07 (Vol. 41, p. 205). [DOI](https://dl.acm.org/citation.cfm?doid=1294261.1294281)"
   ]
  },
  {
   "cell_type": "markdown",
   "metadata": {
    "id": "YcHVf7fIYTcy"
   },
   "source": [
    "### Introduction:\n",
    "Multiple distributed hash tables use vector clocks for capturing causality among different versions of the same object. In Amazon's Dynamo, a vector clock is associated with every version of every object.\n",
    "\n",
    "Let $VC$ be an $N$-element array which contains non-negative integers, initialized to 0, representing $N$ logical clocks of the $N$ processes (nodes) of the system. $VC$ gets its $j$ element incremented by one everytime node $j$ performs a write operation on it. <br>\n",
    "Moreover, $VC(x)$ denotes the vector clock of a write event, and $VC(x)_z$ denotes the element of that clock for the node $z$.\n",
    "\n",
    "The formal definition of partial ordering that we get from using vector clocks is the following:"
   ]
  },
  {
   "cell_type": "markdown",
   "metadata": {
    "id": "y5ihYlHhYTcy"
   },
   "source": [
    "$VC(x) \\leq VC(y) \\iff \\forall z[VC(x)_z \\leq VC(y)_z]$"
   ]
  },
  {
   "cell_type": "markdown",
   "metadata": {},
   "source": [
    "### Task 1:\n",
    "Consider $j$ servers in a cluster where $S_j$ denotes the $j$th node.  \n",
    "In this exercise, we adopt a slightly modified notation from the Dynamo paper:  \n",
    "- The Dynamo paper indicates the writing server on the edge, we however write it before the colon.  \n",
    "- For brevity, we index server by position and omit server name in the vector clock.\n",
    "\n",
    "For example **aa ([$S_0$,0],[$S_1$,4])** with $S_1$ as writing server becomes **$S_1$ : aa ([0,4])**\n",
    "\n",
    "So, given the following version evolution DAG for a particular object, complete the vector clocks computed at the corresponding version.\n",
    "\n",
    "<img src=\"https://polybox.ethz.ch/index.php/s/byzKBjZg3BzSQlB/download\" width=1000/>"
   ]
  },
  {
   "cell_type": "markdown",
   "metadata": {
    "id": "8rdvxg65YTc0"
   },
   "source": [
    "__Solution:__\n",
    "\n",
    "Note that for the written values, any value is valid. For instance, in *Exercise 3.1* (obj. 1), for the write done by $S_1$, `123` or `pp` would've been just as valid as `aa`.\n",
    "\n",
    "<img src=\"https://polybox.ethz.ch/index.php/s/830WqekKCjNwvt3/download\" width=1000/>"
   ]
  },
  {
   "cell_type": "markdown",
   "metadata": {
    "id": "ggoaIglcYTc1"
   },
   "source": [
    "## Task 2\n",
    "\n",
    "When a get request comes in to Amazon Dynamo with some key, then:\n",
    "  - The coordinator node (selected from the preference list as the top node for this key) is taking care of this request\n",
    "  - The coordinator node requests from other nodes (itself + the next N-1 healthy ones on the preference list), and receives, a set of versions for the value associated with the key, that are modelled as __value (vector clock)__ pairs such as a ([1, 3, 2])"
   ]
  },
  {
   "cell_type": "markdown",
   "metadata": {
    "id": "cA4DaMfGYTc1"
   },
   "source": [
    "### Task 2.1\n",
    "Given the following list of versions, draw the version DAG that the coordinator node will build for returning available versions.\n",
    "\n",
    "1 ([0,0,1])  \n",
    "1 ([0,1,1])  \n",
    "2 ([1,1,1])  \n",
    "3 ([0,2,1])  \n",
    "10 ([1,3,1])"
   ]
  },
  {
   "cell_type": "markdown",
   "metadata": {
    "id": "08D9-zKHYTc2"
   },
   "source": [
    "__Solution:__\n",
    "We could use the following rules as guidance for creating correct version DAGs. \n",
    "\n",
    "- If no partial ordering exists between nodes, then those nodes should be on the same level, i.e., they are both valid versions.\n",
    "- If there is an edge between two nodes, then the parent node should be smaller than the child.\n",
    "- You cannot have skip connections, i.e., there cannot be an edge from an ancestor node (excluding the parent node) directly to a child node.\n",
    "- Transitive edges shouldn't be present in the version DAG.\n",
    "- Each edge represents the update of exactly one entry of the vector clock.\n",
    "\n",
    "<img src=\"https://polybox.ethz.ch/index.php/s/8ePr58NIdIxfyJc/download\" width=400/>"
   ]
  },
  {
   "cell_type": "markdown",
   "metadata": {
    "id": "n1qfPU1BYTc3"
   },
   "source": [
    "### Task 2.2\n",
    "Given the following list of versions, draw the version DAG that the coordinator node will build for returning the correct version.\n",
    "\n",
    "\n",
    " a ([1,0,0])  \n",
    " b ([0,1,0])  \n",
    " c ([2,1,0])   \n",
    " d ([2,1,1])   \n",
    " e ([3,1,1])  \n",
    " f ([2,2,1])   \n",
    " g ([3,1,2])   \n",
    " h ([3,2,3])  \n",
    " i ([4,2,2])   \n",
    " j ([5,2,2])  \n",
    " k ([4,3,3])  \n",
    " l ([5,2,3])  \n",
    " m ([5,4,3])  \n",
    " n ([6,3,3])  \n",
    " o ([6,4,4])  "
   ]
  },
  {
   "cell_type": "markdown",
   "metadata": {
    "id": "ucKC8J3mYTc3"
   },
   "source": [
    "__Solution:__\n",
    "\n",
    "<img src=\"https://polybox.ethz.ch/index.php/s/bW5PFGGkLAHN3aI/download\" width=300/>"
   ]
  },
  {
   "cell_type": "markdown",
   "metadata": {
    "id": "6CglmCvJYTc4"
   },
   "source": [
    "### Task 2.3\n",
    "Given the following list of versions, draw the version DAG that the coordinator node will build for returning the correct version.\n",
    "\n",
    "a ([1,0,0,0])  \n",
    "b ([0,0,0,1])  \n",
    "aa ([0,0,1,0])  \n",
    "bb ([0,1,0,0])  \n",
    "c ([1,2,0,1])  \n",
    "cc ([0,1,1,2])  \n",
    "d ([1,3,0,1])  \n",
    "f ([1,2,1,3])  \n",
    "e ([2,1,1,2])  \n",
    "g ([2,2,2,3])  "
   ]
  },
  {
   "cell_type": "markdown",
   "metadata": {
    "id": "yek61oybYTc4"
   },
   "source": [
    "__Solution:__\n",
    "\n",
    "<img src=\"https://polybox.ethz.ch/index.php/s/fzp9Dpxd1KcGUPW/download\" width=700/>"
   ]
  },
  {
   "cell_type": "markdown",
   "metadata": {
    "id": "ox_oCR30YTc5"
   },
   "source": [
    "## Task 3\n",
    "\n",
    "Consider $j$ servers in a cluster where $S_j$ denotes the $j$th node. The following table denotes the execution of a series of get/put operations. Also each line of the table represents the events that happen at the time $t_i$. For example, at time $t_0$, servers $S_1$ and $S_3$ perform operations. Moreover, when reading and writing an object, we are provided with / must provide a context respecitvely. The context itself is the vector clock, and helps the routines understand what version of the object they are dealing with, and what the new, updated version of the context will be.\n",
    "\n",
    "For the `get` and `put` routines, we have the following signatures:\n",
    "\n",
    "* `get(key)` $\\rightarrow$ `[val_1, val_2, ...]`, $C_{key}$ `(` $VC$ `(key))` \n",
    "  * Example: `get(\"foo\")` $\\rightarrow$ `[bar_1, bar_2]`, $C_{2}$ `([1, 0, 1, 0]) # We assume the existence of 4 nodes` \n",
    "\n",
    "* `put(key, context, val)` $\\rightarrow$ `None`\n",
    "  * Example: `put(\"foo\",` $C_2$`, \"bar\")`  \n",
    "\n",
    "Note that the $C_{key}$ elements are just notation, and are meant to highlight that the context gets passed around between the `get` and `put` routines in a real API. \n",
    "\n",
    "Complete missing `[list_values],` $C_{key}$ `([vector_clock])` tuples for the calls below.\n",
    "\n",
    "<table>\n",
    "  <tr><th></th><th>S0</th><th>S1</th><th>S2</th><th>S3</th><th>S4</th></tr>\n",
    "  <tr>\n",
    "    <td>t0</td>\n",
    "    <td></td>\n",
    "    <td>Get(1)$\\rightarrow$ _______________, $C_{1}$(_______________)<br>Put(1, _____, ”a”)</td>\n",
    "    <td></td>\n",
    "    <td>Get(1)$\\rightarrow$ _______________, $C_{2}$(_______________)<br>Put(1, _____, ”bb”)</td>\n",
    "    <td></td>\n",
    "  </tr>\n",
    "  <tr>\n",
    "    <td>t2</td>\n",
    "    <td>Get(1)$\\rightarrow$ _______________, $C_4$(_______________)<br>Put (1, _____, “rr”)</td>\n",
    "    <td>Get(1)$\\rightarrow$ _______________, $C_5$(_______________)<br>Put (1, _____, ”dd”)\n",
    "    <td></td>\n",
    "    <td></td>\n",
    "    <td></td>\n",
    "    <td></td>\n",
    "  </tr>\n",
    "  <tr>\n",
    "    <td>t4</td>\n",
    "    <td></td>\n",
    "    <td></td>\n",
    "    <td>Get(1)$\\rightarrow$ _______________, $C_9$(_______________) <br>Put(1, _____, ”ccc”)</td>\n",
    "    <td>Get(1)$\\rightarrow$ _______________, $C_{10}$(_______________) <br> Put(1, _____, ”dd”)</td>\n",
    "    <td></td>\n",
    "  </tr>\n",
    "  <tr>\n",
    "    <td>t5</td>\n",
    "    <td></td>\n",
    "    <td></td>\n",
    "    <td></td>\n",
    "    <td></td>\n",
    "    <td>Get(1)$\\rightarrow$ _______________, $C_{11}$(_______________) <br>Put(1, _____, “fff”)</td>\n",
    "  </tr>\n",
    "</table>\n",
    "\n",
    "The DAG below shows the interaction among nodes when retrieving values. You can use it for determining the expected values.\n",
    "\n",
    "<img src=\"https://polybox.ethz.ch/index.php/s/n49orxSUmpyvrdG/download\" width=400/>"
   ]
  },
  {
   "cell_type": "markdown",
   "metadata": {
    "id": "ssSIZECNYTc5"
   },
   "source": [
    "__Solution:__\n",
    "<table>\n",
    "  <tr><th></th><th>S0</th><th>S1</th><th>S2</th><th>S3</th><th>S4</th></tr>\n",
    "  <tr>\n",
    "    <td>t0</td>\n",
    "    <td></td>\n",
    "    <td>Get(1)$\\rightarrow [], C_1$()<br>Put(1, $C_1$, ”a”)</td>\n",
    "    <td></td>\n",
    "    <td>Get(1)$\\rightarrow [], C_2$()<br>Put(1, $C_2$, ”bb”)</td>\n",
    "    <td></td>\n",
    "  </tr>\n",
    "  <tr>\n",
    "    <td>t2</td>\n",
    "    <td>Get(1)$\\rightarrow [a, bb], C_4$([0,1,0,1,0])<br>Put (1, $C_4$, “rr”)</td>\n",
    "    <td>Get(1)$\\rightarrow [a, bb], C_5$([0,1,0,1,0])<br>Put (1, $C_5$, ”dd”)</td>\n",
    "    <td></td>\n",
    "    <td></td>\n",
    "    <td></td>\n",
    "  </tr>\n",
    "  <tr>\n",
    "    <td>t4</td>\n",
    "    <td></td>\n",
    "    <td></td>\n",
    "    <td>Get(1)$\\rightarrow [rr], C_9$([1,1,0,1,0]) <br>Put(1, $C_9$, ”ccc”)</td>\n",
    "    <td>Get(1)$\\rightarrow [dd], C_{10}$([0,2,0,1,0]) <br> Put(1, $C_{10}$, ”dd”)</td>\n",
    "    <td></td>\n",
    "  </tr>\n",
    "  <tr>\n",
    "    <td>t5</td>\n",
    "    <td></td>\n",
    "    <td></td>\n",
    "    <td></td>\n",
    "    <td></td>\n",
    "    <td>Get(1)$\\rightarrow [ccc, dd], $<br>$C_{11}$([1,2,1,2,0]) <br> Put(1, $C_{11}$, “fff”)</td>\n",
    "  </tr>\n",
    "</table>"
   ]
  },
  {
   "cell_type": "markdown",
   "metadata": {
    "id": "fXhEc_lZYTc5"
   },
   "source": [
    "# Exercise 4. Merkle Trees\n",
    "A hash tree or Merkle tree is a binary tree in which every leaf node gets as its label a data block and every non-leaf node is labelled with the cryptographic hash of the labels of its child nodes. \n",
    "\n",
    "Some KeyValue stores use Merkle trees for efficiently detecting inconsistencies in data between replicas. \n",
    "\n",
    "This works by exchaging first the root hash, comparing it with their own. If the hashes match, the replicas are synchronised. If they do not match, then the children of the node (in the Merkle tree) will be retrieved, and their hashes will be compared. This process continues until the inconsistent leave(s) are identified. \n",
    "\n",
    "## Task 1\n",
    "The two pictures below depict two Merkle trees each one belonging to two different replicas. Both should represent the same object.\n",
    "\n",
    "For the two pairs of trees below. Specify if it is a possible configuration as well as which nodes have to be exchanged in order to sync the trees, if applicable.  \n",
    "\n",
    "<img src=\"https://polybox.ethz.ch/index.php/s/aex97NCb0JuPscJ/download\" width=800/>"
   ]
  },
  {
   "cell_type": "markdown",
   "metadata": {
    "id": "B7-gSY9IYTc6"
   },
   "source": [
    "__Solution Pair I:__\n",
    "- Node A (root hash) is exchanged. Node A is not the same.\n",
    "- Fetch Node A children. \n",
    "- Nodes B and C are exchanged. Node B is the same so its children are not exchanged, but node C is not.\n",
    "- Fetch Node C children.\n",
    "- Nodes F and G are exchanged. Node F is the same so its children are not exchanged, but node G is not.\n",
    "- Fetch Node G children.\n",
    "- Nodes N and O are exchanged. They both differ, so data blocks represented by the leaf's hashes are expected to be different (which is indeed the case)."
   ]
  },
  {
   "cell_type": "markdown",
   "metadata": {
    "id": "HoLvKmfEdsz3"
   },
   "source": [
    "## Task 2\n",
    "Repeat the exercise for the following pair of Merkle Trees.\n",
    "\n",
    "<img src=\"https://polybox.ethz.ch/index.php/s/L6IDGcGesoL1nR0/download\" width=800/>"
   ]
  },
  {
   "cell_type": "markdown",
   "metadata": {
    "id": "rD3wBjxeYTc6"
   },
   "source": [
    "__Solution Pair II:__\n",
    "\n",
    "This configuration is theoretically impossible with a sound hash function, since node `A` has different values in the trees while having exactly the same children. This would imply that our hash function can give two different results from the exact same input values.\n",
    "\n",
    "Another problem of the trees can be seen in nodes `C`, which have matching hashes, while the nodes `G` have different hashes across the two replicas. This is theoretically possible since hash functions generally have non-zero collision probability (i.e. the same hash value can be obtained from two different input datums). While this is an anomaly, and generally does not happen in practice with a strong enough hash, it can happen in theory, yielding undesirable results."
   ]
  },
  {
   "cell_type": "markdown",
   "metadata": {
    "id": "aZSykiQzYTc6"
   },
   "source": [
    "# Exercise 5. Virtual nodes\n",
    "\n",
    "Virtual nodes were introduced to avoid assigning data in an unbalanced manner and coping with hardware heterogeneity by taking into consideration the physical capacity of each server\n",
    "\n",
    "Let assume we have ten servers ($i_1$ to $i_{10}$) each with the following amount of main memory: `8GiB, 16GiB, 32GiB, 8GiB, 16GiB, 0.5TiB, 1TiB, 0.25TiB, 10GiB, 20GiB`. Calculate the number of virtual nodes/tokens each server should get according to its main memory capacity if we want to have a total of `256` virtual nodes/tokens.\n",
    "\n",
    "Just for the purpose of the exercises if you get a fractional number of virtual nodes, always round up, even if the total sum of nodes in the end exceeds `256`."
   ]
  },
  {
   "cell_type": "markdown",
   "metadata": {
    "id": "JvmrZ9hFYTc7"
   },
   "source": [
    "__Solution:__\n",
    "\n",
    "The total amount of main memory available is: `1902 GiBs = 8 + 16 + 32 + 8 + 16 + 512 + 1024 + 256 + 10 + 20`.\n",
    "\n",
    "So if we want to have 256 virtual nodes/tokens, each such virtual node should get approximately `7.42 GiBs`. Thus, each physical server $i_1$ to $i_{10}$ should get around: `2, 3, 5, 2, 3, 69, 138, 35, 2, 3` number of virtual nodes/tokens. Note that due to the rounding up process, the total number of allocated virtual nodes would be `262`.\n",
    "\n",
    "In general, rounding up to the next integer number or rounding down to the previous integer number is not determinant as virtual nodes are logically positioned in random parts of the ring anyway. \n",
    "\n",
    "However, one thing to be taken into consideration in practice is that the server with the smallest capacity should have more than a single virtual node. This is because it might be \"unlucky\" and have to handle a large domain of responsability."
   ]
  }
 ],
 "metadata": {
  "anaconda-cloud": {},
  "colab": {
   "collapsed_sections": [],
   "name": "Exercise02_Blob_Storage_Solution.ipynb",
   "provenance": []
  },
  "kernelspec": {
   "display_name": "Python 3 (ipykernel)",
   "language": "python",
   "name": "python3"
  }
 },
 "nbformat": 4,
 "nbformat_minor": 1
}
