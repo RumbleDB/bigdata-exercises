{
 "cells": [
  {
   "cell_type": "markdown",
   "metadata": {
    "id": "buDUMbpKYTcD"
   },
   "source": [
    "# <center>Big Data &ndash; Exercises &ndash; Solution</center>\n",
    "## <center>Fall 2025 &ndash; Week 2 &ndash; ETH Zurich</center>"
   ]
  },
  {
   "cell_type": "markdown",
   "metadata": {
    "id": "PO44IswhYTcE"
   },
   "source": [
    "## Exercise 1: URIs\n",
    "\n",
    "A URI is constituted of up to 5 components. Identify all components of the following URI:\n",
    "\n",
    "`https://en.wikipedia.org/wiki/ETH_Zurich?view=wide#history`\n",
    "\n",
    "- authority: `_`\n",
    "- fragment: `_`\n",
    "- path: `_`\n",
    "- scheme: `_`\n",
    "- query: `_`"
   ]
  },
  {
   "cell_type": "markdown",
   "metadata": {
    "id": "zLSwwJspYTcE"
   },
   "source": [
    "### Solution\n",
    "\n",
    "The URI scheme is as follows:\n",
    "\n",
    "```\n",
    "scheme \":\" [\"//\" authority] path [\"?\" query] [\"#\" fragment]\n",
    "```\n",
    "\n",
    "With that, the components of the given URI are as follows:\n",
    "\n",
    "- authority: `en.wikipedia.org`\n",
    "- fragment: `history`\n",
    "- path: `/wiki/ETH_Zurich`\n",
    "- scheme: `https`\n",
    "- query: `view=wide`"
   ]
  },
  {
   "cell_type": "markdown",
   "metadata": {},
   "source": [
    "## Exercise 2: REST APIs"
   ]
  },
  {
   "cell_type": "markdown",
   "metadata": {},
   "source": [
    "Below is a sequence of HTTP (REST API) requests with their responses. \n",
    "\n",
    "Complete the missing fields (i.e. the \"_____\" and the _____ ) by selecting the most appropriate answer.\n",
    "\n",
    "Notes:\n",
    "\n",
    "- The \"method\" field is a string. The available options are:\n",
    "    `GET` &nbsp;&nbsp; `DELETE` &nbsp;&nbsp; `POST` &nbsp;&nbsp; `PUT` &nbsp;&nbsp; `FETCH` &nbsp;&nbsp; `SET` &nbsp;&nbsp; `UPDATE`\n",
    "\n",
    "- The \"status\" field is an integer. The available options are:\n",
    "    `404` &nbsp;&nbsp; `301` &nbsp;&nbsp; `204` &nbsp;&nbsp; `402` &nbsp;&nbsp; `500` &nbsp;&nbsp; `200` &nbsp;&nbsp; `201` &nbsp;&nbsp; `413`\n",
    "\n",
    "Hints:\n",
    "1. The JSON syntax we use here is a simplified version of the actual protocol. The fields are self-explanatory as they use the same terminology as in the course.\n",
    "2. No external effects (requests) are to be considered.\n",
    "3. The server respects the REST protocol.\n",
    "4. Requests and responses happen exactly in the order they are listed."
   ]
  },
  {
   "cell_type": "code",
   "execution_count": null,
   "metadata": {},
   "outputs": [],
   "source": [
    "{  \"traces\": \n",
    "  [\n",
    "    {\n",
    "      \"request\": {\n",
    "        \"method\": \"_____\",\n",
    "        \"url\": \"https://api.school.com/students\",\n",
    "        \"body\": None\n",
    "      },\n",
    "      \"response\": {\n",
    "        \"status\": _____,\n",
    "        \"body\": [\n",
    "          {\n",
    "            \"id\": 1,\n",
    "            \"name\": \"John Doe\",\n",
    "            \"age\": 20,\n",
    "            \"major\": \"Computer Science\"\n",
    "          },\n",
    "          {\n",
    "            \"id\": 2,\n",
    "            \"name\": \"Jane Smith\",\n",
    "            \"age\": 22,\n",
    "            \"major\": \"Mathematics\"\n",
    "          }\n",
    "        ]\n",
    "      }\n",
    "    },\n",
    "    {\n",
    "      \"request\": {\n",
    "        \"method\": \"_____\",\n",
    "        \"url\": \"https://api.school.com/students\",\n",
    "        \"body\": {\n",
    "          \"name\": \"Alice Johnson\",\n",
    "          \"age\": 19,\n",
    "          \"major\": \"Physics\"\n",
    "        }\n",
    "      },\n",
    "      \"response\": {\n",
    "        \"status\": _____,\n",
    "        \"body\": {\n",
    "          \"id\": 3,\n",
    "          \"name\": \"Alice Johnson\",\n",
    "          \"age\": 19,\n",
    "          \"major\": \"Physics\"\n",
    "        }\n",
    "      }\n",
    "    },\n",
    "    {\n",
    "      \"request\": {\n",
    "        \"method\": \"_____\",\n",
    "        \"url\": \"https://api.school.com/students/3\",\n",
    "        \"body\": {\n",
    "          \"id\": 3,\n",
    "          \"name\": \"Alice Johnson\",\n",
    "          \"age\": 19,\n",
    "          \"major\": \"Biology\"\n",
    "        }\n",
    "      },\n",
    "      \"response\": {\n",
    "        \"status\": _____,\n",
    "        \"body\": {\n",
    "          \"id\": 3,\n",
    "          \"name\": \"Alice Johnson\",\n",
    "          \"age\": 19,\n",
    "          \"major\": \"Biology\"\n",
    "        }\n",
    "      }\n",
    "    }, \n",
    "    {\n",
    "      \"request\": {\n",
    "        \"method\": \"_____\",\n",
    "        \"url\": \"https://api.school.com/students/3\",\n",
    "        \"body\": None\n",
    "      },\n",
    "      \"response\": {\n",
    "        \"status\": _____,\n",
    "        \"body\": None\n",
    "      }\n",
    "    },\n",
    "    {\n",
    "      \"request\": {\n",
    "        \"method\": \"_____\",\n",
    "        \"url\": \"http://api.school.com/students/3\",\n",
    "        \"body\": None\n",
    "      },\n",
    "      \"response\": {\n",
    "        \"status\": _____,\n",
    "        \"body\": {\n",
    "          \"error\": \"Student not found\"\n",
    "        }\n",
    "      }\n",
    "    }\n",
    "  ]\n",
    "}"
   ]
  },
  {
   "cell_type": "markdown",
   "metadata": {},
   "source": [
    "### Solution\n",
    "\n",
    "- First, we use the `GET` method to retrieve all existing students. The server responds with a status code `200`, indicating a successful operation. In the response body, we can see two students: John Doe and Jane Smith, along with their details.\n",
    "\n",
    "- Next, a new student named Alice Johnson is created. In this case, we use the `POST` method, which is suitable when the server is responsible for generating the URI of the new resource. Notice that the URI specified in the `POST` request is `https://api.school.com/students`, without a specific ID. The server chooses the ID `3` for the newly created resource, as indicated in the response. The status code for this operation is `201 Created`, which confirms the successful creation of the resource. The full URI of the new resource will be `https://api.school.com/students/3`. If we had known the URI of the resource beforehand, we would have used the `PUT` method to create its representation, and the server would still return a `201 Created` status (see: [PUT](https://developer.mozilla.org/en-US/docs/Web/HTTP/Methods/PUT)).\n",
    "\n",
    "- Once the new resource is created, we proceed to update it. Here, the `PUT` method is used to change Alice's major from \"Physics\" to \"Biology\". Since the resource already exists, the response has a status code of `200 OK`, and the updated representation of the student is returned in the response body. A `200` status code is appropriate when the update operation includes a response body, while `204` could be used if no body is returned.\n",
    "\n",
    "- In the next step, the student with ID `3` (Alice Johnson) is deleted. The `DELETE` method is used, and the response has a status code of `204 No Content`, indicating the deletion was successful, with no further content returned.\n",
    "\n",
    "- Finally, we try to retrieve the student with ID `3` again using the `GET` method. Since the student was deleted, the server responds with a `404 Not Found` status, indicating that the resource no longer exists."
   ]
  },
  {
   "cell_type": "code",
   "execution_count": null,
   "metadata": {},
   "outputs": [],
   "source": [
    "{\n",
    "  \"traces\":\n",
    "  [\n",
    "    {\n",
    "      \"request\": {\n",
    "        \"method\": \"GET\",\n",
    "        \"url\": \"https://api.school.com/students\",\n",
    "        \"body\": None\n",
    "      },\n",
    "      \"response\": {\n",
    "        \"status\": 200,\n",
    "        \"body\": [\n",
    "          {\n",
    "            \"id\": 1,\n",
    "            \"name\": \"John Doe\",\n",
    "            \"age\": 20,\n",
    "            \"major\": \"Computer Science\"\n",
    "          },\n",
    "          {\n",
    "            \"id\": 2,\n",
    "            \"name\": \"Jane Smith\",\n",
    "            \"age\": 22,\n",
    "            \"major\": \"Mathematics\"\n",
    "          }\n",
    "        ]\n",
    "      }\n",
    "    },\n",
    "    {\n",
    "      \"request\": {\n",
    "        \"method\": \"POST\",\n",
    "        \"url\": \"https://api.school.com/students\",\n",
    "        \"body\": {\n",
    "          \"name\": \"Alice Johnson\",\n",
    "          \"age\": 19,\n",
    "          \"major\": \"Physics\"\n",
    "        }\n",
    "      },\n",
    "      \"response\": {\n",
    "        \"status\": 201,\n",
    "        \"body\": {\n",
    "          \"id\": 3,\n",
    "          \"name\": \"Alice Johnson\",\n",
    "          \"age\": 19,\n",
    "          \"major\": \"Physics\"\n",
    "        }\n",
    "      }\n",
    "    },\n",
    "    {\n",
    "      \"request\": {\n",
    "        \"method\": \"PUT\",\n",
    "        \"url\": \"https://api.school.com/students/3\",\n",
    "        \"body\": {\n",
    "          \"id\": 3,\n",
    "          \"name\": \"Alice Johnson\",\n",
    "          \"age\": 19,\n",
    "          \"major\": \"Biology\"\n",
    "        }\n",
    "      },\n",
    "      \"response\": {\n",
    "        \"status\": 200,\n",
    "        \"body\": {\n",
    "          \"id\": 3,\n",
    "          \"name\": \"Alice Johnson\",\n",
    "          \"age\": 19,\n",
    "          \"major\": \"Biology\"\n",
    "        }\n",
    "      }\n",
    "    }, \n",
    "    {\n",
    "      \"request\": {\n",
    "        \"method\": \"DELETE\",\n",
    "        \"url\": \"https://api.school.com/students/3\",\n",
    "        \"body\": None\n",
    "      },\n",
    "      \"response\": {\n",
    "        \"status\": 204,\n",
    "        \"body\": None\n",
    "      }\n",
    "    },\n",
    "    {\n",
    "      \"request\": {\n",
    "        \"method\": \"GET\",\n",
    "        \"url\": \"http://api.school.com/students/3\",\n",
    "        \"body\": None\n",
    "      },\n",
    "      \"response\": {\n",
    "        \"status\": 404,\n",
    "        \"body\": {\n",
    "          \"error\": \"Student not found\"\n",
    "        }\n",
    "      }\n",
    "    }\n",
    "  ]\n",
    "}"
   ]
  },
  {
   "cell_type": "markdown",
   "metadata": {
    "id": "NJNn-SViYTcy"
   },
   "source": [
    "## Exercise 3: Key-Value Vector Clocks\n",
    "\n",
    "> Reference: \"Dynamo: Amazon’s Highly Available Key-value Store\". In SOSP ’07 (Vol. 41, p. 205). [DOI](https://dl.acm.org/citation.cfm?doid=1294261.1294281)\n",
    "\n",
    "Multiple distributed hash tables use vector clocks for capturing causality among different versions of the same object. In Amazon's Dynamo, a vector clock is associated with every version of every object.\n",
    "\n",
    "Let $VC$ be an $N$-element array which contains non-negative integers, initialized to 0, representing $N$ logical clocks of the $N$ processes (nodes) of the system. $VC$ gets its $j$ element incremented by one everytime node $j$ performs a write operation on it. <br>\n",
    "Moreover, $VC(x)$ denotes the vector clock of a write event, and $VC(x)_z$ denotes the element of that clock for the node $z$.\n",
    "\n",
    "The formal definition of partial ordering that we get from using vector clocks is the following:\n",
    "$$VC(x) \\leq VC(y) \\iff \\forall z[VC(x)_z \\leq VC(y)_z]$$\n"
   ]
  },
  {
   "cell_type": "markdown",
   "metadata": {},
   "source": [
    "### Task 1\n",
    "\n",
    "Consider $n$ servers in a cluster where $S_i$ denotes the node at position $i$.  \n",
    "\n",
    "In this exercise, we adopt a slightly modified notation from the Dynamo paper:  \n",
    "- The Dynamo paper indicates the writing server on the edge, we however write it before the colon.  \n",
    "- For brevity, we index server by position and omit server name in the vector clock.\n",
    "\n",
    "For example **aa ([$S_0$,0],[$S_1$,4])** with $S_1$ as writing server becomes **$S_1$ : aa ([0,4])**\n",
    "\n",
    "Given the following version-evolution DAG for a particular object, complete the vector clocks computed at the corresponding version.\n",
    "\n",
    "<img src=\"https://polybox.ethz.ch/index.php/s/byzKBjZg3BzSQlB/download\" width=1000/>"
   ]
  },
  {
   "cell_type": "markdown",
   "metadata": {
    "id": "8rdvxg65YTc0"
   },
   "source": [
    "#### Solution\n",
    "\n",
    "<img src=\"https://polybox.ethz.ch/index.php/s/830WqekKCjNwvt3/download\" width=1000/>"
   ]
  },
  {
   "cell_type": "markdown",
   "metadata": {
    "id": "ggoaIglcYTc1"
   },
   "source": [
    "### Task 2\n",
    "\n",
    "Consider the scenario where a `get()` request for some object is received by an Amazon Dynamo node.\n",
    "\n",
    "If the receiving node is not in the top $N$ nodes in the preference list for the given key, the request is forwarded to the first node in the list. Once the request reaches a node in the top $N$ nodes of the preference list, this node becomes the coordinator. The coordinator then requests all existing versions of data for the given key from the $N$ highest-ranked healthy nodes in the preference list.\n",
    "\n",
    "Your task is now to take on the role of the coordinator node. Before you can return the object to answer the `get()` request, you must build a DAG from all returned versions. Using this DAG, you can then identify all causally unrelated versions (those versions that are not comparable in the resulting partial ordering).\n",
    "\n",
    "In exercise, the returned versions are modelled as `value (vector clock)` pairs."
   ]
  },
  {
   "cell_type": "markdown",
   "metadata": {
    "id": "cA4DaMfGYTc1"
   },
   "source": [
    "#### Task 2a\n",
    "\n",
    "- ` 1 ([0,0,1])`\n",
    "- ` 1 ([0,1,1])`\n",
    "- ` 2 ([1,1,1])` \n",
    "- ` 3 ([0,2,1])`\n",
    "- `10 ([1,3,1])`"
   ]
  },
  {
   "cell_type": "markdown",
   "metadata": {
    "id": "08D9-zKHYTc2"
   },
   "source": [
    "##### Solution\n",
    "\n",
    "<img src=\"https://polybox.ethz.ch/index.php/s/8ePr58NIdIxfyJc/download\" width=400/>"
   ]
  },
  {
   "cell_type": "markdown",
   "metadata": {
    "id": "n1qfPU1BYTc3"
   },
   "source": [
    "#### Task 2b\n",
    "\n",
    "- ` a ([1,0,0,0])`\n",
    "- ` b ([0,0,0,1])`\n",
    "- `aa ([0,0,1,0])`\n",
    "- `bb ([0,1,0,0])`\n",
    "- ` c ([1,2,0,1])`\n",
    "- `cc ([0,1,1,2])`\n",
    "- ` d ([1,3,0,1])`\n",
    "- ` f ([1,2,1,3])`\n",
    "- ` e ([2,1,1,2])`\n",
    "- ` g ([2,2,2,3])`"
   ]
  },
  {
   "cell_type": "markdown",
   "metadata": {
    "id": "yek61oybYTc4"
   },
   "source": [
    "##### Solution\n",
    "\n",
    "<img src=\"https://polybox.ethz.ch/index.php/s/fzp9Dpxd1KcGUPW/download\" width=700/>"
   ]
  },
  {
   "cell_type": "markdown",
   "metadata": {
    "id": "fXhEc_lZYTc5"
   },
   "source": [
    "## Exercise 4: Merkle Trees\n",
    "\n",
    "A hash tree or Merkle tree is a binary tree in which every leaf node gets as its label a data block and every non-leaf node is labelled with the cryptographic hash of the labels of its child nodes. \n",
    "\n",
    "Some Key-Value stores use Merkle trees for efficiently detecting inconsistencies in data between replicas. \n",
    "\n",
    "This works by exchanging first the root hash and comparing it with their own. If the hashes match, the replicas are synchronized. If they do not match, then the children of the node (in the Merkle tree) will be retrieved, and their hashes will be compared. This process continues until the inconsistent leaf(s) are identified.\n",
    "\n",
    "Each of the following tasks shows a pair of Merkle trees for some object. For each pair, specify the process for identifying the data blocks that do not match or explain why the trees are not valid."
   ]
  },
  {
   "cell_type": "markdown",
   "metadata": {},
   "source": [
    "### Task 1\n",
    "\n",
    "<img src=\"https://polybox.ethz.ch/index.php/s/aex97NCb0JuPscJ/download\" width=800/>"
   ]
  },
  {
   "cell_type": "markdown",
   "metadata": {
    "id": "B7-gSY9IYTc6"
   },
   "source": [
    "#### Solution\n",
    "\n",
    "1. Node $A$ (root) is exchanged and compared. \n",
    "    - The hashes do not match.\n",
    "2. Nodes $B$ and $C$ are exchanged and compared. \n",
    "    - Node $B$ matches, so its children are not exchanged. \n",
    "    - Node $C$ does not match.\n",
    "3. Nodes $F$ and $G$ are exchanged and compared.\n",
    "    - Node $F$ matches, so its children are not exchanged.\n",
    "    - Node $G$ does not match.\n",
    "4. Nodes $N$ and $O$ are exchanged and compared. \n",
    "    - Node $N$ does not match, indicating a difference in the associated data block.\n",
    "    - Node $O$ also does not match, again indicating a difference in the associated data block."
   ]
  },
  {
   "cell_type": "markdown",
   "metadata": {
    "id": "HoLvKmfEdsz3"
   },
   "source": [
    "### Task 2\n",
    "\n",
    "<img src=\"https://polybox.ethz.ch/index.php/s/L6IDGcGesoL1nR0/download\" width=800/>"
   ]
  },
  {
   "cell_type": "markdown",
   "metadata": {
    "id": "rD3wBjxeYTc6"
   },
   "source": [
    "#### Solution\n",
    "\n",
    "This configuration is theoretically impossible with a sound hash function. The hashes of $B$ and $C$, respectively, are identical across the trees. Yet, the hash of node $A$ does not match. This would imply that our hash function can give two different results from the exact same input values.\n",
    "\n",
    "Another problem of the trees can be seen in node $C$. Both trees have the same value for node $C$, yet the hash of one of the children (node $G$) is different across trees. This is theoretically possible since hash functions generally have non-zero collision probability (i.e., the same hash value can be obtained from two different inputs). In practice, this is extremely unlikely, but may lead to unnecessary exchanges/synchronization."
   ]
  },
  {
   "cell_type": "markdown",
   "metadata": {
    "id": "aZSykiQzYTc6"
   },
   "source": [
    "## Exercise 5: Virtual Nodes\n",
    "\n",
    "Virtual nodes were introduced to avoid assigning data in an unbalanced manner and coping with hardware heterogeneity by taking into consideration the physical capacity of each server\n",
    "\n",
    "Let assume we have ten physical nodes ($i_0$ to $i_{9}$) with the following main memory configurations:\n",
    "\n",
    "|          **Node** |     0 |      1 |      2 |     3 |      4 |       5 |     6 |      7 |      8 |        9 |\n",
    "| ----------------: | ----: | -----: | -----: | ----: | -----: | ------: | ----: | -----: | -----: | -------: |\n",
    "|        **Memory** | 8 GiB | 16 GiB | 32 GiB | 8 GiB | 16 GiB | 0.5 TiB | 1 TiB | 18 GiB | 30 GiB | 0.25 TiB |\n",
    "\n",
    "Calculate the number of virtual nodes/tokens each server should get according to its main memory capacity if we want to have a total of **256** virtual nodes/tokens.\n",
    "\n",
    "For the purpose of this exercise, always round up if you get a fractional number of virtual nodes, even if the total sum of nodes in the end exceeds 256."
   ]
  },
  {
   "cell_type": "markdown",
   "metadata": {
    "id": "JvmrZ9hFYTc7"
   },
   "source": [
    "### Solution\n",
    "\n",
    "The total amount of main memory available is: \n",
    "\n",
    "$$8 + 16 + 32 + 8 + 16 + 512 + 1024 + 18 + 30 + 256 = 1920~\\text{GiBs} $$\n",
    "\n",
    "So, if we want to have 256 virtual nodes/tokens, the memory per virtual node is as follows.\n",
    "\n",
    "$$\\frac{1920~\\text{GiB}}{256~\\text{nodes}} = 7.5~\\text{GiB}/\\text{node}$$\n",
    "\n",
    "With this, the physical nodes should be assigned the following number of virtual nodes:\n",
    "\n",
    "|          **Node** |     0 |      1 |      2 |     3 |      4 |       5 |     6 |      7 |      8 |        9 | Total |\n",
    "| ----------------: | ----: | -----: | -----: | ----: | -----: | ------: | ----: | -----: | -----: | -------: | ----- |\n",
    "|        **Memory** | 8 GiB | 16 GiB | 32 GiB | 8 GiB | 16 GiB | 0.5 TiB | 1 TiB | 18 GiB | 30 GiB | 0.25 TiB |       |\n",
    "|  **Memory** (GiB) |     8 |     16 |     32 |     8 |     16 |     512 |  1024 |     18 |     30 |      256 | 1920  |\n",
    "| **Virtual Nodes** |     2 |      3 |      5 |     2 |      3 |      69 |   137 |      3 |      4 |       35 | 263   |\n",
    "\n",
    "In general, rounding up to the next integer number or rounding down to the previous integer number is not determinant as virtual nodes are logically positioned in random parts of the ring anyway. However, one thing to be taken into consideration in practice is that the server with the smallest capacity should have more than a single virtual node."
   ]
  }
 ],
 "metadata": {
  "anaconda-cloud": {},
  "colab": {
   "collapsed_sections": [],
   "name": "Exercise02_Blob_Storage_Solution.ipynb",
   "provenance": []
  },
  "kernelspec": {
   "display_name": "Python 3 (ipykernel)",
   "language": "python",
   "name": "python3"
  }
 },
 "nbformat": 4,
 "nbformat_minor": 1
}
