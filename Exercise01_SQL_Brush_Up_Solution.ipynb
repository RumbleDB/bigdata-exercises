{
  "cells": [
    {
      "cell_type": "markdown",
      "metadata": {
        "colab_type": "text",
        "id": "M49oemsIfsbc"
      },
      "source": [
        "## Prerequisites\n",
        "In this exercise, you will brush-up the fundamental concepts of relational databases and SQL. If you havn't taken the Data Modelling and Databases course (or an equivalent bachelor course), we recommend you to read Garcia-Molina, Ullman, Widom: Database Systems: The Complete Book. Pearson, 2. Edition, 2008. (Chapters 1, 2, 3, and 6)"
      ]
    },
    {
      "cell_type": "markdown",
      "metadata": {
        "colab_type": "text",
        "id": "9QsiaKdoEJRf"
      },
      "source": [
        "## Exercise 1: Set up an SQL database with the StackOverflow dataset\n",
        "\n",
        "The loading will consist of the following steps:\n",
        "1. Create your own Azure Database for PostgreSQL.\n",
        "2. Download our StackOverflow export and load it into your PostgreSQL server.\n",
        "3. Test querying the server.\n",
        "\n",
        "### Step 1: Create your own SQL server.\n",
        "\n",
        "(This is an adaptation of [this tutorial](https://docs.microsoft.com/en-us/learn/modules/create-azure-db-for-postgresql-server/3-creating-postgresql-db-server-via-azure-portal).)\n",
        "\n",
        "1. In the [portal](https://portal.azure.com) in the left menu, click on \"Create a resource\", search for \"azure PostgreSQL\", then select \"Azure Database for PostgreSQL\", click \"create\" and finally create the  'single server'.\n",
        "2. Select a subscription, then create a new resource group, which you may call \"exercise01\". Choose a unique server name (e.g. \\<your-name>-bd2020), select 'West Europe' as location.\n",
        "![](https://bigdata2020exassets.blob.core.windows.net/ex01/psql-creation.png)\n",
        "3. click 'configure server' and in the top menu in the following screen choose 'basic' and reduce to 1 vCore and click 'ok'.\n",
        "![](https://bigdata2020exassets.blob.core.windows.net/ex01/psql-server.png)\n",
        "4. fill in an admin username and a password and click 'review + create' (estimated cost per month should be around 30chf) and then again 'create', wait for the creation.\n",
        "5. To check whether the database server has been created, go to home by clicking 'Microsoft Azure' in the top menu and then 'all resources'.  \n",
        "You should see the PostgreSQL server in the list. The deployment may take some time. You can check its progress by clicking on the bell symbol in the top right menu.\n",
        "\n",
        "6. Now enter your database server, then open 'connection security' from the left menu in settings. Open the firewall for everyone by adding a rule named 'allow_all' with start IP '0.0.0.0' and end IP '255.255.255.255' in the following form. Click \"save\" to finish.\n",
        "![](https://bigdata2020exassets.blob.core.windows.net/ex01/conn_sec_psql.png)\n",
        "\n",
        "### Step 2: Download our StackOverflow export and load it into your PostgreSQL server."
      ]
    },
    {
      "cell_type": "code",
      "execution_count": null,
      "metadata": {
        "colab": {},
        "colab_type": "code",
        "id": "HjbqjaJzES4h"
      },
      "outputs": [],
      "source": [
        "# we need to install postgresql-client to load the database that we will download into our server\n",
        "!apt install postgresql-client\n",
        "\n",
        "# download the database dump\n",
        "!wget https://bigdata2020exassets.blob.core.windows.net/ex01/coffee.stackexchange.com.dump"
      ]
    },
    {
      "cell_type": "code",
      "execution_count": null,
      "metadata": {
        "colab": {},
        "colab_type": "code",
        "id": "t1KPE_iMYyqI"
      },
      "outputs": [],
      "source": [
        "# The name of your server is the one you chose in step 1\n",
        "server='<your-db-name>.database.windows.net'\n",
        "\n",
        "# The user is of form <your-admin-login>@<your-db-server-name>. You chose both in step 1.\n",
        "# <your-db-server-name> is only the part *before* '.database.windows.net'\n",
        "user='<your-admin-login>@<your-db-server-name>'\n",
        "\n",
        "# The password is the one you chose in step 1\n",
        "password='...'\n",
        "\n",
        "# This is the name of the database. \n",
        "# By default, it will coincide with the name of the .bacpac file that you used above.\n",
        "# Warning: if this name contains dashes (-) in it, the subsequent code will not work\n",
        "database='coffee.stackexchange.com'\n",
        "\n",
        "# Database dump to restore\n",
        "dumpfile='coffee.stackexchange.com.dump'"
      ]
    },
    {
      "cell_type": "code",
      "execution_count": null,
      "metadata": {
        "colab": {},
        "colab_type": "code",
        "id": "1lPuokQQEWer"
      },
      "outputs": [],
      "source": [
        "# Create the database in our server, you will be prompt with the password (if you are running it locally do it inside a terminal)\n",
        "!createdb --host=$server --port=5432 --user=$user $database"
      ]
    },
    {
      "cell_type": "code",
      "execution_count": null,
      "metadata": {
        "colab": {},
        "colab_type": "code",
        "id": "Zpj8_KKvEXkx"
      },
      "outputs": [],
      "source": [
        "# Load the database into our server\n",
        "!pg_restore --no-owner --no-acl --host=$server --port=5432 --username=$user --dbname=$database $dumpfile"
      ]
    },
    {
      "cell_type": "code",
      "execution_count": null,
      "metadata": {
        "colab": {},
        "colab_type": "code",
        "id": "hjaV7fjLX--a"
      },
      "outputs": [],
      "source": [
        "# install required packages, usually already present on Google Colab\n",
        "!pip install psycopg2\n",
        "!pip install ipython-sql"
      ]
    },
    {
      "cell_type": "markdown",
      "metadata": {
        "colab_type": "text",
        "id": "b4XmLbW8EdpL"
      },
      "source": [
        "### Step 3: Test querying the server"
      ]
    },
    {
      "cell_type": "code",
      "execution_count": null,
      "metadata": {
        "colab": {},
        "colab_type": "code",
        "id": "8_TgtnfwY4W3"
      },
      "outputs": [],
      "source": [
        "%load_ext sql\n",
        "connection_string = f'postgresql://{user}:{password}@{server}:5432/{database}?sslmode=require'\n",
        "%sql $connection_string"
      ]
    },
    {
      "cell_type": "code",
      "execution_count": null,
      "metadata": {
        "colab": {},
        "colab_type": "code",
        "id": "o5T96Ks5c2H5"
      },
      "outputs": [],
      "source": [
        "%%sql\n",
        "SELECT Id, DisplayName FROM Users LIMIT 10;"
      ]
    },
    {
      "cell_type": "markdown",
      "metadata": {
        "colab_type": "text",
        "id": "R2V9BW8mZ17S"
      },
      "source": [
        "**You will use the just created database for the SQL exercises.**\n",
        "\n",
        "If you were not able to setup your own PostgreSQL server you can use the following credentials to do the exercises."
      ]
    },
    {
      "cell_type": "code",
      "execution_count": null,
      "metadata": {
        "colab": {},
        "colab_type": "code",
        "id": "Hww2aQcoZ2VU"
      },
      "outputs": [],
      "source": [
        "server='ethbigdata2020.postgres.database.azure.com'\n",
        "user='student@ethbigdata2020'\n",
        "password='BigData2020'\n",
        "database='poker.stackexchange.com'"
      ]
    },
    {
      "cell_type": "code",
      "execution_count": null,
      "metadata": {
        "colab": {},
        "colab_type": "code",
        "id": "-iC1tRByaU-3"
      },
      "outputs": [],
      "source": [
        "connection_string = f'postgresql://{user}:{password}@{server}:5432/{database}?sslmode=require'\n",
        "%sql $connection_string"
      ]
    },
    {
      "cell_type": "markdown",
      "metadata": {
        "colab_type": "text",
        "id": "JRTMUVlXfyNW"
      },
      "source": [
        "## Exercise 2: Explore the dataset\n",
        "\n",
        "We now want to understand the dataset a bit better. You will find queries below to find out information about it. While exploring the dataset, answer the following questions:\n",
        "\n",
        "1. Which concepts are modelled in the dataset and how do they relate to each other?\n",
        "1. The data is stored as tables. Why was this shape chosen and why not the other shapes?\n",
        "2. In which normal forms are the corresponding relations?\n",
        "3. If they are not in 3NF, what are potential problems of this design? Hints:\n",
        " 1. What if the DisplayName of a user changes?\n",
        " 2. What if a new answer is posted?\n",
        " 3. What if a post is upvoted?\n",
        " 4. What if a user is deleted?\n",
        "3. If they are not in 3NF, why were they still designed this way? Hints:\n",
        " 1. What are typical queries?\n",
        " 2. How expensive are queries with/without the redundancy?\n",
        " 3. What is the ratio between reading vs. writing of these concepts?\n",
        "\n",
        "### Where we got the data from\n",
        "\n",
        "* [Info about the StackOverflow dataset](http://meta.stackexchange.com/questions/2677/database-schema-documentation-for-the-public-data-dump-and-sede)\n",
        "* [Web interface to query it](https://data.stackexchange.com/poker/query/new)\n",
        "* [Download the dataset](https://archive.org/download/stackexchange/) (you don't need to do that!)\n",
        "\n",
        "For the use of Web interface, please consider that results may very due to constant updates and the SQL dialect might be slightly different, **do not use it for the moodle exercise**.\n",
        "\n",
        "### List of Tables\n",
        "\n",
        "The following query shows the content of a system table with the names of the tables. (This is specific to MS SQL Server.)"
      ]
    },
    {
      "cell_type": "code",
      "execution_count": null,
      "metadata": {
        "colab": {},
        "colab_type": "code",
        "id": "qqJXkL6yfyux"
      },
      "outputs": [],
      "source": [
        "%sql SELECT * \\\n",
        "     FROM INFORMATION_SCHEMA.TABLES \\\n",
        "     WHERE TABLE_TYPE = 'BASE TABLE' \\\n",
        "     AND TABLE_SCHEMA = 'public';"
      ]
    },
    {
      "cell_type": "markdown",
      "metadata": {
        "colab_type": "text",
        "id": "p8PAJWo1gWpa"
      },
      "source": [
        "### List of attributes/columns\n",
        "\n",
        "The following shows information about the attributes of the tables."
      ]
    },
    {
      "cell_type": "code",
      "execution_count": null,
      "metadata": {
        "colab": {},
        "colab_type": "code",
        "id": "SQelkWkhgYjE"
      },
      "outputs": [],
      "source": [
        "%sql SELECT TABLE_CATALOG, TABLE_SCHEMA, TABLE_NAME, COLUMN_NAME, DATA_TYPE \\\n",
        "     FROM INFORMATION_SCHEMA.COLUMNS \\\n",
        "     WHERE TABLE_SCHEMA = 'public' \\\n",
        "     AND TABLE_NAME NOT LIKE 'pg_%' \\\n",
        "     ORDER BY TABLE_CATALOG, TABLE_SCHEMA, TABLE_NAME, ORDINAL_POSITION;"
      ]
    },
    {
      "cell_type": "markdown",
      "metadata": {
        "colab_type": "text",
        "id": "oKoAgiMdBCXy"
      },
      "source": [
        "### Exercise 2: Solution\n",
        "1. Which concepts are modelled in the dataset and how do they relate to each other?\n",
        " * The dataset contains data from the poker.stackexchange and contains mainly posts from users, comments and votes. You can examine the relations looking at the foreign keys\n",
        "1. The data is stored as tables. Why was this shape chosen and why not the other shapes?\n",
        " * The number of concepts is limited, fixed, and well-defined.\n",
        " * The same is true for attributes of these concepts.\n",
        " * Attributes come from a well-defined domains with a fixed semantic (such as dates, e-mail addresses, ...).\n",
        " * Instances of concepts are in relation with each other, which may or may not be required to exist.\n",
        " * In short: we can define a schema, which the rest of the application (the website) relies on.\n",
        "2. In which normal forms are the corresponding relations?\n",
        " * All relations have an *Id* attribute that defines everything. Hence, if an attribute depends on a key, it always depends on a whole key. In other words, if a relation is in 1NF, it is also in 2NF.\n",
        " * *OwnerDisplayName* and *LastEditorDisplayName* depend on *OwnerUserId* and *LastEditorUserId*, which are not keys, so *Posts* is not in 3NF. (Furthermore, they are redundant with *DisplayName* of the *Users* relation.)\n",
        " * *Tags* does not have an atomic domain (it's a list of strings), so *Posts* is not in 1NF.\n",
        " * The *Class* of a badge depends on the *Name*, which is not a key, so *Badges* is not in 3NF.\n",
        " * *AnswerCount*, *CommentCount*, *FavoriteCount* in *Posts* are redundant (but this is not caputured by normal forms).\n",
        " * More example of redundancy and violations of 3NF exist.\n",
        "3. If they are not in 3NF, what are potential problems of this design? Hints:\n",
        "  1. What if the DisplayName of a user changes?\n",
        "    * Update anomaly\n",
        "  2. What if a new answer is posted?\n",
        "    * Potential inconsistency in derived attribute Posts.AnswerCount.\n",
        "  3. What if a post is upvoted?\n",
        "    * Potential inconsistencies in derived attributes Posts.Score and Users.UpVotes.\n",
        "  4. What if a user is deleted?\n",
        "    * Delete anomaly\n",
        "3. If they are not in 3NF, why were they still designed this way? Hints:\n",
        "  1. What are typical queries?\n",
        "  2. How expensive are queries with/without the redundancy?\n",
        "  3. What is the ratio between reading vs. writing of these concepts?\n",
        "  \n",
        "  Look at the [website](http://stackoverflow.com/): there are often list of some concept, such as \"related posts\", \"related users\", etc. Some can be computed with a simple ```SELECT``` on the table of that concept, others would need a ```JOIN``` to fetch related information from a different table, which is costly. The redundancy we identified avoids this. The redundancy is manageable because most of this information is static, so the infrequent changes, which may need to update redundant information in several places, only increase the overall load by little. Probably, quite some amount of engineering has been done to determine which attributes should be kept redundant. Also, enough testing and good developers are needed to have the application keep the different copies consistent."
      ]
    },
    {
      "cell_type": "markdown",
      "metadata": {
        "colab_type": "text",
        "id": "DM6n6PSfgxHq"
      },
      "source": [
        "## Exercise 3: Distribution of post scores\n",
        "\n",
        "In this exercise, we want to find out how the scores of posts are distributed.\n",
        "\n",
        "To start, write a query that selects the top 10 best-scored posts."
      ]
    },
    {
      "cell_type": "code",
      "execution_count": null,
      "metadata": {
        "colab": {},
        "colab_type": "code",
        "id": "vUNqIDnWgwVm"
      },
      "outputs": [],
      "source": [
        "%sql SELECT * FROM Posts ORDER BY Score DESC LIMIT 10;"
      ]
    },
    {
      "cell_type": "markdown",
      "metadata": {
        "colab_type": "text",
        "id": "gMgB7ixEihH4"
      },
      "source": [
        "We now know how the best posts look like. What about \"more normal\" posts? Write a query that counts that number of posts for each score."
      ]
    },
    {
      "cell_type": "code",
      "execution_count": null,
      "metadata": {
        "colab": {},
        "colab_type": "code",
        "id": "OrBrO6EXii17"
      },
      "outputs": [],
      "source": [
        "%sql SELECT Score, Count(*) AS Count FROM Posts GROUP BY Score ORDER BY Score DESC;"
      ]
    },
    {
      "cell_type": "markdown",
      "metadata": {
        "colab_type": "text",
        "id": "HqyyEGrpilgW"
      },
      "source": [
        "This gives a very large result that is difficult to interpret. Write a query that rounds the scores of the posts to the nearest multiple of some constant that you need to define and counts the number of posts for each rounded score. Your result should have the two attributes \"RoundedScore\" and \"Count\"."
      ]
    },
    {
      "cell_type": "code",
      "execution_count": null,
      "metadata": {
        "colab": {},
        "colab_type": "code",
        "id": "ybv1WCzAinA4"
      },
      "outputs": [],
      "source": [
        "%%sql\n",
        "SELECT RoundedScore, Count(*) AS Count\n",
        "FROM (\n",
        "        SELECT CEILING(Score / 5.0) * 5 AS RoundedScore FROM Posts\n",
        "    ) AS Rounded\n",
        "GROUP BY RoundedScore\n",
        "ORDER BY RoundedScore DESC;"
      ]
    },
    {
      "cell_type": "markdown",
      "metadata": {
        "colab_type": "text",
        "id": "kA-fS5J2iqCy"
      },
      "source": [
        "Using the right constant for the rounding, you can already get a better grasp of the distribution of scores.\n",
        "\n",
        "Copy your query into the following Python script to plot the result. If your query spans several lines, put backslash (\\\\) at the end of all but the last line."
      ]
    },
    {
      "cell_type": "code",
      "execution_count": null,
      "metadata": {
        "colab": {},
        "colab_type": "code",
        "id": "dAqbvOPXiqkv"
      },
      "outputs": [],
      "source": [
        "%matplotlib inline\n",
        "import matplotlib.pyplot as plt\n",
        "\n",
        "# Store the result of the query in a Python object (add your query here!)\n",
        "result = %sql SELECT roundedscore, Count(*) AS count \\\n",
        "     FROM ( \\\n",
        "             SELECT ROUND((score+2.5)/5, 0) * 5 AS RoundedScore FROM Posts \\\n",
        "        ) AS Rounded \\\n",
        "     GROUP BY RoundedScore \\\n",
        "     ORDER BY RoundedScore DESC;\n",
        "\n",
        "# Convert the result to a Pandas data frame\n",
        "df = result.DataFrame()\n",
        "\n",
        "# Extract x and y values for a plot\n",
        "x = df['roundedscore'].tolist()\n",
        "y = df['count'].tolist()\n",
        "\n",
        "# Print them just for debugging\n",
        "print(x)\n",
        "print(y)\n",
        "\n",
        "# Plot the distribution of scores\n",
        "fig, ax = plt.subplots()\n",
        "ax.bar(range(len(df.index)), y, tick_label=[int(i) for i in x], align='center')\n",
        "ax.set_xlabel('Score')\n",
        "ax.set_ylabel('Number of Posts')"
      ]
    },
    {
      "cell_type": "markdown",
      "metadata": {
        "colab_type": "text",
        "id": "yS0kiGoqit8r"
      },
      "source": [
        "What can you say about the distribution of scores?"
      ]
    },
    {
      "cell_type": "markdown",
      "metadata": {
        "colab_type": "text",
        "id": "i5qWV9r8iv27"
      },
      "source": [
        "## Exercise 4: Impact of Post Count on Scores\n",
        "\n",
        "We now want to find out whether the number of posts of the owner of a post has an influence of the score of the post.\n",
        "To that goal, write queries that answer the following questions:\n",
        "\n",
        "1. What are the users with the highest number of posts.\n",
        "1. What is the average number of posts per user.\n",
        "1. Which are the users with a number of posts higher than average.\n",
        "1. How many such users exist?\n",
        "1. What is the distribution of scores of posts of active users (i.e., of users with more posts than average)?\n",
        "\n",
        "What can we conclude? Is the score of a post impacted by the number of posts of its owner?"
      ]
    },
    {
      "cell_type": "code",
      "execution_count": null,
      "metadata": {
        "colab": {},
        "colab_type": "code",
        "id": "jimxtCL8t_sA"
      },
      "outputs": [],
      "source": [
        "# 1\n",
        "%%sql\n",
        "SELECT u.Id, DisplayName, COUNT(p.Id) AS PostCount\n",
        "FROM Users AS u\n",
        "LEFT JOIN Posts AS p ON u.Id = p.OwnerUserId\n",
        "GROUP BY u.Id, DisplayName\n",
        "ORDER BY PostCount DESC\n",
        "LIMIT 10"
      ]
    },
    {
      "cell_type": "code",
      "execution_count": null,
      "metadata": {
        "colab": {},
        "colab_type": "code",
        "id": "lhmS3styuLWB"
      },
      "outputs": [],
      "source": [
        "# 2\n",
        "%%sql\n",
        "SELECT AVG(CAST(PostCount AS FLOAT)) AS AveragePostCount\n",
        "FROM (SELECT u.Id, DisplayName, COUNT(p.Id) PostCount\n",
        "      FROM Users AS u\n",
        "      LEFT JOIN Posts AS p ON u.id = p.OwnerUserId\n",
        "      GROUP BY u.Id, DisplayName) AS PostCounts"
      ]
    },
    {
      "cell_type": "markdown",
      "metadata": {
        "colab_type": "text",
        "id": "Dnet2XIMuew0"
      },
      "source": [
        "The average post count per user is just slightly above 1, so every user who has made a single post is considered \"active\". Let's change the definition of the question to make it more sensible and consider a user active only if he/she has made at least 10 times as many posts as average."
      ]
    },
    {
      "cell_type": "code",
      "execution_count": null,
      "metadata": {
        "colab": {},
        "colab_type": "code",
        "id": "aG4yBFR5uOPN"
      },
      "outputs": [],
      "source": [
        "# 3 (limited to 10 just for avoiding big output)\n",
        "%%sql\n",
        "SELECT * FROM\n",
        "(\n",
        "    SELECT u.Id, DisplayName, COUNT(p.Id) PostCount\n",
        "    FROM Users AS u\n",
        "    LEFT JOIN Posts AS p ON u.id = p.OwnerUserId\n",
        "    GROUP BY u.Id, DisplayName\n",
        ") AS NumPostsPerUser\n",
        "WHERE PostCount > 10 * (\n",
        "    SELECT AVG(CAST(PostCount AS FLOAT)) AS AveragePostCount\n",
        "    FROM (SELECT u.Id, DisplayName, COUNT(p.Id) PostCount\n",
        "          FROM Users AS u\n",
        "          LEFT JOIN Posts AS p ON u.id = p.OwnerUserId\n",
        "          GROUP BY u.Id, DisplayName) AS PostCounts)\n",
        "LIMIT 10"
      ]
    },
    {
      "cell_type": "code",
      "execution_count": null,
      "metadata": {
        "colab": {},
        "colab_type": "code",
        "id": "QfbibbMGvAbG"
      },
      "outputs": [],
      "source": [
        "# 4\n",
        "%%sql\n",
        "WITH PostCountPerUser AS (\n",
        "        SELECT u.Id, DisplayName, COUNT(p.Id) PostCount\n",
        "        FROM Users AS u\n",
        "        LEFT JOIN Posts AS p ON u.id = p.OwnerUserId\n",
        "        GROUP BY u.Id, DisplayName\n",
        "    ),\n",
        "AveragePostCount AS (\n",
        "        SELECT AVG(CAST(PostCount AS FLOAT)) AS Value\n",
        "        FROM PostCountPerUser\n",
        "    ),\n",
        "ActiveUsers AS (\n",
        "        SELECT u.Id, DisplayName, COUNT(*) AS PostCount\n",
        "        FROM Users AS u\n",
        "        JOIN Posts AS p ON u.id = p.OwnerUserId\n",
        "        GROUP BY u.Id, DisplayName\n",
        "        HAVING COUNT(*) > 10 * (SELECT * FROM AveragePostCount)\n",
        "    )\n",
        "SELECT COUNT(*) AS NumberOfActiveUsers FROM ActiveUsers;"
      ]
    },
    {
      "cell_type": "code",
      "execution_count": null,
      "metadata": {
        "colab": {},
        "colab_type": "code",
        "id": "84BCcmtPvMW2"
      },
      "outputs": [],
      "source": [
        "# 5\n",
        "%%sql\n",
        "WITH PostCountPerUser AS (\n",
        "        SELECT u.Id, DisplayName, COUNT(p.Id) PostCount\n",
        "        FROM Users AS u\n",
        "        LEFT JOIN Posts AS p ON u.id = p.OwnerUserId\n",
        "        GROUP BY u.Id, DisplayName\n",
        "    ),\n",
        "AveragePostCount AS (\n",
        "        SELECT AVG(CAST(PostCount AS FLOAT)) AS Value\n",
        "        FROM PostCountPerUser\n",
        "    ),\n",
        "ActiveUsers AS (\n",
        "        SELECT u.Id, DisplayName, COUNT(*) AS PostCount\n",
        "        FROM Users AS u\n",
        "        JOIN Posts AS p ON u.id = p.OwnerUserId\n",
        "        GROUP BY u.Id, DisplayName\n",
        "        HAVING COUNT(*) > 10 * (SELECT * FROM AveragePostCount)\n",
        "    )\n",
        "SELECT RoundedScore, Count(*) AS Count\n",
        "FROM (\n",
        "        SELECT ROUND((score+2.5)/5, 0) * 5 AS RoundedScore\n",
        "        FROM Posts AS p\n",
        "        JOIN ActiveUsers AS u ON u.id = p.OwnerUserId\n",
        "    ) AS Rounded\n",
        "GROUP BY RoundedScore\n",
        "ORDER BY RoundedScore DESC;"
      ]
    },
    {
      "cell_type": "code",
      "execution_count": null,
      "metadata": {
        "colab": {},
        "colab_type": "code",
        "id": "DUcmfSXcix6a"
      },
      "outputs": [],
      "source": [
        "%matplotlib inline\n",
        "import matplotlib.pyplot as plt\n",
        "\n",
        "# Store the result of the query in a Python object (add your query here!)\n",
        "result = %sql WITH PostCountPerUser AS ( \\\n",
        "                SELECT u.Id, DisplayName, COUNT(p.Id) PostCount \\\n",
        "                FROM Users AS u \\\n",
        "                LEFT JOIN Posts AS p ON u.id = p.OwnerUserId \\\n",
        "                GROUP BY u.Id, DisplayName \\\n",
        "            ), \\\n",
        "        AveragePostCount AS ( \\\n",
        "                SELECT AVG(CAST(PostCount AS FLOAT)) AS Value \\\n",
        "                FROM PostCountPerUser \\\n",
        "            ), \\\n",
        "        ActiveUsers AS ( \\\n",
        "                SELECT u.Id, DisplayName, COUNT(*) AS PostCount \\\n",
        "                FROM Users AS u \\\n",
        "                JOIN Posts AS p ON u.id = p.OwnerUserId \\\n",
        "                GROUP BY u.Id, DisplayName \\\n",
        "                HAVING COUNT(*) > 10 * (SELECT * FROM AveragePostCount) \\\n",
        "            ) \\\n",
        "        SELECT roundedscore, Count(*) AS count \\\n",
        "        FROM ( \\\n",
        "                SELECT ROUND((score+2.5)/5, 0) * 5 AS RoundedScore \\\n",
        "                FROM Posts AS p \\\n",
        "                JOIN ActiveUsers AS u ON u.id = p.OwnerUserId \\\n",
        "            ) AS Rounded \\\n",
        "        GROUP BY RoundedScore \\\n",
        "        ORDER BY RoundedScore DESC\n",
        "\n",
        "\n",
        "\n",
        "# Convert the result to a Pandas data frame\n",
        "df = result.DataFrame()\n",
        "\n",
        "# Extract x and y values for a plot\n",
        "x = df['roundedscore'].tolist()\n",
        "y = df['count'].tolist()\n",
        "\n",
        "# Print them just for debugging\n",
        "print(x)\n",
        "print(y)\n",
        "\n",
        "# Plot the distribution of scores\n",
        "fig, ax = plt.subplots()\n",
        "ax.bar(range(len(df.index)), y, tick_label=[int(i) for i in x], align='center')\n",
        "ax.set_xlabel('Score')\n",
        "ax.set_ylabel('Number of Posts')"
      ]
    },
    {
      "cell_type": "markdown",
      "metadata": {
        "colab_type": "text",
        "id": "XFEzaH5Ui159"
      },
      "source": [
        "## Exercise 5: Discuss query patterns and language features of SQL\n",
        "1) What patterns did you use in many of the queries above?\n",
        "\n",
        "2) Do you remember the theory behind them?\n",
        "\n",
        "3) What makes SQL a declarative language and what advantages does that have?\n",
        "\n",
        "4) What makes SQL a functional language and what advantages does that have?"
      ]
    },
    {
      "cell_type": "markdown",
      "metadata": {
        "colab_type": "text",
        "id": "Gy4uLdcpt5Qw"
      },
      "source": [
        "### Exercise 5: Solution\n",
        "1) Most queries consist of the following basic operations. They will reoccur throughout the whole semester. Watch out for them!\n",
        "  * **Select**: select a subset of the rows/data records/items.\n",
        "  * **Project**: select a subset of the properties/ attributes/columns.\n",
        "  * **Join**: bring two datasets together based on a common attribute.\n",
        "  * **Group**: divide the items/ rows/records into groups and summarize each group with a single value.\n",
        "  * **Order**: order the items according to some criteria.\n",
        "  \n",
        "2) Relational algebra operators formalize most of this (grouping is technically not part of the algebra).\n",
        "  \n",
        "3) We only describe *what* we want, not how this should be computed. We *declare* what our intent is. This shifts the implementation effort from the programmer to the database system. The hope is that the system has more information at hand, such as data size, data distribution, information about the hardware, in order to choose the best way to compute the result. This results into efficient computation with little effort from the programmer.\n",
        "  \n",
        "4) SQL is functional because results of a query can be used as input of another query, either in form of tables or in form of scalars. This makes SQL expressive."
      ]
    },
    {
      "cell_type": "markdown",
      "metadata": {
        "colab_type": "text",
        "id": "J4_Kl6MJi7nu"
      },
      "source": [
        "## Exercise 6: More SQL\n",
        "\n",
        "Write SQL queries that answer the following questions. Plot the results if you like.\n",
        "\n",
        "1. How many posts do not have answers? Give a query that uses *AnswerCount* and one that doesn't.\n",
        "2. How often is each tag used? Give the top 10. Write one query that uses `Tags.Count` and one that does not. For the second version, look at [```STRPOS```](https://w3resource.com/PostgreSQL/strpos-function.php). Is this query a good idea? Why (not)?\n",
        "3. Does the first answer to a post get more upvotes than subsequent ones on average? How do the medians compare?"
      ]
    },
    {
      "cell_type": "code",
      "execution_count": null,
      "metadata": {
        "colab": {},
        "colab_type": "code",
        "id": "LPHZmtSOvq5_"
      },
      "outputs": [],
      "source": [
        "# 1 (we can see that no answers could be '0' or None)\n",
        "%%sql\n",
        "SELECT COUNT(*) AS NumberOfUnansweredPosts FROM Posts\n",
        "WHERE AnswerCount IS NULL OR AnswerCount = 0"
      ]
    },
    {
      "cell_type": "code",
      "execution_count": null,
      "metadata": {
        "colab": {},
        "colab_type": "code",
        "id": "QRLOfLWhwhkY"
      },
      "outputs": [],
      "source": [
        "# The question asks for posts, but more interesting is how many questions are unanswered\n",
        "# (answers never have answers). Questions are posts without parent.\n",
        "\n",
        "%%sql\n",
        "SELECT COUNT(*) AS NumberOfUnansweredQuestions FROM Posts\n",
        "WHERE\n",
        "    (AnswerCount IS NULL OR AnswerCount = 0) AND\n",
        "    ParentId IS NULL;"
      ]
    },
    {
      "cell_type": "code",
      "execution_count": null,
      "metadata": {
        "colab": {},
        "colab_type": "code",
        "id": "7n0SsbpWwlQ0"
      },
      "outputs": [],
      "source": [
        "# or using 'NOT IN'\n",
        "\n",
        "%%sql\n",
        "SELECT COUNT(*) AS NumberOfUnansweredQuestions FROM Posts\n",
        "WHERE\n",
        "    ParentId IS NULL AND\n",
        "    Id NOT IN (SELECT ParentId FROM Posts WHERE ParentId IS NOT NULL);"
      ]
    },
    {
      "cell_type": "code",
      "execution_count": null,
      "metadata": {
        "colab": {},
        "colab_type": "code",
        "id": "2laNlgfFwOjI"
      },
      "outputs": [],
      "source": [
        "# or with an outer join\n",
        "%%sql\n",
        "SELECT COUNT(*) AS NumberOfUnansweredQuestions\n",
        "FROM Posts AS question\n",
        "LEFT OUTER JOIN Posts AS answer ON answer.ParentId = question.Id\n",
        "WHERE\n",
        "    question.ParentId IS NULL AND\n",
        "    answer.Id IS NULL;"
      ]
    },
    {
      "cell_type": "code",
      "execution_count": null,
      "metadata": {
        "colab": {},
        "colab_type": "code",
        "id": "oU916oV4wvq6"
      },
      "outputs": [],
      "source": [
        "# or using set operations\n",
        "%%sql\n",
        "SELECT COUNT(*) AS NumberOfUnansweredQuestions FROM\n",
        "(\n",
        "    SELECT Id FROM Posts WHERE ParentId IS NULL\n",
        "    EXCEPT\n",
        "    SELECT DISTINCT ParentId FROM POSTS WHERE ParentId IS NOT NULL\n",
        ") AS UnasweredQuestions"
      ]
    },
    {
      "cell_type": "code",
      "execution_count": null,
      "metadata": {
        "colab": {},
        "colab_type": "code",
        "id": "uEEQBV26DFpC"
      },
      "outputs": [],
      "source": [
        "# 2 using tag count\n",
        "%%sql\n",
        "SELECT Id, TagName, Count\n",
        "FROM Tags\n",
        "ORDER BY Count DESC\n",
        "LIMIT 10"
      ]
    },
    {
      "cell_type": "code",
      "execution_count": null,
      "metadata": {
        "colab": {},
        "colab_type": "code",
        "id": "pBZlyV7NDJAP"
      },
      "outputs": [],
      "source": [
        "# 2 without using tag count\n",
        "%%sql\n",
        "SELECT t.Id, t.TagName, COUNT(*) AS NumberOfOccurrences\n",
        "FROM Tags AS t\n",
        "JOIN Posts AS p ON STRPOS(p.tags, CONCAT('<', t.TagName, '>')) > 0\n",
        "GROUP BY t.Id, t.TagName\n",
        "ORDER BY COUNT(*) DESC\n",
        "LIMIT 10"
      ]
    },
    {
      "cell_type": "code",
      "execution_count": null,
      "metadata": {
        "colab": {},
        "colab_type": "code",
        "id": "isLAtWgoM_W2"
      },
      "outputs": [],
      "source": [
        "# 3\n",
        "# Calculating the median is not a standard functionality of SQL and shows the limits of what can be done with SQL. Some vendors have extensions though (like Oracle's MEDIAN aggregate function).\n",
        "%%sql\n",
        "WITH\n",
        "    Answers AS (\n",
        "            SELECT * FROM Posts\n",
        "            WHERE ParentId IS NOT NULL\n",
        "        ),\n",
        "    QuestionsAndAnswerTimes AS (\n",
        "            SELECT question.Id AS QuestionId, question.CreationDate AS QuestionDate,\n",
        "                   answer.Id AS AnswerId, answer.CreationDate AS AnswerDate\n",
        "            FROM Posts AS question\n",
        "            LEFT OUTER JOIN Posts AS answer ON answer.ParentId = question.Id\n",
        "            WHERE\n",
        "                question.ParentId IS NULL\n",
        "        ),\n",
        "    QuestionAndFirstAnswerTimes AS (\n",
        "            SELECT QuestionId, MIN(AnswerDate) AS FirstAnswerTime\n",
        "            FROM QuestionsAndAnswerTimes\n",
        "            GROUP BY QuestionId\n",
        "            LIMIT 10\n",
        "        ),\n",
        "    FirstAnswers AS (\n",
        "            SELECT * FROM QuestionAndFirstAnswerTimes AS qfa\n",
        "            JOIN Posts AS p ON p.ParentId = qfa.QuestionId AND p.CreationDate = qfa.FirstAnswerTime\n",
        "        )\n",
        "SELECT 'average first answer' AS Metric, AVG(CAST(Score AS FLOAT)) AS Value\n",
        "    FROM FirstAnswers\n",
        "UNION\n",
        "SELECT 'median first answer' AS Metric,\n",
        "       PERCENTILE_CONT(0.5) WITHIN GROUP (ORDER BY Score) AS Value\n",
        "    FROM FirstAnswers\n",
        "UNION\n",
        "SELECT 'average answer' AS Metric, AVG(CAST(Score AS FLOAT)) AS Value\n",
        "    FROM Answers\n",
        "UNION\n",
        "SELECT 'median answer' AS Metric,\n",
        "       PERCENTILE_CONT(0.5) WITHIN GROUP (ORDER BY Score) AS Value\n",
        "    FROM Answers"
      ]
    },
    {
      "cell_type": "markdown",
      "metadata": {
        "colab_type": "text",
        "id": "2Dm9m4C3jA6y"
      },
      "source": [
        "## Exercise 7: Limits of SQL (optional)\n",
        "\n",
        "Explain what the following query does."
      ]
    },
    {
      "cell_type": "code",
      "execution_count": null,
      "metadata": {
        "colab": {},
        "colab_type": "code",
        "id": "ZiXww515i8Ia"
      },
      "outputs": [],
      "source": [
        "%%sql\n",
        "WITH RECURSIVE\n",
        "    X AS (SELECT 3 AS Value),\n",
        "    OneHopConnections AS (\n",
        "        SELECT DISTINCT PostId, RelatedPostId, 1 AS Distance\n",
        "        FROM PostLinks\n",
        "    ),\n",
        "    XHopConnections AS (\n",
        "        SELECT * FROM OneHopConnections   -- base case\n",
        "        UNION ALL\n",
        "        SELECT p.PostId, r.RelatedPostId, p.Distance + 1 AS Distance\n",
        "        FROM XHopConnections AS p\n",
        "        JOIN PostLinks AS r ON p.RelatedPostId = r.PostId\n",
        "        WHERE Distance < (SELECT * FROM X)\n",
        "    ),\n",
        "    XHopConnectionsDistinct AS (\n",
        "        SELECT DISTINCT PostId, RelatedPostId FROM XHopConnections\n",
        "    ),\n",
        "    XHopConnectionCounts AS (\n",
        "        SELECT p.Id, COUNT(RelatedPostId) AS ConnectionCount\n",
        "        FROM Posts AS p\n",
        "        LEFT OUTER JOIN XHopConnectionsDistinct AS r ON p.Id = r.PostId\n",
        "        GROUP BY Id\n",
        "    )\n",
        "SELECT AVG(CAST(ConnectionCount AS FLOAT)) AS AvgXHopConnectionCount\n",
        "FROM XHopConnectionCounts"
      ]
    },
    {
      "cell_type": "markdown",
      "metadata": {
        "colab_type": "text",
        "id": "FyqyXsWIHjxN"
      },
      "source": [
        "### Solution\n",
        "\n",
        "The query computes with how many posts each post is related to through at most `X` hops given in *PostLinks* (an explanation of the query follows below). It thus interprets the database as a graph where *Posts* are nodes and *PostLinks* are edges and effectively runs a graph query on it. Even if the problem is simply when phrased with graph terminology, the query is quite complex. This shows that SQL is not built for graph analysis. In later weeks of the lecture, we will see tools that make graph analysis much more intuitive.\n",
        "\n",
        "To understand why the query does what it does, think about how we can find related posts with at most a fixed distance from each post. For a single hop, the information is stored directly in *PostLinks*:"
      ]
    },
    {
      "cell_type": "code",
      "execution_count": null,
      "metadata": {
        "colab": {},
        "colab_type": "code",
        "id": "QMB7a2ftHkSR"
      },
      "outputs": [],
      "source": [
        "%%sql\n",
        "SELECT DISTINCT PostId, RelatedPostId FROM PostLinks"
      ]
    },
    {
      "cell_type": "markdown",
      "metadata": {
        "colab_type": "text",
        "id": "a6QciNXKHqbv"
      },
      "source": [
        "To find the posts that are related with one more link, i.e., to find all posts that have a link to a post that has a link to a post, we can join *PostLinks* with itself."
      ]
    },
    {
      "cell_type": "code",
      "execution_count": null,
      "metadata": {
        "colab": {},
        "colab_type": "code",
        "id": "P21eCj5AHq8Q"
      },
      "outputs": [],
      "source": [
        "%%sql\n",
        "WITH\n",
        "    OneHopConnections AS (\n",
        "        SELECT DISTINCT PostId, RelatedPostId FROM PostLinks\n",
        "    )\n",
        "SELECT p.PostId, r.RelatedPostId FROM OneHopConnections AS p\n",
        "JOIN PostLinks AS r ON p.RelatedPostId = r.PostId"
      ]
    },
    {
      "cell_type": "markdown",
      "metadata": {
        "colab_type": "text",
        "id": "83hHaH2LHw14"
      },
      "source": [
        "We can add any number of additional indirections with another join, for example for 5 hops:"
      ]
    },
    {
      "cell_type": "code",
      "execution_count": null,
      "metadata": {
        "colab": {},
        "colab_type": "code",
        "id": "bI_5ketGHxUb"
      },
      "outputs": [],
      "source": [
        "%%sql\n",
        "WITH\n",
        "    OneHopConnections AS (\n",
        "        SELECT DISTINCT PostId, RelatedPostId FROM PostLinks\n",
        "    ),\n",
        "    TwoHopConnections AS (\n",
        "        SELECT p.PostId, r.RelatedPostId FROM OneHopConnections AS p\n",
        "        JOIN PostLinks AS r ON p.RelatedPostId = r.PostId\n",
        "    ),\n",
        "    ThreeHopConnections AS (\n",
        "        SELECT p.PostId, r.RelatedPostId FROM TwoHopConnections AS p\n",
        "        JOIN PostLinks AS r ON p.RelatedPostId = r.PostId\n",
        "    ),\n",
        "    FourHopConnections AS (\n",
        "        SELECT p.PostId, r.RelatedPostId FROM ThreeHopConnections AS p\n",
        "        JOIN PostLinks AS r ON p.RelatedPostId = r.PostId\n",
        "    )\n",
        "SELECT p.PostId, r.RelatedPostId FROM FourHopConnections AS p\n",
        "JOIN PostLinks AS r ON p.RelatedPostId = r.PostId"
      ]
    },
    {
      "cell_type": "markdown",
      "metadata": {
        "colab_type": "text",
        "id": "JPUJ-jhnH2PJ"
      },
      "source": [
        "The problem with this approach is that the query *structure* depends on the number of hops you want to permit.\n",
        "\n",
        "The query from the question, however, is independent of this number. You can just change `X` and leave the rest as it is. The trick is that it is a *recursive* SQL statement. Roughly speaking, a recursive statement consists of a base case statement connected via ```UNION ALL``` (a concatenation of relations) with a statement the refers to the original statement. The recursive statement is executed recursively until it produces an empty result.\n",
        "\n",
        "The query uses this mechanism to write ```XHopConnections``` (repeated in isolation below): its base case are the original links between posts. Each iteration joins the *PostLinks* relation to find posts within one more hop for each post already found. It keeps track of the distance from the original post by incrementing the value of ```Distance``` by one in each iteration. When that attribute reaches the value of ```X```, no records are produced by the recursive case, so recursion ends."
      ]
    },
    {
      "cell_type": "code",
      "execution_count": null,
      "metadata": {
        "colab": {},
        "colab_type": "code",
        "id": "inR_u-53H7Sl"
      },
      "outputs": [],
      "source": [
        "%%sql\n",
        "WITH RECURSIVE\n",
        "    X AS (SELECT 3 AS Value),\n",
        "    OneHopConnections AS (\n",
        "        SELECT DISTINCT PostId, RelatedPostId, 1 AS Distance\n",
        "        FROM PostLinks\n",
        "    ),\n",
        "    XHopConnections AS (\n",
        "        SELECT * FROM OneHopConnections                 -- base case\n",
        "        UNION ALL\n",
        "        SELECT p.PostId, r.RelatedPostId, p.Distance + 1 AS Distance\n",
        "        FROM XHopConnections AS p\n",
        "        JOIN PostLinks AS r ON p.RelatedPostId = r.PostId\n",
        "        WHERE Distance < (SELECT * FROM X)\n",
        "    )\n",
        "SELECT DISTINCT PostId, RelatedPostId FROM XHopConnections"
      ]
    },
    {
      "cell_type": "markdown",
      "metadata": {
        "colab_type": "text",
        "id": "b4ZBcyBlH91j"
      },
      "source": [
        "The remainder of the query groups the links thus produced by original post and counts how many there are, then calculates the average.\n",
        "\n",
        "While this query shows that some analysis of graphs is possible with SQL, it also shows that it is not easy and certainly not intuitive to do. In some later weeks of this lecture, we will see tools that are better suited."
      ]
    },
    {
      "cell_type": "markdown",
      "metadata": {},
      "source": [
        "# Please remember to delete the resources on the cluster once you are done\n",
        "1. Go to 'all resources'\n",
        "1. Select your resource\n",
        "1. in the top menu of the resource select 'delete' and confirm"
      ]
    }
  ],
  "metadata": {
    "colab": {
      "collapsed_sections": [],
      "name": "Exercise01_SQL_Brush-Up_new_solution.ipynb",
      "provenance": []
    },
    "kernelspec": {
      "display_name": "Python 3",
      "language": "python",
      "name": "python3"
    },
    "language_info": {
      "codemirror_mode": {
        "name": "ipython",
        "version": 3
      },
      "file_extension": ".py",
      "mimetype": "text/x-python",
      "name": "python",
      "nbconvert_exporter": "python",
      "pygments_lexer": "ipython3",
      "version": "3.7.4"
    }
  },
  "nbformat": 4,
  "nbformat_minor": 1
}