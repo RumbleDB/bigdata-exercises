{
 "cells": [
  {
   "cell_type": "markdown",
   "metadata": {},
   "source": [
    "# <center>Big Data &ndash; Exercise 1 &ndash; Solutions</center>\n",
    "## <center>Fall 2024 &ndash; Week 1 &ndash; ETH Zurich</center>"
   ]
  },
  {
   "cell_type": "markdown",
   "metadata": {},
   "source": [
    "### Aims\n",
    "- **After this exercise:** \n",
    "    - Understand the SQL language and its common query patterns.\n",
    "    - Understand the 'table' data shape, normalization, and when they can (and should) be used.\n",
    "    - be able to query data in tables with the SQL language.\n",
    "- **Later in the semester:** \n",
    "    - Relate these language features and query patterns relative to other data shapes, technologies, and the languages designed to query them.\n",
    "    - Understand when tables are not the appropriate shape for your data and when you can (and should) throw normalization away!"
   ]
  },
  {
   "cell_type": "markdown",
   "metadata": {},
   "source": [
    "### Prerequisites\n",
    "In this exercise, you will brush-up the fundamental concepts of relational databases and SQL. If you haven't taken an introductory databases course (or want to refresh your knowledge) we recommend you to read the following:\n",
    "\n",
    "Garcia-Molina, Ullman, Widom: Database Systems: The Complete Book. Pearson, 2. Edition, 2008. (Chapters 1, 2, 3, and 6) [Available in the ETH Library] [[Online]](https://ebookcentral.proquest.com/lib/ethz/detail.action?pq-origsite=primo&docID=5832965) [[Selected solutions]](http://infolab.stanford.edu/~ullman/dscbsols/sols.html).\n",
    "\n",
    "Or have a look at the recordings from Information Systems for Engineers - ETH Zurich, available on [[YouTube]](https://www.youtube.com/c/GhislainFournysLectures)."
   ]
  },
  {
   "cell_type": "markdown",
   "metadata": {},
   "source": [
    "### Database Set-up\n",
    "We will be once again working in the ExamMagicBox (you can find it in the following [[link]](https://polybox.ethz.ch/index.php/s/wa57XqDKkxRMb0q) if you have not downloaded it yet): please drag this Notebook in the folder. Just like last week, activate the docker container for the exercise sheet with `docker compose up`; please wait for the message `PostgreSQL init process complete; ready for start up` in the docker logs before proceeding! Alternatively you can start the Docker with `docker compose up -d` and wait for the command to execute: please note that you are creating the containers in the background this way. You can then type `docker compose down` when you are done.\n",
    "\n",
    "As before, we set up our connection to the database and enable use of `%sql` and `%%sql`."
   ]
  },
  {
   "cell_type": "code",
   "execution_count": 1,
   "metadata": {},
   "outputs": [],
   "source": [
    "server='db'\n",
    "user='postgres'\n",
    "password='example'\n",
    "database='postgres'\n",
    "connection_string=f'postgresql://{user}:{password}@{server}:5432/{database}'"
   ]
  },
  {
   "cell_type": "code",
   "execution_count": 2,
   "metadata": {},
   "outputs": [],
   "source": [
    "%reload_ext sql\n",
    "%sql $connection_string"
   ]
  },
  {
   "cell_type": "code",
   "execution_count": 3,
   "metadata": {},
   "outputs": [
    {
     "name": "stdout",
     "output_type": "stream",
     "text": [
      " * postgresql://postgres:***@db:5432/postgres\n",
      "1 rows affected.\n"
     ]
    },
    {
     "data": {
      "text/html": [
       "<table>\n",
       "    <thead>\n",
       "        <tr>\n",
       "            <th>version</th>\n",
       "        </tr>\n",
       "    </thead>\n",
       "    <tbody>\n",
       "        <tr>\n",
       "            <td>PostgreSQL 16.2 (Debian 16.2-1.pgdg120+2) on x86_64-pc-linux-gnu, compiled by gcc (Debian 12.2.0-14) 12.2.0, 64-bit</td>\n",
       "        </tr>\n",
       "    </tbody>\n",
       "</table>"
      ],
      "text/plain": [
       "[('PostgreSQL 16.2 (Debian 16.2-1.pgdg120+2) on x86_64-pc-linux-gnu, compiled by gcc (Debian 12.2.0-14) 12.2.0, 64-bit',)]"
      ]
     },
     "execution_count": 3,
     "metadata": {},
     "output_type": "execute_result"
    }
   ],
   "source": [
    "%%sql\n",
    "SELECT version();"
   ]
  },
  {
   "cell_type": "markdown",
   "metadata": {},
   "source": [
    "### Origin of the data\n",
    "You can find more information on the dataset in the following links\n",
    "- [Discogs](https://www.discogs.com/)\n",
    "- [Discogs XML data dumps](http://data.discogs.com/)\n",
    "\n",
    "If you do not want to use Docker or it does not work you can download the dataset from this [link](https://cloud.inf.ethz.ch/s/DtjCHTLRHT39BRN/download/discogs.dump.xz), see `postgres-init.sh` to see how to import it)"
   ]
  },
  {
   "cell_type": "markdown",
   "metadata": {},
   "source": [
    "## Exercise 1: Explore the dataset\n",
    "We want to first understand the dataset a bit better. You will find some queries below to help you explore the schema."
   ]
  },
  {
   "cell_type": "markdown",
   "metadata": {},
   "source": [
    "### List tables\n",
    "The following query retrieves a list of tables in the database from a system table describing the current database."
   ]
  },
  {
   "cell_type": "code",
   "execution_count": 4,
   "metadata": {},
   "outputs": [
    {
     "name": "stdout",
     "output_type": "stream",
     "text": [
      " * postgresql://postgres:***@db:5432/postgres\n",
      "22 rows affected.\n"
     ]
    },
    {
     "data": {
      "text/html": [
       "<table>\n",
       "    <thead>\n",
       "        <tr>\n",
       "            <th>table_name</th>\n",
       "        </tr>\n",
       "    </thead>\n",
       "    <tbody>\n",
       "        <tr>\n",
       "            <td>companies</td>\n",
       "        </tr>\n",
       "        <tr>\n",
       "            <td>jobs</td>\n",
       "        </tr>\n",
       "        <tr>\n",
       "            <td>employees02</td>\n",
       "        </tr>\n",
       "        <tr>\n",
       "            <td>badges</td>\n",
       "        </tr>\n",
       "        <tr>\n",
       "            <td>comments</td>\n",
       "        </tr>\n",
       "        <tr>\n",
       "            <td>inventory</td>\n",
       "        </tr>\n",
       "        <tr>\n",
       "            <td>posthistory</td>\n",
       "        </tr>\n",
       "        <tr>\n",
       "            <td>postlinks</td>\n",
       "        </tr>\n",
       "        <tr>\n",
       "            <td>posts</td>\n",
       "        </tr>\n",
       "        <tr>\n",
       "            <td>tags</td>\n",
       "        </tr>\n",
       "        <tr>\n",
       "            <td>users</td>\n",
       "        </tr>\n",
       "        <tr>\n",
       "            <td>votes</td>\n",
       "        </tr>\n",
       "        <tr>\n",
       "            <td>artists</td>\n",
       "        </tr>\n",
       "        <tr>\n",
       "            <td>released_by</td>\n",
       "        </tr>\n",
       "        <tr>\n",
       "            <td>releases</td>\n",
       "        </tr>\n",
       "        <tr>\n",
       "            <td>tracks</td>\n",
       "        </tr>\n",
       "        <tr>\n",
       "            <td>employees</td>\n",
       "        </tr>\n",
       "        <tr>\n",
       "            <td>dept_manager</td>\n",
       "        </tr>\n",
       "        <tr>\n",
       "            <td>departments</td>\n",
       "        </tr>\n",
       "        <tr>\n",
       "            <td>dept_emp</td>\n",
       "        </tr>\n",
       "        <tr>\n",
       "            <td>titles</td>\n",
       "        </tr>\n",
       "        <tr>\n",
       "            <td>salaries</td>\n",
       "        </tr>\n",
       "    </tbody>\n",
       "</table>"
      ],
      "text/plain": [
       "[('companies',),\n",
       " ('jobs',),\n",
       " ('employees02',),\n",
       " ('badges',),\n",
       " ('comments',),\n",
       " ('inventory',),\n",
       " ('posthistory',),\n",
       " ('postlinks',),\n",
       " ('posts',),\n",
       " ('tags',),\n",
       " ('users',),\n",
       " ('votes',),\n",
       " ('artists',),\n",
       " ('released_by',),\n",
       " ('releases',),\n",
       " ('tracks',),\n",
       " ('employees',),\n",
       " ('dept_manager',),\n",
       " ('departments',),\n",
       " ('dept_emp',),\n",
       " ('titles',),\n",
       " ('salaries',)]"
      ]
     },
     "execution_count": 4,
     "metadata": {},
     "output_type": "execute_result"
    }
   ],
   "source": [
    "%%sql \n",
    "SELECT table_name\n",
    "FROM information_schema.tables\n",
    "WHERE table_schema = 'public';"
   ]
  },
  {
   "cell_type": "markdown",
   "metadata": {},
   "source": [
    "### List attributes/columns\n",
    "The following query retrieves a list of columns from the tables in the database."
   ]
  },
  {
   "cell_type": "code",
   "execution_count": 5,
   "metadata": {},
   "outputs": [
    {
     "name": "stdout",
     "output_type": "stream",
     "text": [
      " * postgresql://postgres:***@db:5432/postgres\n",
      "17 rows affected.\n"
     ]
    },
    {
     "data": {
      "text/html": [
       "<table>\n",
       "    <thead>\n",
       "        <tr>\n",
       "            <th>table_name</th>\n",
       "            <th>column_name</th>\n",
       "            <th>data_type</th>\n",
       "            <th>is_nullable</th>\n",
       "            <th>ordinal_position</th>\n",
       "        </tr>\n",
       "    </thead>\n",
       "    <tbody>\n",
       "        <tr>\n",
       "            <td>artists</td>\n",
       "            <td>artist_id</td>\n",
       "            <td>integer</td>\n",
       "            <td>NO</td>\n",
       "            <td>1</td>\n",
       "        </tr>\n",
       "        <tr>\n",
       "            <td>artists</td>\n",
       "            <td>name</td>\n",
       "            <td>character varying</td>\n",
       "            <td>YES</td>\n",
       "            <td>2</td>\n",
       "        </tr>\n",
       "        <tr>\n",
       "            <td>artists</td>\n",
       "            <td>realname</td>\n",
       "            <td>text</td>\n",
       "            <td>YES</td>\n",
       "            <td>3</td>\n",
       "        </tr>\n",
       "        <tr>\n",
       "            <td>artists</td>\n",
       "            <td>profile</td>\n",
       "            <td>text</td>\n",
       "            <td>YES</td>\n",
       "            <td>4</td>\n",
       "        </tr>\n",
       "        <tr>\n",
       "            <td>artists</td>\n",
       "            <td>url</td>\n",
       "            <td>text</td>\n",
       "            <td>YES</td>\n",
       "            <td>5</td>\n",
       "        </tr>\n",
       "        <tr>\n",
       "            <td>released_by</td>\n",
       "            <td>release_id</td>\n",
       "            <td>integer</td>\n",
       "            <td>NO</td>\n",
       "            <td>1</td>\n",
       "        </tr>\n",
       "        <tr>\n",
       "            <td>released_by</td>\n",
       "            <td>artist_id</td>\n",
       "            <td>integer</td>\n",
       "            <td>NO</td>\n",
       "            <td>2</td>\n",
       "        </tr>\n",
       "        <tr>\n",
       "            <td>releases</td>\n",
       "            <td>release_id</td>\n",
       "            <td>integer</td>\n",
       "            <td>NO</td>\n",
       "            <td>1</td>\n",
       "        </tr>\n",
       "        <tr>\n",
       "            <td>releases</td>\n",
       "            <td>released</td>\n",
       "            <td>date</td>\n",
       "            <td>NO</td>\n",
       "            <td>2</td>\n",
       "        </tr>\n",
       "        <tr>\n",
       "            <td>releases</td>\n",
       "            <td>title</td>\n",
       "            <td>text</td>\n",
       "            <td>NO</td>\n",
       "            <td>3</td>\n",
       "        </tr>\n",
       "        <tr>\n",
       "            <td>releases</td>\n",
       "            <td>country</td>\n",
       "            <td>character varying</td>\n",
       "            <td>YES</td>\n",
       "            <td>4</td>\n",
       "        </tr>\n",
       "        <tr>\n",
       "            <td>releases</td>\n",
       "            <td>genre</td>\n",
       "            <td>character varying</td>\n",
       "            <td>NO</td>\n",
       "            <td>5</td>\n",
       "        </tr>\n",
       "        <tr>\n",
       "            <td>tracks</td>\n",
       "            <td>release_id</td>\n",
       "            <td>integer</td>\n",
       "            <td>NO</td>\n",
       "            <td>1</td>\n",
       "        </tr>\n",
       "        <tr>\n",
       "            <td>tracks</td>\n",
       "            <td>position</td>\n",
       "            <td>character varying</td>\n",
       "            <td>YES</td>\n",
       "            <td>2</td>\n",
       "        </tr>\n",
       "        <tr>\n",
       "            <td>tracks</td>\n",
       "            <td>title</td>\n",
       "            <td>text</td>\n",
       "            <td>YES</td>\n",
       "            <td>3</td>\n",
       "        </tr>\n",
       "        <tr>\n",
       "            <td>tracks</td>\n",
       "            <td>duration</td>\n",
       "            <td>integer</td>\n",
       "            <td>YES</td>\n",
       "            <td>4</td>\n",
       "        </tr>\n",
       "        <tr>\n",
       "            <td>tracks</td>\n",
       "            <td>track_id</td>\n",
       "            <td>integer</td>\n",
       "            <td>NO</td>\n",
       "            <td>5</td>\n",
       "        </tr>\n",
       "    </tbody>\n",
       "</table>"
      ],
      "text/plain": [
       "[('artists', 'artist_id', 'integer', 'NO', 1),\n",
       " ('artists', 'name', 'character varying', 'YES', 2),\n",
       " ('artists', 'realname', 'text', 'YES', 3),\n",
       " ('artists', 'profile', 'text', 'YES', 4),\n",
       " ('artists', 'url', 'text', 'YES', 5),\n",
       " ('released_by', 'release_id', 'integer', 'NO', 1),\n",
       " ('released_by', 'artist_id', 'integer', 'NO', 2),\n",
       " ('releases', 'release_id', 'integer', 'NO', 1),\n",
       " ('releases', 'released', 'date', 'NO', 2),\n",
       " ('releases', 'title', 'text', 'NO', 3),\n",
       " ('releases', 'country', 'character varying', 'YES', 4),\n",
       " ('releases', 'genre', 'character varying', 'NO', 5),\n",
       " ('tracks', 'release_id', 'integer', 'NO', 1),\n",
       " ('tracks', 'position', 'character varying', 'YES', 2),\n",
       " ('tracks', 'title', 'text', 'YES', 3),\n",
       " ('tracks', 'duration', 'integer', 'YES', 4),\n",
       " ('tracks', 'track_id', 'integer', 'NO', 5)]"
      ]
     },
     "execution_count": 5,
     "metadata": {},
     "output_type": "execute_result"
    }
   ],
   "source": [
    "%%sql \n",
    "SELECT table_name, column_name, data_type, is_nullable, ordinal_position\n",
    "FROM information_schema.columns\n",
    "WHERE table_schema = 'public' AND table_name IN ('artists', 'released_by', 'releases', 'tracks')\n",
    "AND table_name NOT LIKE 'pg_%'\n",
    "ORDER BY table_name, ordinal_position;"
   ]
  },
  {
   "cell_type": "markdown",
   "metadata": {},
   "source": [
    "### Have a look at the datasets\n",
    "The following simple query gives the first 5 rows of the `artists` dataset"
   ]
  },
  {
   "cell_type": "code",
   "execution_count": 6,
   "metadata": {},
   "outputs": [
    {
     "name": "stdout",
     "output_type": "stream",
     "text": [
      " * postgresql://postgres:***@db:5432/postgres\n",
      "5 rows affected.\n"
     ]
    },
    {
     "data": {
      "text/html": [
       "<table>\n",
       "    <thead>\n",
       "        <tr>\n",
       "            <th>artist_id</th>\n",
       "            <th>name</th>\n",
       "            <th>realname</th>\n",
       "            <th>profile</th>\n",
       "            <th>url</th>\n",
       "        </tr>\n",
       "    </thead>\n",
       "    <tbody>\n",
       "        <tr>\n",
       "            <td>1</td>\n",
       "            <td>The Persuader</td>\n",
       "            <td>Jesper Dahlbäck</td>\n",
       "            <td>None</td>\n",
       "            <td>None</td>\n",
       "        </tr>\n",
       "        <tr>\n",
       "            <td>2</td>\n",
       "            <td>Mr. James Barth &amp; A.D.</td>\n",
       "            <td>Cari Lekebusch &amp; Alexi Delano</td>\n",
       "            <td>None</td>\n",
       "            <td>None</td>\n",
       "        </tr>\n",
       "        <tr>\n",
       "            <td>3</td>\n",
       "            <td>Josh Wink</td>\n",
       "            <td>Joshua Winkelman</td>\n",
       "            <td>After forming [l=Ovum Recordings] as an independent label in October 1994 with former partner [a=King Britt], Josh recorded the cult classic &#x27;Liquid Summer&#x27;. He went on to release singles for a wide variety of revered European labels ranging from Belgium&#x27;s [l=R &amp; S Records] to England&#x27;s [l=XL Recordings]. In 1995, Wink became one of the first DJ-producers to translate his hard work into mainstream success when he unleashed a string of classics including &#x27;Don&#x27;t Laugh&#x27;¸ &#x27;I&#x27;m Ready&#x27; and &#x27;Higher State of Consciousness&#x27; that topped charts worldwide. More recently he has had massive club hits such as &#x27;How&#x27;s Your Evening So Far&#x27; and &#x27;Superfreak&#x27; but he has also gained a lot of attention trough his remixes for [a=FC Kahuna], [a=Paul Oakenfold], [a=Ladytron], [a=Clint Mansell], [a=Sting] and [a=Depeche Mode], among others.</td>\n",
       "            <td>http://www.joshwink.com/</td>\n",
       "        </tr>\n",
       "        <tr>\n",
       "            <td>4</td>\n",
       "            <td>Johannes Heil</td>\n",
       "            <td>Johannes Heil</td>\n",
       "            <td>Electronic music producer, musician and live performer, born 3 February 1978 near the town of Bad Nauheim, Germany. Founder of [l=JH] and [l=Metatron Recordings].</td>\n",
       "            <td>http://johannes-heil.com/</td>\n",
       "        </tr>\n",
       "        <tr>\n",
       "            <td>5</td>\n",
       "            <td>Heiko Laux</td>\n",
       "            <td>Heiko Laux</td>\n",
       "            <td>German DJ and producer based in Berlin. He is the founder of [l=Kanzleramt].</td>\n",
       "            <td>http://www.heiko-laux.com</td>\n",
       "        </tr>\n",
       "    </tbody>\n",
       "</table>"
      ],
      "text/plain": [
       "[(1, 'The Persuader', 'Jesper Dahlbäck', None, None),\n",
       " (2, 'Mr. James Barth & A.D.', 'Cari Lekebusch & Alexi Delano', None, None),\n",
       " (3, 'Josh Wink', 'Joshua Winkelman', \"After forming [l=Ovum Recordings] as an independent label in October 1994 with former partner [a=King Britt], Josh recorded the cult classic 'Liquid  ... (527 characters truncated) ... of attention trough his remixes for [a=FC Kahuna], [a=Paul Oakenfold], [a=Ladytron], [a=Clint Mansell], [a=Sting] and [a=Depeche Mode], among others.\", 'http://www.joshwink.com/'),\n",
       " (4, 'Johannes Heil', 'Johannes Heil', 'Electronic music producer, musician and live performer, born 3 February 1978 near the town of Bad Nauheim, Germany. Founder of [l=JH] and [l=Metatron Recordings].', 'http://johannes-heil.com/'),\n",
       " (5, 'Heiko Laux', 'Heiko Laux', 'German DJ and producer based in Berlin. He is the founder of [l=Kanzleramt].', 'http://www.heiko-laux.com')]"
      ]
     },
     "execution_count": 6,
     "metadata": {},
     "output_type": "execute_result"
    }
   ],
   "source": [
    "%%sql\n",
    "SELECT * FROM artists LIMIT 5;"
   ]
  },
  {
   "cell_type": "markdown",
   "metadata": {},
   "source": [
    "Naturally we could write similar queries to better understand each of the other tables."
   ]
  },
  {
   "cell_type": "markdown",
   "metadata": {},
   "source": [
    "#### With what you now know about the datasets, try to answer the following questions\n",
    "\n",
    "1. Which concepts are modelled in the dataset and how do they relate to each other? <b>Hint</b>: how do the tables connect logically?\n",
    "2. Why do you think this shape (table) was chosen for the data and why not the other shapes?\n",
    "3. In which normal forms are the corresponding relations?\n",
    "4. How can we denormalise the data to make some queries more efficient? <b>Hint</b>: have a look at the queries in the next session of the exercises to see if adding some columns to some tables could reduce the need to `JOIN`.\n",
    "5. What potential problems could result from adding redundancy?"
   ]
  },
  {
   "cell_type": "markdown",
   "metadata": {},
   "source": [
    "### Solution\n",
    "\n",
    "1. The dataset contains data from `discogs` and models musical artists, their physical releases, and the tracks on those releases. You can intuitively connect the tables with \"artists release albums with tracks\".\n",
    "\n",
    "2. \n",
    "   - The number of concepts is limited, fixed, and well-defined.\n",
    "   - The same is true for attributes of these concepts.\n",
    "   - Attributes come from a well-defined domains with a fixed semantic (such as dates, e-mail addresses, ...).\n",
    "   - Instances of concepts are in relation with each other, which may or may not be required to exist.\n",
    "   - In short: we can define a schema, which the rest of the application (the website) relies on.\n",
    "\n",
    "\n",
    "3. \n",
    "   - All relations are atomic so they are in 1NF.\n",
    "   - `artists`, `releases` and `tracks` all have a singular ID primary key, so they at least 2NF. Upon inspection, there are no transitive dependencies, so they are in 3NF.\n",
    "   - `released_by` does not contain non-key attributes, so it is in 3NF.\n",
    "\n",
    "\n",
    "4. A very typical example of a query is finding all the releases by an artist's name. If we redundantly store the artist's ID and name in `releases`, the aforementioned query now only requires a `SELECT` instead of an expensive `JOIN`. As releases can be released by multiple artists, we could also extend this idea and break 1NF by storing a list of artist names instead. The tradeoff here is that every time we have to update an artist's name we have to find and update all releases by that artist. Considering that reads are very common and changes are rare, the option of denormalizing becomes relatively more attractive.\n",
    "\n",
    "5. \n",
    "   - Insert anomaly: we could insert a release with a fake or incorrect artist name.\n",
    "   - Update anomaly: if we update an artist's name but not all of the records in `releases`, we introduce an inconsistency into the dataset."
   ]
  },
  {
   "cell_type": "markdown",
   "metadata": {},
   "source": [
    "## Exercise 2: SQL warm-up\n",
    "Now that we familiarised ourself with the tables and relationship, we will begin with several SQL queries to ease us back into the language.\n",
    "\n",
    "<b>Practical tips:</b>\n",
    "- You might want to begin by retrieving a few rows from each of the database tables to get a sense of what is stored. \n",
    "- When testing your queries, it is good practice to add a \"LIMIT\" clause to avoid inadvertedly retrieving hundreds of rows."
   ]
  },
  {
   "cell_type": "markdown",
   "metadata": {},
   "source": [
    "The following is an example query that contains some common SQL expressions. A complete list can be found at: https://www.postgresql.org/docs/current/sql-select.html"
   ]
  },
  {
   "cell_type": "code",
   "execution_count": null,
   "metadata": {},
   "outputs": [],
   "source": [
    "%%sql\n",
    "SELECT DISTINCT\n",
    "    a.name AS column1,\n",
    "    COUNT(t.track_id) AS column2,\n",
    "    AVG(t.duration) AS column3\n",
    "FROM\n",
    "    artists a\n",
    "    JOIN released_by rb USING(artist_id)\n",
    "    JOIN releases r USING(release_id)\n",
    "    JOIN tracks t USING(release_id)\n",
    "WHERE\n",
    "    t.duration > 123\n",
    "    AND t.title != 'My Query'\n",
    "    AND r.country = 'Switzerland'\n",
    "GROUP BY\n",
    "    a.artist_id, a.name\n",
    "HAVING\n",
    "    COUNT(t.track_id) > 0\n",
    "ORDER BY\n",
    "    column2 DESC,\n",
    "    column3 DESC\n",
    "LIMIT 5;"
   ]
  },
  {
   "cell_type": "markdown",
   "metadata": {},
   "source": [
    "The following is a visual representation of the database schema for quick reference.\n",
    "\n",
    "<img src=\"https://polybox.ethz.ch/index.php/s/8CqNffQrR0EDbuC/download\" width=800/>"
   ]
  },
  {
   "cell_type": "markdown",
   "metadata": {},
   "source": [
    "#### 1. Retrieve all releases that were released after January 1, 2017."
   ]
  },
  {
   "cell_type": "code",
   "execution_count": 8,
   "metadata": {},
   "outputs": [
    {
     "name": "stdout",
     "output_type": "stream",
     "text": [
      " * postgresql://postgres:***@db:5432/postgres\n",
      "18 rows affected.\n"
     ]
    },
    {
     "data": {
      "text/html": [
       "<table>\n",
       "    <thead>\n",
       "        <tr>\n",
       "            <th>title</th>\n",
       "            <th>released</th>\n",
       "        </tr>\n",
       "    </thead>\n",
       "    <tbody>\n",
       "        <tr>\n",
       "            <td>Kizomba Mix, Vol. 2 [2018] 2 CDs</td>\n",
       "            <td>2018-12-14</td>\n",
       "        </tr>\n",
       "        <tr>\n",
       "            <td>Sudd. Autumn Collection 03</td>\n",
       "            <td>2018-01-01</td>\n",
       "        </tr>\n",
       "        <tr>\n",
       "            <td>Technikal Support</td>\n",
       "            <td>2018-01-01</td>\n",
       "        </tr>\n",
       "        <tr>\n",
       "            <td>No-Harm</td>\n",
       "            <td>2018-01-01</td>\n",
       "        </tr>\n",
       "        <tr>\n",
       "            <td>Melburn / Into The Storm</td>\n",
       "            <td>2018-01-01</td>\n",
       "        </tr>\n",
       "        <tr>\n",
       "            <td>Invisible Agent 002</td>\n",
       "            <td>2018-01-01</td>\n",
       "        </tr>\n",
       "        <tr>\n",
       "            <td>Tribal Natty (Aphrodite Remix)</td>\n",
       "            <td>2018-01-01</td>\n",
       "        </tr>\n",
       "        <tr>\n",
       "            <td>Shed01</td>\n",
       "            <td>2018-01-01</td>\n",
       "        </tr>\n",
       "        <tr>\n",
       "            <td>Jetlag Disco</td>\n",
       "            <td>2018-01-01</td>\n",
       "        </tr>\n",
       "        <tr>\n",
       "            <td>The Bad Behaviour E.P</td>\n",
       "            <td>2018-01-01</td>\n",
       "        </tr>\n",
       "        <tr>\n",
       "            <td>Volume 1</td>\n",
       "            <td>2018-01-01</td>\n",
       "        </tr>\n",
       "        <tr>\n",
       "            <td>You Wanna Do What / In One Hand</td>\n",
       "            <td>2018-01-01</td>\n",
       "        </tr>\n",
       "        <tr>\n",
       "            <td>Happy To Be Sad / I Was Just Leaving</td>\n",
       "            <td>2018-01-01</td>\n",
       "        </tr>\n",
       "        <tr>\n",
       "            <td>Troika</td>\n",
       "            <td>2018-01-01</td>\n",
       "        </tr>\n",
       "        <tr>\n",
       "            <td>Lectronic</td>\n",
       "            <td>2018-01-01</td>\n",
       "        </tr>\n",
       "        <tr>\n",
       "            <td>Flowers From The Unknown</td>\n",
       "            <td>2018-01-01</td>\n",
       "        </tr>\n",
       "        <tr>\n",
       "            <td>Outlines</td>\n",
       "            <td>2018-01-01</td>\n",
       "        </tr>\n",
       "        <tr>\n",
       "            <td>III</td>\n",
       "            <td>2018-01-01</td>\n",
       "        </tr>\n",
       "    </tbody>\n",
       "</table>"
      ],
      "text/plain": [
       "[('Kizomba Mix, Vol. 2 [2018] 2 CDs', datetime.date(2018, 12, 14)),\n",
       " ('Sudd. Autumn Collection 03', datetime.date(2018, 1, 1)),\n",
       " ('Technikal Support', datetime.date(2018, 1, 1)),\n",
       " ('No-Harm', datetime.date(2018, 1, 1)),\n",
       " ('Melburn / Into The Storm', datetime.date(2018, 1, 1)),\n",
       " ('Invisible Agent 002', datetime.date(2018, 1, 1)),\n",
       " ('Tribal Natty (Aphrodite Remix)', datetime.date(2018, 1, 1)),\n",
       " ('Shed01', datetime.date(2018, 1, 1)),\n",
       " ('Jetlag Disco', datetime.date(2018, 1, 1)),\n",
       " ('The Bad Behaviour E.P', datetime.date(2018, 1, 1)),\n",
       " ('Volume 1', datetime.date(2018, 1, 1)),\n",
       " ('You Wanna Do What / In One Hand', datetime.date(2018, 1, 1)),\n",
       " ('Happy To Be Sad / I Was Just Leaving', datetime.date(2018, 1, 1)),\n",
       " ('Troika', datetime.date(2018, 1, 1)),\n",
       " ('Lectronic', datetime.date(2018, 1, 1)),\n",
       " ('Flowers From The Unknown', datetime.date(2018, 1, 1)),\n",
       " ('Outlines', datetime.date(2018, 1, 1)),\n",
       " ('III', datetime.date(2018, 1, 1))]"
      ]
     },
     "execution_count": 8,
     "metadata": {},
     "output_type": "execute_result"
    }
   ],
   "source": [
    "%%sql\n",
    "SELECT title, released \n",
    "FROM releases\n",
    "WHERE released > '2017-01-01';"
   ]
  },
  {
   "cell_type": "markdown",
   "metadata": {},
   "source": [
    "#### 2. Find all tracks with a duration longer than 7 hours. Assume the 'duration' column in the 'tracks' table is in seconds."
   ]
  },
  {
   "cell_type": "code",
   "execution_count": 9,
   "metadata": {},
   "outputs": [
    {
     "name": "stdout",
     "output_type": "stream",
     "text": [
      " * postgresql://postgres:***@db:5432/postgres\n",
      "3 rows affected.\n"
     ]
    },
    {
     "data": {
      "text/html": [
       "<table>\n",
       "    <thead>\n",
       "        <tr>\n",
       "            <th>title</th>\n",
       "            <th>duration</th>\n",
       "        </tr>\n",
       "    </thead>\n",
       "    <tbody>\n",
       "        <tr>\n",
       "            <td>Rapper&#x27;s Relight</td>\n",
       "            <td>25579</td>\n",
       "        </tr>\n",
       "        <tr>\n",
       "            <td>Dialectical Transformation III Peace In Rwanda Mix</td>\n",
       "            <td>27196</td>\n",
       "        </tr>\n",
       "        <tr>\n",
       "            <td>Live 1996.12.30.</td>\n",
       "            <td>31934</td>\n",
       "        </tr>\n",
       "    </tbody>\n",
       "</table>"
      ],
      "text/plain": [
       "[(\"Rapper's Relight\", 25579),\n",
       " ('Dialectical Transformation III Peace In Rwanda Mix', 27196),\n",
       " ('Live 1996.12.30.', 31934)]"
      ]
     },
     "execution_count": 9,
     "metadata": {},
     "output_type": "execute_result"
    }
   ],
   "source": [
    "%%sql\n",
    "SELECT title, duration\n",
    "FROM tracks\n",
    "WHERE duration > 25200;"
   ]
  },
  {
   "cell_type": "markdown",
   "metadata": {},
   "source": [
    "#### 3. Retrieve the titles of 5 releases along with the names of the artists who released them."
   ]
  },
  {
   "cell_type": "code",
   "execution_count": 10,
   "metadata": {},
   "outputs": [
    {
     "name": "stdout",
     "output_type": "stream",
     "text": [
      " * postgresql://postgres:***@db:5432/postgres\n",
      "5 rows affected.\n"
     ]
    },
    {
     "data": {
      "text/html": [
       "<table>\n",
       "    <thead>\n",
       "        <tr>\n",
       "            <th>title</th>\n",
       "            <th>name</th>\n",
       "        </tr>\n",
       "    </thead>\n",
       "    <tbody>\n",
       "        <tr>\n",
       "            <td>Stockholm</td>\n",
       "            <td>The Persuader</td>\n",
       "        </tr>\n",
       "        <tr>\n",
       "            <td>Knockin&#x27; Boots Vol 2 Of 2</td>\n",
       "            <td>Mr. James Barth &amp; A.D.</td>\n",
       "        </tr>\n",
       "        <tr>\n",
       "            <td>Profound Sounds Vol. 1</td>\n",
       "            <td>Josh Wink</td>\n",
       "        </tr>\n",
       "        <tr>\n",
       "            <td>Flowerhead</td>\n",
       "            <td>DATacide</td>\n",
       "        </tr>\n",
       "        <tr>\n",
       "            <td>Knockin&#x27; Boots (Vol 1 Of 2)</td>\n",
       "            <td>Mr. James Barth &amp; A.D.</td>\n",
       "        </tr>\n",
       "    </tbody>\n",
       "</table>"
      ],
      "text/plain": [
       "[('Stockholm', 'The Persuader'),\n",
       " (\"Knockin' Boots Vol 2 Of 2\", 'Mr. James Barth & A.D.'),\n",
       " ('Profound Sounds Vol. 1', 'Josh Wink'),\n",
       " ('Flowerhead', 'DATacide'),\n",
       " (\"Knockin' Boots (Vol 1 Of 2)\", 'Mr. James Barth & A.D.')]"
      ]
     },
     "execution_count": 10,
     "metadata": {},
     "output_type": "execute_result"
    }
   ],
   "source": [
    "%%sql\n",
    "SELECT r.title, a.name \n",
    "FROM releases r\n",
    "JOIN released_by rb USING(release_id)\n",
    "JOIN artists a USING(artist_id)\n",
    "LIMIT 5;"
   ]
  },
  {
   "cell_type": "markdown",
   "metadata": {},
   "source": [
    "#### 4. List each genre and the number of releases in that genre."
   ]
  },
  {
   "cell_type": "code",
   "execution_count": 11,
   "metadata": {},
   "outputs": [
    {
     "name": "stdout",
     "output_type": "stream",
     "text": [
      " * postgresql://postgres:***@db:5432/postgres\n",
      "15 rows affected.\n"
     ]
    },
    {
     "data": {
      "text/html": [
       "<table>\n",
       "    <thead>\n",
       "        <tr>\n",
       "            <th>genre</th>\n",
       "            <th>number_of_releases</th>\n",
       "        </tr>\n",
       "    </thead>\n",
       "    <tbody>\n",
       "        <tr>\n",
       "            <td>Blues</td>\n",
       "            <td>48</td>\n",
       "        </tr>\n",
       "        <tr>\n",
       "            <td>Brass &amp; Military</td>\n",
       "            <td>4</td>\n",
       "        </tr>\n",
       "        <tr>\n",
       "            <td>Children&#x27;s</td>\n",
       "            <td>6</td>\n",
       "        </tr>\n",
       "        <tr>\n",
       "            <td>Classical</td>\n",
       "            <td>257</td>\n",
       "        </tr>\n",
       "        <tr>\n",
       "            <td>Electronic</td>\n",
       "            <td>183766</td>\n",
       "        </tr>\n",
       "        <tr>\n",
       "            <td>Folk, World, &amp; Country</td>\n",
       "            <td>101</td>\n",
       "        </tr>\n",
       "        <tr>\n",
       "            <td>Funk / Soul</td>\n",
       "            <td>3674</td>\n",
       "        </tr>\n",
       "        <tr>\n",
       "            <td>Hip Hop</td>\n",
       "            <td>10598</td>\n",
       "        </tr>\n",
       "        <tr>\n",
       "            <td>Jazz</td>\n",
       "            <td>3325</td>\n",
       "        </tr>\n",
       "        <tr>\n",
       "            <td>Latin</td>\n",
       "            <td>153</td>\n",
       "        </tr>\n",
       "        <tr>\n",
       "            <td>Non-Music</td>\n",
       "            <td>353</td>\n",
       "        </tr>\n",
       "        <tr>\n",
       "            <td>Pop</td>\n",
       "            <td>691</td>\n",
       "        </tr>\n",
       "        <tr>\n",
       "            <td>Reggae</td>\n",
       "            <td>1382</td>\n",
       "        </tr>\n",
       "        <tr>\n",
       "            <td>Rock</td>\n",
       "            <td>17541</td>\n",
       "        </tr>\n",
       "        <tr>\n",
       "            <td>Stage &amp; Screen</td>\n",
       "            <td>39</td>\n",
       "        </tr>\n",
       "    </tbody>\n",
       "</table>"
      ],
      "text/plain": [
       "[('Blues', 48),\n",
       " ('Brass & Military', 4),\n",
       " (\"Children's\", 6),\n",
       " ('Classical', 257),\n",
       " ('Electronic', 183766),\n",
       " ('Folk, World, & Country', 101),\n",
       " ('Funk / Soul', 3674),\n",
       " ('Hip Hop', 10598),\n",
       " ('Jazz', 3325),\n",
       " ('Latin', 153),\n",
       " ('Non-Music', 353),\n",
       " ('Pop', 691),\n",
       " ('Reggae', 1382),\n",
       " ('Rock', 17541),\n",
       " ('Stage & Screen', 39)]"
      ]
     },
     "execution_count": 11,
     "metadata": {},
     "output_type": "execute_result"
    }
   ],
   "source": [
    "%%sql\n",
    "SELECT genre, COUNT(release_id) AS number_of_releases\n",
    "FROM releases\n",
    "GROUP BY genre;"
   ]
  },
  {
   "cell_type": "markdown",
   "metadata": {},
   "source": [
    "#### 5. Identify the top 5 artists who have the most releases."
   ]
  },
  {
   "cell_type": "code",
   "execution_count": 12,
   "metadata": {},
   "outputs": [
    {
     "name": "stdout",
     "output_type": "stream",
     "text": [
      " * postgresql://postgres:***@db:5432/postgres\n",
      "5 rows affected.\n"
     ]
    },
    {
     "data": {
      "text/html": [
       "<table>\n",
       "    <thead>\n",
       "        <tr>\n",
       "            <th>name</th>\n",
       "            <th>release_count</th>\n",
       "        </tr>\n",
       "    </thead>\n",
       "    <tbody>\n",
       "        <tr>\n",
       "            <td>Various Artists</td>\n",
       "            <td>46123</td>\n",
       "        </tr>\n",
       "        <tr>\n",
       "            <td>Madonna</td>\n",
       "            <td>617</td>\n",
       "        </tr>\n",
       "        <tr>\n",
       "            <td>Pet Shop Boys</td>\n",
       "            <td>600</td>\n",
       "        </tr>\n",
       "        <tr>\n",
       "            <td>Faithless</td>\n",
       "            <td>336</td>\n",
       "        </tr>\n",
       "        <tr>\n",
       "            <td>Michael Jackson</td>\n",
       "            <td>332</td>\n",
       "        </tr>\n",
       "    </tbody>\n",
       "</table>"
      ],
      "text/plain": [
       "[('Various Artists', 46123),\n",
       " ('Madonna', 617),\n",
       " ('Pet Shop Boys', 600),\n",
       " ('Faithless', 336),\n",
       " ('Michael Jackson', 332)]"
      ]
     },
     "execution_count": 12,
     "metadata": {},
     "output_type": "execute_result"
    }
   ],
   "source": [
    "%%sql\n",
    "SELECT a.name, COUNT(DISTINCT rb.release_id) AS release_count \n",
    "FROM artists a\n",
    "JOIN released_by rb USING(artist_id)\n",
    "GROUP BY a.artist_id, a.name\n",
    "ORDER BY release_count DESC\n",
    "LIMIT 5;"
   ]
  },
  {
   "cell_type": "markdown",
   "metadata": {},
   "source": [
    "#### 6. Find the artist who has the longest total duration of tracks across all their releases."
   ]
  },
  {
   "cell_type": "code",
   "execution_count": 13,
   "metadata": {},
   "outputs": [
    {
     "name": "stdout",
     "output_type": "stream",
     "text": [
      " * postgresql://postgres:***@db:5432/postgres\n",
      "1 rows affected.\n"
     ]
    },
    {
     "data": {
      "text/html": [
       "<table>\n",
       "    <thead>\n",
       "        <tr>\n",
       "            <th>name</th>\n",
       "            <th>total_duration</th>\n",
       "        </tr>\n",
       "    </thead>\n",
       "    <tbody>\n",
       "        <tr>\n",
       "            <td>Various Artists</td>\n",
       "            <td>227180023</td>\n",
       "        </tr>\n",
       "    </tbody>\n",
       "</table>"
      ],
      "text/plain": [
       "[('Various Artists', 227180023)]"
      ]
     },
     "execution_count": 13,
     "metadata": {},
     "output_type": "execute_result"
    }
   ],
   "source": [
    "%%sql\n",
    "SELECT a.name, SUM(t.duration) AS total_duration \n",
    "FROM artists a\n",
    "JOIN released_by rb USING(artist_id)\n",
    "JOIN tracks t USING(release_id)\n",
    "GROUP BY a.artist_id, a.name\n",
    "ORDER BY total_duration DESC\n",
    "LIMIT 1;"
   ]
  },
  {
   "cell_type": "markdown",
   "metadata": {},
   "source": [
    "#### 7. Find how many releases that have tracks with duplicate titles."
   ]
  },
  {
   "cell_type": "code",
   "execution_count": 14,
   "metadata": {},
   "outputs": [
    {
     "name": "stdout",
     "output_type": "stream",
     "text": [
      " * postgresql://postgres:***@db:5432/postgres\n",
      "1 rows affected.\n"
     ]
    },
    {
     "data": {
      "text/html": [
       "<table>\n",
       "    <thead>\n",
       "        <tr>\n",
       "            <th>count</th>\n",
       "        </tr>\n",
       "    </thead>\n",
       "    <tbody>\n",
       "        <tr>\n",
       "            <td>9046</td>\n",
       "        </tr>\n",
       "    </tbody>\n",
       "</table>"
      ],
      "text/plain": [
       "[(9046,)]"
      ]
     },
     "execution_count": 14,
     "metadata": {},
     "output_type": "execute_result"
    }
   ],
   "source": [
    "%%sql\n",
    "SELECT COUNT(DISTINCT release_id) FROM (\n",
    "    SELECT release_id, title, COUNT(*) AS title_count\n",
    "    FROM tracks\n",
    "    GROUP BY release_id, title\n",
    "    HAVING COUNT(*) > 1\n",
    ") sub;"
   ]
  },
  {
   "cell_type": "markdown",
   "metadata": {},
   "source": [
    "#### 8. Retrieve the artists with the name of 'Coldplay'."
   ]
  },
  {
   "cell_type": "code",
   "execution_count": 15,
   "metadata": {},
   "outputs": [
    {
     "name": "stdout",
     "output_type": "stream",
     "text": [
      " * postgresql://postgres:***@db:5432/postgres\n",
      "1 rows affected.\n"
     ]
    },
    {
     "data": {
      "text/html": [
       "<table>\n",
       "    <thead>\n",
       "        <tr>\n",
       "            <th>artist_id</th>\n",
       "            <th>name</th>\n",
       "            <th>realname</th>\n",
       "            <th>profile</th>\n",
       "            <th>url</th>\n",
       "        </tr>\n",
       "    </thead>\n",
       "    <tbody>\n",
       "        <tr>\n",
       "            <td>29735</td>\n",
       "            <td>Coldplay</td>\n",
       "            <td>None</td>\n",
       "            <td>Coldplay is an English rock band from London, England. They&#x27;ve been a band since January 16, 1998 when they lost a demotape competition on XFM in London. Philip Christopher Harvey is the band&#x27;s manager.\r",
       " \r",
       " [b][u]Line-up:[/u][/b]\r",
       " Jonny Buckland (Jonathan Mark Buckland) - Guitar\r",
       " Will Champion (William Champion) - Drums\r",
       " Guy Berryman (Guy Rupert Berryman) - Bass\r",
       " Chris Martin (Christopher Anthony John Martin) - Vocals</td>\n",
       "            <td>http://coldplay.com/</td>\n",
       "        </tr>\n",
       "    </tbody>\n",
       "</table>"
      ],
      "text/plain": [
       "[(29735, 'Coldplay', None, \"Coldplay is an English rock band from London, England. They've been a band since January 16, 1998 when they lost a demotape competition on XFM in Lon ... (128 characters truncated) ... itar\\r Will Champion (William Champion) - Drums\\r Guy Berryman (Guy Rupert Berryman) - Bass\\r Chris Martin (Christopher Anthony John Martin) - Vocals\", 'http://coldplay.com/')]"
      ]
     },
     "execution_count": 15,
     "metadata": {},
     "output_type": "execute_result"
    }
   ],
   "source": [
    "%%sql\n",
    "SELECT *\n",
    "FROM artists\n",
    "WHERE name = 'Coldplay';"
   ]
  },
  {
   "cell_type": "markdown",
   "metadata": {},
   "source": [
    "#### 9. List the titles of all releases by that artist in alphabetical order.\n",
    "<b>Hint</b>: Ignore the fact that different relases can have the same title."
   ]
  },
  {
   "cell_type": "code",
   "execution_count": 16,
   "metadata": {},
   "outputs": [
    {
     "name": "stdout",
     "output_type": "stream",
     "text": [
      " * postgresql://postgres:***@db:5432/postgres\n",
      "40 rows affected.\n"
     ]
    },
    {
     "data": {
      "text/html": [
       "<table>\n",
       "    <thead>\n",
       "        <tr>\n",
       "            <th>title</th>\n",
       "        </tr>\n",
       "    </thead>\n",
       "    <tbody>\n",
       "        <tr>\n",
       "            <td>Acoustic</td>\n",
       "        </tr>\n",
       "        <tr>\n",
       "            <td>A Rush Of Blood To The Head</td>\n",
       "        </tr>\n",
       "        <tr>\n",
       "            <td>Boot Of Sound</td>\n",
       "        </tr>\n",
       "        <tr>\n",
       "            <td>Brothers &amp; Sisters</td>\n",
       "        </tr>\n",
       "        <tr>\n",
       "            <td>Clocks</td>\n",
       "        </tr>\n",
       "        <tr>\n",
       "            <td>Clocks...</td>\n",
       "        </tr>\n",
       "        <tr>\n",
       "            <td>Clocks / Chime Trance Remixes</td>\n",
       "        </tr>\n",
       "        <tr>\n",
       "            <td>Clocks (Cosmos Rmx)</td>\n",
       "        </tr>\n",
       "        <tr>\n",
       "            <td>Clocks (Dean Coleman Remix)</td>\n",
       "        </tr>\n",
       "        <tr>\n",
       "            <td>Clocks (Planet Rockers Remixes)</td>\n",
       "        </tr>\n",
       "        <tr>\n",
       "            <td>Clocks (Remix)</td>\n",
       "        </tr>\n",
       "        <tr>\n",
       "            <td>Fix You</td>\n",
       "        </tr>\n",
       "        <tr>\n",
       "            <td>Flesh / Don&#x27;t Need No Trouble</td>\n",
       "        </tr>\n",
       "        <tr>\n",
       "            <td>God</td>\n",
       "        </tr>\n",
       "        <tr>\n",
       "            <td>God Put A Smile Upon Your Face (Remixes)</td>\n",
       "        </tr>\n",
       "        <tr>\n",
       "            <td>In My Place</td>\n",
       "        </tr>\n",
       "        <tr>\n",
       "            <td>Murder Was The Bass / Clocks</td>\n",
       "        </tr>\n",
       "        <tr>\n",
       "            <td>One I Love</td>\n",
       "        </tr>\n",
       "        <tr>\n",
       "            <td>Parachutes</td>\n",
       "        </tr>\n",
       "        <tr>\n",
       "            <td>Remixes</td>\n",
       "        </tr>\n",
       "        <tr>\n",
       "            <td>Safety E.P.</td>\n",
       "        </tr>\n",
       "        <tr>\n",
       "            <td>Speed Of Sound</td>\n",
       "        </tr>\n",
       "        <tr>\n",
       "            <td>Speed Of Sound (2005 House Remixes)</td>\n",
       "        </tr>\n",
       "        <tr>\n",
       "            <td>Speed Of Sound (Karl G Remix)</td>\n",
       "        </tr>\n",
       "        <tr>\n",
       "            <td>Talk</td>\n",
       "        </tr>\n",
       "        <tr>\n",
       "            <td>Talk (Remixes)</td>\n",
       "        </tr>\n",
       "        <tr>\n",
       "            <td>Talk (Spencer Collective Mixes)</td>\n",
       "        </tr>\n",
       "        <tr>\n",
       "            <td>Talk - The Remixes</td>\n",
       "        </tr>\n",
       "        <tr>\n",
       "            <td>Talk (Thin White Duke Remix)</td>\n",
       "        </tr>\n",
       "        <tr>\n",
       "            <td>The Blue Room E.P.</td>\n",
       "        </tr>\n",
       "        <tr>\n",
       "            <td>The Metric System EP</td>\n",
       "        </tr>\n",
       "        <tr>\n",
       "            <td>The Scientist</td>\n",
       "        </tr>\n",
       "        <tr>\n",
       "            <td>Time</td>\n",
       "        </tr>\n",
       "        <tr>\n",
       "            <td>Trouble</td>\n",
       "        </tr>\n",
       "        <tr>\n",
       "            <td>Trouble / Clocks</td>\n",
       "        </tr>\n",
       "        <tr>\n",
       "            <td>Trouble In Paradise</td>\n",
       "        </tr>\n",
       "        <tr>\n",
       "            <td>Trouble - Norwegian Live EP</td>\n",
       "        </tr>\n",
       "        <tr>\n",
       "            <td>X&amp;Y</td>\n",
       "        </tr>\n",
       "        <tr>\n",
       "            <td>X&amp;Y (Special Dutch Edition)</td>\n",
       "        </tr>\n",
       "        <tr>\n",
       "            <td>Yellow</td>\n",
       "        </tr>\n",
       "    </tbody>\n",
       "</table>"
      ],
      "text/plain": [
       "[('Acoustic',),\n",
       " ('A Rush Of Blood To The Head',),\n",
       " ('Boot Of Sound',),\n",
       " ('Brothers & Sisters',),\n",
       " ('Clocks',),\n",
       " ('Clocks...',),\n",
       " ('Clocks / Chime Trance Remixes',),\n",
       " ('Clocks (Cosmos Rmx)',),\n",
       " ('Clocks (Dean Coleman Remix)',),\n",
       " ('Clocks (Planet Rockers Remixes)',),\n",
       " ('Clocks (Remix)',),\n",
       " ('Fix You',),\n",
       " (\"Flesh / Don't Need No Trouble\",),\n",
       " ('God',),\n",
       " ('God Put A Smile Upon Your Face (Remixes)',),\n",
       " ('In My Place',),\n",
       " ('Murder Was The Bass / Clocks',),\n",
       " ('One I Love',),\n",
       " ('Parachutes',),\n",
       " ('Remixes',),\n",
       " ('Safety E.P.',),\n",
       " ('Speed Of Sound',),\n",
       " ('Speed Of Sound (2005 House Remixes)',),\n",
       " ('Speed Of Sound (Karl G Remix)',),\n",
       " ('Talk',),\n",
       " ('Talk (Remixes)',),\n",
       " ('Talk (Spencer Collective Mixes)',),\n",
       " ('Talk - The Remixes',),\n",
       " ('Talk (Thin White Duke Remix)',),\n",
       " ('The Blue Room E.P.',),\n",
       " ('The Metric System EP',),\n",
       " ('The Scientist',),\n",
       " ('Time',),\n",
       " ('Trouble',),\n",
       " ('Trouble / Clocks',),\n",
       " ('Trouble In Paradise',),\n",
       " ('Trouble - Norwegian Live EP',),\n",
       " ('X&Y',),\n",
       " ('X&Y (Special Dutch Edition)',),\n",
       " ('Yellow',)]"
      ]
     },
     "execution_count": 16,
     "metadata": {},
     "output_type": "execute_result"
    }
   ],
   "source": [
    "%%sql\n",
    "SELECT DISTINCT r.title\n",
    "FROM artists a\n",
    "JOIN released_by rb USING(artist_id)\n",
    "JOIN releases r USING(release_id)\n",
    "WHERE a.name = 'Coldplay'\n",
    "ORDER BY r.title;"
   ]
  },
  {
   "cell_type": "markdown",
   "metadata": {},
   "source": [
    "#### 10. How many tracks from 'Coldplay' have position '1'?"
   ]
  },
  {
   "cell_type": "code",
   "execution_count": 17,
   "metadata": {},
   "outputs": [
    {
     "name": "stdout",
     "output_type": "stream",
     "text": [
      " * postgresql://postgres:***@db:5432/postgres\n",
      "1 rows affected.\n"
     ]
    },
    {
     "data": {
      "text/html": [
       "<table>\n",
       "    <thead>\n",
       "        <tr>\n",
       "            <th>count</th>\n",
       "        </tr>\n",
       "    </thead>\n",
       "    <tbody>\n",
       "        <tr>\n",
       "            <td>32</td>\n",
       "        </tr>\n",
       "    </tbody>\n",
       "</table>"
      ],
      "text/plain": [
       "[(32,)]"
      ]
     },
     "execution_count": 17,
     "metadata": {},
     "output_type": "execute_result"
    }
   ],
   "source": [
    "%%sql\n",
    "SELECT COUNT(t.track_id)\n",
    "FROM artists a\n",
    "JOIN released_by rb USING(artist_id)\n",
    "JOIN releases r USING(release_id)\n",
    "JOIN tracks t USING(release_id)\n",
    "WHERE a.name = 'Coldplay' AND t.position = '1';"
   ]
  },
  {
   "cell_type": "markdown",
   "metadata": {},
   "source": [
    "#### 11. List the titles of all releases by Coldplay that contain less than 2 tracks."
   ]
  },
  {
   "cell_type": "code",
   "execution_count": 18,
   "metadata": {},
   "outputs": [
    {
     "name": "stdout",
     "output_type": "stream",
     "text": [
      " * postgresql://postgres:***@db:5432/postgres\n",
      "14 rows affected.\n"
     ]
    },
    {
     "data": {
      "text/html": [
       "<table>\n",
       "    <thead>\n",
       "        <tr>\n",
       "            <th>title</th>\n",
       "        </tr>\n",
       "    </thead>\n",
       "    <tbody>\n",
       "        <tr>\n",
       "            <td>Boot Of Sound</td>\n",
       "        </tr>\n",
       "        <tr>\n",
       "            <td>Clocks</td>\n",
       "        </tr>\n",
       "        <tr>\n",
       "            <td>Clocks (Cosmos Rmx)</td>\n",
       "        </tr>\n",
       "        <tr>\n",
       "            <td>Clocks (Dean Coleman Remix)</td>\n",
       "        </tr>\n",
       "        <tr>\n",
       "            <td>Clocks (Remix)</td>\n",
       "        </tr>\n",
       "        <tr>\n",
       "            <td>God</td>\n",
       "        </tr>\n",
       "        <tr>\n",
       "            <td>In My Place</td>\n",
       "        </tr>\n",
       "        <tr>\n",
       "            <td>One I Love</td>\n",
       "        </tr>\n",
       "        <tr>\n",
       "            <td>Speed Of Sound (Karl G Remix)</td>\n",
       "        </tr>\n",
       "        <tr>\n",
       "            <td>Talk</td>\n",
       "        </tr>\n",
       "        <tr>\n",
       "            <td>Talk (Thin White Duke Remix)</td>\n",
       "        </tr>\n",
       "        <tr>\n",
       "            <td>Time</td>\n",
       "        </tr>\n",
       "        <tr>\n",
       "            <td>Trouble</td>\n",
       "        </tr>\n",
       "        <tr>\n",
       "            <td>Trouble In Paradise</td>\n",
       "        </tr>\n",
       "    </tbody>\n",
       "</table>"
      ],
      "text/plain": [
       "[('Boot Of Sound',),\n",
       " ('Clocks',),\n",
       " ('Clocks (Cosmos Rmx)',),\n",
       " ('Clocks (Dean Coleman Remix)',),\n",
       " ('Clocks (Remix)',),\n",
       " ('God',),\n",
       " ('In My Place',),\n",
       " ('One I Love',),\n",
       " ('Speed Of Sound (Karl G Remix)',),\n",
       " ('Talk',),\n",
       " ('Talk (Thin White Duke Remix)',),\n",
       " ('Time',),\n",
       " ('Trouble',),\n",
       " ('Trouble In Paradise',)]"
      ]
     },
     "execution_count": 18,
     "metadata": {},
     "output_type": "execute_result"
    }
   ],
   "source": [
    "%%sql\n",
    "SELECT DISTINCT r.title \n",
    "FROM artists a\n",
    "JOIN released_by USING(artist_id)\n",
    "JOIN releases r USING(release_id) \n",
    "JOIN tracks t USING(release_id)\n",
    "WHERE a.name = 'Coldplay'\n",
    "GROUP BY r.release_id, r.title\n",
    "HAVING COUNT(*) < 2;"
   ]
  },
  {
   "cell_type": "markdown",
   "metadata": {},
   "source": [
    "#### 12. What is the average track duration?"
   ]
  },
  {
   "cell_type": "code",
   "execution_count": 19,
   "metadata": {},
   "outputs": [
    {
     "name": "stdout",
     "output_type": "stream",
     "text": [
      " * postgresql://postgres:***@db:5432/postgres\n",
      "1 rows affected.\n"
     ]
    },
    {
     "data": {
      "text/html": [
       "<table>\n",
       "    <thead>\n",
       "        <tr>\n",
       "            <th>avg</th>\n",
       "        </tr>\n",
       "    </thead>\n",
       "    <tbody>\n",
       "        <tr>\n",
       "            <td>325.0749298696787647</td>\n",
       "        </tr>\n",
       "    </tbody>\n",
       "</table>"
      ],
      "text/plain": [
       "[(Decimal('325.0749298696787647'),)]"
      ]
     },
     "execution_count": 19,
     "metadata": {},
     "output_type": "execute_result"
    }
   ],
   "source": [
    "%%sql\n",
    "SELECT AVG(duration) FROM tracks;"
   ]
  },
  {
   "cell_type": "markdown",
   "metadata": {},
   "source": [
    "#### 13. How many artists have released tracks longer than twice the average?"
   ]
  },
  {
   "cell_type": "code",
   "execution_count": 20,
   "metadata": {},
   "outputs": [
    {
     "name": "stdout",
     "output_type": "stream",
     "text": [
      " * postgresql://postgres:***@db:5432/postgres\n",
      "1 rows affected.\n"
     ]
    },
    {
     "data": {
      "text/html": [
       "<table>\n",
       "    <thead>\n",
       "        <tr>\n",
       "            <th>count</th>\n",
       "        </tr>\n",
       "    </thead>\n",
       "    <tbody>\n",
       "        <tr>\n",
       "            <td>6386</td>\n",
       "        </tr>\n",
       "    </tbody>\n",
       "</table>"
      ],
      "text/plain": [
       "[(6386,)]"
      ]
     },
     "execution_count": 20,
     "metadata": {},
     "output_type": "execute_result"
    }
   ],
   "source": [
    "%%sql\n",
    "SELECT COUNT(DISTINCT rb.artist_id)\n",
    "FROM tracks t\n",
    "JOIN releases r USING(release_id)\n",
    "JOIN released_by rb USING(release_id)\n",
    "where t.duration > 2*(SELECT AVG(duration) FROM tracks)"
   ]
  },
  {
   "cell_type": "markdown",
   "metadata": {},
   "source": [
    "## Exercise 3: more SQL\n",
    "We will now see more complex SQL queries.\n",
    "\n",
    "<b>Practical tips:</b>\n",
    "\n",
    "When writing complex queries, you might want to split them into smaller parts by using <b>Common Table Expressions</b> (CTEs). A CTE is a named temporary result set that you can reference within statements (SELECT, INSERT, UPDATE, ... ). You can find more about CTEs at: https://www.postgresql.org/docs/current/queries-with.html\n",
    "\n",
    "The following is an example of a query using two CTEs:"
   ]
  },
  {
   "cell_type": "code",
   "execution_count": null,
   "metadata": {},
   "outputs": [],
   "source": [
    "%%sql\n",
    "WITH countries AS (\n",
    "    SELECT DISTINCT country FROM releases\n",
    "),\n",
    "genres AS (\n",
    "    SELECT DISTINCT genre FROM releases\n",
    ")\n",
    "SELECT c.country as column1, g.genre as column2\n",
    "FROM countries c, genres g\n",
    "LIMIT 5;"
   ]
  },
  {
   "cell_type": "markdown",
   "metadata": {},
   "source": [
    "In some exercises, you might also want to use <b>subqueries</b>. A subquery is a nested query, usually with the purpose of retrieving data that will be used in in the outer query. For instance, subqueries can appear in WHERE, FROM and SELECT clauses.\n",
    "\n",
    "The following is an example of a query than includes a subquery:"
   ]
  },
  {
   "cell_type": "code",
   "execution_count": null,
   "metadata": {},
   "outputs": [],
   "source": [
    "%%sql\n",
    "SELECT release_id as column1 FROM (\n",
    "    SELECT release_id, title, COUNT(*) FROM tracks\n",
    "    GROUP BY release_id, title\n",
    "    HAVING COUNT(*) > 1\n",
    ") sub\n",
    "LIMIT 5;"
   ]
  },
  {
   "cell_type": "markdown",
   "metadata": {},
   "source": [
    "#### 1. What is the title of the album from 'Coldplay' with the most amount of tracks?"
   ]
  },
  {
   "cell_type": "code",
   "execution_count": 23,
   "metadata": {},
   "outputs": [
    {
     "name": "stdout",
     "output_type": "stream",
     "text": [
      " * postgresql://postgres:***@db:5432/postgres\n",
      "1 rows affected.\n"
     ]
    },
    {
     "data": {
      "text/html": [
       "<table>\n",
       "    <thead>\n",
       "        <tr>\n",
       "            <th>album</th>\n",
       "            <th>tracks</th>\n",
       "        </tr>\n",
       "    </thead>\n",
       "    <tbody>\n",
       "        <tr>\n",
       "            <td>X&amp;Y (Special Dutch Edition)</td>\n",
       "            <td>19</td>\n",
       "        </tr>\n",
       "    </tbody>\n",
       "</table>"
      ],
      "text/plain": [
       "[('X&Y (Special Dutch Edition)', 19)]"
      ]
     },
     "execution_count": 23,
     "metadata": {},
     "output_type": "execute_result"
    }
   ],
   "source": [
    "%%sql\n",
    "WITH tracks_per_album AS(\n",
    "    SELECT r.title AS album, COUNT(t.track_id) AS tracks\n",
    "    FROM artists a\n",
    "    JOIN released_by rb USING(artist_id)   \n",
    "    JOIN releases r USING(release_id)\n",
    "    JOIN tracks t USING(release_id)\n",
    "    WHERE a.name = 'Coldplay'\n",
    "    GROUP BY r.release_id, r.title\n",
    ")\n",
    "\n",
    "SELECT album, tracks\n",
    "FROM tracks_per_album\n",
    "WHERE tracks = (SELECT MAX(tracks)\n",
    "                FROM tracks_per_album);"
   ]
  },
  {
   "cell_type": "markdown",
   "metadata": {},
   "source": [
    "alternatively,"
   ]
  },
  {
   "cell_type": "code",
   "execution_count": 24,
   "metadata": {},
   "outputs": [
    {
     "name": "stdout",
     "output_type": "stream",
     "text": [
      " * postgresql://postgres:***@db:5432/postgres\n",
      "1 rows affected.\n"
     ]
    },
    {
     "data": {
      "text/html": [
       "<table>\n",
       "    <thead>\n",
       "        <tr>\n",
       "            <th>album</th>\n",
       "            <th>tracks</th>\n",
       "        </tr>\n",
       "    </thead>\n",
       "    <tbody>\n",
       "        <tr>\n",
       "            <td>X&amp;Y (Special Dutch Edition)</td>\n",
       "            <td>19</td>\n",
       "        </tr>\n",
       "    </tbody>\n",
       "</table>"
      ],
      "text/plain": [
       "[('X&Y (Special Dutch Edition)', 19)]"
      ]
     },
     "execution_count": 24,
     "metadata": {},
     "output_type": "execute_result"
    }
   ],
   "source": [
    "%%sql\n",
    "SELECT r.title AS album, COUNT(t.track_id) AS tracks\n",
    "FROM artists a\n",
    "JOIN released_by rb USING(artist_id)   \n",
    "JOIN releases r USING(release_id)\n",
    "JOIN tracks t USING(release_id)\n",
    "WHERE a.name = 'Coldplay' \n",
    "GROUP BY r.release_id, r.title\n",
    "ORDER BY COUNT(t.track_id) DESC\n",
    "LIMIT 1;"
   ]
  },
  {
   "cell_type": "markdown",
   "metadata": {},
   "source": [
    "#### 2. What is the name of the first artist in alphabetical order with releases in the most genres. Please make sure to exclude \"Various Artists\"."
   ]
  },
  {
   "cell_type": "code",
   "execution_count": 25,
   "metadata": {},
   "outputs": [
    {
     "name": "stdout",
     "output_type": "stream",
     "text": [
      " * postgresql://postgres:***@db:5432/postgres\n",
      "1 rows affected.\n"
     ]
    },
    {
     "data": {
      "text/html": [
       "<table>\n",
       "    <thead>\n",
       "        <tr>\n",
       "            <th>name</th>\n",
       "        </tr>\n",
       "    </thead>\n",
       "    <tbody>\n",
       "        <tr>\n",
       "            <td>Diana Ross</td>\n",
       "        </tr>\n",
       "    </tbody>\n",
       "</table>"
      ],
      "text/plain": [
       "[('Diana Ross',)]"
      ]
     },
     "execution_count": 25,
     "metadata": {},
     "output_type": "execute_result"
    }
   ],
   "source": [
    "%%sql\n",
    "WITH artist_genre AS (\n",
    "    SELECT COUNT(DISTINCT r.genre) AS c1, a.artist_id, a.name\n",
    "    FROM artists a\n",
    "    JOIN released_by rb USING(artist_id)\n",
    "    JOIN releases r USING(release_id)\n",
    "    GROUP BY a.artist_id\n",
    "    ORDER BY c1 DESC, a.name ASC\n",
    "),\n",
    "artist_genre_cleaned AS (\n",
    "    SELECT name\n",
    "    FROM artist_genre\n",
    "    WHERE name != 'Various Artists'\n",
    ")\n",
    "SELECT *\n",
    "FROM artist_genre_cleaned\n",
    "LIMIT 1;"
   ]
  },
  {
   "cell_type": "markdown",
   "metadata": {},
   "source": [
    "#### 3. In what year did they (the artist from the previous question) release their first album?"
   ]
  },
  {
   "cell_type": "code",
   "execution_count": 26,
   "metadata": {},
   "outputs": [
    {
     "name": "stdout",
     "output_type": "stream",
     "text": [
      " * postgresql://postgres:***@db:5432/postgres\n",
      "1 rows affected.\n"
     ]
    },
    {
     "data": {
      "text/html": [
       "<table>\n",
       "    <thead>\n",
       "        <tr>\n",
       "            <th>year</th>\n",
       "        </tr>\n",
       "    </thead>\n",
       "    <tbody>\n",
       "        <tr>\n",
       "            <td>1967</td>\n",
       "        </tr>\n",
       "    </tbody>\n",
       "</table>"
      ],
      "text/plain": [
       "[(Decimal('1967'),)]"
      ]
     },
     "execution_count": 26,
     "metadata": {},
     "output_type": "execute_result"
    }
   ],
   "source": [
    "%%sql\n",
    "WITH artist_genre AS (\n",
    "    SELECT COUNT(DISTINCT r.genre) AS c1, a.artist_id, a.name\n",
    "    FROM artists a\n",
    "    JOIN released_by rb USING(artist_id)\n",
    "    JOIN releases r USING(release_id)\n",
    "    GROUP BY a.artist_id\n",
    "    ORDER BY c1 DESC, a.name ASC\n",
    "),\n",
    "artist_genre_cleaned AS (\n",
    "    SELECT name, artist_id\n",
    "    FROM artist_genre\n",
    "    WHERE name != 'Various Artists'\n",
    "    LIMIT 1\n",
    ")\n",
    "SELECT EXTRACT(YEAR FROM released) AS year\n",
    "FROM artist_genre_cleaned\n",
    "JOIN released_by USING(artist_id)\n",
    "JOIN releases USING(release_id)\n",
    "ORDER BY year\n",
    "LIMIT 1;"
   ]
  },
  {
   "cell_type": "markdown",
   "metadata": {},
   "source": [
    "alternatively,"
   ]
  },
  {
   "cell_type": "code",
   "execution_count": 27,
   "metadata": {},
   "outputs": [
    {
     "name": "stdout",
     "output_type": "stream",
     "text": [
      " * postgresql://postgres:***@db:5432/postgres\n",
      "1 rows affected.\n"
     ]
    },
    {
     "data": {
      "text/html": [
       "<table>\n",
       "    <thead>\n",
       "        <tr>\n",
       "            <th>released</th>\n",
       "        </tr>\n",
       "    </thead>\n",
       "    <tbody>\n",
       "        <tr>\n",
       "            <td>1967-01-01</td>\n",
       "        </tr>\n",
       "    </tbody>\n",
       "</table>"
      ],
      "text/plain": [
       "[(datetime.date(1967, 1, 1),)]"
      ]
     },
     "execution_count": 27,
     "metadata": {},
     "output_type": "execute_result"
    }
   ],
   "source": [
    "%%sql\n",
    "SELECT r.released\n",
    "FROM releases r\n",
    "JOIN released_by rb USING(release_id)\n",
    "JOIN artists a USING(artist_id)\n",
    "WHERE a.name = 'Diana Ross'\n",
    "ORDER BY r.released ASC\n",
    "LIMIT 1"
   ]
  },
  {
   "cell_type": "markdown",
   "metadata": {},
   "source": [
    "#### 4. How many artists have released an album with total track duration above twice the average total track duration?\n",
    "\n",
    "<b>Hint</b>: this is not the same as exercise 2.13 since we are lookong at the <b>total</b> track duration of the album."
   ]
  },
  {
   "cell_type": "code",
   "execution_count": 28,
   "metadata": {},
   "outputs": [
    {
     "name": "stdout",
     "output_type": "stream",
     "text": [
      " * postgresql://postgres:***@db:5432/postgres\n",
      "1 rows affected.\n"
     ]
    },
    {
     "data": {
      "text/html": [
       "<table>\n",
       "    <thead>\n",
       "        <tr>\n",
       "            <th>count</th>\n",
       "        </tr>\n",
       "    </thead>\n",
       "    <tbody>\n",
       "        <tr>\n",
       "            <td>3388</td>\n",
       "        </tr>\n",
       "    </tbody>\n",
       "</table>"
      ],
      "text/plain": [
       "[(3388,)]"
      ]
     },
     "execution_count": 28,
     "metadata": {},
     "output_type": "execute_result"
    }
   ],
   "source": [
    "%%sql\n",
    "WITH total_duration AS (\n",
    "    SELECT release_id, SUM(duration) AS total_duration\n",
    "    FROM tracks\n",
    "    GROUP BY release_id\n",
    "),\n",
    "average_duration AS (\n",
    "    SELECT AVG(total_duration) as avg_duration\n",
    "    FROM total_duration\n",
    ")\n",
    "\n",
    "SELECT COUNT(DISTINCT(rb.artist_id))\n",
    "FROM released_by rb\n",
    "JOIN total_duration t USING(release_id)\n",
    "WHERE t.total_duration > 2*(SELECT avg_duration FROM average_duration);"
   ]
  },
  {
   "cell_type": "markdown",
   "metadata": {},
   "source": [
    "#### 5. How many artists have both a release with a track longer than twice the average and one with total duration longer than twice the average?\n",
    "\n",
    "<b>Hint</b>: you can use `INTERSECT` or `EXISTS` to write your query."
   ]
  },
  {
   "cell_type": "code",
   "execution_count": 29,
   "metadata": {},
   "outputs": [
    {
     "name": "stdout",
     "output_type": "stream",
     "text": [
      " * postgresql://postgres:***@db:5432/postgres\n",
      "1 rows affected.\n"
     ]
    },
    {
     "data": {
      "text/html": [
       "<table>\n",
       "    <thead>\n",
       "        <tr>\n",
       "            <th>count</th>\n",
       "        </tr>\n",
       "    </thead>\n",
       "    <tbody>\n",
       "        <tr>\n",
       "            <td>1870</td>\n",
       "        </tr>\n",
       "    </tbody>\n",
       "</table>"
      ],
      "text/plain": [
       "[(1870,)]"
      ]
     },
     "execution_count": 29,
     "metadata": {},
     "output_type": "execute_result"
    }
   ],
   "source": [
    "%%sql\n",
    "WITH total_duration AS (\n",
    "    SELECT release_id, SUM(duration) AS duration\n",
    "    FROM tracks\n",
    "    GROUP BY release_id\n",
    "),\n",
    "average AS (\n",
    "    SELECT AVG(duration) AS avg_duration\n",
    "    FROM total_duration\n",
    "),\n",
    "average_duration AS (\n",
    "    SELECT AVG(CAST(duration AS FLOAT)) AS avg_track_duration\n",
    "    FROM tracks\n",
    "),\n",
    "artist_intersection AS (\n",
    "    SELECT artist_id\n",
    "    FROM artists a\n",
    "    JOIN released_by rb USING(artist_id)\n",
    "    JOIN releases r USING(release_id)\n",
    "    JOIN total_duration td USING(release_id)\n",
    "    WHERE td.duration > 2*(SELECT avg_duration FROM average)\n",
    "    INTERSECT\n",
    "    SELECT artist_id\n",
    "    FROM artists a\n",
    "    JOIN released_by rb USING(artist_id)\n",
    "    JOIN releases r USING(release_id)\n",
    "    JOIN tracks t USING(release_id)\n",
    "    WHERE t.duration > 2*(SELECT avg_track_duration FROM average_duration)\n",
    ")\n",
    "\n",
    "SELECT COUNT(*)\n",
    "FROM artist_intersection;"
   ]
  },
  {
   "cell_type": "markdown",
   "metadata": {},
   "source": [
    "alternatively,"
   ]
  },
  {
   "cell_type": "code",
   "execution_count": 30,
   "metadata": {},
   "outputs": [
    {
     "name": "stdout",
     "output_type": "stream",
     "text": [
      " * postgresql://postgres:***@db:5432/postgres\n",
      "1 rows affected.\n"
     ]
    },
    {
     "data": {
      "text/html": [
       "<table>\n",
       "    <thead>\n",
       "        <tr>\n",
       "            <th>count</th>\n",
       "        </tr>\n",
       "    </thead>\n",
       "    <tbody>\n",
       "        <tr>\n",
       "            <td>1870</td>\n",
       "        </tr>\n",
       "    </tbody>\n",
       "</table>"
      ],
      "text/plain": [
       "[(1870,)]"
      ]
     },
     "execution_count": 30,
     "metadata": {},
     "output_type": "execute_result"
    }
   ],
   "source": [
    "%%sql\n",
    "WITH total_duration AS (\n",
    "    SELECT release_id, SUM(duration) as duration\n",
    "    FROM tracks\n",
    "    GROUP BY release_id\n",
    "),\n",
    "total_average_duration AS (\n",
    "    SELECT AVG(duration) as avg_duration\n",
    "    FROM total_duration\n",
    "),\n",
    "-- IDs of artists that have 1 track > twice the total average\n",
    "artists_total_avg AS (\n",
    "    SELECT DISTINCT b.artist_id\n",
    "    FROM released_by b\n",
    "    INNER JOIN total_duration t USING(release_id)\n",
    "    WHERE duration > 2 * (SELECT avg_duration FROM total_average_duration)\n",
    "),\n",
    "-- IDs of artists that have 1 track > the normal average\n",
    "artists_avg AS (\n",
    "    SELECT DISTINCT rb.artist_id FROM tracks t\n",
    "    INNER JOIN releases r USING(release_id)\n",
    "    INNER JOIN released_by rb USING(release_id)\n",
    "    WHERE t.duration > 2 * (SELECT AVG(duration) FROM tracks)\n",
    ")\n",
    "-- Count the intersection (remember that intersect applies to everything in the select)\n",
    "SELECT COUNT(*)\n",
    "FROM (\n",
    "    SELECT artist_id\n",
    "    FROM artists_total_avg\n",
    "    INTERSECT\n",
    "    SELECT artist_id\n",
    "    FROM artists_avg\n",
    ")"
   ]
  },
  {
   "cell_type": "markdown",
   "metadata": {},
   "source": [
    "#### 6. Show the artists have more than 200 releases in total but have no releases with the genre 'Pop' in reversed alphabetical order."
   ]
  },
  {
   "cell_type": "code",
   "execution_count": 31,
   "metadata": {},
   "outputs": [
    {
     "name": "stdout",
     "output_type": "stream",
     "text": [
      " * postgresql://postgres:***@db:5432/postgres\n",
      "11 rows affected.\n"
     ]
    },
    {
     "data": {
      "text/html": [
       "<table>\n",
       "    <thead>\n",
       "        <tr>\n",
       "            <th>name</th>\n",
       "        </tr>\n",
       "    </thead>\n",
       "    <tbody>\n",
       "        <tr>\n",
       "            <td>Underworld</td>\n",
       "        </tr>\n",
       "        <tr>\n",
       "            <td>The Shamen</td>\n",
       "        </tr>\n",
       "        <tr>\n",
       "            <td>The Art Of Noise</td>\n",
       "        </tr>\n",
       "        <tr>\n",
       "            <td>Technotronic</td>\n",
       "        </tr>\n",
       "        <tr>\n",
       "            <td>Tangerine Dream</td>\n",
       "        </tr>\n",
       "        <tr>\n",
       "            <td>Pet Shop Boys</td>\n",
       "        </tr>\n",
       "        <tr>\n",
       "            <td>Orbital</td>\n",
       "        </tr>\n",
       "        <tr>\n",
       "            <td>Kool &amp; The Gang</td>\n",
       "        </tr>\n",
       "        <tr>\n",
       "            <td>Faithless</td>\n",
       "        </tr>\n",
       "        <tr>\n",
       "            <td>Beastie Boys</td>\n",
       "        </tr>\n",
       "        <tr>\n",
       "            <td>ATB</td>\n",
       "        </tr>\n",
       "    </tbody>\n",
       "</table>"
      ],
      "text/plain": [
       "[('Underworld',),\n",
       " ('The Shamen',),\n",
       " ('The Art Of Noise',),\n",
       " ('Technotronic',),\n",
       " ('Tangerine Dream',),\n",
       " ('Pet Shop Boys',),\n",
       " ('Orbital',),\n",
       " ('Kool & The Gang',),\n",
       " ('Faithless',),\n",
       " ('Beastie Boys',),\n",
       " ('ATB',)]"
      ]
     },
     "execution_count": 31,
     "metadata": {},
     "output_type": "execute_result"
    }
   ],
   "source": [
    "%%sql\n",
    "WITH big_guys AS (\n",
    "    SELECT artist_id, name, COUNT(release_id) AS c\n",
    "    FROM artists\n",
    "    NATURAL JOIN released_by\n",
    "    NATURAL JOIN releases\n",
    "    GROUP BY artist_id, name\n",
    "    HAVING COUNT(release_id) > 200\n",
    ")\n",
    "\n",
    "SELECT name\n",
    "FROM big_guys\n",
    "WHERE artist_id NOT IN (\n",
    "    SELECT artist_id\n",
    "    FROM artists b\n",
    "    NATURAL JOIN released_by\n",
    "    NATURAL JOIN releases\n",
    "    WHERE genre = 'Pop'\n",
    ")\n",
    "ORDER BY name DESC;"
   ]
  },
  {
   "cell_type": "markdown",
   "metadata": {},
   "source": [
    "alternatively,"
   ]
  },
  {
   "cell_type": "code",
   "execution_count": 32,
   "metadata": {},
   "outputs": [
    {
     "name": "stdout",
     "output_type": "stream",
     "text": [
      " * postgresql://postgres:***@db:5432/postgres\n",
      "11 rows affected.\n"
     ]
    },
    {
     "data": {
      "text/html": [
       "<table>\n",
       "    <thead>\n",
       "        <tr>\n",
       "            <th>name</th>\n",
       "        </tr>\n",
       "    </thead>\n",
       "    <tbody>\n",
       "        <tr>\n",
       "            <td>Underworld</td>\n",
       "        </tr>\n",
       "        <tr>\n",
       "            <td>The Shamen</td>\n",
       "        </tr>\n",
       "        <tr>\n",
       "            <td>The Art Of Noise</td>\n",
       "        </tr>\n",
       "        <tr>\n",
       "            <td>Technotronic</td>\n",
       "        </tr>\n",
       "        <tr>\n",
       "            <td>Tangerine Dream</td>\n",
       "        </tr>\n",
       "        <tr>\n",
       "            <td>Pet Shop Boys</td>\n",
       "        </tr>\n",
       "        <tr>\n",
       "            <td>Orbital</td>\n",
       "        </tr>\n",
       "        <tr>\n",
       "            <td>Kool &amp; The Gang</td>\n",
       "        </tr>\n",
       "        <tr>\n",
       "            <td>Faithless</td>\n",
       "        </tr>\n",
       "        <tr>\n",
       "            <td>Beastie Boys</td>\n",
       "        </tr>\n",
       "        <tr>\n",
       "            <td>ATB</td>\n",
       "        </tr>\n",
       "    </tbody>\n",
       "</table>"
      ],
      "text/plain": [
       "[('Underworld',),\n",
       " ('The Shamen',),\n",
       " ('The Art Of Noise',),\n",
       " ('Technotronic',),\n",
       " ('Tangerine Dream',),\n",
       " ('Pet Shop Boys',),\n",
       " ('Orbital',),\n",
       " ('Kool & The Gang',),\n",
       " ('Faithless',),\n",
       " ('Beastie Boys',),\n",
       " ('ATB',)]"
      ]
     },
     "execution_count": 32,
     "metadata": {},
     "output_type": "execute_result"
    }
   ],
   "source": [
    "%%sql\n",
    "WITH pop_list AS (\n",
    "    SELECT DISTINCT rb.artist_id\n",
    "    FROM released_by rb\n",
    "    INNER JOIN releases r USING(release_id)\n",
    "    WHERE r.genre = 'Pop'\n",
    ")\n",
    "\n",
    "SELECT a.name\n",
    "FROM released_by rb\n",
    "INNER JOIN artists a USING(artist_id)\n",
    "WHERE rb.artist_id NOT IN (SELECT * FROM pop_list)\n",
    "GROUP BY rb.artist_id, a.name\n",
    "HAVING COUNT(rb.release_id) > 200\n",
    "ORDER BY a.name DESC;"
   ]
  },
  {
   "cell_type": "markdown",
   "metadata": {},
   "source": [
    "## Exercise 4: Discuss query patterns and language features of SQL\n",
    "1. What patterns did you use in many of the queries above? \n",
    "\n",
    "2. What is the usual pattern of an SQL query? Which operations happen pre-grouping and which ones post-grouping?\n",
    "\n",
    "3. What makes SQL a declarative language and what advantages does that have?\n",
    "\n",
    "4. What makes SQL a functional language and what advantages does that have?\n",
    "\n",
    "5. How would the denormalization we talked about previously simplify the queries?"
   ]
  },
  {
   "cell_type": "markdown",
   "metadata": {},
   "source": [
    "### Solution\n",
    "\n",
    "1. Most queries consist of the following basic operations. They will reoccur throughout the whole semester. Watch out for them!\n",
    "  * **Select**: select a subset of the rows/data records/items.\n",
    "  * **Project**: select a subset of the properties/ attributes/columns.\n",
    "  * **Join**: bring two datasets together based on a common attribute.\n",
    "  * **Group**: divide the items/ rows/records into groups and summarize each group with a single value.\n",
    "  * **Order**: order the items according to some criteria.\n",
    "\n",
    "2. The usual syntax of a SQL query is `SELECT, FROM, WHERE, GROUP BY, HAVING, ORDER BY, LIMIT, OFFSET`. Ignoring the last 3 that only influence how the result is presented, `FROM` and `WHERE` happen before the grouping and `HAVING` and `SELECT` after.\n",
    "  \n",
    "3. We only describe *what* we want, not how this should be computed. We *declare* what our intent is. This shifts the implementation effort from the programmer to the database system. The hope is that the system has more information at hand, such as data size, data distribution, information about the hardware, in order to choose the best way to compute the result. This results into efficient computation with little effort from the programmer.\n",
    "  \n",
    "4. SQL is functional because results of a query can be used as input of another query, either in form of tables or in form of scalars. This makes SQL expressive.\n",
    "\n",
    "5. If we denormalised the data and unify some of the tables, we no longer need to join them every time in order to get our results."
   ]
  },
  {
   "cell_type": "markdown",
   "metadata": {},
   "source": [
    "## Exercise 5: Limits of SQL (optional)\n",
    "Explain what the following query does.\n",
    "<b>Hints</b>: The query treats the data as if it was in graph shape."
   ]
  },
  {
   "cell_type": "code",
   "execution_count": 33,
   "metadata": {},
   "outputs": [
    {
     "name": "stdout",
     "output_type": "stream",
     "text": [
      " * postgresql://postgres:***@db:5432/postgres\n",
      "23 rows affected.\n"
     ]
    },
    {
     "data": {
      "text/html": [
       "<table>\n",
       "    <thead>\n",
       "        <tr>\n",
       "            <th>left_id</th>\n",
       "            <th>left_name</th>\n",
       "            <th>right_id</th>\n",
       "            <th>right_name</th>\n",
       "            <th>distance</th>\n",
       "        </tr>\n",
       "    </thead>\n",
       "    <tbody>\n",
       "        <tr>\n",
       "            <td>29735</td>\n",
       "            <td>Coldplay</td>\n",
       "            <td>1654</td>\n",
       "            <td>DK</td>\n",
       "            <td>1</td>\n",
       "        </tr>\n",
       "        <tr>\n",
       "            <td>29735</td>\n",
       "            <td>Coldplay</td>\n",
       "            <td>392179</td>\n",
       "            <td>G Synth</td>\n",
       "            <td>1</td>\n",
       "        </tr>\n",
       "        <tr>\n",
       "            <td>29735</td>\n",
       "            <td>Coldplay</td>\n",
       "            <td>10916</td>\n",
       "            <td>Jan Johnston</td>\n",
       "            <td>1</td>\n",
       "        </tr>\n",
       "        <tr>\n",
       "            <td>29735</td>\n",
       "            <td>Coldplay</td>\n",
       "            <td>1279</td>\n",
       "            <td>Orbital</td>\n",
       "            <td>1</td>\n",
       "        </tr>\n",
       "        <tr>\n",
       "            <td>29735</td>\n",
       "            <td>Coldplay</td>\n",
       "            <td>10785</td>\n",
       "            <td>Angelo Badalamenti</td>\n",
       "            <td>2</td>\n",
       "        </tr>\n",
       "        <tr>\n",
       "            <td>29735</td>\n",
       "            <td>Coldplay</td>\n",
       "            <td>11101</td>\n",
       "            <td>Cosmic Gate</td>\n",
       "            <td>2</td>\n",
       "        </tr>\n",
       "        <tr>\n",
       "            <td>29735</td>\n",
       "            <td>Coldplay</td>\n",
       "            <td>7090</td>\n",
       "            <td>Freefall</td>\n",
       "            <td>2</td>\n",
       "        </tr>\n",
       "        <tr>\n",
       "            <td>29735</td>\n",
       "            <td>Coldplay</td>\n",
       "            <td>2604010</td>\n",
       "            <td>Jada (7)</td>\n",
       "            <td>2</td>\n",
       "        </tr>\n",
       "        <tr>\n",
       "            <td>29735</td>\n",
       "            <td>Coldplay</td>\n",
       "            <td>18836</td>\n",
       "            <td>Kirk Hammett</td>\n",
       "            <td>2</td>\n",
       "        </tr>\n",
       "        <tr>\n",
       "            <td>29735</td>\n",
       "            <td>Coldplay</td>\n",
       "            <td>11749</td>\n",
       "            <td>Knuckleheadz</td>\n",
       "            <td>2</td>\n",
       "        </tr>\n",
       "        <tr>\n",
       "            <td>29735</td>\n",
       "            <td>Coldplay</td>\n",
       "            <td>166466</td>\n",
       "            <td>Skip Raiders</td>\n",
       "            <td>2</td>\n",
       "        </tr>\n",
       "        <tr>\n",
       "            <td>29735</td>\n",
       "            <td>Coldplay</td>\n",
       "            <td>11101</td>\n",
       "            <td>Cosmic Gate</td>\n",
       "            <td>3</td>\n",
       "        </tr>\n",
       "        <tr>\n",
       "            <td>29735</td>\n",
       "            <td>Coldplay</td>\n",
       "            <td>29121</td>\n",
       "            <td>DJ Work!</td>\n",
       "            <td>3</td>\n",
       "        </tr>\n",
       "        <tr>\n",
       "            <td>29735</td>\n",
       "            <td>Coldplay</td>\n",
       "            <td>7090</td>\n",
       "            <td>Freefall</td>\n",
       "            <td>3</td>\n",
       "        </tr>\n",
       "        <tr>\n",
       "            <td>29735</td>\n",
       "            <td>Coldplay</td>\n",
       "            <td>2604010</td>\n",
       "            <td>Jada (7)</td>\n",
       "            <td>3</td>\n",
       "        </tr>\n",
       "        <tr>\n",
       "            <td>29735</td>\n",
       "            <td>Coldplay</td>\n",
       "            <td>10916</td>\n",
       "            <td>Jan Johnston</td>\n",
       "            <td>3</td>\n",
       "        </tr>\n",
       "        <tr>\n",
       "            <td>29735</td>\n",
       "            <td>Coldplay</td>\n",
       "            <td>5525</td>\n",
       "            <td>KGB</td>\n",
       "            <td>3</td>\n",
       "        </tr>\n",
       "        <tr>\n",
       "            <td>29735</td>\n",
       "            <td>Coldplay</td>\n",
       "            <td>223468</td>\n",
       "            <td>Mark N-R-G</td>\n",
       "            <td>3</td>\n",
       "        </tr>\n",
       "        <tr>\n",
       "            <td>29735</td>\n",
       "            <td>Coldplay</td>\n",
       "            <td>114414</td>\n",
       "            <td>Nemesis</td>\n",
       "            <td>3</td>\n",
       "        </tr>\n",
       "        <tr>\n",
       "            <td>29735</td>\n",
       "            <td>Coldplay</td>\n",
       "            <td>1279</td>\n",
       "            <td>Orbital</td>\n",
       "            <td>3</td>\n",
       "        </tr>\n",
       "        <tr>\n",
       "            <td>29735</td>\n",
       "            <td>Coldplay</td>\n",
       "            <td>166466</td>\n",
       "            <td>Skip Raiders</td>\n",
       "            <td>3</td>\n",
       "        </tr>\n",
       "        <tr>\n",
       "            <td>29735</td>\n",
       "            <td>Coldplay</td>\n",
       "            <td>11887</td>\n",
       "            <td>Talla 2XLC</td>\n",
       "            <td>3</td>\n",
       "        </tr>\n",
       "        <tr>\n",
       "            <td>29735</td>\n",
       "            <td>Coldplay</td>\n",
       "            <td>25501</td>\n",
       "            <td>Tillmann Uhrmacher</td>\n",
       "            <td>3</td>\n",
       "        </tr>\n",
       "    </tbody>\n",
       "</table>"
      ],
      "text/plain": [
       "[(29735, 'Coldplay', 1654, 'DK', 1),\n",
       " (29735, 'Coldplay', 392179, 'G Synth', 1),\n",
       " (29735, 'Coldplay', 10916, 'Jan Johnston', 1),\n",
       " (29735, 'Coldplay', 1279, 'Orbital', 1),\n",
       " (29735, 'Coldplay', 10785, 'Angelo Badalamenti', 2),\n",
       " (29735, 'Coldplay', 11101, 'Cosmic Gate', 2),\n",
       " (29735, 'Coldplay', 7090, 'Freefall', 2),\n",
       " (29735, 'Coldplay', 2604010, 'Jada (7)', 2),\n",
       " (29735, 'Coldplay', 18836, 'Kirk Hammett', 2),\n",
       " (29735, 'Coldplay', 11749, 'Knuckleheadz', 2),\n",
       " (29735, 'Coldplay', 166466, 'Skip Raiders', 2),\n",
       " (29735, 'Coldplay', 11101, 'Cosmic Gate', 3),\n",
       " (29735, 'Coldplay', 29121, 'DJ Work!', 3),\n",
       " (29735, 'Coldplay', 7090, 'Freefall', 3),\n",
       " (29735, 'Coldplay', 2604010, 'Jada (7)', 3),\n",
       " (29735, 'Coldplay', 10916, 'Jan Johnston', 3),\n",
       " (29735, 'Coldplay', 5525, 'KGB', 3),\n",
       " (29735, 'Coldplay', 223468, 'Mark N-R-G', 3),\n",
       " (29735, 'Coldplay', 114414, 'Nemesis', 3),\n",
       " (29735, 'Coldplay', 1279, 'Orbital', 3),\n",
       " (29735, 'Coldplay', 166466, 'Skip Raiders', 3),\n",
       " (29735, 'Coldplay', 11887, 'Talla 2XLC', 3),\n",
       " (29735, 'Coldplay', 25501, 'Tillmann Uhrmacher', 3)]"
      ]
     },
     "execution_count": 33,
     "metadata": {},
     "output_type": "execute_result"
    }
   ],
   "source": [
    "%%sql\n",
    "WITH RECURSIVE\n",
    "    X AS (SELECT 3 AS Value),\n",
    "    artist_releases AS (\n",
    "        SELECT artists.artist_id, artists.name, releases.release_id, releases.title\n",
    "        FROM artists, released_by, releases\n",
    "        WHERE artists.artist_id = released_by.artist_id\n",
    "        AND released_by.release_id = releases.release_id\n",
    "    ),\n",
    "    collaborations AS (\n",
    "        SELECT DISTINCT ar1.artist_id AS left_id, ar1.name AS left_name, \n",
    "                ar2.artist_id AS right_id, ar2.name AS right_name, 1 AS distance\n",
    "        FROM artist_releases AS ar1, artist_releases AS ar2\n",
    "        WHERE ar1.release_id = ar2.release_id\n",
    "        AND ar1.artist_id != ar2.artist_id\n",
    "    ),\n",
    "    X_hop_collaborations AS (\n",
    "        SELECT * FROM collaborations  -- base case\n",
    "        UNION\n",
    "        SELECT c1.left_id, c1.left_name, c2.right_id, c2.right_name, c1.distance + 1 AS distance\n",
    "        FROM X_hop_collaborations AS c1\n",
    "        JOIN collaborations c2 ON c1.right_id = c2.left_id\n",
    "        WHERE c1.distance < (SELECT * FROM X) AND c1.left_id != c2.right_id\n",
    "    )\n",
    "SELECT * \n",
    "FROM X_hop_collaborations\n",
    "WHERE left_name = 'Coldplay'\n",
    "ORDER BY distance, right_name;"
   ]
  },
  {
   "cell_type": "markdown",
   "metadata": {},
   "source": [
    "### Solution\n",
    "The query interprets the database as an undirected graph where *Artists* are nodes and edges exist between artists that have released an album together (i.e., collaborated). It then returns all of the artists which are at most `X` hops from a given artist in the graph. Even if the problem is simple when phrased with graph terminology, we can see that the query itself is quite complex: evidently, **SQL is not built for graph analysis!**. In the later weeks of the course, we will see tools that make graph analysis much more intuitive.\n",
    "\n",
    "To understand why the query does what it does, think about how we can find all artists exactly `X` hops from a given artist. Firstly, we need to be able to easily retrieve all *directly* collaborating artists, i.e., the set of edges:"
   ]
  },
  {
   "cell_type": "code",
   "execution_count": 34,
   "metadata": {},
   "outputs": [
    {
     "name": "stdout",
     "output_type": "stream",
     "text": [
      " * postgresql://postgres:***@db:5432/postgres\n",
      "10 rows affected.\n"
     ]
    },
    {
     "data": {
      "text/html": [
       "<table>\n",
       "    <thead>\n",
       "        <tr>\n",
       "            <th>left_id</th>\n",
       "            <th>left_name</th>\n",
       "            <th>right_id</th>\n",
       "            <th>right_name</th>\n",
       "            <th>distance</th>\n",
       "        </tr>\n",
       "    </thead>\n",
       "    <tbody>\n",
       "        <tr>\n",
       "            <td>7298</td>\n",
       "            <td>The Stone Roses</td>\n",
       "            <td>4097</td>\n",
       "            <td>Whodini</td>\n",
       "            <td>1</td>\n",
       "        </tr>\n",
       "        <tr>\n",
       "            <td>50051</td>\n",
       "            <td>Seven (2)</td>\n",
       "            <td>290</td>\n",
       "            <td>Hidden Agenda</td>\n",
       "            <td>1</td>\n",
       "        </tr>\n",
       "        <tr>\n",
       "            <td>106085</td>\n",
       "            <td>Arpeggio (2)</td>\n",
       "            <td>138075</td>\n",
       "            <td>Quartario</td>\n",
       "            <td>1</td>\n",
       "        </tr>\n",
       "        <tr>\n",
       "            <td>240418</td>\n",
       "            <td>Cantero</td>\n",
       "            <td>182615</td>\n",
       "            <td>Bongoloverz</td>\n",
       "            <td>1</td>\n",
       "        </tr>\n",
       "        <tr>\n",
       "            <td>28732</td>\n",
       "            <td>Scrappy</td>\n",
       "            <td>928337</td>\n",
       "            <td>Wet Boxx</td>\n",
       "            <td>1</td>\n",
       "        </tr>\n",
       "        <tr>\n",
       "            <td>10677</td>\n",
       "            <td>Soulman</td>\n",
       "            <td>4967</td>\n",
       "            <td>Lighter Thief</td>\n",
       "            <td>1</td>\n",
       "        </tr>\n",
       "        <tr>\n",
       "            <td>14014</td>\n",
       "            <td>Common</td>\n",
       "            <td>48284</td>\n",
       "            <td>The Last Poets</td>\n",
       "            <td>1</td>\n",
       "        </tr>\n",
       "        <tr>\n",
       "            <td>169612</td>\n",
       "            <td>Holmek</td>\n",
       "            <td>169611</td>\n",
       "            <td>Demon Queen</td>\n",
       "            <td>1</td>\n",
       "        </tr>\n",
       "        <tr>\n",
       "            <td>128046</td>\n",
       "            <td>Woody (5)</td>\n",
       "            <td>179180</td>\n",
       "            <td>DJ Exodus</td>\n",
       "            <td>1</td>\n",
       "        </tr>\n",
       "        <tr>\n",
       "            <td>7300</td>\n",
       "            <td>Jesus Loves You</td>\n",
       "            <td>21032</td>\n",
       "            <td>Boy George</td>\n",
       "            <td>1</td>\n",
       "        </tr>\n",
       "    </tbody>\n",
       "</table>"
      ],
      "text/plain": [
       "[(7298, 'The Stone Roses', 4097, 'Whodini', 1),\n",
       " (50051, 'Seven (2)', 290, 'Hidden Agenda', 1),\n",
       " (106085, 'Arpeggio (2)', 138075, 'Quartario', 1),\n",
       " (240418, 'Cantero', 182615, 'Bongoloverz', 1),\n",
       " (28732, 'Scrappy', 928337, 'Wet Boxx', 1),\n",
       " (10677, 'Soulman', 4967, 'Lighter Thief', 1),\n",
       " (14014, 'Common', 48284, 'The Last Poets', 1),\n",
       " (169612, 'Holmek', 169611, 'Demon Queen', 1),\n",
       " (128046, 'Woody (5)', 179180, 'DJ Exodus', 1),\n",
       " (7300, 'Jesus Loves You', 21032, 'Boy George', 1)]"
      ]
     },
     "execution_count": 34,
     "metadata": {},
     "output_type": "execute_result"
    }
   ],
   "source": [
    "%%sql\n",
    "WITH artist_releases AS (\n",
    "    SELECT artists.artist_id, artists.name, releases.release_id, releases.title\n",
    "    FROM artists \n",
    "    JOIN released_by USING(artist_id)\n",
    "    JOIN releases USING (release_id)\n",
    ")\n",
    "SELECT DISTINCT ar1.artist_id AS left_id, ar1.name AS left_name, \n",
    "        ar2.artist_id AS right_id, ar2.name AS right_name, 1 AS distance\n",
    "FROM artist_releases AS ar1, artist_releases AS ar2\n",
    "WHERE ar1.release_id = ar2.release_id\n",
    "AND ar1.artist_id != ar2.artist_id\n",
    "LIMIT 10;"
   ]
  },
  {
   "cell_type": "markdown",
   "metadata": {},
   "source": [
    "where we first join artists with their releases under `artist_releases`, and then join `artist_releases` with itself to find all pairs of artists which have released the same `release_id`. We limit the query results to 10 for demonstration purposes.\n",
    "\n",
    "We give this query the alias `collaborations` and join it with itself on a mutual `artist_id` to find all collaborations with two hops:"
   ]
  },
  {
   "cell_type": "code",
   "execution_count": 35,
   "metadata": {},
   "outputs": [
    {
     "name": "stdout",
     "output_type": "stream",
     "text": [
      " * postgresql://postgres:***@db:5432/postgres\n",
      "8 rows affected.\n"
     ]
    },
    {
     "data": {
      "text/html": [
       "<table>\n",
       "    <thead>\n",
       "        <tr>\n",
       "            <th>left_id</th>\n",
       "            <th>left_name</th>\n",
       "            <th>right_id</th>\n",
       "            <th>right_name</th>\n",
       "        </tr>\n",
       "    </thead>\n",
       "    <tbody>\n",
       "        <tr>\n",
       "            <td>29735</td>\n",
       "            <td>Coldplay</td>\n",
       "            <td>10785</td>\n",
       "            <td>Angelo Badalamenti</td>\n",
       "        </tr>\n",
       "        <tr>\n",
       "            <td>29735</td>\n",
       "            <td>Coldplay</td>\n",
       "            <td>29735</td>\n",
       "            <td>Coldplay</td>\n",
       "        </tr>\n",
       "        <tr>\n",
       "            <td>29735</td>\n",
       "            <td>Coldplay</td>\n",
       "            <td>11101</td>\n",
       "            <td>Cosmic Gate</td>\n",
       "        </tr>\n",
       "        <tr>\n",
       "            <td>29735</td>\n",
       "            <td>Coldplay</td>\n",
       "            <td>7090</td>\n",
       "            <td>Freefall</td>\n",
       "        </tr>\n",
       "        <tr>\n",
       "            <td>29735</td>\n",
       "            <td>Coldplay</td>\n",
       "            <td>2604010</td>\n",
       "            <td>Jada (7)</td>\n",
       "        </tr>\n",
       "        <tr>\n",
       "            <td>29735</td>\n",
       "            <td>Coldplay</td>\n",
       "            <td>18836</td>\n",
       "            <td>Kirk Hammett</td>\n",
       "        </tr>\n",
       "        <tr>\n",
       "            <td>29735</td>\n",
       "            <td>Coldplay</td>\n",
       "            <td>11749</td>\n",
       "            <td>Knuckleheadz</td>\n",
       "        </tr>\n",
       "        <tr>\n",
       "            <td>29735</td>\n",
       "            <td>Coldplay</td>\n",
       "            <td>166466</td>\n",
       "            <td>Skip Raiders</td>\n",
       "        </tr>\n",
       "    </tbody>\n",
       "</table>"
      ],
      "text/plain": [
       "[(29735, 'Coldplay', 10785, 'Angelo Badalamenti'),\n",
       " (29735, 'Coldplay', 29735, 'Coldplay'),\n",
       " (29735, 'Coldplay', 11101, 'Cosmic Gate'),\n",
       " (29735, 'Coldplay', 7090, 'Freefall'),\n",
       " (29735, 'Coldplay', 2604010, 'Jada (7)'),\n",
       " (29735, 'Coldplay', 18836, 'Kirk Hammett'),\n",
       " (29735, 'Coldplay', 11749, 'Knuckleheadz'),\n",
       " (29735, 'Coldplay', 166466, 'Skip Raiders')]"
      ]
     },
     "execution_count": 35,
     "metadata": {},
     "output_type": "execute_result"
    }
   ],
   "source": [
    "%%sql\n",
    "WITH artist_releases AS (\n",
    "    SELECT artists.artist_id, artists.name, releases.release_id, releases.title\n",
    "    FROM artists \n",
    "    JOIN released_by USING(artist_id)\n",
    "    JOIN releases USING (release_id)\n",
    "),\n",
    "collaborations AS (\n",
    "    SELECT DISTINCT ar1.artist_id AS left_id, ar1.name AS left_name, \n",
    "            ar2.artist_id AS right_id, ar2.name AS right_name, 1 AS distance\n",
    "    FROM artist_releases AS ar1, artist_releases AS ar2\n",
    "    WHERE ar1.release_id = ar2.release_id\n",
    "    AND ar1.artist_id != ar2.artist_id\n",
    "),\n",
    "two_hop_collaborations AS (\n",
    "    SELECT DISTINCT c1.left_id, c1.left_name, c2.right_id, c2.right_name\n",
    "    FROM collaborations c1, collaborations c2\n",
    "    WHERE c1.right_id = c2.left_id\n",
    ")\n",
    "SELECT *\n",
    "FROM two_hop_collaborations\n",
    "WHERE left_name = 'Coldplay'\n",
    "ORDER BY right_name\n",
    "LIMIT 10;"
   ]
  },
  {
   "cell_type": "markdown",
   "metadata": {},
   "source": [
    "We can iteratively add indirections with another join like so:"
   ]
  },
  {
   "cell_type": "code",
   "execution_count": 36,
   "metadata": {},
   "outputs": [
    {
     "name": "stdout",
     "output_type": "stream",
     "text": [
      " * postgresql://postgres:***@db:5432/postgres\n",
      "10 rows affected.\n"
     ]
    },
    {
     "data": {
      "text/html": [
       "<table>\n",
       "    <thead>\n",
       "        <tr>\n",
       "            <th>left_id</th>\n",
       "            <th>left_name</th>\n",
       "            <th>right_id</th>\n",
       "            <th>right_name</th>\n",
       "        </tr>\n",
       "    </thead>\n",
       "    <tbody>\n",
       "        <tr>\n",
       "            <td>29735</td>\n",
       "            <td>Coldplay</td>\n",
       "            <td>10785</td>\n",
       "            <td>Angelo Badalamenti</td>\n",
       "        </tr>\n",
       "        <tr>\n",
       "            <td>29735</td>\n",
       "            <td>Coldplay</td>\n",
       "            <td>7623</td>\n",
       "            <td>Charly Lownoise</td>\n",
       "        </tr>\n",
       "        <tr>\n",
       "            <td>29735</td>\n",
       "            <td>Coldplay</td>\n",
       "            <td>29735</td>\n",
       "            <td>Coldplay</td>\n",
       "        </tr>\n",
       "        <tr>\n",
       "            <td>29735</td>\n",
       "            <td>Coldplay</td>\n",
       "            <td>11101</td>\n",
       "            <td>Cosmic Gate</td>\n",
       "        </tr>\n",
       "        <tr>\n",
       "            <td>29735</td>\n",
       "            <td>Coldplay</td>\n",
       "            <td>129695</td>\n",
       "            <td>DJ Boom (2)</td>\n",
       "        </tr>\n",
       "        <tr>\n",
       "            <td>29735</td>\n",
       "            <td>Coldplay</td>\n",
       "            <td>12683</td>\n",
       "            <td>DJ Hooligan</td>\n",
       "        </tr>\n",
       "        <tr>\n",
       "            <td>29735</td>\n",
       "            <td>Coldplay</td>\n",
       "            <td>17240</td>\n",
       "            <td>DJ JamX</td>\n",
       "        </tr>\n",
       "        <tr>\n",
       "            <td>29735</td>\n",
       "            <td>Coldplay</td>\n",
       "            <td>170</td>\n",
       "            <td>DJ Sneak</td>\n",
       "        </tr>\n",
       "        <tr>\n",
       "            <td>29735</td>\n",
       "            <td>Coldplay</td>\n",
       "            <td>29121</td>\n",
       "            <td>DJ Work!</td>\n",
       "        </tr>\n",
       "        <tr>\n",
       "            <td>29735</td>\n",
       "            <td>Coldplay</td>\n",
       "            <td>8353</td>\n",
       "            <td>DuMonde</td>\n",
       "        </tr>\n",
       "    </tbody>\n",
       "</table>"
      ],
      "text/plain": [
       "[(29735, 'Coldplay', 10785, 'Angelo Badalamenti'),\n",
       " (29735, 'Coldplay', 7623, 'Charly Lownoise'),\n",
       " (29735, 'Coldplay', 29735, 'Coldplay'),\n",
       " (29735, 'Coldplay', 11101, 'Cosmic Gate'),\n",
       " (29735, 'Coldplay', 129695, 'DJ Boom (2)'),\n",
       " (29735, 'Coldplay', 12683, 'DJ Hooligan'),\n",
       " (29735, 'Coldplay', 17240, 'DJ JamX'),\n",
       " (29735, 'Coldplay', 170, 'DJ Sneak'),\n",
       " (29735, 'Coldplay', 29121, 'DJ Work!'),\n",
       " (29735, 'Coldplay', 8353, 'DuMonde')]"
      ]
     },
     "execution_count": 36,
     "metadata": {},
     "output_type": "execute_result"
    }
   ],
   "source": [
    "%%sql\n",
    "WITH artist_releases AS (\n",
    "    SELECT artists.artist_id, artists.name, releases.release_id, releases.title\n",
    "    FROM artists \n",
    "    JOIN released_by USING(artist_id)\n",
    "    JOIN releases USING (release_id)\n",
    "),\n",
    "collaborations AS (\n",
    "    SELECT DISTINCT ar1.artist_id AS left_id, ar1.name AS left_name, \n",
    "            ar2.artist_id AS right_id, ar2.name AS right_name, 1 AS distance\n",
    "    FROM artist_releases AS ar1, artist_releases AS ar2\n",
    "    WHERE ar1.release_id = ar2.release_id\n",
    "    AND ar1.artist_id != ar2.artist_id\n",
    "),\n",
    "two_hop_collaborations AS (\n",
    "    SELECT DISTINCT c1.left_id, c1.left_name, c2.right_id, c2.right_name\n",
    "    FROM collaborations c1, collaborations c2\n",
    "    WHERE c1.right_id = c2.left_id\n",
    "),\n",
    "three_hop_collaborations AS (\n",
    "    SELECT DISTINCT c1.left_id, c1.left_name, c2.right_id, c2.right_name\n",
    "    FROM two_hop_collaborations c1, collaborations c2\n",
    "    WHERE c1.right_id = c2.left_id\n",
    "),\n",
    "four_hop_collaborations AS (\n",
    "    SELECT DISTINCT c1.left_id, c1.left_name, c2.right_id, c2.right_name\n",
    "    FROM three_hop_collaborations c1, collaborations c2\n",
    "    WHERE c1.right_id = c2.left_id\n",
    ")\n",
    "SELECT *\n",
    "FROM four_hop_collaborations\n",
    "WHERE left_name = 'Coldplay'\n",
    "ORDER BY right_name\n",
    "LIMIT 10;"
   ]
  },
  {
   "cell_type": "markdown",
   "metadata": {},
   "source": [
    "he problem with this approach is that the query *structure* depends on the number of hops you want to permit.\n",
    "\n",
    "The query from the question, however, is independent of this number. You can just change `X` and leave the rest as it is. The trick is that it is a *recursive* SQL statement. Roughly speaking, a recursive statement consists of a base case statement connected via `UNION` (a concatenation of relations) with a statement the refers to the original statement. The recursive statement is executed recursively until it produces an empty result.\n",
    "\n",
    "The query uses this mechanism to write `X_hop_collaborations` (repeated in isolation below): its base case are the direct `collaborations`. Each iteration joins the `collaborations` relation to find artists within one more hop for each artist already found. It keeps track of the distance from the original post by incrementing the value of `distance` by one in each iteration. When that attribute reaches the value of `X`, no records are produced by the recursive case, so recursion ends.\n",
    "\n",
    "Consider: we have to join `collaborations` with an exponentially growing relation for each hop. In addition to the query being difficult to write, it becomes very inefficient as `X` increases."
   ]
  },
  {
   "cell_type": "code",
   "execution_count": null,
   "metadata": {},
   "outputs": [],
   "source": []
  }
 ],
 "metadata": {
  "kernelspec": {
   "display_name": "Python 3 (ipykernel)",
   "language": "python",
   "name": "python3"
  },
  "language_info": {
   "codemirror_mode": {
    "name": "ipython",
    "version": 3
   },
   "file_extension": ".py",
   "mimetype": "text/x-python",
   "name": "python",
   "nbconvert_exporter": "python",
   "pygments_lexer": "ipython3",
   "version": "3.9.18"
  }
 },
 "nbformat": 4,
 "nbformat_minor": 4
}
