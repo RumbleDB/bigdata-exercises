{
 "cells": [
  {
   "cell_type": "markdown",
   "metadata": {
    "id": "Zo6cemRekqqm"
   },
   "source": [
    "# Big Data for Engineers – Moodle\n",
    "\n",
    "# Fall 2022 -  Week 11 - Rumble\n",
    "\n"
   ]
  },
  {
   "cell_type": "code",
   "execution_count": 1,
   "metadata": {
    "id": "E8wSdtz81-dt"
   },
   "outputs": [],
   "source": [
    "import requests\n",
    "import json\n",
    "import time\n",
    "from IPython.core.magic import register_line_cell_magic\n",
    "\n",
    "@register_line_cell_magic\n",
    "def rumble(line, cell=None):\n",
    "    if cell is None:\n",
    "        data = line\n",
    "    else:\n",
    "        data = cell\n",
    "\n",
    "    start = time.time()                                                         \n",
    "    response = json.loads(requests.post(server, data=data).text)                   \n",
    "    end = time.time()                                                              \n",
    "    print(\"Took: %s s\" % (end - start))\n",
    "\n",
    "    if 'warning' in response:\n",
    "        print(json.dumps(response['warning']))\n",
    "    if 'values' in response:\n",
    "        for e in response['values']:\n",
    "            print(json.dumps(e))\n",
    "    elif 'error-message' in response:\n",
    "        return response['error-message']\n",
    "    else:\n",
    "        return response"
   ]
  },
  {
   "cell_type": "code",
   "execution_count": 2,
   "metadata": {},
   "outputs": [],
   "source": [
    "server = 'http://localhost:8001/jsoniq'"
   ]
  },
  {
   "cell_type": "code",
   "execution_count": 9,
   "metadata": {},
   "outputs": [
    {
     "name": "stdout",
     "output_type": "stream",
     "text": [
      "Took: 23.599609851837158 s\n",
      "100000\n"
     ]
    }
   ],
   "source": [
    "%%rumble\n",
    "count(for $i in json-file(\"/home/confusion-100000.json\")\n",
    "return $i)"
   ]
  },
  {
   "cell_type": "markdown",
   "metadata": {
    "id": "AwccKb2YmMoC"
   },
   "source": [
    "# Moodle Graded Exercise 11.1"
   ]
  },
  {
   "cell_type": "markdown",
   "metadata": {
    "id": "7DmHBqKMmMoC"
   },
   "source": [
    "And now to the actual Moodle queries. Here we still use the language game dataset (please use the **small** dataset for these questions: confusion-100000.json).\n",
    "\n",
    "\n",
    "1\\. Find the number of games where the guessed language is wrong (meaning not equal to the target one) and that language is German."
   ]
  },
  {
   "cell_type": "code",
   "execution_count": 16,
   "metadata": {},
   "outputs": [
    {
     "name": "stdout",
     "output_type": "stream",
     "text": [
      "Took: 1.3057677745819092 s\n",
      "128\n"
     ]
    }
   ],
   "source": [
    "%%rumble\n",
    "count(for $i in json-file(\"/home/confusion-100000.json\", 10)\n",
    "where $i.target ne $i.guess and $i.guess eq \"German\"\n",
    "return $i)"
   ]
  },
  {
   "cell_type": "code",
   "execution_count": 17,
   "metadata": {
    "id": "73H8vujbmMoD"
   },
   "outputs": [
    {
     "name": "stdout",
     "output_type": "stream",
     "text": [
      "Took: 1.4782190322875977 s\n",
      "132\n"
     ]
    }
   ],
   "source": [
    "%%rumble\n",
    "count(for $i in json-file(\"/home/confusion-100000.json\", 10)\n",
    "where $i.target ne $i.guess and $i.target eq \"German\"\n",
    "return $i)"
   ]
  },
  {
   "cell_type": "markdown",
   "metadata": {
    "id": "7CA8ZYb9mMoD"
   },
   "source": [
    "2\\. Return the number of distinct \"target\" languages."
   ]
  },
  {
   "cell_type": "code",
   "execution_count": 25,
   "metadata": {
    "id": "W2TkLWRTmMoD"
   },
   "outputs": [
    {
     "name": "stdout",
     "output_type": "stream",
     "text": [
      "Took: 1.1889379024505615 s\n",
      "68\n"
     ]
    }
   ],
   "source": [
    "%%rumble\n",
    "count(distinct-values(json-file(\"/home/confusion-100000.json\", 10).target))"
   ]
  },
  {
   "cell_type": "markdown",
   "metadata": {},
   "source": [
    "# Moodle Graded Exercise 11.2"
   ]
  },
  {
   "cell_type": "markdown",
   "metadata": {
    "id": "NG7FQ1n_mMoD"
   },
   "source": [
    "3\\. Return the sample IDs (i.e., the sample field) of the top two (2) games where the guessed language is wrong (equal to not the target one) ordered by language (ascending), then by country (ascending), then by date (ascending)."
   ]
  },
  {
   "cell_type": "code",
   "execution_count": 31,
   "metadata": {},
   "outputs": [
    {
     "name": "stdout",
     "output_type": "stream",
     "text": [
      "Took: 2.0265440940856934 s\n",
      "\"bd3eefed0e12797c6e2b45b8db8d88d9\"\n",
      "\"5e609abac81edbf76a58bc1d2a850f12\"\n"
     ]
    }
   ],
   "source": [
    "%%rumble\n",
    "for $i in json-file(\"/home/confusion-100000.json\", 10)\n",
    "where $i.guess ne $i.target\n",
    "order by $i.guess, $i.country, $i.date\n",
    "count $c\n",
    "where $c <= 2\n",
    "return $i.sample"
   ]
  },
  {
   "cell_type": "code",
   "execution_count": 29,
   "metadata": {
    "id": "BgWadItlmMoE"
   },
   "outputs": [
    {
     "name": "stdout",
     "output_type": "stream",
     "text": [
      "Took: 2.118534803390503 s\n",
      "\"00b85faa8b878a14f8781be334deb137\"\n",
      "\"efcd813daec1c836d9f030b30caa07ce\"\n"
     ]
    }
   ],
   "source": [
    "%%rumble\n",
    "for $i in json-file(\"/home/confusion-100000.json\", 10)\n",
    "where $i.guess ne $i.target\n",
    "order by $i.target, $i.country, $i.date\n",
    "count $c\n",
    "where $c <= 2\n",
    "return $i.sample"
   ]
  },
  {
   "cell_type": "markdown",
   "metadata": {
    "id": "dE8WL2BmmMoE"
   },
   "source": [
    "4\\. Aggregate all games by country and target language, counting the number of guesses for each group and return the frequencies of the three least frequent country/language combinations."
   ]
  },
  {
   "cell_type": "code",
   "execution_count": null,
   "metadata": {
    "id": "GkKL6Xi-mMoE"
   },
   "outputs": [],
   "source": [
    "%%rumble\n",
    "for $i in json-file(\"/home/confusion-100000.json\", 10)\n",
    "group by $country := $i.country, $target := $i.target\n",
    "order by count($i)\n",
    "return { \"country\": $country, \"target\": $target, \"count\": count($i) }"
   ]
  },
  {
   "cell_type": "code",
   "execution_count": 44,
   "metadata": {},
   "outputs": [
    {
     "name": "stdout",
     "output_type": "stream",
     "text": [
      "Took: 0.41781115531921387 s\n",
      "[\"Maori\", \"Mandarin\", \"Norwegian\", \"Tongan\"]\n",
      "[\"Danish\", \"Dinka\", \"Khmer\", \"Lao\"]\n"
     ]
    }
   ],
   "source": [
    "%%rumble\n",
    "for $i in json-file(\"/home/confusion-100000.json\", 10)\n",
    "count $c\n",
    "where $c <= 2\n",
    "return $i.choices"
   ]
  },
  {
   "cell_type": "markdown",
   "metadata": {},
   "source": [
    "# Moodle Graded Exercise 11.3"
   ]
  },
  {
   "cell_type": "markdown",
   "metadata": {
    "id": "Fwc-biM5mMoF"
   },
   "source": [
    "5\\. Find the percentage of games where (the answer was correct && the correct guess was the tenth choice amongst the array of possible answers)."
   ]
  },
  {
   "cell_type": "code",
   "execution_count": 55,
   "metadata": {
    "id": "Ch5PkkgdmMoG"
   },
   "outputs": [
    {
     "name": "stdout",
     "output_type": "stream",
     "text": [
      "Took: 1.9885931015014648 s\n",
      "8e-05\n"
     ]
    }
   ],
   "source": [
    "%%rumble\n",
    "let $count := count(\n",
    "    for $i in json-file(\"/home/confusion-100000.json\", 10)\n",
    "    where $i.target eq $i.guess and $i.target eq $i.choices[][10]\n",
    "    return $i\n",
    ")\n",
    "let $full := count(\n",
    "    for $i in json-file(\"/home/confusion-100000.json\", 10)\n",
    "    return $i\n",
    ")\n",
    "return ($count div $full)"
   ]
  },
  {
   "cell_type": "markdown",
   "metadata": {},
   "source": [
    "# Moodle Graded Exercise 11.4"
   ]
  },
  {
   "cell_type": "markdown",
   "metadata": {
    "id": "Fwc-biM5mMoF"
   },
   "source": [
    "6\\. Sort the languages by decreasing overall percentage of wrong guesses and return the first three languages."
   ]
  },
  {
   "cell_type": "code",
   "execution_count": 61,
   "metadata": {},
   "outputs": [
    {
     "name": "stdout",
     "output_type": "stream",
     "text": [
      "Took: 4.042201995849609 s\n",
      "{\"language\": \"Dinka\", \"fraction\": 0.5805946792}\n",
      "{\"language\": \"Fijian\", \"fraction\": 0.5736325386}\n",
      "{\"language\": \"Kannada\", \"fraction\": 0.5653450808}\n"
     ]
    }
   ],
   "source": [
    "%%rumble\n",
    "let $filtered := (\n",
    "    for $i in json-file(\"/home/confusion-100000.json\", 10)\n",
    "    where $i.target ne $i.guess\n",
    "    group by $language := $i.target \n",
    "    return {\"language\": $language, \"count_filtered\": count($i)}\n",
    ")\n",
    "let $full := (\n",
    "    for $i in json-file(\"/home/confusion-100000.json\", 10)\n",
    "    group by $language := $i.target \n",
    "    return {\"language\": $language, \"count_full\": count($i)}\n",
    ")\n",
    "let $join := (\n",
    "    for $a in $filtered, $b in $full\n",
    "    where $a.\"language\" = $b.\"language\"\n",
    "    return {\n",
    "        \"language\" : $a.\"language\",\n",
    "        \"fraction\" : $a.\"count_filtered\" div $b.\"count_full\"\n",
    "    }\n",
    ")\n",
    "for $j in $join\n",
    "order by $j.fraction descending\n",
    "count $c   \n",
    "where $c <= 3\n",
    "return $j"
   ]
  },
  {
   "cell_type": "code",
   "execution_count": null,
   "metadata": {},
   "outputs": [],
   "source": []
  }
 ],
 "metadata": {
  "colab": {
   "collapsed_sections": [
    "Uy48JTprhrKW",
    "eELMD0pqhrKW",
    "3Pcf7FL7Aetl",
    "OG0xJS2KHEF3",
    "jQycXJuCHHJW",
    "3ivTnfw5HMZz",
    "sKmgYw_jHPZ3",
    "IAjnh_H2HUa1",
    "yVvQBpVxHWuz",
    "XW8fQM8WHYt7",
    "PE_9pQzhAOyo"
   ],
   "name": "Exercise12_Rumble_Solutions.ipynb",
   "provenance": [],
   "toc_visible": true
  },
  "kernelspec": {
   "display_name": "Python 3 (ipykernel)",
   "language": "python",
   "name": "python3"
  },
  "language_info": {
   "codemirror_mode": {
    "name": "ipython",
    "version": 3
   },
   "file_extension": ".py",
   "mimetype": "text/x-python",
   "name": "python",
   "nbconvert_exporter": "python",
   "pygments_lexer": "ipython3",
   "version": "3.7.8"
  },
  "toc": {
   "base_numbering": 1,
   "nav_menu": {},
   "number_sections": true,
   "sideBar": true,
   "skip_h1_title": false,
   "title_cell": "Table of Contents",
   "title_sidebar": "Contents",
   "toc_cell": false,
   "toc_position": {},
   "toc_section_display": true,
   "toc_window_display": false
  }
 },
 "nbformat": 4,
 "nbformat_minor": 4
}
