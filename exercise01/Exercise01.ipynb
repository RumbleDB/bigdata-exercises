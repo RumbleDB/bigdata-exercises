{
 "cells": [
  {
   "cell_type": "markdown",
   "metadata": {},
   "source": [
    "# <center>Big Data &ndash; Exercise 1</center>\n",
    "## <center>Fall 2023 &ndash; Week 1 &ndash; ETH Zurich</center>"
   ]
  },
  {
   "cell_type": "markdown",
   "metadata": {},
   "source": [
    "### Aims\n",
    "- **After this exercise:** \n",
    "    - Understand the SQL language and its common query patterns.\n",
    "    - Understand the 'table' data shape, normalization, and when they can (and should) be used.\n",
    "    - be able to query data in tables with the SQL language.\n",
    "- **Later in the semester:** \n",
    "    - Relate these language features and query patterns relative to other data shapes, technologies, and the languages designed to query them.\n",
    "    - Understand when tables are not the appropriate shape for your data and when you can (and should) throw normalization away!"
   ]
  },
  {
   "cell_type": "markdown",
   "metadata": {},
   "source": [
    "### Prerequisites\n",
    "In this exercise, you will brush-up the fundamental concepts of relational databases and SQL. If you haven't taken an introductory databases course (or want to refresh your knowledge) we recommend you to read the following:\n",
    "\n",
    "Garcia-Molina, Ullman, Widom: Database Systems: The Complete Book. Pearson, 2. Edition, 2008. (Chapters 1, 2, 3, and 6) [Available in the ETH Library] [[Online]](https://ebookcentral.proquest.com/lib/ethz/detail.action?pq-origsite=primo&docID=5832965) [[Selected solutions]](http://infolab.stanford.edu/~ullman/dscbsols/sols.html).\n",
    "\n",
    "Or have a look at the recordings from Information Systems for Engineers - ETH Zurich, available on [[YouTube]](https://www.youtube.com/c/GhislainFournysLectures)."
   ]
  },
  {
   "cell_type": "markdown",
   "metadata": {},
   "source": [
    "### Database Set-up\n",
    "We will be once again working in the ExamMagicBox (you can find it in the following [[link]](http://please.add.link.here) if you have not downloaded it yet): please drag this Notebook in the folder. Just like last week, activate the docker container for the exercise sheet with `docker compose up`; please wait for the message `PostgreSQL init process complete; ready for start up` in the docker logs before proceeding! Alternatively you can start the Docker with `docker compose up -d` and wait for the command to execute: please note that you are creating the containers in the background this way. You can then type `docker compose down` when you are done.\n",
    "\n",
    "As before, we set up our connection to the database and enable use of `%sql` and `%%sql`."
   ]
  },
  {
   "cell_type": "code",
   "execution_count": 1,
   "metadata": {},
   "outputs": [],
   "source": [
    "server='db'\n",
    "user='postgres'\n",
    "password='example'\n",
    "database='postgres'\n",
    "connection_string=f'postgresql://{user}:{password}@{server}:5432/{database}'"
   ]
  },
  {
   "cell_type": "code",
   "execution_count": 2,
   "metadata": {},
   "outputs": [],
   "source": [
    "%reload_ext sql\n",
    "%sql $connection_string"
   ]
  },
  {
   "cell_type": "code",
   "execution_count": 3,
   "metadata": {},
   "outputs": [
    {
     "name": "stdout",
     "output_type": "stream",
     "text": [
      " * postgresql://postgres:***@db:5432/postgres\n",
      "1 rows affected.\n"
     ]
    },
    {
     "data": {
      "text/html": [
       "<table>\n",
       "    <tr>\n",
       "        <th>version</th>\n",
       "    </tr>\n",
       "    <tr>\n",
       "        <td>PostgreSQL 16.0 (Debian 16.0-1.pgdg120+1) on x86_64-pc-linux-gnu, compiled by gcc (Debian 12.2.0-14) 12.2.0, 64-bit</td>\n",
       "    </tr>\n",
       "</table>"
      ],
      "text/plain": [
       "[('PostgreSQL 16.0 (Debian 16.0-1.pgdg120+1) on x86_64-pc-linux-gnu, compiled by gcc (Debian 12.2.0-14) 12.2.0, 64-bit',)]"
      ]
     },
     "execution_count": 3,
     "metadata": {},
     "output_type": "execute_result"
    }
   ],
   "source": [
    "%%sql\n",
    "SELECT version();"
   ]
  },
  {
   "cell_type": "markdown",
   "metadata": {},
   "source": [
    "### Origin of the data\n",
    "You can find more information on the dataset in the following links\n",
    "- [Discogs](https://www.discogs.com/)\n",
    "- [Discogs XML data dumps](http://data.discogs.com/)\n",
    "\n",
    "If you do not want to use Docker or it does not work you can download the dataset from this [link](https://cloud.inf.ethz.ch/s/DtjCHTLRHT39BRN/download/discogs.dump.xz), see `postgres-init.sh` to see how to import it)"
   ]
  },
  {
   "cell_type": "markdown",
   "metadata": {},
   "source": [
    "## Exercise 1: Explore the dataset\n",
    "We want to first understand the dataset a bit better. You will find some queries below to help you explore the schema."
   ]
  },
  {
   "cell_type": "markdown",
   "metadata": {},
   "source": [
    "### List tables\n",
    "The following query retrieves a list of tables in the database from a system table describing the current database."
   ]
  },
  {
   "cell_type": "code",
   "execution_count": 4,
   "metadata": {},
   "outputs": [
    {
     "name": "stdout",
     "output_type": "stream",
     "text": [
      " * postgresql://postgres:***@db:5432/postgres\n",
      "22 rows affected.\n"
     ]
    },
    {
     "data": {
      "text/html": [
       "<table>\n",
       "    <tr>\n",
       "        <th>table_name</th>\n",
       "    </tr>\n",
       "    <tr>\n",
       "        <td>companies</td>\n",
       "    </tr>\n",
       "    <tr>\n",
       "        <td>jobs</td>\n",
       "    </tr>\n",
       "    <tr>\n",
       "        <td>employees02</td>\n",
       "    </tr>\n",
       "    <tr>\n",
       "        <td>badges</td>\n",
       "    </tr>\n",
       "    <tr>\n",
       "        <td>comments</td>\n",
       "    </tr>\n",
       "    <tr>\n",
       "        <td>inventory</td>\n",
       "    </tr>\n",
       "    <tr>\n",
       "        <td>posthistory</td>\n",
       "    </tr>\n",
       "    <tr>\n",
       "        <td>postlinks</td>\n",
       "    </tr>\n",
       "    <tr>\n",
       "        <td>posts</td>\n",
       "    </tr>\n",
       "    <tr>\n",
       "        <td>tags</td>\n",
       "    </tr>\n",
       "    <tr>\n",
       "        <td>users</td>\n",
       "    </tr>\n",
       "    <tr>\n",
       "        <td>votes</td>\n",
       "    </tr>\n",
       "    <tr>\n",
       "        <td>artists</td>\n",
       "    </tr>\n",
       "    <tr>\n",
       "        <td>released_by</td>\n",
       "    </tr>\n",
       "    <tr>\n",
       "        <td>releases</td>\n",
       "    </tr>\n",
       "    <tr>\n",
       "        <td>tracks</td>\n",
       "    </tr>\n",
       "    <tr>\n",
       "        <td>employees</td>\n",
       "    </tr>\n",
       "    <tr>\n",
       "        <td>dept_manager</td>\n",
       "    </tr>\n",
       "    <tr>\n",
       "        <td>departments</td>\n",
       "    </tr>\n",
       "    <tr>\n",
       "        <td>dept_emp</td>\n",
       "    </tr>\n",
       "    <tr>\n",
       "        <td>titles</td>\n",
       "    </tr>\n",
       "    <tr>\n",
       "        <td>salaries</td>\n",
       "    </tr>\n",
       "</table>"
      ],
      "text/plain": [
       "[('companies',),\n",
       " ('jobs',),\n",
       " ('employees02',),\n",
       " ('badges',),\n",
       " ('comments',),\n",
       " ('inventory',),\n",
       " ('posthistory',),\n",
       " ('postlinks',),\n",
       " ('posts',),\n",
       " ('tags',),\n",
       " ('users',),\n",
       " ('votes',),\n",
       " ('artists',),\n",
       " ('released_by',),\n",
       " ('releases',),\n",
       " ('tracks',),\n",
       " ('employees',),\n",
       " ('dept_manager',),\n",
       " ('departments',),\n",
       " ('dept_emp',),\n",
       " ('titles',),\n",
       " ('salaries',)]"
      ]
     },
     "execution_count": 4,
     "metadata": {},
     "output_type": "execute_result"
    }
   ],
   "source": [
    "%%sql \n",
    "SELECT table_name\n",
    "FROM information_schema.tables\n",
    "WHERE table_schema = 'public';"
   ]
  },
  {
   "cell_type": "markdown",
   "metadata": {},
   "source": [
    "### List attributes/columns\n",
    "The following query retrieves a list of columns from the tables in the database we will be using."
   ]
  },
  {
   "cell_type": "code",
   "execution_count": 5,
   "metadata": {},
   "outputs": [
    {
     "name": "stdout",
     "output_type": "stream",
     "text": [
      " * postgresql://postgres:***@db:5432/postgres\n",
      "17 rows affected.\n"
     ]
    },
    {
     "data": {
      "text/html": [
       "<table>\n",
       "    <tr>\n",
       "        <th>table_name</th>\n",
       "        <th>column_name</th>\n",
       "        <th>data_type</th>\n",
       "        <th>is_nullable</th>\n",
       "        <th>ordinal_position</th>\n",
       "    </tr>\n",
       "    <tr>\n",
       "        <td>artists</td>\n",
       "        <td>artist_id</td>\n",
       "        <td>integer</td>\n",
       "        <td>NO</td>\n",
       "        <td>1</td>\n",
       "    </tr>\n",
       "    <tr>\n",
       "        <td>artists</td>\n",
       "        <td>name</td>\n",
       "        <td>character varying</td>\n",
       "        <td>YES</td>\n",
       "        <td>2</td>\n",
       "    </tr>\n",
       "    <tr>\n",
       "        <td>artists</td>\n",
       "        <td>realname</td>\n",
       "        <td>text</td>\n",
       "        <td>YES</td>\n",
       "        <td>3</td>\n",
       "    </tr>\n",
       "    <tr>\n",
       "        <td>artists</td>\n",
       "        <td>profile</td>\n",
       "        <td>text</td>\n",
       "        <td>YES</td>\n",
       "        <td>4</td>\n",
       "    </tr>\n",
       "    <tr>\n",
       "        <td>artists</td>\n",
       "        <td>url</td>\n",
       "        <td>text</td>\n",
       "        <td>YES</td>\n",
       "        <td>5</td>\n",
       "    </tr>\n",
       "    <tr>\n",
       "        <td>released_by</td>\n",
       "        <td>release_id</td>\n",
       "        <td>integer</td>\n",
       "        <td>NO</td>\n",
       "        <td>1</td>\n",
       "    </tr>\n",
       "    <tr>\n",
       "        <td>released_by</td>\n",
       "        <td>artist_id</td>\n",
       "        <td>integer</td>\n",
       "        <td>NO</td>\n",
       "        <td>2</td>\n",
       "    </tr>\n",
       "    <tr>\n",
       "        <td>releases</td>\n",
       "        <td>release_id</td>\n",
       "        <td>integer</td>\n",
       "        <td>NO</td>\n",
       "        <td>1</td>\n",
       "    </tr>\n",
       "    <tr>\n",
       "        <td>releases</td>\n",
       "        <td>released</td>\n",
       "        <td>date</td>\n",
       "        <td>NO</td>\n",
       "        <td>2</td>\n",
       "    </tr>\n",
       "    <tr>\n",
       "        <td>releases</td>\n",
       "        <td>title</td>\n",
       "        <td>text</td>\n",
       "        <td>NO</td>\n",
       "        <td>3</td>\n",
       "    </tr>\n",
       "    <tr>\n",
       "        <td>releases</td>\n",
       "        <td>country</td>\n",
       "        <td>character varying</td>\n",
       "        <td>YES</td>\n",
       "        <td>4</td>\n",
       "    </tr>\n",
       "    <tr>\n",
       "        <td>releases</td>\n",
       "        <td>genre</td>\n",
       "        <td>character varying</td>\n",
       "        <td>NO</td>\n",
       "        <td>5</td>\n",
       "    </tr>\n",
       "    <tr>\n",
       "        <td>tracks</td>\n",
       "        <td>release_id</td>\n",
       "        <td>integer</td>\n",
       "        <td>NO</td>\n",
       "        <td>1</td>\n",
       "    </tr>\n",
       "    <tr>\n",
       "        <td>tracks</td>\n",
       "        <td>position</td>\n",
       "        <td>character varying</td>\n",
       "        <td>YES</td>\n",
       "        <td>2</td>\n",
       "    </tr>\n",
       "    <tr>\n",
       "        <td>tracks</td>\n",
       "        <td>title</td>\n",
       "        <td>text</td>\n",
       "        <td>YES</td>\n",
       "        <td>3</td>\n",
       "    </tr>\n",
       "    <tr>\n",
       "        <td>tracks</td>\n",
       "        <td>duration</td>\n",
       "        <td>integer</td>\n",
       "        <td>YES</td>\n",
       "        <td>4</td>\n",
       "    </tr>\n",
       "    <tr>\n",
       "        <td>tracks</td>\n",
       "        <td>track_id</td>\n",
       "        <td>integer</td>\n",
       "        <td>NO</td>\n",
       "        <td>5</td>\n",
       "    </tr>\n",
       "</table>"
      ],
      "text/plain": [
       "[('artists', 'artist_id', 'integer', 'NO', 1),\n",
       " ('artists', 'name', 'character varying', 'YES', 2),\n",
       " ('artists', 'realname', 'text', 'YES', 3),\n",
       " ('artists', 'profile', 'text', 'YES', 4),\n",
       " ('artists', 'url', 'text', 'YES', 5),\n",
       " ('released_by', 'release_id', 'integer', 'NO', 1),\n",
       " ('released_by', 'artist_id', 'integer', 'NO', 2),\n",
       " ('releases', 'release_id', 'integer', 'NO', 1),\n",
       " ('releases', 'released', 'date', 'NO', 2),\n",
       " ('releases', 'title', 'text', 'NO', 3),\n",
       " ('releases', 'country', 'character varying', 'YES', 4),\n",
       " ('releases', 'genre', 'character varying', 'NO', 5),\n",
       " ('tracks', 'release_id', 'integer', 'NO', 1),\n",
       " ('tracks', 'position', 'character varying', 'YES', 2),\n",
       " ('tracks', 'title', 'text', 'YES', 3),\n",
       " ('tracks', 'duration', 'integer', 'YES', 4),\n",
       " ('tracks', 'track_id', 'integer', 'NO', 5)]"
      ]
     },
     "execution_count": 5,
     "metadata": {},
     "output_type": "execute_result"
    }
   ],
   "source": [
    "%%sql \n",
    "SELECT table_name, column_name, data_type, is_nullable, ordinal_position\n",
    "FROM information_schema.columns\n",
    "WHERE table_schema = 'public' AND table_name IN ('artists', 'released_by', 'releases', 'tracks')\n",
    "AND table_name NOT LIKE 'pg_%'\n",
    "ORDER BY table_name, ordinal_position;"
   ]
  },
  {
   "cell_type": "markdown",
   "metadata": {},
   "source": [
    "###  List the titles of all releases by Coldplay that contain less than 5 tracks."
   ]
  },
  {
   "cell_type": "code",
   "execution_count": 16,
   "metadata": {},
   "outputs": [
    {
     "name": "stdout",
     "output_type": "stream",
     "text": [
      " * postgresql://postgres:***@db:5432/postgres\n",
      "34 rows affected.\n"
     ]
    },
    {
     "data": {
      "text/html": [
       "<table>\n",
       "    <tr>\n",
       "        <th>title</th>\n",
       "    </tr>\n",
       "    <tr>\n",
       "        <td>Acoustic</td>\n",
       "    </tr>\n",
       "    <tr>\n",
       "        <td>Boot Of Sound</td>\n",
       "    </tr>\n",
       "    <tr>\n",
       "        <td>Brothers &amp; Sisters</td>\n",
       "    </tr>\n",
       "    <tr>\n",
       "        <td>Clocks</td>\n",
       "    </tr>\n",
       "    <tr>\n",
       "        <td>Clocks...</td>\n",
       "    </tr>\n",
       "    <tr>\n",
       "        <td>Clocks / Chime Trance Remixes</td>\n",
       "    </tr>\n",
       "    <tr>\n",
       "        <td>Clocks (Cosmos Rmx)</td>\n",
       "    </tr>\n",
       "    <tr>\n",
       "        <td>Clocks (Dean Coleman Remix)</td>\n",
       "    </tr>\n",
       "    <tr>\n",
       "        <td>Clocks (Planet Rockers Remixes)</td>\n",
       "    </tr>\n",
       "    <tr>\n",
       "        <td>Clocks (Remix)</td>\n",
       "    </tr>\n",
       "    <tr>\n",
       "        <td>Fix You</td>\n",
       "    </tr>\n",
       "    <tr>\n",
       "        <td>Flesh / Don&#x27;t Need No Trouble</td>\n",
       "    </tr>\n",
       "    <tr>\n",
       "        <td>God</td>\n",
       "    </tr>\n",
       "    <tr>\n",
       "        <td>God Put A Smile Upon Your Face (Remixes)</td>\n",
       "    </tr>\n",
       "    <tr>\n",
       "        <td>In My Place</td>\n",
       "    </tr>\n",
       "    <tr>\n",
       "        <td>Murder Was The Bass / Clocks</td>\n",
       "    </tr>\n",
       "    <tr>\n",
       "        <td>One I Love</td>\n",
       "    </tr>\n",
       "    <tr>\n",
       "        <td>Remixes</td>\n",
       "    </tr>\n",
       "    <tr>\n",
       "        <td>Safety E.P.</td>\n",
       "    </tr>\n",
       "    <tr>\n",
       "        <td>Speed Of Sound</td>\n",
       "    </tr>\n",
       "    <tr>\n",
       "        <td>Speed Of Sound (2005 House Remixes)</td>\n",
       "    </tr>\n",
       "    <tr>\n",
       "        <td>Speed Of Sound (Karl G Remix)</td>\n",
       "    </tr>\n",
       "    <tr>\n",
       "        <td>Talk</td>\n",
       "    </tr>\n",
       "    <tr>\n",
       "        <td>Talk (Remixes)</td>\n",
       "    </tr>\n",
       "    <tr>\n",
       "        <td>Talk (Spencer Collective Mixes)</td>\n",
       "    </tr>\n",
       "    <tr>\n",
       "        <td>Talk - The Remixes</td>\n",
       "    </tr>\n",
       "    <tr>\n",
       "        <td>Talk (Thin White Duke Remix)</td>\n",
       "    </tr>\n",
       "    <tr>\n",
       "        <td>The Metric System EP</td>\n",
       "    </tr>\n",
       "    <tr>\n",
       "        <td>The Scientist</td>\n",
       "    </tr>\n",
       "    <tr>\n",
       "        <td>Time</td>\n",
       "    </tr>\n",
       "    <tr>\n",
       "        <td>Trouble</td>\n",
       "    </tr>\n",
       "    <tr>\n",
       "        <td>Trouble / Clocks</td>\n",
       "    </tr>\n",
       "    <tr>\n",
       "        <td>Trouble In Paradise</td>\n",
       "    </tr>\n",
       "    <tr>\n",
       "        <td>Yellow</td>\n",
       "    </tr>\n",
       "</table>"
      ],
      "text/plain": [
       "[('Acoustic',),\n",
       " ('Boot Of Sound',),\n",
       " ('Brothers & Sisters',),\n",
       " ('Clocks',),\n",
       " ('Clocks...',),\n",
       " ('Clocks / Chime Trance Remixes',),\n",
       " ('Clocks (Cosmos Rmx)',),\n",
       " ('Clocks (Dean Coleman Remix)',),\n",
       " ('Clocks (Planet Rockers Remixes)',),\n",
       " ('Clocks (Remix)',),\n",
       " ('Fix You',),\n",
       " (\"Flesh / Don't Need No Trouble\",),\n",
       " ('God',),\n",
       " ('God Put A Smile Upon Your Face (Remixes)',),\n",
       " ('In My Place',),\n",
       " ('Murder Was The Bass / Clocks',),\n",
       " ('One I Love',),\n",
       " ('Remixes',),\n",
       " ('Safety E.P.',),\n",
       " ('Speed Of Sound',),\n",
       " ('Speed Of Sound (2005 House Remixes)',),\n",
       " ('Speed Of Sound (Karl G Remix)',),\n",
       " ('Talk',),\n",
       " ('Talk (Remixes)',),\n",
       " ('Talk (Spencer Collective Mixes)',),\n",
       " ('Talk - The Remixes',),\n",
       " ('Talk (Thin White Duke Remix)',),\n",
       " ('The Metric System EP',),\n",
       " ('The Scientist',),\n",
       " ('Time',),\n",
       " ('Trouble',),\n",
       " ('Trouble / Clocks',),\n",
       " ('Trouble In Paradise',),\n",
       " ('Yellow',)]"
      ]
     },
     "execution_count": 16,
     "metadata": {},
     "output_type": "execute_result"
    }
   ],
   "source": [
    "%%sql\n",
    "SELECT DISTINCT releases.title \n",
    "FROM artists JOIN released_by USING(artist_id)\n",
    "JOIN releases USING(release_id) \n",
    "JOIN tracks USING(release_id)\n",
    "WHERE artists.name = 'Coldplay'\n",
    "GROUP BY release_id, releases.title\n",
    "HAVING COUNT(*) < 5;"
   ]
  },
  {
   "cell_type": "markdown",
   "metadata": {},
   "source": [
    "### What are the top 10 artists with the most releases?"
   ]
  },
  {
   "cell_type": "code",
   "execution_count": 17,
   "metadata": {},
   "outputs": [
    {
     "name": "stdout",
     "output_type": "stream",
     "text": [
      " * postgresql://postgres:***@db:5432/postgres\n",
      "10 rows affected.\n"
     ]
    },
    {
     "data": {
      "text/html": [
       "<table>\n",
       "    <tr>\n",
       "        <th>name</th>\n",
       "    </tr>\n",
       "    <tr>\n",
       "        <td>Various Artists</td>\n",
       "    </tr>\n",
       "    <tr>\n",
       "        <td>Depeche Mode</td>\n",
       "    </tr>\n",
       "    <tr>\n",
       "        <td>Madonna</td>\n",
       "    </tr>\n",
       "    <tr>\n",
       "        <td>Pet Shop Boys</td>\n",
       "    </tr>\n",
       "    <tr>\n",
       "        <td>Moby</td>\n",
       "    </tr>\n",
       "    <tr>\n",
       "        <td>New Order</td>\n",
       "    </tr>\n",
       "    <tr>\n",
       "        <td>Erasure</td>\n",
       "    </tr>\n",
       "    <tr>\n",
       "        <td>The Cure</td>\n",
       "    </tr>\n",
       "    <tr>\n",
       "        <td>U2</td>\n",
       "    </tr>\n",
       "    <tr>\n",
       "        <td>The Prodigy</td>\n",
       "    </tr>\n",
       "</table>"
      ],
      "text/plain": [
       "[('Various Artists',),\n",
       " ('Depeche Mode',),\n",
       " ('Madonna',),\n",
       " ('Pet Shop Boys',),\n",
       " ('Moby',),\n",
       " ('New Order',),\n",
       " ('Erasure',),\n",
       " ('The Cure',),\n",
       " ('U2',),\n",
       " ('The Prodigy',)]"
      ]
     },
     "execution_count": 17,
     "metadata": {},
     "output_type": "execute_result"
    }
   ],
   "source": [
    "%%sql\n",
    "select artists.name\n",
    "FROM artists JOIN released_by USING(artist_id)\n",
    "GROUP BY released_by.artist_id, artists.name\n",
    "ORDER BY COUNT(*) DESC\n",
    "LIMIT 10;"
   ]
  },
  {
   "cell_type": "markdown",
   "metadata": {},
   "source": [
    "### How many artists have more releases than the average number of releases per artist? Please ignore artists with 0 releases."
   ]
  },
  {
   "cell_type": "code",
   "execution_count": 21,
   "metadata": {},
   "outputs": [
    {
     "name": "stdout",
     "output_type": "stream",
     "text": [
      " * postgresql://postgres:***@db:5432/postgres\n",
      "1 rows affected.\n"
     ]
    },
    {
     "data": {
      "text/html": [
       "<table>\n",
       "    <tr>\n",
       "        <th>count</th>\n",
       "    </tr>\n",
       "    <tr>\n",
       "        <td>23632</td>\n",
       "    </tr>\n",
       "</table>"
      ],
      "text/plain": [
       "[(23632,)]"
      ]
     },
     "execution_count": 21,
     "metadata": {},
     "output_type": "execute_result"
    }
   ],
   "source": [
    "%%sql\n",
    "WITH rpa AS (SELECT artist_id, COUNT(*) AS releases\n",
    "            FROM released_by\n",
    "            GROUP BY artist_id)\n",
    "SELECT COUNT(*)\n",
    "FROM rpa\n",
    "WHERE releases > (SELECT AVG(releases)\n",
    "                 FROM rpa);\n"
   ]
  },
  {
   "cell_type": "code",
   "execution_count": null,
   "metadata": {},
   "outputs": [],
   "source": []
  },
  {
   "cell_type": "code",
   "execution_count": null,
   "metadata": {},
   "outputs": [],
   "source": []
  },
  {
   "cell_type": "markdown",
   "metadata": {},
   "source": [
    "### Have a look at the datasets\n",
    "The following simple query gives the first 5 rows of the `artists` dataset"
   ]
  },
  {
   "cell_type": "code",
   "execution_count": null,
   "metadata": {},
   "outputs": [],
   "source": [
    "%%sql\n",
    "SELECT * FROM artists LIMIT 5;"
   ]
  },
  {
   "cell_type": "markdown",
   "metadata": {},
   "source": [
    "Naturally we could write similar queries to better understand each of the other tables."
   ]
  },
  {
   "cell_type": "markdown",
   "metadata": {},
   "source": [
    "### With what you now know about the datasets, try to answer the following questions\n",
    "\n",
    "1. Which concepts are modelled in the dataset and how do they relate to each other? <b>Hint</b>: how do the tables connect logically?\n",
    "2. Why do you think this shape (table) was chosen for the data and why not the other shapes?\n",
    "3. In which normal forms are the corresponding relations?\n",
    "4. How can we denormalise the data to make some queries more efficient? <b>Hint</b>: have a look at the queries in the next session of the exercises to see if adding some columns to some tables could reduce the need to `JOIN`.\n",
    "5. What potential problems could result from adding redundancy?"
   ]
  },
  {
   "cell_type": "code",
   "execution_count": null,
   "metadata": {},
   "outputs": [],
   "source": []
  },
  {
   "cell_type": "markdown",
   "metadata": {},
   "source": [
    "## Exercise 2: SQL warm-up\n",
    "Let us begin with several SQL queries to ease us back into the language.\n",
    "\n",
    "#### 1. Retrieve the artists with the name of 'Coldplay'."
   ]
  },
  {
   "cell_type": "code",
   "execution_count": null,
   "metadata": {},
   "outputs": [],
   "source": []
  },
  {
   "cell_type": "markdown",
   "metadata": {},
   "source": [
    "#### 2. List the titles of all releases by that artist in alphabetical order.\n",
    "<b>Hint</b>: Ignore the fact that different relases can have the same title."
   ]
  },
  {
   "cell_type": "code",
   "execution_count": null,
   "metadata": {},
   "outputs": [],
   "source": []
  },
  {
   "cell_type": "markdown",
   "metadata": {},
   "source": [
    "#### 3. How many tracks from 'Coldplay' have position '1'?"
   ]
  },
  {
   "cell_type": "code",
   "execution_count": null,
   "metadata": {},
   "outputs": [],
   "source": []
  },
  {
   "cell_type": "markdown",
   "metadata": {},
   "source": [
    "#### 4. What is the average track duration?"
   ]
  },
  {
   "cell_type": "code",
   "execution_count": null,
   "metadata": {},
   "outputs": [],
   "source": []
  },
  {
   "cell_type": "markdown",
   "metadata": {},
   "source": [
    "#### 5. How many artists have released tracks longer than twice the average?"
   ]
  },
  {
   "cell_type": "code",
   "execution_count": null,
   "metadata": {},
   "outputs": [],
   "source": []
  },
  {
   "cell_type": "markdown",
   "metadata": {},
   "source": [
    "## Exercise 3: more SQL\n",
    "We will now see more complex SQL queries."
   ]
  },
  {
   "cell_type": "markdown",
   "metadata": {},
   "source": [
    "#### 1. What is the title of the album from 'Coldplay' with the most amount of tracks?"
   ]
  },
  {
   "cell_type": "code",
   "execution_count": null,
   "metadata": {},
   "outputs": [],
   "source": []
  },
  {
   "cell_type": "markdown",
   "metadata": {},
   "source": [
    "#### 2. How many artists have released an album with total track duration above twice the average total track duration?\n",
    "\n",
    "<b>Hint</b>: this is not the same as exercise 2.5 since we are lookong at the <b>total</b> track duration of the album."
   ]
  },
  {
   "cell_type": "code",
   "execution_count": null,
   "metadata": {},
   "outputs": [],
   "source": []
  },
  {
   "cell_type": "markdown",
   "metadata": {},
   "source": [
    "#### 3. How many artists have both a release with a track longer than twice the average and one with total duration longer than twice the average?\n",
    "\n",
    "<b>Hint</b>: you can use `INTERSECT` or `EXISTS` to write your query."
   ]
  },
  {
   "cell_type": "code",
   "execution_count": null,
   "metadata": {},
   "outputs": [],
   "source": []
  },
  {
   "cell_type": "markdown",
   "metadata": {},
   "source": [
    "#### 4. Show the artists have more than 200 releases in total but have no releases with the genre 'Pop' in reversed alphabetical order."
   ]
  },
  {
   "cell_type": "code",
   "execution_count": null,
   "metadata": {},
   "outputs": [],
   "source": []
  },
  {
   "cell_type": "markdown",
   "metadata": {},
   "source": [
    "## Exercise 4: Discuss query patterns and language features of SQL\n",
    "1. What patterns did you use in many of the queries above? \n",
    "\n",
    "2. What is the usual pattern of an SQL query? Which operations happen pre-grouping and which ones post-grouping?\n",
    "\n",
    "3. What makes SQL a declarative language and what advantages does that have?\n",
    "\n",
    "4. What makes SQL a functional language and what advantages does that have?\n",
    "\n",
    "5. How would the denormalization we talked about previously simplify the queries?"
   ]
  },
  {
   "cell_type": "code",
   "execution_count": null,
   "metadata": {},
   "outputs": [],
   "source": []
  },
  {
   "cell_type": "markdown",
   "metadata": {},
   "source": [
    "## Exercise 5: Limits of SQL (optional)\n",
    "Explain what the following query does.\n",
    "<b>Hints</b>: The query treats the data as if it was in graph shape."
   ]
  },
  {
   "cell_type": "code",
   "execution_count": null,
   "metadata": {},
   "outputs": [],
   "source": [
    "%%sql\n",
    "WITH RECURSIVE\n",
    "    X AS (SELECT 3 AS Value),\n",
    "    artist_releases AS (\n",
    "        SELECT artists.artist_id, artists.name, releases.release_id, releases.title\n",
    "        FROM artists, released_by, releases\n",
    "        WHERE artists.artist_id = released_by.artist_id\n",
    "        AND released_by.release_id = releases.release_id\n",
    "    ),\n",
    "    collaborations AS (\n",
    "        SELECT DISTINCT ar1.artist_id AS left_id, ar1.name AS left_name, \n",
    "                ar2.artist_id AS right_id, ar2.name AS right_name, 1 AS distance\n",
    "        FROM artist_releases AS ar1, artist_releases AS ar2\n",
    "        WHERE ar1.release_id = ar2.release_id\n",
    "        AND ar1.artist_id != ar2.artist_id\n",
    "    ),\n",
    "    X_hop_collaborations AS (\n",
    "        SELECT * FROM collaborations  -- base case\n",
    "        UNION\n",
    "        SELECT c1.left_id, c1.left_name, c2.right_id, c2.right_name, c1.distance + 1 AS distance\n",
    "        FROM X_hop_collaborations AS c1\n",
    "        JOIN collaborations c2 ON c1.right_id = c2.left_id\n",
    "        WHERE c1.distance < (SELECT * FROM X) AND c1.left_id != c2.right_id\n",
    "    )\n",
    "SELECT * \n",
    "FROM X_hop_collaborations\n",
    "WHERE left_name = 'Coldplay'\n",
    "ORDER BY distance, right_name;"
   ]
  },
  {
   "cell_type": "code",
   "execution_count": null,
   "metadata": {},
   "outputs": [],
   "source": []
  }
 ],
 "metadata": {
  "kernelspec": {
   "display_name": "Python 3 (ipykernel)",
   "language": "python",
   "name": "python3"
  },
  "language_info": {
   "codemirror_mode": {
    "name": "ipython",
    "version": 3
   },
   "file_extension": ".py",
   "mimetype": "text/x-python",
   "name": "python",
   "nbconvert_exporter": "python",
   "pygments_lexer": "ipython3",
   "version": "3.7.3"
  }
 },
 "nbformat": 4,
 "nbformat_minor": 4
}
