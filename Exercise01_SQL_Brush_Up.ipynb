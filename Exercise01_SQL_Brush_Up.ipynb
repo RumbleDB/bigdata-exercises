{
 "cells": [
  {
   "cell_type": "markdown",
   "metadata": {
    "colab_type": "text",
    "id": "M49oemsIfsbc"
   },
   "source": [
    "## Prerequisites\n",
    "In this exercise, you will brush-up the fundamental concepts of relational databases and SQL. If you havn't taken the Data Modelling and Databases course (or an equivalent bachelor course), we recommend you to read Garcia-Molina, Ullman, Widom: Database Systems: The Complete Book. Pearson, 2. Edition, 2008. (Chapters 1, 2, 3, and 6)"
   ]
  },
  {
   "cell_type": "markdown",
   "metadata": {
    "colab_type": "text",
    "id": "zAk3AMdrf3py"
   },
   "source": [
    "## Exercise 1: Set up an SQL database with the StackOverflow dataset\n",
    "\n",
    "The loading will consist of the following steps:\n",
    "1. Create your own Azure Database for PostgreSQL.\n",
    "2. Download our StackOverflow export and load it into your PostgreSQL server.\n",
    "3. Test querying the server.\n",
    "\n",
    "### Step 1: Create your own SQL server.\n",
    "\n",
    "(This is an adaptation of [this tutorial](https://docs.microsoft.com/en-us/learn/modules/create-azure-db-for-postgresql-server/3-creating-postgresql-db-server-via-azure-portal).)\n",
    "\n",
    "1. In the [portal](https://portal.azure.com) in the left menu, click on \"Create a resource\", search for \"azure PostgreSQL\", then select \"Azure Database for PostgreSQL\", click \"create\" and finally create the  'single server'.\n",
    "2. Select a subscription, then create a new resource group, which you may call \"exercise01\". Choose a unique server name (e.g. \\<your-name>-bd2020), select 'West Europe' as location.\n",
    "![](https://bigdata2020exassets.blob.core.windows.net/ex01/psql-creation.png)\n",
    "3. click 'configure server' and in the top menu in the following screen choose 'basic' and reduce to 1 vCore and click 'ok'.\n",
    "![](https://bigdata2020exassets.blob.core.windows.net/ex01/psql-server.png)\n",
    "4. fill in an admin username and a password and click 'review + create' (estimated cost per month should be around 30chf) and then again 'create', wait for the creation.\n",
    "5. To check whether the database server has been created, go to home by clicking 'Microsoft Azure' in the top menu and then 'all resources'.  \n",
    "You should see the PostgreSQL server in the list. The deployment may take some time. You can check its progress by clicking on the bell symbol in the top right menu.\n",
    "\n",
    "6. Now enter your database server, then open 'connection security' from the left menu in settings. Open the firewall for everyone by adding a rule named 'allow_all' with start IP '0.0.0.0' and end IP '255.255.255.255' in the following form. Click \"save\" to finish.\n",
    "![](https://bigdata2020exassets.blob.core.windows.net/ex01/conn_sec_psql.png)\n",
    "\n",
    "### Step 2: Download our StackOverflow export and load it into your PostgreSQL server.\n"
   ]
  },
  {
   "cell_type": "code",
   "execution_count": null,
   "metadata": {
    "colab": {},
    "colab_type": "code",
    "id": "9b40lSUd2VY0"
   },
   "outputs": [],
   "source": [
    "# we need to install postgresql-client to load the database that we will download into our server\n",
    "!apt install postgresql-client\n",
    "\n",
    "# download the database dump\n",
    "!wget https://bigdata2020exassets.blob.core.windows.net/ex01/coffee.stackexchange.com.dump"
   ]
  },
  {
   "cell_type": "code",
   "execution_count": null,
   "metadata": {
    "colab": {},
    "colab_type": "code",
    "id": "t1KPE_iMYyqI"
   },
   "outputs": [],
   "source": [
    "# The name of your server is the one you chose in step 1\n",
    "server='<your-server-name>.postgres.database.azure.com'\n",
    "\n",
    "# The user is of form <your-admin-login>@<your-db-server-name>. You chose both in step 1.\n",
    "# <your-db-server-name> is only the part *before* '.database.windows.net'\n",
    "user='<your-admin-name>@<your-server-name>'\n",
    "\n",
    "# The password is the one you chose in step 1\n",
    "password='...'\n",
    "\n",
    "# This is the name of the database. \n",
    "# By default, it will coincide with the name of the .bacpac file that you used above.\n",
    "# Warning: if this name contains dashes (-) in it, the subsequent code will not work\n",
    "database='coffee.stackexchange.com'\n",
    "\n",
    "# Database dump to restore\n",
    "dumpfile='coffee.stackexchange.com.dump'"
   ]
  },
  {
   "cell_type": "code",
   "execution_count": null,
   "metadata": {
    "colab": {},
    "colab_type": "code",
    "id": "lYp_udIV3h7-"
   },
   "outputs": [],
   "source": [
    "# Create the database in our server, you will be prompt with the password (if you are running it locally do it inside a terminal)\n",
    "!createdb --host=$server --port=5432 --user=$user $database"
   ]
  },
  {
   "cell_type": "code",
   "execution_count": null,
   "metadata": {
    "colab": {},
    "colab_type": "code",
    "id": "vmOAnw2a8T1M"
   },
   "outputs": [],
   "source": [
    "# Load the database into our server\n",
    "!pg_restore --no-owner --no-acl --host=$server --port=5432 --username=$user --dbname=$database $dumpfile"
   ]
  },
  {
   "cell_type": "code",
   "execution_count": null,
   "metadata": {
    "colab": {},
    "colab_type": "code",
    "id": "hjaV7fjLX--a"
   },
   "outputs": [],
   "source": [
    "# install required packages, usually already present on Google Colab\n",
    "!pip install psycopg2\n",
    "!pip install ipython-sql"
   ]
  },
  {
   "cell_type": "markdown",
   "metadata": {
    "colab_type": "text",
    "id": "2p0ZTEOH_43q"
   },
   "source": [
    "### Step 3: Test querying the server"
   ]
  },
  {
   "cell_type": "code",
   "execution_count": null,
   "metadata": {
    "colab": {},
    "colab_type": "code",
    "id": "8_TgtnfwY4W3"
   },
   "outputs": [],
   "source": [
    "%load_ext sql\n",
    "connection_string = f'postgresql://{user}:{password}@{server}:5432/{database}?sslmode=require'\n",
    "%sql $connection_string"
   ]
  },
  {
   "cell_type": "code",
   "execution_count": null,
   "metadata": {
    "colab": {},
    "colab_type": "code",
    "id": "djqKQZEnA20c"
   },
   "outputs": [],
   "source": [
    "%%sql\n",
    "SELECT Id, DisplayName FROM Users LIMIT 10;"
   ]
  },
  {
   "cell_type": "markdown",
   "metadata": {
    "colab_type": "text",
    "id": "R2V9BW8mZ17S"
   },
   "source": [
    "**You will use the just created database for the SQL exercises.**\n",
    "\n",
    "If you were not able to setup your own PostgreSQL server you can use the following credentials to do the exercises."
   ]
  },
  {
   "cell_type": "code",
   "execution_count": null,
   "metadata": {
    "colab": {},
    "colab_type": "code",
    "id": "Hww2aQcoZ2VU"
   },
   "outputs": [],
   "source": [
    "server='ethbigdata2020.postgres.database.azure.com'\n",
    "user='student@ethbigdata2020'\n",
    "password='BigData2020'\n",
    "database='poker.stackexchange.com'"
   ]
  },
  {
   "cell_type": "code",
   "execution_count": null,
   "metadata": {
    "colab": {},
    "colab_type": "code",
    "id": "-iC1tRByaU-3"
   },
   "outputs": [],
   "source": [
    "connection_string = f'postgresql://{user}:{password}@{server}:5432/{database}?sslmode=require'\n",
    "%sql $connection_string"
   ]
  },
  {
   "cell_type": "markdown",
   "metadata": {
    "colab_type": "text",
    "id": "JRTMUVlXfyNW"
   },
   "source": [
    "## Exercise 2: Explore the dataset\n",
    "\n",
    "We now want to understand the dataset a bit better. You will find queries below to find out information about it. While exploring the dataset, answer the following questions:\n",
    "\n",
    "1. Which concepts are modelled in the dataset and how do they relate to each other?\n",
    "1. The data is stored as tables. Why was this shape chosen and why not the other shapes?\n",
    "2. In which normal forms are the corresponding relations?\n",
    "3. If they are not in 3NF, what are potential problems of this design? Hints:\n",
    " 1. What if the DisplayName of a user changes?\n",
    " 2. What if a new answer is posted?\n",
    " 3. What if a post is upvoted?\n",
    " 4. What if a user is deleted?\n",
    "3. If they are not in 3NF, why were they still designed this way? Hints:\n",
    " 1. What are typical queries?\n",
    " 2. How expensive are queries with/without the redundancy?\n",
    " 3. What is the ratio between reading vs. writing of these concepts?\n",
    "\n",
    "### Where we got the data from\n",
    "\n",
    "* [Info about the StackOverflow dataset](http://meta.stackexchange.com/questions/2677/database-schema-documentation-for-the-public-data-dump-and-sede)\n",
    "* [Web interface to query it](https://data.stackexchange.com/poker/query/new)\n",
    "* [Download the dataset](https://archive.org/download/stackexchange/) (you don't need to do that!)\n",
    "\n",
    "For the use of Web interface, please consider that results may very due to constant updates and the SQL dialect might be slightly different, **do not use it for the moodle exercise**.\n",
    "\n",
    "### List of Tables\n",
    "\n",
    "The following query shows the content of a system table with the names of the tables. (This is specific to MS SQL Server.)"
   ]
  },
  {
   "cell_type": "code",
   "execution_count": null,
   "metadata": {
    "colab": {},
    "colab_type": "code",
    "id": "qqJXkL6yfyux"
   },
   "outputs": [],
   "source": [
    "%sql SELECT * \\\n",
    "     FROM INFORMATION_SCHEMA.TABLES \\\n",
    "     WHERE TABLE_TYPE = 'BASE TABLE' \\\n",
    "     AND TABLE_SCHEMA = 'public';"
   ]
  },
  {
   "cell_type": "markdown",
   "metadata": {
    "colab_type": "text",
    "id": "p8PAJWo1gWpa"
   },
   "source": [
    "### List of attributes/columns\n",
    "\n",
    "The following shows information about the attributes of the tables."
   ]
  },
  {
   "cell_type": "code",
   "execution_count": null,
   "metadata": {
    "colab": {},
    "colab_type": "code",
    "id": "SQelkWkhgYjE"
   },
   "outputs": [],
   "source": [
    "%sql SELECT TABLE_CATALOG, TABLE_SCHEMA, TABLE_NAME, COLUMN_NAME, DATA_TYPE \\\n",
    "     FROM INFORMATION_SCHEMA.COLUMNS \\\n",
    "     WHERE TABLE_SCHEMA = 'public'\\\n",
    "     AND TABLE_NAME NOT LIKE 'pg_%' \\\n",
    "     ORDER BY TABLE_CATALOG, TABLE_SCHEMA, TABLE_NAME, ORDINAL_POSITION;"
   ]
  },
  {
   "cell_type": "markdown",
   "metadata": {
    "colab_type": "text",
    "id": "DM6n6PSfgxHq"
   },
   "source": [
    "## Exercise 3: Distribution of post scores\n",
    "\n",
    "In this exercise, we want to find out how the scores of posts are distributed.\n",
    "\n",
    "To start, write a query that selects the top 10 best-scored posts."
   ]
  },
  {
   "cell_type": "code",
   "execution_count": null,
   "metadata": {
    "colab": {},
    "colab_type": "code",
    "id": "vUNqIDnWgwVm"
   },
   "outputs": [],
   "source": [
    "%sql SELECT ..."
   ]
  },
  {
   "cell_type": "markdown",
   "metadata": {
    "colab_type": "text",
    "id": "gMgB7ixEihH4"
   },
   "source": [
    "We now know how the best posts look like. What about \"more normal\" posts? Write a query that counts that number of posts for each score."
   ]
  },
  {
   "cell_type": "code",
   "execution_count": null,
   "metadata": {
    "colab": {},
    "colab_type": "code",
    "id": "OrBrO6EXii17"
   },
   "outputs": [],
   "source": [
    "%sql SELECT ..."
   ]
  },
  {
   "cell_type": "markdown",
   "metadata": {
    "colab_type": "text",
    "id": "HqyyEGrpilgW"
   },
   "source": [
    "This gives a very large result that is difficult to interpret. Write a query that rounds the scores of the posts to the nearest multiple of some constant that you need to define and counts the number of posts for each rounded score. Your result should have the two attributes \"roundedscore\" and \"count\"."
   ]
  },
  {
   "cell_type": "code",
   "execution_count": null,
   "metadata": {
    "colab": {},
    "colab_type": "code",
    "id": "ybv1WCzAinA4"
   },
   "outputs": [],
   "source": [
    "%%sql\n",
    "SELECT ..."
   ]
  },
  {
   "cell_type": "markdown",
   "metadata": {
    "colab_type": "text",
    "id": "kA-fS5J2iqCy"
   },
   "source": [
    "Using the right constant for the rounding, you can already get a better grasp of the distribution of scores.\n",
    "\n",
    "Copy your query into the following Python script to plot the result. If your query spans several lines, put backslash (\\\\) at the end of all but the last line."
   ]
  },
  {
   "cell_type": "code",
   "execution_count": null,
   "metadata": {
    "colab": {},
    "colab_type": "code",
    "id": "dAqbvOPXiqkv"
   },
   "outputs": [],
   "source": [
    "%matplotlib inline\n",
    "import matplotlib.pyplot as plt\n",
    "\n",
    "# Store the result of the query in a Python object (add your query here!)\n",
    "result = %sql SELECT ...\n",
    "\n",
    "\n",
    "\n",
    "# Convert the result to a Pandas data frame\n",
    "df = result.DataFrame()\n",
    "\n",
    "# Extract x and y values for a plot\n",
    "x = df['roundedscore'].tolist()\n",
    "y = df['count'].tolist()\n",
    "\n",
    "# Print them just for debugging\n",
    "print(x)\n",
    "print(y)\n",
    "\n",
    "# Plot the distribution of scores\n",
    "fig, ax = plt.subplots()\n",
    "ax.bar(range(len(df.index)), y, tick_label=[int(i) for i in x], align='center')\n",
    "ax.set_xlabel('Score')\n",
    "ax.set_ylabel('Number of Posts')"
   ]
  },
  {
   "cell_type": "markdown",
   "metadata": {
    "colab_type": "text",
    "id": "yS0kiGoqit8r"
   },
   "source": [
    "What can you say about the distribution of scores?"
   ]
  },
  {
   "cell_type": "markdown",
   "metadata": {
    "colab_type": "text",
    "id": "i5qWV9r8iv27"
   },
   "source": [
    "## Exercise 4: Impact of Post Count on Scores\n",
    "\n",
    "We now want to find out whether the number of posts of the owner of a post has an influence of the score of the post.\n",
    "To that goal, write queries that answer the following questions:\n",
    "\n",
    "1. What are the users with the highest number of posts.\n",
    "1. What is the average number of posts per user.\n",
    "1. Which are the users with a number of posts higher than average.\n",
    "1. How many such users exist?\n",
    "1. What is the distribution of scores of posts of active users (i.e., of users with more posts than average)?\n",
    "\n",
    "What can we conclude? Is the score of a post impacted by the number of posts of its owner?"
   ]
  },
  {
   "cell_type": "code",
   "execution_count": null,
   "metadata": {
    "colab": {},
    "colab_type": "code",
    "id": "g7-28WAWFaVE"
   },
   "outputs": [],
   "source": [
    "#1\n",
    "%%sql"
   ]
  },
  {
   "cell_type": "code",
   "execution_count": null,
   "metadata": {
    "colab": {},
    "colab_type": "code",
    "id": "9oTRcQVKFitC"
   },
   "outputs": [],
   "source": [
    "#2\n",
    "%%sql"
   ]
  },
  {
   "cell_type": "code",
   "execution_count": null,
   "metadata": {
    "colab": {},
    "colab_type": "code",
    "id": "RquIJW_6Fd44"
   },
   "outputs": [],
   "source": [
    "#3\n",
    "%%sql"
   ]
  },
  {
   "cell_type": "code",
   "execution_count": null,
   "metadata": {
    "colab": {},
    "colab_type": "code",
    "id": "nluaffSoGFhS"
   },
   "outputs": [],
   "source": [
    "#4\n",
    "%%sql"
   ]
  },
  {
   "cell_type": "code",
   "execution_count": null,
   "metadata": {
    "colab": {},
    "colab_type": "code",
    "id": "fXFSMLZsGLw-"
   },
   "outputs": [],
   "source": [
    "#5\n",
    "%%sql"
   ]
  },
  {
   "cell_type": "code",
   "execution_count": null,
   "metadata": {
    "colab": {},
    "colab_type": "code",
    "id": "DUcmfSXcix6a"
   },
   "outputs": [],
   "source": [
    "%matplotlib inline\n",
    "import matplotlib.pyplot as plt\n",
    "\n",
    "# Store the result of the query in a Python object (add your query here!)\n",
    "result = %sql ...\n",
    "\n",
    "\n",
    "\n",
    "# Convert the result to a Pandas data frame\n",
    "df = result.DataFrame()\n",
    "\n",
    "# Extract x and y values for a plot\n",
    "x = df['roundedscore'].tolist()\n",
    "y = df['count'].tolist()\n",
    "\n",
    "# Print them just for debugging\n",
    "print(x)\n",
    "print(y)\n",
    "\n",
    "# Plot the distribution of scores\n",
    "fig, ax = plt.subplots()\n",
    "ax.bar(range(len(df.index)), y, tick_label=[int(i) for i in x], align='center')\n",
    "ax.set_xlabel('Score')\n",
    "ax.set_ylabel('Number of Posts')"
   ]
  },
  {
   "cell_type": "markdown",
   "metadata": {
    "colab_type": "text",
    "id": "XFEzaH5Ui159"
   },
   "source": [
    "## Exercise 5: Discuss query patterns and language features of SQL\n",
    "1) What patterns did you use in many of the queries above?\n",
    "\n",
    "2) Do you remember the theory behind them?\n",
    "\n",
    "3) What makes SQL a declarative language and what advantages does that have?\n",
    "\n",
    "4) What makes SQL a functional language and what advantages does that have?"
   ]
  },
  {
   "cell_type": "markdown",
   "metadata": {
    "colab_type": "text",
    "id": "J4_Kl6MJi7nu"
   },
   "source": [
    "## Exercise 6: More SQL\n",
    "\n",
    "Write SQL queries that answer the following questions. Plot the results if you like.\n",
    "\n",
    "1. How many posts do not have answers? Give a query that uses *AnswerCount* and one that doesn't.\n",
    "2. How often is each tag used? Give the top 10. Write one query that uses `Tags.Count` and one that does not. For the second version, look at [```STRPOS```](https://w3resource.com/PostgreSQL/strpos-function.php). Is this query a good idea? Why (not)?\n",
    "3. Does the first answer to a post get more upvotes than subsequent ones on average? How do the medians compare?"
   ]
  },
  {
   "cell_type": "code",
   "execution_count": null,
   "metadata": {
    "colab": {},
    "colab_type": "code",
    "id": "FI1ao6XnHdCd"
   },
   "outputs": [],
   "source": [
    "#1\n",
    "%%sql"
   ]
  },
  {
   "cell_type": "code",
   "execution_count": null,
   "metadata": {
    "colab": {},
    "colab_type": "code",
    "id": "aoaT9LDuHe2d"
   },
   "outputs": [],
   "source": [
    "#1 (without AnswerCount)\n",
    "%%sql"
   ]
  },
  {
   "cell_type": "code",
   "execution_count": null,
   "metadata": {
    "colab": {},
    "colab_type": "code",
    "id": "OlyJtYQmHe27"
   },
   "outputs": [],
   "source": [
    "#2\n",
    "%%sql"
   ]
  },
  {
   "cell_type": "code",
   "execution_count": null,
   "metadata": {
    "colab": {},
    "colab_type": "code",
    "id": "bmEHTw4OHis8"
   },
   "outputs": [],
   "source": [
    "#2 (without Tags.count)\n",
    "%%sql"
   ]
  },
  {
   "cell_type": "code",
   "execution_count": null,
   "metadata": {
    "colab": {},
    "colab_type": "code",
    "id": "185rLmQSHite"
   },
   "outputs": [],
   "source": [
    "#3\n",
    "%%sql"
   ]
  },
  {
   "cell_type": "markdown",
   "metadata": {
    "colab_type": "text",
    "id": "2Dm9m4C3jA6y"
   },
   "source": [
    "## Exercise 7: Limits of SQL (optional)\n",
    "\n",
    "Explain what the following query does."
   ]
  },
  {
   "cell_type": "code",
   "execution_count": null,
   "metadata": {
    "colab": {},
    "colab_type": "code",
    "id": "ZiXww515i8Ia"
   },
   "outputs": [],
   "source": [
    "%%sql\n",
    "WITH RECURSIVE\n",
    "    X AS (SELECT 3 AS Value),\n",
    "    OneHopConnections AS (\n",
    "        SELECT DISTINCT PostId, RelatedPostId, 1 AS Distance\n",
    "        FROM PostLinks\n",
    "    ),\n",
    "    XHopConnections AS (\n",
    "        SELECT * FROM OneHopConnections   -- base case\n",
    "        UNION ALL\n",
    "        SELECT p.PostId, r.RelatedPostId, p.Distance + 1 AS Distance\n",
    "        FROM XHopConnections AS p\n",
    "        JOIN PostLinks AS r ON p.RelatedPostId = r.PostId\n",
    "        WHERE Distance < (SELECT * FROM X)\n",
    "    ),\n",
    "    XHopConnectionsDistinct AS (\n",
    "        SELECT DISTINCT PostId, RelatedPostId FROM XHopConnections\n",
    "    ),\n",
    "    XHopConnectionCounts AS (\n",
    "        SELECT p.Id, COUNT(RelatedPostId) AS ConnectionCount\n",
    "        FROM Posts AS p\n",
    "        LEFT OUTER JOIN XHopConnectionsDistinct AS r ON p.Id = r.PostId\n",
    "        GROUP BY Id\n",
    "    )\n",
    "SELECT AVG(CAST(ConnectionCount AS FLOAT)) AS AvgXHopConnectionCount\n",
    "FROM XHopConnectionCounts"
   ]
  },
  {
   "cell_type": "markdown",
   "metadata": {},
   "source": [
    "# Please remember to delete the resources on the cluster once you are done\n",
    "1. Go to 'all resources'\n",
    "1. Select your resource\n",
    "1. in the top menu of the resource select 'delete' and confirm"
   ]
  }
 ],
 "metadata": {
  "colab": {
   "collapsed_sections": [],
   "name": "Exercise01_SQL_Brush-Up_new.ipynb",
   "provenance": []
  },
  "kernelspec": {
   "display_name": "Python 3",
   "language": "python",
   "name": "python3"
  },
  "language_info": {
   "codemirror_mode": {
    "name": "ipython",
    "version": 3
   },
   "file_extension": ".py",
   "mimetype": "text/x-python",
   "name": "python",
   "nbconvert_exporter": "python",
   "pygments_lexer": "ipython3",
   "version": "3.7.4"
  }
 },
 "nbformat": 4,
 "nbformat_minor": 1
}
