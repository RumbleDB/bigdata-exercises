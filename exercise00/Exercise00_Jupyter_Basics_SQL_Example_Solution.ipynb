{
 "cells": [
  {
   "cell_type": "markdown",
   "metadata": {
    "colab_type": "text",
    "id": "qsDsV0anbN0H"
   },
   "source": [
    "# <center>Big Data &ndash; Exercises &ndash; Solution</center>\n",
    "## <center>Fall 2024 &ndash; Week 0 &ndash; ETH Zurich</center>"
   ]
  },
  {
   "cell_type": "markdown",
   "metadata": {
    "colab_type": "text",
    "id": "pK5CohuLbN0O"
   },
   "source": [
    "## 1. Jupyter Basics\n",
    "\n",
    "Welcome to this Jupyter notebook. Jupyter is a web-based open-source tool based on Python that allows you to run Python (and other types of) code, visualize and discuss results, and organize everything into notebooks like this one. In this course, we use a hosted server inside Docker containers.\n",
    "\n",
    "A notebook is organized in cells. Cells of this notebook contain Python code (but other cell types exists). To run a cell, select it, then press ctrl+enter. Try it out!"
   ]
  },
  {
   "cell_type": "code",
   "execution_count": 1,
   "metadata": {
    "colab": {
     "base_uri": "https://localhost:8080/",
     "height": 35
    },
    "colab_type": "code",
    "id": "wcohBwLUbN0b",
    "outputId": "31bc09c5-95ae-492f-979e-17cbd0a07d0b"
   },
   "outputs": [
    {
     "name": "stdout",
     "output_type": "stream",
     "text": [
      "Hello World\n"
     ]
    }
   ],
   "source": [
    "print(\"Hello World\")"
   ]
  },
  {
   "cell_type": "markdown",
   "metadata": {
    "colab_type": "text",
    "id": "4BDrcpj-bN06"
   },
   "source": [
    "By default, the last expression is printed. Like this:"
   ]
  },
  {
   "cell_type": "code",
   "execution_count": 2,
   "metadata": {
    "colab": {
     "base_uri": "https://localhost:8080/",
     "height": 35
    },
    "colab_type": "code",
    "id": "TLYAvOpFbN0-",
    "outputId": "b32e3241-ebcf-4bda-eccb-a63b78c09bc0"
   },
   "outputs": [
    {
     "data": {
      "text/plain": [
       "[0, 1, 4, 9, 16, 25, 36, 49, 64, 81]"
      ]
     },
     "execution_count": 2,
     "metadata": {},
     "output_type": "execute_result"
    }
   ],
   "source": [
    "maxX = 10\n",
    "[x * x for x in range(maxX)]"
   ]
  },
  {
   "cell_type": "markdown",
   "metadata": {
    "colab_type": "text",
    "id": "eZcKCiuCbN1P"
   },
   "source": [
    "You can also edit the text. Just double-click on a cell. It's made with markdown code. After you are done editing, press ctrl+enter\n",
    "\n",
    "We will do most of the exercises with Jupyter. You will learn most things as we go. The notebook you are seing is the file from your local file system mounted into Docker (including the output of the cells). Write your answers inline and save regularly.\n",
    "\n",
    "### Read more:\n",
    "* [Jupyter](http://jupyter.org/)\n",
    "* [Learn Python](http://www.learnpython.org)\n",
    "* [Python documentation](https://docs.python.org/3/)"
   ]
  },
  {
   "cell_type": "markdown",
   "metadata": {
    "colab_type": "text",
    "id": "8RNgAp4_bN1R"
   },
   "source": [
    "## 2. Bash Scripts\n",
    "\n",
    "Code blocks by default are executed using a python interpreter (for a python notebook, such as this one).\n",
    "\n",
    "Other languages can be used with annotations.\n",
    "For instance, a code block can be converted into a bash code block using ```%%bash``` at the beginning:"
   ]
  },
  {
   "cell_type": "code",
   "execution_count": 3,
   "metadata": {
    "colab": {
     "base_uri": "https://localhost:8080/",
     "height": 35
    },
    "colab_type": "code",
    "id": "cY2YeVQNbN1W",
    "outputId": "8df8f4ca-cfee-410b-b378-5cacdeedd077"
   },
   "outputs": [
    {
     "name": "stdout",
     "output_type": "stream",
     "text": [
      "Test File\n"
     ]
    }
   ],
   "source": [
    "%%bash\n",
    "echo \"Test File\" > test_file\n",
    "cat test_file"
   ]
  },
  {
   "cell_type": "markdown",
   "metadata": {
    "colab_type": "text",
    "id": "rGSL-u5hbN1n"
   },
   "source": [
    "Note: do not expect files you write into this file system to be durable. The sandboxed environment may be reset and data lost when notebook is closed. The notebook files themselves are durable though."
   ]
  },
  {
   "cell_type": "markdown",
   "metadata": {
    "colab_type": "text",
    "id": "tOwd4QOGbN1s"
   },
   "source": [
    "Bash commands can be also inlined using exclamation mark (```!```) infront of the bash line"
   ]
  },
  {
   "cell_type": "code",
   "execution_count": 4,
   "metadata": {
    "colab": {
     "base_uri": "https://localhost:8080/",
     "height": 90
    },
    "colab_type": "code",
    "id": "3nwSdHJybN1v",
    "outputId": "cbabccb3-b36b-4f27-f5cc-e6f5eebd9cde"
   },
   "outputs": [
    {
     "name": "stdout",
     "output_type": "stream",
     "text": [
      "First I modify the file.\n",
      "Then I check its content:\n",
      "\n",
      "Hello World\n"
     ]
    }
   ],
   "source": [
    "print(\"First I modify the file.\")\n",
    "\n",
    "!echo \"Hello World\" > test_file\n",
    "\n",
    "print(\"Then I check its content:\")\n",
    "print()\n",
    "\n",
    "!cat test_file"
   ]
  },
  {
   "cell_type": "markdown",
   "metadata": {
    "colab_type": "text",
    "id": "WVqCHLRnbN19"
   },
   "source": [
    "## 3. Connecting to a Database\n",
    "\n",
    "As part of this course you will use Jupyter to interact with various systems and interfaces (e.g. SQL, Map Reduce, Spark). In this notebook, we test a simple connection to a SQL database that is run in a different Docker container.\n",
    "\n",
    "#### 3.0. Setting up Docker\n",
    "\n",
    "We will be working in the Exam Magic Box (you can find it on Moodle if you have not downloaded it yet): Please drag this Notebook in the folder. Activate the docker container for the exercise sheet with `docker compose up`; please wait for the message `PostgreSQL init process complete; ready for start up` in the docker logs before proceeding! Alternatively you can start the Docker with `docker compose up -d` and wait for the command to execute: please note that you are creating the containers in the background this way. You can then type `docker compose down` when you are done.\n",
    "\n",
    "#### 3.1. Setting up a SQL connection\n",
    "\n",
    "To start, we define some variables describing our connection to the database (make sure you execute the next code block by running ctrl+enter)."
   ]
  },
  {
   "cell_type": "code",
   "execution_count": 5,
   "metadata": {
    "colab": {},
    "colab_type": "code",
    "id": "m6tWOUYhbN1_"
   },
   "outputs": [],
   "source": [
    "server='db'\n",
    "user='postgres'\n",
    "password='example'\n",
    "database='postgres'\n",
    "connection_string=f'postgresql://{user}:{password}@{server}:5432/{database}'"
   ]
  },
  {
   "cell_type": "markdown",
   "metadata": {
    "colab_type": "text",
    "id": "c1mtVyk8bN2T"
   },
   "source": [
    "#### 3.2. Running a SQL Query\n",
    "Then we run a first query against our server. This should print the version information of the database."
   ]
  },
  {
   "cell_type": "code",
   "execution_count": 6,
   "metadata": {
    "colab": {
     "base_uri": "https://localhost:8080/",
     "height": 92
    },
    "colab_type": "code",
    "id": "I9LFmqFobN2V",
    "outputId": "e9be1a64-5cd5-4a91-9677-b96c81d33a29"
   },
   "outputs": [
    {
     "name": "stdout",
     "output_type": "stream",
     "text": [
      "[('PostgreSQL 16.2 (Debian 16.2-1.pgdg120+2) on aarch64-unknown-linux-gnu, compiled by gcc (Debian 12.2.0-14) 12.2.0, 64-bit',)]\n"
     ]
    }
   ],
   "source": [
    "import sqlalchemy\n",
    "\n",
    "engine = sqlalchemy.create_engine(connection_string)\n",
    "conn = engine.connect()\n",
    "print(conn.execute(sqlalchemy.text('SELECT version()')).fetchall())"
   ]
  },
  {
   "cell_type": "markdown",
   "metadata": {
    "colab_type": "text",
    "id": "fUHlO6U-bN2e"
   },
   "source": [
    "#### 3.3. Inlining SQL \n",
    "It is also possible to inline SQL code (thanks an extension that enables [SQL \"magic\"](https://github.com/catherinedevlin/ipython-sql) that is installed alongside Jypter). With the following cell, we load the extension and establish a connection to our database from above. Run the cell and make sure you don't get any errors."
   ]
  },
  {
   "cell_type": "code",
   "execution_count": 7,
   "metadata": {
    "colab": {
     "base_uri": "https://localhost:8080/",
     "height": 36
    },
    "colab_type": "code",
    "id": "Kib8v6g0bN2n",
    "outputId": "9f68dcb6-b9b5-491e-aa39-c744339cb77c"
   },
   "outputs": [],
   "source": [
    "%reload_ext sql\n",
    "%sql $connection_string"
   ]
  },
  {
   "cell_type": "markdown",
   "metadata": {
    "colab_type": "text",
    "id": "Py3znAN0bN2u"
   },
   "source": [
    "Now we can use the ```%sql``` and ```%%sql``` magic words to run SQL directly. ```%%sql``` makes a cell a SQL cell. A SQL cell can run an arbitrary number of SQL statements and displays the result of the last one of them.\n",
    "\n",
    "Let's see the version number again:"
   ]
  },
  {
   "cell_type": "code",
   "execution_count": 8,
   "metadata": {
    "colab": {
     "base_uri": "https://localhost:8080/",
     "height": 98
    },
    "colab_type": "code",
    "id": "UYQzRe-bbN2w",
    "outputId": "a6eaa8c8-b2bf-44e1-c3a2-dfe32766fbff"
   },
   "outputs": [
    {
     "name": "stdout",
     "output_type": "stream",
     "text": [
      " * postgresql://postgres:***@db:5432/postgres\n",
      "1 rows affected.\n"
     ]
    },
    {
     "data": {
      "text/html": [
       "<table>\n",
       "    <thead>\n",
       "        <tr>\n",
       "            <th>version</th>\n",
       "        </tr>\n",
       "    </thead>\n",
       "    <tbody>\n",
       "        <tr>\n",
       "            <td>PostgreSQL 16.2 (Debian 16.2-1.pgdg120+2) on aarch64-unknown-linux-gnu, compiled by gcc (Debian 12.2.0-14) 12.2.0, 64-bit</td>\n",
       "        </tr>\n",
       "    </tbody>\n",
       "</table>"
      ],
      "text/plain": [
       "[('PostgreSQL 16.2 (Debian 16.2-1.pgdg120+2) on aarch64-unknown-linux-gnu, compiled by gcc (Debian 12.2.0-14) 12.2.0, 64-bit',)]"
      ]
     },
     "execution_count": 8,
     "metadata": {},
     "output_type": "execute_result"
    }
   ],
   "source": [
    "%%sql\n",
    "SELECT version();"
   ]
  },
  {
   "cell_type": "markdown",
   "metadata": {
    "colab_type": "text",
    "id": "I19FHNH6bN24"
   },
   "source": [
    "The ```%sql``` magic words lets us run SQL statements in a regular cell. Again, the result of the last statement is displayed."
   ]
  },
  {
   "cell_type": "code",
   "execution_count": 9,
   "metadata": {
    "colab": {
     "base_uri": "https://localhost:8080/",
     "height": 309
    },
    "colab_type": "code",
    "id": "IC8xExyvbN27",
    "outputId": "106a7c2e-3998-4319-f833-02a1a363f729"
   },
   "outputs": [
    {
     "name": "stdout",
     "output_type": "stream",
     "text": [
      "Run a query!\n",
      " * postgresql://postgres:***@db:5432/postgres\n",
      "10 rows affected.\n"
     ]
    },
    {
     "data": {
      "text/html": [
       "<table>\n",
       "    <thead>\n",
       "        <tr>\n",
       "            <th>id</th>\n",
       "            <th>displayname</th>\n",
       "        </tr>\n",
       "    </thead>\n",
       "    <tbody>\n",
       "        <tr>\n",
       "            <td>-1</td>\n",
       "            <td>Community</td>\n",
       "        </tr>\n",
       "        <tr>\n",
       "            <td>1</td>\n",
       "            <td>Geoff Dalgas</td>\n",
       "        </tr>\n",
       "        <tr>\n",
       "            <td>2</td>\n",
       "            <td>Nick Craver</td>\n",
       "        </tr>\n",
       "        <tr>\n",
       "            <td>3</td>\n",
       "            <td>Kevin Montrose</td>\n",
       "        </tr>\n",
       "        <tr>\n",
       "            <td>4</td>\n",
       "            <td>Lewis Goddard</td>\n",
       "        </tr>\n",
       "        <tr>\n",
       "            <td>5</td>\n",
       "            <td>brian_d</td>\n",
       "        </tr>\n",
       "        <tr>\n",
       "            <td>6</td>\n",
       "            <td>moteutsch</td>\n",
       "        </tr>\n",
       "        <tr>\n",
       "            <td>7</td>\n",
       "            <td>jhericks</td>\n",
       "        </tr>\n",
       "        <tr>\n",
       "            <td>8</td>\n",
       "            <td>Felipe Sabino</td>\n",
       "        </tr>\n",
       "        <tr>\n",
       "            <td>9</td>\n",
       "            <td>Rebecca Chernoff</td>\n",
       "        </tr>\n",
       "    </tbody>\n",
       "</table>"
      ],
      "text/plain": [
       "[(-1, 'Community'),\n",
       " (1, 'Geoff Dalgas'),\n",
       " (2, 'Nick Craver'),\n",
       " (3, 'Kevin Montrose'),\n",
       " (4, 'Lewis Goddard'),\n",
       " (5, 'brian_d'),\n",
       " (6, 'moteutsch'),\n",
       " (7, 'jhericks'),\n",
       " (8, 'Felipe Sabino'),\n",
       " (9, 'Rebecca Chernoff')]"
      ]
     },
     "execution_count": 9,
     "metadata": {},
     "output_type": "execute_result"
    }
   ],
   "source": [
    "print(\"Run a query!\")\n",
    "%sql SELECT Id, DisplayName FROM Users ORDER BY Id LIMIT 10;"
   ]
  },
  {
   "cell_type": "markdown",
   "metadata": {
    "colab_type": "text",
    "id": "-z4i0X-0bN3C"
   },
   "source": [
    "#### 3.4. Plotting results\n",
    "Matplotlib can also be used to plot results. Next is a plot of a sample query that finds the number of created users per year."
   ]
  },
  {
   "cell_type": "code",
   "execution_count": 10,
   "metadata": {
    "colab": {
     "base_uri": "https://localhost:8080/",
     "height": 533
    },
    "colab_type": "code",
    "id": "QLmejax9bN3D",
    "outputId": "e50273c9-2296-4211-ea47-ff8455b2d6fb",
    "scrolled": true
   },
   "outputs": [
    {
     "name": "stdout",
     "output_type": "stream",
     "text": [
      " * postgresql://postgres:***@db:5432/postgres\n",
      "7 rows affected.\n",
      "+--------------+-------+\n",
      "| creationyear | count |\n",
      "+--------------+-------+\n",
      "|    2012.0    |  688  |\n",
      "|    2013.0    |  441  |\n",
      "|    2014.0    |  601  |\n",
      "|    2015.0    |  823  |\n",
      "|    2016.0    |  807  |\n",
      "|    2017.0    |  825  |\n",
      "|    2018.0    |  499  |\n",
      "+--------------+-------+\n"
     ]
    },
    {
     "data": {
      "text/plain": [
       "Text(0, 0.5, 'Number of Users')"
      ]
     },
     "execution_count": 10,
     "metadata": {},
     "output_type": "execute_result"
    },
    {
     "data": {
      "image/png": "[encoded data removed]",
      "text/plain": [
       "<Figure size 640x480 with 1 Axes>"
      ]
     },
     "metadata": {},
     "output_type": "display_data"
    }
   ],
   "source": [
    "%matplotlib inline\n",
    "import matplotlib.pyplot as plt\n",
    "\n",
    "result = %sql SELECT DATE_PART('year', CreationDate) as CreationYear, COUNT(*) as Count \\\n",
    "                FROM Users \\\n",
    "                GROUP BY DATE_PART('year', CreationDate) \\\n",
    "                ORDER BY DATE_PART('year', CreationDate) ASC;\n",
    "            \n",
    "# Print the result in tabular form\n",
    "print(result)\n",
    "            \n",
    "# Convert the result to a Pandas data frame\n",
    "df = result.DataFrame()\n",
    "\n",
    "# Extract x and y values for a plot\n",
    "x = df['creationyear'].tolist()\n",
    "y = df['count'].tolist()\n",
    "\n",
    "# Plot the distribution of registrations per year\n",
    "fig, ax = plt.subplots()\n",
    "ax.bar(range(len(df.index)), y, tick_label=[int(i) for i in x], align='center')\n",
    "ax.set_xlabel('Creation Year')\n",
    "ax.set_ylabel('Number of Users')"
   ]
  }
 ],
 "metadata": {
  "colab": {
   "name": "Exercise00_Jupyter_Basics_SQL_Example.ipynb",
   "provenance": []
  },
  "kernelspec": {
   "display_name": "Python 3 (ipykernel)",
   "language": "python",
   "name": "python3"
  },
  "language_info": {
   "codemirror_mode": {
    "name": "ipython",
    "version": 3
   },
   "file_extension": ".py",
   "mimetype": "text/x-python",
   "name": "python",
   "nbconvert_exporter": "python",
   "pygments_lexer": "ipython3",
   "version": "3.9.18"
  }
 },
 "nbformat": 4,
 "nbformat_minor": 4
}
